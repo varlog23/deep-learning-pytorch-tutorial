{
  "nbformat": 4,
  "nbformat_minor": 0,
  "metadata": {
    "colab": {
      "name": "PyTorch Basics - part I.ipynb",
      "version": "0.3.2",
      "provenance": [],
      "collapsed_sections": [],
      "toc_visible": true,
      "include_colab_link": true
    },
    "kernelspec": {
      "name": "python3",
      "display_name": "Python 3"
    }
  },
  "cells": [
    {
      "cell_type": "markdown",
      "metadata": {
        "id": "view-in-github",
        "colab_type": "text"
      },
      "source": [
        "<a href=\"https://colab.research.google.com/github/varunnayak26/deep-learning-pytorch-exercise/blob/master/PyTorch_Basics_part_I.ipynb\" target=\"_parent\"><img src=\"https://colab.research.google.com/assets/colab-badge.svg\" alt=\"Open In Colab\"/></a>"
      ]
    },
    {
      "metadata": {
        "id": "m5loQ9-ShTZH",
        "colab_type": "text"
      },
      "cell_type": "markdown",
      "source": [
        ""
      ]
    },
    {
      "metadata": {
        "id": "TAwhHfcIc_Y_",
        "colab_type": "text"
      },
      "cell_type": "markdown",
      "source": [
        "PyTorch basics. Referred tutorials from https://github.com/MorvanZhou"
      ]
    },
    {
      "metadata": {
        "id": "efboeaSQ2irT",
        "colab_type": "code",
        "colab": {}
      },
      "cell_type": "code",
      "source": [
        "import torch\n",
        "import numpy as np\n",
        "import pandas as pd\n",
        "from torch import nn, optim\n",
        "import torch.nn.functional as F\n",
        "import matplotlib.pyplot as plt"
      ],
      "execution_count": 0,
      "outputs": []
    },
    {
      "metadata": {
        "id": "1cAhdlaKhOmn",
        "colab_type": "text"
      },
      "cell_type": "markdown",
      "source": [
        "Lets make our plot outputs appear and be stored within the notebook."
      ]
    },
    {
      "metadata": {
        "id": "Vy1rKelIg_Xb",
        "colab_type": "code",
        "colab": {}
      },
      "cell_type": "code",
      "source": [
        "%matplotlib inline"
      ],
      "execution_count": 0,
      "outputs": []
    },
    {
      "metadata": {
        "id": "zavHpheAFjui",
        "colab_type": "text"
      },
      "cell_type": "markdown",
      "source": [
        "### Numpy and PyTorch"
      ]
    },
    {
      "metadata": {
        "id": "Ur_eZJ5R2kLE",
        "colab_type": "code",
        "outputId": "2d8f712f-158c-4f61-ff0e-d7fce541817e",
        "colab": {
          "base_uri": "https://localhost:8080/",
          "height": 34
        }
      },
      "cell_type": "code",
      "source": [
        "# Make a simple numpy array\n",
        "np_data = np.array([1,2,3,4])\n",
        "np_data"
      ],
      "execution_count": 213,
      "outputs": [
        {
          "output_type": "execute_result",
          "data": {
            "text/plain": [
              "array([1, 2, 3, 4])"
            ]
          },
          "metadata": {
            "tags": []
          },
          "execution_count": 213
        }
      ]
    },
    {
      "metadata": {
        "id": "g6dy8kxa2q0G",
        "colab_type": "code",
        "outputId": "d518dabe-429b-434e-9274-8ba5889b73e8",
        "colab": {
          "base_uri": "https://localhost:8080/",
          "height": 34
        }
      },
      "cell_type": "code",
      "source": [
        "# Make a tensor from a numpy array\n",
        "np_tensor = torch.from_numpy(np_data)\n",
        "np_tensor"
      ],
      "execution_count": 214,
      "outputs": [
        {
          "output_type": "execute_result",
          "data": {
            "text/plain": [
              "tensor([1, 2, 3, 4])"
            ]
          },
          "metadata": {
            "tags": []
          },
          "execution_count": 214
        }
      ]
    },
    {
      "metadata": {
        "id": "_QOPmjDxo4Kf",
        "colab_type": "code",
        "colab": {
          "base_uri": "https://localhost:8080/",
          "height": 34
        },
        "outputId": "21b83f5c-2d61-4cce-eee3-02b22a5fca9d"
      },
      "cell_type": "code",
      "source": [
        "# Change tensor back to numpy array\n",
        "np_array = np_tensor.numpy()\n",
        "np_array"
      ],
      "execution_count": 215,
      "outputs": [
        {
          "output_type": "execute_result",
          "data": {
            "text/plain": [
              "array([1, 2, 3, 4])"
            ]
          },
          "metadata": {
            "tags": []
          },
          "execution_count": 215
        }
      ]
    },
    {
      "metadata": {
        "id": "NZLLIX3c225g",
        "colab_type": "code",
        "outputId": "6a82e7a8-1699-4b32-fdbf-7ff2036c4e7b",
        "colab": {
          "base_uri": "https://localhost:8080/",
          "height": 34
        }
      },
      "cell_type": "code",
      "source": [
        "# Change dtype from torch.int64 to torch.float32\n",
        "np_tensor_float = torch.FloatTensor(np_data)\n",
        "np_tensor_float"
      ],
      "execution_count": 216,
      "outputs": [
        {
          "output_type": "execute_result",
          "data": {
            "text/plain": [
              "tensor([1., 2., 3., 4.])"
            ]
          },
          "metadata": {
            "tags": []
          },
          "execution_count": 216
        }
      ]
    },
    {
      "metadata": {
        "id": "-bZRMmRm3XhO",
        "colab_type": "code",
        "outputId": "d0041b82-27e8-442f-b563-703b76c8aded",
        "colab": {
          "base_uri": "https://localhost:8080/",
          "height": 34
        }
      },
      "cell_type": "code",
      "source": [
        "# Make a simple 1D tensor with negative numbers\n",
        "neg_data = [-1,-2,-3,-4]\n",
        "neg_data_tensor = torch.tensor(neg_data)\n",
        "neg_data_tensor"
      ],
      "execution_count": 217,
      "outputs": [
        {
          "output_type": "execute_result",
          "data": {
            "text/plain": [
              "tensor([-1, -2, -3, -4])"
            ]
          },
          "metadata": {
            "tags": []
          },
          "execution_count": 217
        }
      ]
    },
    {
      "metadata": {
        "id": "x7DHFXW-5K_W",
        "colab_type": "code",
        "outputId": "0b253838-84b5-4483-aa33-9bc378393cea",
        "colab": {
          "base_uri": "https://localhost:8080/",
          "height": 34
        }
      },
      "cell_type": "code",
      "source": [
        "# Get absolute value of a tensor\n",
        "tensor_abs = torch.abs(np_tensor_float)\n",
        "tensor_abs"
      ],
      "execution_count": 218,
      "outputs": [
        {
          "output_type": "execute_result",
          "data": {
            "text/plain": [
              "tensor([1., 2., 3., 4.])"
            ]
          },
          "metadata": {
            "tags": []
          },
          "execution_count": 218
        }
      ]
    },
    {
      "metadata": {
        "id": "f6aBEKZ2JsBN",
        "colab_type": "code",
        "outputId": "5bb947ea-99d9-4036-9864-0f815083b762",
        "colab": {
          "base_uri": "https://localhost:8080/",
          "height": 34
        }
      },
      "cell_type": "code",
      "source": [
        "# Calculate mean of a tensor\n",
        "mean = torch.mean(tensor_abs)\n",
        "mean"
      ],
      "execution_count": 219,
      "outputs": [
        {
          "output_type": "execute_result",
          "data": {
            "text/plain": [
              "tensor(2.5000)"
            ]
          },
          "metadata": {
            "tags": []
          },
          "execution_count": 219
        }
      ]
    },
    {
      "metadata": {
        "id": "feLTgJ_85R-G",
        "colab_type": "code",
        "outputId": "aa59bc1b-babf-492a-f401-945d3ca45cd7",
        "colab": {
          "base_uri": "https://localhost:8080/",
          "height": 34
        }
      },
      "cell_type": "code",
      "source": [
        "# Apply sigmoid function to a tensor\n",
        "sigmoid = nn.Sigmoid()\n",
        "a = torch.randn(4)\n",
        "print(sigmoid(a))"
      ],
      "execution_count": 220,
      "outputs": [
        {
          "output_type": "stream",
          "text": [
            "tensor([0.6706, 0.4013, 0.7800, 0.4900])\n"
          ],
          "name": "stdout"
        }
      ]
    },
    {
      "metadata": {
        "id": "Ej4-LPR65iIc",
        "colab_type": "code",
        "outputId": "0da77de3-b886-4ed0-df09-9ff6f9837956",
        "colab": {
          "base_uri": "https://localhost:8080/",
          "height": 34
        }
      },
      "cell_type": "code",
      "source": [
        "# Alternative way to apply sigmoid function to a tensor\n",
        "a.sigmoid()"
      ],
      "execution_count": 221,
      "outputs": [
        {
          "output_type": "execute_result",
          "data": {
            "text/plain": [
              "tensor([0.6706, 0.4013, 0.7800, 0.4900])"
            ]
          },
          "metadata": {
            "tags": []
          },
          "execution_count": 221
        }
      ]
    },
    {
      "metadata": {
        "id": "EuJ5AC9j8B0d",
        "colab_type": "code",
        "outputId": "f6f68eaa-66ad-4219-c029-0e7908416d4d",
        "colab": {
          "base_uri": "https://localhost:8080/",
          "height": 50
        }
      },
      "cell_type": "code",
      "source": [
        "# Matrix multiplication\n",
        "x = torch.tensor([[1,2,3],[4,5,6]]) # 2x3 matrix\n",
        "y = torch.tensor([[1,2],[3,4],[5,6]]) # 3x2 matrix\n",
        "print(torch.mm(x,y)) # Result should be 2x2 matrix"
      ],
      "execution_count": 222,
      "outputs": [
        {
          "output_type": "stream",
          "text": [
            "tensor([[22, 28],\n",
            "        [49, 64]])\n"
          ],
          "name": "stdout"
        }
      ]
    },
    {
      "metadata": {
        "id": "e4b9vHEj8e01",
        "colab_type": "code",
        "outputId": "d794e7aa-90d1-4b59-bb34-8f4c20f41702",
        "colab": {
          "base_uri": "https://localhost:8080/",
          "height": 50
        }
      },
      "cell_type": "code",
      "source": [
        "# Alternative way to compute matrix multiplication\n",
        "x.mm(y)"
      ],
      "execution_count": 223,
      "outputs": [
        {
          "output_type": "execute_result",
          "data": {
            "text/plain": [
              "tensor([[22, 28],\n",
              "        [49, 64]])"
            ]
          },
          "metadata": {
            "tags": []
          },
          "execution_count": 223
        }
      ]
    },
    {
      "metadata": {
        "id": "kGtoiY2Y99Iw",
        "colab_type": "code",
        "outputId": "2383f42d-7910-44f9-d09b-72e69b232c7d",
        "colab": {
          "base_uri": "https://localhost:8080/",
          "height": 34
        }
      },
      "cell_type": "code",
      "source": [
        "# torch.dot() treats both x and y as 1D vectors and computes their inner product\n",
        "torch.dot(x.view(-1),y.view(-1))"
      ],
      "execution_count": 224,
      "outputs": [
        {
          "output_type": "execute_result",
          "data": {
            "text/plain": [
              "tensor(91)"
            ]
          },
          "metadata": {
            "tags": []
          },
          "execution_count": 224
        }
      ]
    },
    {
      "metadata": {
        "id": "3PhFEZfO_C0d",
        "colab_type": "text"
      },
      "cell_type": "markdown",
      "source": [
        "### Variable and Autograd\n"
      ]
    },
    {
      "metadata": {
        "id": "CmloaOpBjgN7",
        "colab_type": "text"
      },
      "cell_type": "markdown",
      "source": [
        "`Autograd` is a PyTorch package for the differentiation for all operations on Tensors."
      ]
    },
    {
      "metadata": {
        "id": "S14fVKCO_Ewh",
        "colab_type": "code",
        "colab": {}
      },
      "cell_type": "code",
      "source": [
        "from torch.autograd import Variable"
      ],
      "execution_count": 0,
      "outputs": []
    },
    {
      "metadata": {
        "id": "J0fG9NrVg7sl",
        "colab_type": "text"
      },
      "cell_type": "markdown",
      "source": [
        "A `Variable` wraps a Tensor. It supports nearly all the API’s defined by a Tensor. Variable also provides a backward method to perform backpropagation. \n",
        "\n",
        "Reference : https://jhui.github.io/2018/02/09/PyTorch-Variables-functionals-and-Autograd"
      ]
    },
    {
      "metadata": {
        "id": "AUc3h4cqiBCn",
        "colab_type": "text"
      },
      "cell_type": "markdown",
      "source": [
        "`requires_grad` indicates whether a variable is trainable."
      ]
    },
    {
      "metadata": {
        "id": "dd8B37GXDfi4",
        "colab_type": "code",
        "outputId": "5325bd69-4613-4848-ef7a-96fed9c56cc3",
        "colab": {
          "base_uri": "https://localhost:8080/",
          "height": 50
        }
      },
      "cell_type": "code",
      "source": [
        "# Variable wraps a Tensor\n",
        "temp_tensor = torch.tensor([[1,2],[3,4]]).type(torch.FloatTensor)\n",
        "x = Variable(temp_tensor, requires_grad=True)\n",
        "x"
      ],
      "execution_count": 226,
      "outputs": [
        {
          "output_type": "execute_result",
          "data": {
            "text/plain": [
              "tensor([[1., 2.],\n",
              "        [3., 4.]], requires_grad=True)"
            ]
          },
          "metadata": {
            "tags": []
          },
          "execution_count": 226
        }
      ]
    },
    {
      "metadata": {
        "id": "2m6fD-nditL-",
        "colab_type": "code",
        "outputId": "a467ccb9-7ce5-45c0-9ed6-e02995bd2bb1",
        "colab": {
          "base_uri": "https://localhost:8080/",
          "height": 50
        }
      },
      "cell_type": "code",
      "source": [
        "x.data"
      ],
      "execution_count": 227,
      "outputs": [
        {
          "output_type": "execute_result",
          "data": {
            "text/plain": [
              "tensor([[1., 2.],\n",
              "        [3., 4.]])"
            ]
          },
          "metadata": {
            "tags": []
          },
          "execution_count": 227
        }
      ]
    },
    {
      "metadata": {
        "id": "rIr48iTeDs_w",
        "colab_type": "code",
        "outputId": "b428dd9b-2a9a-4604-c723-07b0aefe6b5b",
        "colab": {
          "base_uri": "https://localhost:8080/",
          "height": 34
        }
      },
      "cell_type": "code",
      "source": [
        "out = torch.mean(x*x)\n",
        "out"
      ],
      "execution_count": 228,
      "outputs": [
        {
          "output_type": "execute_result",
          "data": {
            "text/plain": [
              "tensor(7.5000, grad_fn=<MeanBackward1>)"
            ]
          },
          "metadata": {
            "tags": []
          },
          "execution_count": 228
        }
      ]
    },
    {
      "metadata": {
        "id": "tSRZ8PpYjvR-",
        "colab_type": "text"
      },
      "cell_type": "markdown",
      "source": [
        "`backward()` executes the backward pass and computes all the gradients automatically. "
      ]
    },
    {
      "metadata": {
        "id": "VPqGm0uoD67p",
        "colab_type": "code",
        "colab": {}
      },
      "cell_type": "code",
      "source": [
        "out.backward()"
      ],
      "execution_count": 0,
      "outputs": []
    },
    {
      "metadata": {
        "id": "dLx7JynBjUp3",
        "colab_type": "text"
      },
      "cell_type": "markdown",
      "source": [
        "`x.grad` below returns $\\frac{\\partial out}{\\partial x}$ which in this example is $\\frac{x}{2}$"
      ]
    },
    {
      "metadata": {
        "id": "UMBNBfDlD9Oj",
        "colab_type": "code",
        "outputId": "ac645641-70cf-4ada-d9fc-faf4e6c3572c",
        "colab": {
          "base_uri": "https://localhost:8080/",
          "height": 50
        }
      },
      "cell_type": "code",
      "source": [
        "print(x.grad)"
      ],
      "execution_count": 230,
      "outputs": [
        {
          "output_type": "stream",
          "text": [
            "tensor([[0.5000, 1.0000],\n",
            "        [1.5000, 2.0000]])\n"
          ],
          "name": "stdout"
        }
      ]
    },
    {
      "metadata": {
        "id": "lnP2nPF1Ffrv",
        "colab_type": "text"
      },
      "cell_type": "markdown",
      "source": [
        "### Activation"
      ]
    },
    {
      "metadata": {
        "id": "XmgoXqf6OxuR",
        "colab_type": "code",
        "colab": {}
      },
      "cell_type": "code",
      "source": [
        "x = torch.linspace(-5, 5, 100)\n",
        "x_np = x.numpy()"
      ],
      "execution_count": 0,
      "outputs": []
    },
    {
      "metadata": {
        "id": "HjHZVOgwTtwl",
        "colab_type": "code",
        "colab": {}
      },
      "cell_type": "code",
      "source": [
        "y_relu = F.relu(x).numpy()\n",
        "y_sigmoid = torch.sigmoid(x).numpy()\n",
        "y_tanh = torch.tanh(x).numpy()\n",
        "y_softplus = F.softplus(x).numpy()"
      ],
      "execution_count": 0,
      "outputs": []
    },
    {
      "metadata": {
        "id": "y0beQuQFTusn",
        "colab_type": "code",
        "outputId": "6de1b0ab-c108-42e2-d938-df875d0894eb",
        "colab": {
          "base_uri": "https://localhost:8080/",
          "height": 215
        }
      },
      "cell_type": "code",
      "source": [
        "plt.figure(1, figsize=(9,3))\n",
        "\n",
        "plt.subplot(131)\n",
        "plt.plot(x_np, y_relu, c='red', label='relu')\n",
        "plt.ylim((-1.2, 5))\n",
        "plt.legend(loc='best')\n",
        "\n",
        "plt.subplot(132)\n",
        "plt.plot(x_np, y_sigmoid, c='red', label='sigmoid')\n",
        "plt.ylim((-1.2, 1.2))\n",
        "plt.legend(loc='best')\n",
        "\n",
        "plt.subplot(133)\n",
        "plt.plot(x_np, y_tanh, c='red', label='tanh')\n",
        "plt.ylim((-1.2, 1.2))\n",
        "plt.legend(loc='best')\n",
        "\n",
        "\n",
        "plt.show()"
      ],
      "execution_count": 233,
      "outputs": [
        {
          "output_type": "display_data",
          "data": {
            "image/png": "[encoded data removed]",
            "text/plain": [
              "<Figure size 648x216 with 3 Axes>"
            ]
          },
          "metadata": {
            "tags": []
          }
        }
      ]
    },
    {
      "metadata": {
        "id": "m9JNqc8jWIcF",
        "colab_type": "text"
      },
      "cell_type": "markdown",
      "source": [
        "### Regression"
      ]
    },
    {
      "metadata": {
        "id": "O5hfgjQZUxhz",
        "colab_type": "code",
        "outputId": "450aea99-e47c-4713-e542-e913dd8e9838",
        "colab": {
          "base_uri": "https://localhost:8080/",
          "height": 34
        }
      },
      "cell_type": "code",
      "source": [
        "torch.manual_seed(1)"
      ],
      "execution_count": 234,
      "outputs": [
        {
          "output_type": "execute_result",
          "data": {
            "text/plain": [
              "<torch._C.Generator at 0x7f1ad2e3d330>"
            ]
          },
          "metadata": {
            "tags": []
          },
          "execution_count": 234
        }
      ]
    },
    {
      "metadata": {
        "id": "VwCkwKu_W8rx",
        "colab_type": "code",
        "outputId": "950dd113-9ee0-493c-c81d-f9fe65f97dad",
        "colab": {
          "base_uri": "https://localhost:8080/",
          "height": 34
        }
      },
      "cell_type": "code",
      "source": [
        "# Generate 100 equally spaced points from -1 to 1\n",
        "x = torch.linspace(-1, 1, 100)\n",
        "x.shape"
      ],
      "execution_count": 235,
      "outputs": [
        {
          "output_type": "execute_result",
          "data": {
            "text/plain": [
              "torch.Size([100])"
            ]
          },
          "metadata": {
            "tags": []
          },
          "execution_count": 235
        }
      ]
    },
    {
      "metadata": {
        "id": "T7RTo2PIXMOA",
        "colab_type": "code",
        "outputId": "49c08e5a-342f-4546-cf93-3ae7861f0121",
        "colab": {
          "base_uri": "https://localhost:8080/",
          "height": 34
        }
      },
      "cell_type": "code",
      "source": [
        "# Reshape input\n",
        "x = torch.unsqueeze(x, dim=1)\n",
        "print(x.shape)"
      ],
      "execution_count": 236,
      "outputs": [
        {
          "output_type": "stream",
          "text": [
            "torch.Size([100, 1])\n"
          ],
          "name": "stdout"
        }
      ]
    },
    {
      "metadata": {
        "id": "f306HEoGXSFP",
        "colab_type": "code",
        "outputId": "1d3b8b0a-a808-411b-aba8-86969322c419",
        "colab": {
          "base_uri": "https://localhost:8080/",
          "height": 34
        }
      },
      "cell_type": "code",
      "source": [
        "curve_shape = 2 # y=x^2 curve\n",
        "y = x.pow(curve_shape) + 0.2*torch.rand(x.size()) # Introduce noise in the output\n",
        "print(y.shape)"
      ],
      "execution_count": 237,
      "outputs": [
        {
          "output_type": "stream",
          "text": [
            "torch.Size([100, 1])\n"
          ],
          "name": "stdout"
        }
      ]
    },
    {
      "metadata": {
        "id": "S_P35qTCYDLq",
        "colab_type": "code",
        "outputId": "4045707c-975c-4c18-a168-56e3ee31a5b3",
        "colab": {
          "base_uri": "https://localhost:8080/",
          "height": 279
        }
      },
      "cell_type": "code",
      "source": [
        "# Plot the points\n",
        "plt.scatter(x.data.numpy(), y.data.numpy())\n",
        "plt.xlabel('x')\n",
        "plt.ylabel('y')\n",
        "plt.show()"
      ],
      "execution_count": 238,
      "outputs": [
        {
          "output_type": "display_data",
          "data": {
            "image/png": "[encoded data removed]",
            "text/plain": [
              "<Figure size 432x288 with 1 Axes>"
            ]
          },
          "metadata": {
            "tags": []
          }
        }
      ]
    },
    {
      "metadata": {
        "id": "-kbcaGIWFpdV",
        "colab_type": "text"
      },
      "cell_type": "markdown",
      "source": [
        "Create a Fully connected network model with 1 hidden layer"
      ]
    },
    {
      "metadata": {
        "id": "3URrzC_RYR2v",
        "colab_type": "code",
        "colab": {}
      },
      "cell_type": "code",
      "source": [
        "class Model(nn.Module):\n",
        "  def __init__(self, n_hidden):\n",
        "    super(Model, self).__init__()\n",
        "    self.fc1 = nn.Linear(1, n_hidden) # 1 input feature, n hidden nodes\n",
        "    self.fc2 = nn.Linear(n_hidden, 1) # 1 output feature\n",
        "  \n",
        "  def forward(self, x):\n",
        "    x = F.relu(self.fc1(x))\n",
        "    x = self.fc2(x)\n",
        "    return x  "
      ],
      "execution_count": 0,
      "outputs": []
    },
    {
      "metadata": {
        "id": "8ZDBEBsXpEYf",
        "colab_type": "code",
        "outputId": "05ef1b2b-53bf-4dad-92ef-e74a35c4c8ef",
        "colab": {
          "base_uri": "https://localhost:8080/",
          "height": 84
        }
      },
      "cell_type": "code",
      "source": [
        "# Create model with 10 units in the hidden layer\n",
        "model = Model(n_hidden = 10)\n",
        "model"
      ],
      "execution_count": 240,
      "outputs": [
        {
          "output_type": "execute_result",
          "data": {
            "text/plain": [
              "Model(\n",
              "  (fc1): Linear(in_features=1, out_features=10, bias=True)\n",
              "  (fc2): Linear(in_features=10, out_features=1, bias=True)\n",
              ")"
            ]
          },
          "metadata": {
            "tags": []
          },
          "execution_count": 240
        }
      ]
    },
    {
      "metadata": {
        "id": "RNridmmupHMI",
        "colab_type": "code",
        "colab": {}
      },
      "cell_type": "code",
      "source": [
        "# Mean Squared Loss as its a regression problem\n",
        "criterion = nn.MSELoss()\n",
        "# Stochastic Gradient Descent for optimization\n",
        "optimizer = optim.SGD(model.parameters(), lr=0.2)"
      ],
      "execution_count": 0,
      "outputs": []
    },
    {
      "metadata": {
        "id": "mnvO1NyCIPQt",
        "colab_type": "text"
      },
      "cell_type": "markdown",
      "source": [
        "Training"
      ]
    },
    {
      "metadata": {
        "id": "oswIEdHkpyWs",
        "colab_type": "code",
        "colab": {}
      },
      "cell_type": "code",
      "source": [
        "epochs = 200\n",
        "y_hat_arr = [] # for plotting\n",
        "loss_arr = []  # for plotting\n",
        "for e in range(epochs):\n",
        "  y_hat = model(x)\n",
        "  y_hat_arr.append(y_hat)\n",
        "  loss = criterion(y_hat, y)\n",
        "  loss_arr.append(loss.item())\n",
        "  optimizer.zero_grad()   # clear gradients for next train\n",
        "  loss.backward()         # backpropagation to compute gradients\n",
        "  optimizer.step()        # apply gradients and updates the weights"
      ],
      "execution_count": 0,
      "outputs": []
    },
    {
      "metadata": {
        "id": "znPt3CbDXHBy",
        "colab_type": "text"
      },
      "cell_type": "markdown",
      "source": [
        "Lets plot model loss and see how it behaves with epochs."
      ]
    },
    {
      "metadata": {
        "id": "YZZVfxcM9N-x",
        "colab_type": "code",
        "outputId": "382f0c48-06f5-406a-eafa-674d44c3672d",
        "colab": {
          "base_uri": "https://localhost:8080/",
          "height": 294
        }
      },
      "cell_type": "code",
      "source": [
        "# Plot error curve\n",
        "plt.title('Model loss')\n",
        "plt.ylabel('MSE Loss')\n",
        "plt.xlabel('Epochs')\n",
        "plt.plot(loss_arr)\n",
        "plt.show()"
      ],
      "execution_count": 243,
      "outputs": [
        {
          "output_type": "display_data",
          "data": {
            "image/png": "[encoded data removed]",
            "text/plain": [
              "<Figure size 432x288 with 1 Axes>"
            ]
          },
          "metadata": {
            "tags": []
          }
        }
      ]
    },
    {
      "metadata": {
        "id": "g3syd0UqGmUX",
        "colab_type": "text"
      },
      "cell_type": "markdown",
      "source": [
        "Animating the model prediction to visualize how the accuracy improves with epochs and eventually close to true output."
      ]
    },
    {
      "metadata": {
        "id": "5-UisvuAxuE6",
        "colab_type": "code",
        "colab": {}
      },
      "cell_type": "code",
      "source": [
        "from matplotlib import animation, rc\n",
        "from IPython.display import HTML"
      ],
      "execution_count": 0,
      "outputs": []
    },
    {
      "metadata": {
        "id": "315Xkz1ExutF",
        "colab_type": "code",
        "outputId": "ab01c9bd-21aa-4923-dc22-e75b7740adaa",
        "colab": {
          "base_uri": "https://localhost:8080/",
          "height": 269
        }
      },
      "cell_type": "code",
      "source": [
        "# First set up the figure, the axis, and the plot element we want to animate\n",
        "fig, ax = plt.subplots()\n",
        "\n",
        "ax.set_xlim((-1.2,1.2))\n",
        "ax.set_ylim((-0.5,1.5))\n",
        "plt.scatter(x.data.numpy(), y.data.numpy())\n",
        "line, = ax.plot([], [], lw=2)"
      ],
      "execution_count": 245,
      "outputs": [
        {
          "output_type": "display_data",
          "data": {
            "image/png": "[encoded data removed]",
            "text/plain": [
              "<Figure size 432x288 with 1 Axes>"
            ]
          },
          "metadata": {
            "tags": []
          }
        }
      ]
    },
    {
      "metadata": {
        "id": "A1baBROb1mDw",
        "colab_type": "code",
        "colab": {}
      },
      "cell_type": "code",
      "source": [
        "# animation function. This is called sequentially\n",
        "def animate(i):\n",
        "    x_anim = list(x.data.numpy())\n",
        "    y_anim = y_hat_arr[i].data.numpy()\n",
        "    line.set_data(x_anim, y_anim)\n",
        "    return (line,)"
      ],
      "execution_count": 0,
      "outputs": []
    },
    {
      "metadata": {
        "id": "gEsXdk6_6hqo",
        "colab_type": "code",
        "outputId": "2627915a-258f-44a9-b5e1-e205fb9dc234",
        "colab": {
          "base_uri": "https://localhost:8080/",
          "height": 309
        }
      },
      "cell_type": "code",
      "source": [
        "# call the animator. blit=True means only re-draw the parts that have changed.\n",
        "anim = animation.FuncAnimation(fig, animate, frames=100, interval=100, blit=True)\n",
        "HTML(anim.to_html5_video())"
      ],
      "execution_count": 247,
      "outputs": [
        {
          "output_type": "execute_result",
          "data": {
            "text/html": [
              "<video width=\"432\" height=\"288\" controls autoplay loop>\n",
              "  <source type=\"video/mp4\" src=\"data:video/mp4;base64,AAAAHGZ0eXBNNFYgAAACAGlzb21pc28yYXZjMQAAAAhmcmVlAACPXG1kYXQAAAKuBgX//6rcRem9\n",
              "5tlIt5Ys2CDZI+7veDI2NCAtIGNvcmUgMTUyIHIyODU0IGU5YTU5MDMgLSBILjI2NC9NUEVHLTQg\n",
              "QVZDIGNvZGVjIC0gQ29weWxlZnQgMjAwMy0yMDE3IC0gaHR0cDovL3d3dy52aWRlb2xhbi5vcmcv\n",
              "eDI2NC5odG1sIC0gb3B0aW9uczogY2FiYWM9MSByZWY9MyBkZWJsb2NrPTE6MDowIGFuYWx5c2U9\n",
              "MHgzOjB4MTEzIG1lPWhleCBzdWJtZT03IHBzeT0xIHBzeV9yZD0xLjAwOjAuMDAgbWl4ZWRfcmVm\n",
              "PTEgbWVfcmFuZ2U9MTYgY2hyb21hX21lPTEgdHJlbGxpcz0xIDh4OGRjdD0xIGNxbT0wIGRlYWR6\n",
              "b25lPTIxLDExIGZhc3RfcHNraXA9MSBjaHJvbWFfcXBfb2Zmc2V0PS0yIHRocmVhZHM9MyBsb29r\n",
              "YWhlYWRfdGhyZWFkcz0xIHNsaWNlZF90aHJlYWRzPTAgbnI9MCBkZWNpbWF0ZT0xIGludGVybGFj\n",
              "ZWQ9MCBibHVyYXlfY29tcGF0PTAgY29uc3RyYWluZWRfaW50cmE9MCBiZnJhbWVzPTMgYl9weXJh\n",
              "bWlkPTIgYl9hZGFwdD0xIGJfYmlhcz0wIGRpcmVjdD0xIHdlaWdodGI9MSBvcGVuX2dvcD0wIHdl\n",
              "aWdodHA9MiBrZXlpbnQ9MjUwIGtleWludF9taW49MTAgc2NlbmVjdXQ9NDAgaW50cmFfcmVmcmVz\n",
              "aD0wIHJjX2xvb2thaGVhZD00MCByYz1jcmYgbWJ0cmVlPTEgY3JmPTIzLjAgcWNvbXA9MC42MCBx\n",
              "cG1pbj0wIHFwbWF4PTY5IHFwc3RlcD00IGlwX3JhdGlvPTEuNDAgYXE9MToxLjAwAIAAAB+OZYiE\n",
              "ABD//veBvzLLXyK6yXH5530srM885DxyXYmuuNAAAAMADPKH8Ew/gE9CaOoiTcL+T/Sb3o/ee7tZ\n",
              "PwuVbZAXxxx4EULbk9lgut/e/DytN7/uH+cTYn/TCOJ9txnIvpvDY3bgT+SOwAAAB28rPxqGaid8\n",
              "rBO0xm9aqnd2jb2SSYsrROXy15dZeYZc/7ZLAXFhmsILuSM+5TyuQn0jUbgPWaCscKzvvWAnPmMf\n",
              "3wjUqXAX/qrAmFWpR9SoDauOOyTIDP7KrJPkRmIDASK/RpOGYNIV3FWynRQ5Sg1Gl8QaOuA6/jW8\n",
              "Yv0tEntXfSd5T40/+pOXrYwwdY90+W7Il6xGG4MAtziYbBTAhjEVlo2iBLZd7GOzLp5odHmmsemg\n",
              "xCOxg8xwE2paMDBGKyqP/oDFhDAeys/LHyhqQv/DrRQEQvE4hgbl6QgG/Iy2FCtCnQhh3gFObWrH\n",
              "OBitUJMT8JZ56BMeRvHcoOiMrGzWM6ZyhxWri7KDc+PFKEmLpsJTeUUdw2a9GzmJr7Ntqg973JfL\n",
              "9mwRQZ6htKPImFiSNLvGCDMBzu9brPjdKG6otGGa2wku/g5psqpKv+xp6JpPK5JR/y33OdDc3Sy2\n",
              "YES0ergU/dO4yS+RePc9YmfI4YQkgkhjeJL/xpPA55iBZSE3OVVSpdiW3QBCB+ujV26vVunD2q8J\n",
              "1uhPZUTzcgrfn2MD8BIzeAZJ7R1v1WsmGBsSbW8ZpxRcvdTNyJTEeKwKJHPkX7+c9BTjh4GRkOp4\n",
              "kCbYXTp9+ZGHVAT1mmgRVDEOOXSSrW6xbnmjkbvxPjD3+1sk19U40/OehPxN8+xdqzueEGQOiFA9\n",
              "m5zl/2bJCl4+GTVc3CjmEn3/FMYs+X/dWHj2jWBr2pywzN0I3c/6OWsxoFPv+WKSJo5DWKQMolhD\n",
              "odZHPG7J5d5veP8wYIJHZnkuqLRiIrCtWMHGbI3tLepI5ORs+CxyB/BHuqr91oIMwHrKErwzy3Kx\n",
              "cj46FbjTD4m1gFTA4BK80JtCHXmyK6gfbsYZwchzUgoYZmjFxxW3OLCs2GF3bGNLYsuMKpKORxRc\n",
              "Z0viVQViEJ+H5wDqhpIEkjjCnOPE7fKksJ9FMZ0xgWp2VSCl9a8/NhIDZM+ijk4we5q0YiBXuPac\n",
              "bvZ2pOpxNWWOqXtdsyDwyxaMuLM1TxhIJI5bC59wUPaFbT8o32HPNfWm/0eBk+dpy4eAIfNL9vW/\n",
              "tHMcnJbqOVRvV8eqZd82xXnvb9lQWeiY3xKC2UOwHeC81oAyzSHaVMrOBQo1Hj4lXWWUdieOkZ4e\n",
              "ziaYSqQepIZo3Ct21qJT80LK2d8G0GmjKJoQbqn01K0TZ3HMqvTOKLbYv5DIDuVhH/R6T7LCjQal\n",
              "10Jq48IVAC8jpZQFjIRiPGHyUk8/j8h0Nrtzb5oml5GHHLC+7tr8YPdie66sUoQTmsP97ikoAujN\n",
              "4WVRnyTenQUY0zWPFf+Y5Dtff+sN4QOajGS8EEKKEa9nBR8mXcFE1mbjxb44mfWb4R1gm09JsuLR\n",
              "zBYT5C5kLSgcdlLPog12xretVVRduxUp3C8fqjRnMO9SnZUitpv7H0URaV65pIhhYCzDhOBS9r+a\n",
              "WAHG3YWKe0M7r1Qy9/pSS65uA0YOrhIr579PbpoR1kAVxg3uUrHwAeLHjAzeqSSiX5AgXXrkUGdZ\n",
              "oku1gRJoxvGYe9trdb+16xfCC6LHwgCVgw19kzUPY8l1DlHF7Nqvir/RAqmKWkr5XX7DYStx8UPP\n",
              "p1hgEvHSYLBmZJV4lmBNls8TU7M+Rqv14xC3PhQ2XO7hH517tNsSytrkigPubO2RHn4anoB3Gtyk\n",
              "bTXouL9V5bpzRRUBnvNlItRNyNwFkIgSt8Dz0VJZcoHxacgGBLupbVhkJ+hGjqHwqywmFqeoA+Yc\n",
              "mCZPm8EU9aJkSheWSQJXDhfa4+LIRGDOy7xseoE+Souh9z2HeGUNXHr6Kk1zzW4f+yb9sBCyA9to\n",
              "lRjCLNVo1tIvVkSNu/7Os8hUMjiwWAGBmMQDAUdOEsUsFjg/KWoetWCyLNd2THAd4LDb/+usdMy3\n",
              "pCxzYhVUY3LN1uqmDiV3HFQG8n5pPn+1Y2x3Qx1L0yAgeCtmw7sUSXjIBQc+sDbeIAajJUpAy9pV\n",
              "wpi8RhfGSsHZBXuglap2dZLZ6CAup3t4Z34iKj2wsVDUp0iDQv9VfkNMBUsOiuJBtgAHkYE88iwg\n",
              "L7YkKWoJl8D4U8AtFkRXHNylrbnWqNmsUPmicFGqjS++yUdFesQCdT03kWGCQ4fwRbH3kYZjbTv9\n",
              "SGnGCBPJ17r8GxZTdzYMeqStQ3E4vt0UniX/WVEbC7MO0AAazirOsU/zeWUkwQ2hmMe7tr/9hNH/\n",
              "uw0AAvId0R0bshbE6J1PjKawmQYtchWyycR3tzuUd1roqG89ylRoX6DAcHQ0S1ah0m77qRCPhkv0\n",
              "IwuIECj6P8DbwuLpi3hnmMpQt9oSvgETZPnWbXrJz9+LXilGoPhwYZm9wOXUzs+drjZTB7xYsKK6\n",
              "/5S0BINXv2mQ4c2+3eHOzbPI7Vz84TLp6Z0DRwbgdTmVQXw0RoY1n1gNRuQk5pXWiLTa6tr/cti1\n",
              "dFS+JOcmlj0CFWdxy0DfviqeaLEv6lAD8CQM8BPeroYEaLz/ZpuRDWvWptua1f/c+Yb/LiMOn6g8\n",
              "21f8+JmlSeIlyVv4jxWvGu1a19ToGLmzY//5wLtcv4FIAMRVmXKhwT84Bpm6B3xCMhfvmWaChmz6\n",
              "z5p2i8H5+ecjtI5kkvbT2E5gPfto3J1snF5yCpthsU8eOB2Rh6XTOLiz7T2uaOw60FopH2OhiMTT\n",
              "SlRoEbh+D82RjrpHASob8KZ3SmCnysA5KStWrbXmdcpljLBnWCYvQn65RH89/rIghzTIqWN4IVT+\n",
              "E8y8C6ElHOHhBKq038f7HpsGq+yIIH/Adel+G7+X+Xpil44pjIsYh25SOzGhiMKbJBMCCqSJ6tVo\n",
              "O+IASLn7ZsHqexbCnLxqI/BoB78zKDVv2t4h1FnzSgQxALbIWkeWd8QKCg8/HtCIVTxdT/DjwYy/\n",
              "DVoDChbid1dCJf+Ee+pMqeQBGJ9wdgTak7d0aGJXatRE1DJOFyPAh64QFFBZNBhK3LKkzH8nCY3O\n",
              "iGQ1qTrXh3RfmE9bpFZFvhYJm1zzfHBA79BqC2m5k7mhK2og3kRb12RKmUvDoeXAW0zJiEbe5EN+\n",
              "XA7ckMlf7+A3RaAXzT8Xj3PF3v/aKXhxVfMbtVT/YuICb5uS2sLfMB6MgcAONHMrW3QKLXuqajGg\n",
              "Spb16HjSgJyFIxaAr4lk5GDHqZlQWzcvfzSxzqLlCjFO0sd8JDXDxv1STrhMj1JdiUk64WAUXN/m\n",
              "3jzhJc6pDWI7Mu2Z7KXFS1sNwbv5Yl+tBntVBYmUCB01rS2LT0gk9eKztji3Ioqib2aIv9RjkutI\n",
              "wG0xbCwFCS7aDDQg8PVmJWB3uDEk/9knXT+rreJYMCxE9rSrzVx2YM+k3idIb7Wq7p56yu5G5Q5K\n",
              "waYzmz0IYCAmt35EQhWtZmplayyXIFACG8TSJWbyBxaYFIwf2jzDJXBWg6XH/KJrJIatesXAhGbv\n",
              "K2u+XJEd+rH3CMvGZZj/pR2CmgS2AeA0jGSDM+GnHTKuGmitAgMPn0I/VFhYUiZ3DzS4Venzs71R\n",
              "MUBhg/pVa3oP4AiwLaS8hoMNv26oze9qWXjoXcrAWlKeFxlxmMXZWyrdMGebvyOV01s329Idy1mk\n",
              "yRZLx69ik7tGi3rXTUD6R+wgSGsXY+/hsNXAeUA4dDexkfQy6dv+l9DHdQAatxLUiyiLNTnk7CpL\n",
              "Rtqr14HkgFalmcspmWbPbrPjrdb4HXZFsa53hRvmyCaho4VnAxVRSHv9fsLBNdVGla4XcCSBpROo\n",
              "3K8+D9TMSIVEocbddWcoybSgYO2V7k3c0aQ6MgfIcYdWhMBwxJLWJXu6VIrKOs4XaO0HEDHsKcqo\n",
              "V/pYliuVPgrb0Ne1FU9OFykUXb4psHriqbNsmDNEIKSb2gyR7gJCUfFQI6DdzA+yzoqYBATpv8P3\n",
              "cHKpivXb76eW9Er2XeHUxD22Jg+5bLrZhbW+S/JDur/Wr4UJp6lwYc1obx11nbTSnzipH9dECXUz\n",
              "Vh3pwLAqMnaOFNggidozViyexse+omcBvw5vH2W2jFYQepFv72KBati0fDSU1q9Inc/dEnWx8gY7\n",
              "CkovUaXbgWc1SzWScbpOAlPWoMkMKJW8FNK8rROCi9FZ1TnckvhDpPjBuxZ8/3D8WP7V4plfUrb+\n",
              "zjdfN6fnE98nkAvF/BTRK7vg1q9pVMTrd+W5UfaocDfz3GzKrn+Iz+r8mmcmAryVbWxcIRLyQ0Hy\n",
              "NEfQQetNl0a5crPIQ81BTV3JpvlUJAWbpJfTnUsGGocXCWlKcYzrQ0qZb1LFUl7U6w8YqEDMKa15\n",
              "j/atFXMVP3wDi+IkB9KwRtmV/3DNaQUgjrbnCV2850QFkBUJlBSUSP7k06uIrxU8hm7lCae7u/yL\n",
              "4FhUh5MyE1j1vrUYX/p2F937JRuaKFmiQfFQMekaEa8rj0ZPalKlWXZi1iHgFLePd+EvuN4x3UY1\n",
              "ZmaA7nXvt+XD91CzcjzL0KeUz8LGXt5Ke33kwxZeLAUx3RZUr7iksQp9SuMNJuw+HnObjrY2igCr\n",
              "TdSSNcSMiX/f8b2pkF6unfTla2hUM3dzouw+BKrvGP8zmSGD1gpuyWi+S/kTiQXV0L4mckrjqHgy\n",
              "bjPCS3KFFuJvZg2kwq3XAKUGbcKaBOsejhD4UG7DadHgzS8cg81GJNwI9JgSNWlyjBm0JLKb6CpH\n",
              "K4NAUGcNS7t/raHDk3MpMaXpNu1AaYOkXs2gy57JhvxNbYhElqTYd4798DrxsEgYLkC2jTyVkoeJ\n",
              "TTE8hRY3atBDKatT+BVVvfwRII3UeMbEM1CWZi6i+Csp8vhwoAfo5beHGmjiGbr1bgy/J+TLznXV\n",
              "52lStOJGL1wrm87EBfchZKNzv/BSMHjWLT905sUw3z1VJbHOEkbDvcWS+skOb+gCsErDs4x8EpGO\n",
              "jImkioiRg1fXsGIfFX7wE1joGmEeB57XnNPCG6oLgyIwU63r3XL4kKq0S2spenb7lL+xCmF8e4gy\n",
              "VWqMJZlqDrspSttqS1H+jSeU4vMkygvNnLBT2ldBaYBJ7mNB0gSTpG2V0SylLAZt/uZYN6oTDVIy\n",
              "S4fKVHt166xFYOJT4+NKXlKuK5E2oK0am5pKFZbvGFtpGewbDaVRAvyudTr7PqjsMvsfEHF7zyfe\n",
              "FA71LorBvikW/IVMvWLOZ4l3OfcVLJWZ315iZ48UgBs/azMKSyDmeoRuMMg5u2UimMfrkNIqUfkZ\n",
              "JHSVdPWA70SgCObU/WtSDHpxg3C+wIaVR/d769hXPOqsp0U9sX+FZC4vcf16/tYfZQfP/vljnI7b\n",
              "qSq4rokslRl0mKLb8DJtRLDmOig3Ye8By2FFldeuFXSKOxKqAGZSVHmSV8rOzYVTf7wvkeC+suZA\n",
              "8dZMBq2CLykeBBIIKgLUwiHqDur2KEwx+7KFL6hxBdXt8h+KaY6U1lHIUU0qPfcRLxaatuGyA7QC\n",
              "E1Uy6Eolo4xeQh38JDKKhoC1Z6U+FvIgv1VuU6FdbmrH9Bk/OUSqSPzHbpVb14hOAPuFCEnZqLSq\n",
              "jsEcb2ibMkiG22MgKfxR7A1yDUMT2vz0ZvkpH8oma/GMgTfdsQ31dKb9/41KhTqlhP1O+1AqHN8I\n",
              "bcijgbO56qyb7paGOeH8ZRGzjnQCp/4y+9taie8HssaWe1CnW7vsom77xUkJVwnTZGaz7gIeH98b\n",
              "yrLVZoHu3EniZDDq99jfuX4BrbNh3zk1jB7vSzNMQ1+oWY4PGVg/2xSf/LM/3VECsuduHfSIuqeS\n",
              "3n+VNSBo0c4Wxer4/FA/VKiSjgV+wdOUBEdadu8ibplvgri6uScbGLLHiaDCOX6pK+o7ophvSnxX\n",
              "uk8FyR3DMdJvNjy37xU7TCwDAxPKu4fodUsTFr6STlOxvGPFlrIfTgc3otla9XWefV7LI1+ZqRw5\n",
              "tOmVpKc4NlpDGXYXQ+eW2I8CdJ9niRN2gVVVQ33yLawlzzzrWf0xwnxo4k6iXgiD4XhlUb+hhgTb\n",
              "XwJSIfwiiiPsEgrH4cEHbKYM/D6A0ofeaD1wWtycdyvMebpOVuuHA+3H6Zy5F+zz+kp0XtywHsad\n",
              "HTQO16Q41Ff/X4qEAzRpfTfj2kCo1kUrsIOOJbXZeNCPlzJbSZTCLFaxSZV8C+aO0hELuTbIopqu\n",
              "54G90BBnlgCstrjtDIuH6/GD66eC9xZV5VF9UZ5tvDWkSTSewMfKLb2FLxQ7NqpdXfDUXRX/inj0\n",
              "wUt+6//NU45unxTXePMrI9/iOjW+juOEc320TarKjQgVDd5E6QwPzhfj7hNkSGf2aQAoFY2ZlHMa\n",
              "V7ze0jjRz4aa4fpMmwGRYHw+6fJMiKxAeCtQ9ptYG5sRoxMK0r4l0Bcf09rBAYojjroRBGFnD+X1\n",
              "vNNTFdhGnux3DJYeTkwT30VgQHbnkICFghJeIWT9AbRpHtSZNeBG/3LFlDfxHAlbrAoKtF61Y+FU\n",
              "reMqzAQyWtSANqJXp8fXArda7+08jOH8/f5/IfAyev/pAc5df+cgij2k99VhqQqREEagf8bD4/lZ\n",
              "3yeA8TzLVaovG2IIG3/W0GCVV1UqEjHC/iyjnzTgYykl/dO55mw//SAM7iLpCe2JDiZ3jOAdTWzL\n",
              "YuAba0wRLZkDmVWPAidZAhsPRfF7nHEUvGCpUFoYIit5Z2lOZqA0vNOFHxX+FjsKfYlIFS+znFW6\n",
              "MoJ02ZOW7rQfq6xmGqzrmtj4WSbTYMdItbyVh8eZ241KSpoY5L0BHi6w5Nhe9OgYuSGRfaj8/54U\n",
              "WZ+xtp+WdMvxo9QCmyUnUW7TaFcJrrAciMppDpr7G0kjZOmoUJjxG9LvlKknghEwHgHpD9H4iFam\n",
              "xUm7dDFNQ3u/juBqMAEvgdkLod+U4LnyI+z2ujqO8G9Hix1lqhA6aAlpv45gzQC2QXF251vNEpht\n",
              "gKhCSVLcFotNZKwhIw0vcYPSO2PaBlZTRHT8zaOQUqlpENfx7rYGFy56AXOkQUJbFZEwc5Pqiisb\n",
              "QSMvCnZlpWBPAIh1l3oOyZAfD3Lpjf3jHAEH0mhKdwJ7ncf427P7FeJWzhL9Gy4xZU7Dua+Sjcqj\n",
              "uexMy/+uVBJNzsU1xnsdUakpoFjFujFgVXQmF1PeTxbdfAB79KKXVAR9RVum+RX6DacCGxoh8Fbs\n",
              "BkaXwoaCX4pefTYNWCR3326kKtb71cky6FadG4tTa3/ARq14hfQnRZIXvRz39Z96yTHwN6MgxzbY\n",
              "QjZjyN6LzB27hQtlpCwWMLRMm+cQ9xXh5HxSOS13erjZRxvR6fE+09xiD8McDKwN6Bbs49PCeY6r\n",
              "pt90JCyov+vUFr79Jakz3hgNTIk89oWXrK7Yj2VGuKMMXKIJ1AAp95N81GbO4p7E7Enl++AxtZYe\n",
              "okx1MOqMHIdULfB2JcyBP1G3gXtKLoUGToE1Kyeq8sjeFqChGILqMG2TtDl1KWqO6cXUvTA/yAqR\n",
              "5cs31V3I5qO6OZ5m79s6Ymko7osKatdCW9wPWOk0XBQ3bWF9+PO6h4TTmY9eFPcYrqpAMchi5IP4\n",
              "hqiOEjFYUU8IdT8fnMeF2fTKE2+0JmhSkf2j+QzYfDBUN7A0rXzVjrZm4jqqck4SCMHe3RNaXf3f\n",
              "+YJgumxyii6VAjszMHSDj8tvw7lMwrU2pwNUu4z3YHRWX0XOjD86o9hmRk64yUI5MoQhESurSQYR\n",
              "sBhfNSe84QZ5s3f7c9ZPg0uSb6n2rltLgiQ5HwMGDVsbwUMRPxmSqTOK2CdV+ItTmKj/WPuWHxO9\n",
              "e7ZMmRSV5sA0468Ukfmh/2ezKr3XgQheWhXmSob4mgVieMpqHXpPTn1fj96kcLBfHgxCeOHhEXr7\n",
              "zBTt7SNM3QNEFczzDXlbwU4O+wkw+3kTwWDay2CbyrpZYwJr8zBQuZEGLQKW0b76TcT9RUttb3Y/\n",
              "dQhZwybviEt0pPhIDCN28wuCoWNff4VIni9dvq++g+VIgw6Iik68S/bmm21xNlgUGRyLSTumNoxN\n",
              "yNX2TdL6sHFWsue8j5B7XVI8wB2hUR7lqsYrM9P/WYYnp1PCujCGiIPf6tBvbxlhhLBoJ6QUga9X\n",
              "KDKwVmBCh9/mJbvNT0+n/AB9SkaW0aHh3vuNa4WfZ5EDukZLqGlMwnLbKMHiqGcyfBxzO8jZlKb/\n",
              "uqffpha231zYPuFUeItnRrNtk7FbPKLkbQco4XYsQNZGH8BRyRdHD7WpOABFAgfHXTQJ3ZmfqgrH\n",
              "r96Ls0dlLW5F5NahBjlkkQZYpaivNf2dYswfvY2uKtg3d27zWILaAmeFAc5uS69KHz4LtaahrznN\n",
              "Dzm+s4rigY4kbPFQm+SS0qXrrZZxfFIGoSaqlvHQ/M+o3w/A5mht5lC7sRv/QuQwmubqQqbSZuCi\n",
              "NiiuIQNzRDXJ2XztqbFpZVkEi2WLUwBuDgngB9ANQFaQ1udbMoTo0nBqJxX777YKrDQo+GKuBbAE\n",
              "kCGTkabTz0v14WmsAcrEzjgH25k+2wrkKLq7/BJMebPodEwBcVgmsf1sAYEKXRnlQEcREs4+mi5y\n",
              "XEM+YFrNOB+7Td4WEmx/9rZ50y7VOwAwlXYXuDfaHI68ezXpepdJ06QlW3xqXmbHx5EF9P0sTQic\n",
              "OP8b6TklQjSzfLJ6OAPx32xixaBjJUoMbIFTzHAJxg8D53ARnJL/dEx3C7m4HNyAwv+NifzYUzSk\n",
              "838A03/fux2LfqZ7PPTPJtC+Xg5Fx3QsyZ5sC8mj3t51cn5G0uLTYDjB+IAVfQccJnvTE0S11zRq\n",
              "4CxTwjitL2W0ZMdN0UdNAz/GPz2ZU+TleO6vJlRitu2fPKypdifh9A5Cc2Itg/qoaFArFgeIjSQq\n",
              "3VL9Hqago+0G8t1SDdPfnkR9WouyY+KgIRk3VurHSebV9eD/U69lD/YYqfVZBcZ1ovn3ceHSAY0h\n",
              "2u5RTJvuGO3uptMtJVgJUKqXSyNGm0xvO56L7Gm5O8iDIBEg28GzGlAxsn81tXIjuryoViNIzTyM\n",
              "gX4SeYZtYpGxNLRPciYeUaAe4966tRN/Rldsmu3FQ+VNN6Wq7/aAe1J1FMmAKNkZ08+e4yEsc8nY\n",
              "jPqO/R42ecTV0+WK3M4yy2KLl60wfNoaxJPSWzyK4gSzrjr2TpeHgWx6j0FRL7h8evmoYyoQ6LJ+\n",
              "eQif3dKXhpsRaPJQ3XudMzTiIYgE9I/pF3z4YpPB3jgpteJdVxRygoQyXF2VRcBcROXb26jieLbG\n",
              "ZZL7bYDInWU/aBlig5byh6OmM1uY0F/k+YuW7V/3Afh7MfU1zKlpBk/ia+0yvsNG0paAXL/2+lyg\n",
              "5H16u/iHSNiibi9OS/oVSrCtz1u3Fjjx/DRssUQjlXyk2mPCkOco3TcuCK+aFW6qk2MSpP+jNMo5\n",
              "sZKJ2I6rUEEy64bBk5of8zXEk1WpUTtEZzrHMx9LuZVJiAuTnFeifP1MaDmRHNY5bjo5RQ5WoLoO\n",
              "T2fVZRDED74cE+cSxBkwWrERjn2+OQ/0JS6qaJlo74hHnjAU3i7QR9U0dybhiycmpglNmgraT/3x\n",
              "pGQEeGI5pGpb2fnm4UHScgKR/KkgnlvTeMqg36V7fsBZMsa8aCSWiAtPT5rTgbrLdezbtuqxh5XV\n",
              "Hp5X+zJnCYAMyDjtG8+1VYhRGZ8pf7O++0oWcZD3zgAwsB0ZvEvwQFiZo1CDM/Znsx5S5uM8/8yR\n",
              "TQTxsRt+Df5lAjMTOn4HI1lBT4z+/U3BLiJ34nO2Gy7rUGLXPEAl8Tn4QA43HcMXnlthbVk2/2dE\n",
              "2ZCy2DsVvPwsiSthVaW9boAfmGlnvCUnaLQCpj5xWy5jJxSr++pJf2neywQ7QwFvCYFJPlyzwq6A\n",
              "gmrPP2F9DGgH6hwHX8+CKlHHms5wKYKpuUad11ze0GmRwJ1xCom4PeUsfhEeOqUAL2lJU+BQKrJi\n",
              "+UN3ja5xsXDU0/3969/d/iOoXzYQXl2TY+TcYXxvVXBEvDVBRdj0mhsfsqRtmP4gLggzCUUHBsgL\n",
              "bE59KsduXn4BfPyKxXiY2w1C/nfL9xcLx8xcP6MynTnTVS0mgmuO95qQ8WNqsG2xVqHvJGry7+F3\n",
              "w3LzMF4I9G+xQ+ycKrn0SiXhRFgdN9xQDKNWaTtL2wzbK/sZjNNnis2LS26b1WLItLivJbGvCDYV\n",
              "Mgv2y7pxrXOIHY0ICpxfebRH9hqcA2IzVBvDga7EUjOGLdKDH88ITTDRjF6dHnQc//OzhldysSrC\n",
              "ar32bV4xwvsEq5/L7MG+A8faGJGi8qaUZz61ADVR0f/C/YxtDZ1aVrgDx2KaABNsZN5p5Cg3CuWe\n",
              "zhUyH6FFE6GpnlJys9wr9RNrRK1P8dV2M3VCr4sKlanNrUjZO9qD80Rh5K378Jip/pGv2kbbGO10\n",
              "HhXPXA5VT6xjIEB9y+CFuTG1ZGU9Z6Cv+D7x2ybVJaH0v+tueOm/9ZExz9wgXS/eEkzBpmeYz0vZ\n",
              "Hq6rmzq3m1x5WgBqYARwNWnKIx+Ul/zTIYqQEVJ4DSaXcVOpemmnBVQncN6k7p/7fupg5cToAzwy\n",
              "tYx6hXiSh90bZFzV+UBKYTsU6wgCPMQTw9aYUpYWJNGh1/IbnPfLl8uBm0agST13Z1qbDcBpvqew\n",
              "dKDdVgTxrcpgwcgV+JMFV32Y7VPb2kq7zWyP5fhyRPUuMcJI9AsaThFrEBxqkj4xPxT3IHKg/+va\n",
              "qxQX+vQnslOm3XTI7m8HwNg64DWtV1Fjk3CjgQePAAVgtwAAEzEAAAMvQZohbEEP/qpVACcNvqAT\n",
              "D1rJeq/CAMZ8bDqHBJIabmzjvXet/jJe4BUFnei2TrlEsYejqSyl8OXRWT07uoiS3ELdA+2zArvL\n",
              "4C1fk6zNFT1W1cuHYA5yqhTiZSiYVHJW5p2bH76y41zAJGWqpOhHHd6lKn/GPl4Iwxt4r5DLy5TO\n",
              "+Cc3Kx7Fj+9YITTQFdXqbMwaaKFosqt1HXIhicfTmtg55ii08yCK7btytm+2COB+gVCuBJdTib9h\n",
              "tU3vxwELUpe2hIfCigMCqPltLstlB9HX/zJ6k8FptMt0/i3zN3ehwPbvrdH1TUzLBj0qZ5SV02J+\n",
              "gkSezPPDO0XRf7mKq9uPuG1dEHznhAtK9UchqYr2qgfEVbxrxkpisd1NKfm/ASwbuwlDb6ph8lsj\n",
              "qk4qVtzVixe6yUN4hN95ZCyxlRi5ULcJuT6J50/85ZWtYnF7fj7F6usDtVu6o69jDB5kB2/Tknnj\n",
              "nvyZBE1E58WLodRFDOUYy7Ag/ecEewBvOjgCKw5sph8wtgJPYysnWE4T6o/gd72ANvxUQQudmNBx\n",
              "p75i430R/NvRcsbPIBUPDJUA6iDQd8bJgAJj0FwA9iGAECFrfK12+RbmAW5Zmlij9LhG9JKLqyBq\n",
              "SH57DDUUTz15+8J21gU9cnbVAmlqXpe5cwNagIxBza7BQvfkTemACl5Ey//8pgwKuKunfGjpX0ci\n",
              "WQiFRxOcGygb1S4RPfEBQiLOw3pP6aJRL1X5bewHklDsd8yu2hg/G8ca/ZnVm0Vhz4flPMaqFx4z\n",
              "p0Cwf3+GKLLyluqWQtZnzO6mfcbrBI1C0wpsPHgKvPWM5QfWTlyQvACYcUExlKrfyEUGjARlK2Ao\n",
              "XTjfqD8x9cSAIWhWiP/0mTCOLvr3rLcyWS2tmngh5ViODuAf8xcjrRuUriNp/qWoT7ggRP4Z+GTw\n",
              "J6pWit/RLNn+IXq2zli6exicWVmROXjnyLzu3LEOBcxfwgaK899CSgRjWA+yi+dLETxRfdUvfzK1\n",
              "urIkIhvcQSqz7K+Rlk1LteVktsmUlo3AWXW9Rzj3a9Vlb0TjbARlVxX48WX1jX68eMLCO2ioh9oH\n",
              "HRAAAAKlQZpDPCGTKYQR//61KoAFb6koeTgrUOoI6sG3o3/6BO+DQFErSGjLcDpPR8bO65bpl4oA\n",
              "6fCTpIWaP+Y+4uvrOSBCRIisEA4xEBgVOHPha7KuZkk6hfvVC0l9+juTQ2GNEjBZ+kGayMShRuq5\n",
              "OWW8qP6nu3lmqGtZOv8eG9err+oDROFLg5dQ1H+cJkGjhTnCUH2FsrKDAnkQnZ1YlJ2fjNckQajj\n",
              "s0rvtpIjaO410fcBVOEZdD11F8Vszurz6i572UxGFJJSW4Gxtf+RdBbo081w7xpfPPKCK31wozwt\n",
              "tOJvC8HQfjjS8FyGAok8Q04fqUu0RfrXYkhJpmJpiujoOZTs+BBmfwQ8MMAuAw/NqLJxDM4Lv56E\n",
              "W07yFzUGoHVg12yK6YeKO5Z5MIrto/NYXj9aVehw+nvxD/3Y7LMwmSz3nrsQ5dPQvNGeFw32lV8b\n",
              "duYQnv3hX5V91obzxRTngZOsKDpqsvefMKKOonTk0Zz47BINzdkR3lwJCMhvHFuVtmHPK+lkF6LB\n",
              "xOYeesfNnY3PkY5gbZnDCOZBR3dihYuGT5XD63PttYNQNPtSUKUvuAkNlRBL8xiA+DVVRerGYhqh\n",
              "Pq+J/Vj+o7q59E1jDTt6vU0VLm+6EJzuejK18Sk7ADwNfhiNNuHd7LqX9Lm16q1dBdyHkUjT0pQR\n",
              "lQXORzWfBkSYxiWYRmP7a5vATBaIBJvrkAV2l5nNGRFU6Brr+fPYDuFWbR+iVilhozJxbyoCxW1c\n",
              "uq90gjWQXczdwJl9zU2s1dGWeoN5g/bydiow4S/pq8kK44PEnVAs5y3YwgAljT/tF1WZMoZTTmqC\n",
              "8MqFxrkXSyAKmDobAgfoFVHMecwTGUjNKsHK8Zr2n85/hRgJUv5GtriC/xuuQBJ8UZXnrjeSt38A\n",
              "AAICAZ5iakN/ABsABQ1nQgX4ku2QyQEP626sM6bAUlfNGp117YJQAIg4iDoLk/hF7WngBGVwNfDK\n",
              "df5vUynpIIQqygretpYrNAF7ipRgoRHHektwmbmpRkO7Q+FJeFpjp18HFob+GNuTOZzlKpFofyX6\n",
              "/QIviO8pI8msu0z8WJjYvvjhX60kn7SibzI+oUXy8nK82fozzJVHajASytuVn12kuJgc8Xzz8kiU\n",
              "mgCOLY5rabfa29zr8N/efdyktol+Al4N8JNVae9Lw1uDrb9nYERZjKlIkFMEoceZ0VFao95Bx6Jh\n",
              "zSHFnGC486oQ5SR40lcJ1msDJtJIM7EXJSMk/BKSiP1f03jX9z1dCQcH6ZBLBdeCmsyNV7RhmiHG\n",
              "/440gk6BhmNA0LXJ/VvY8xppRdZAtQPQCBOnt10IJwP5C2w3j4MYZct/DMoqKC2r0jIwUdgk76xS\n",
              "2yAl57I148O/EESL547bXIP/JUZ0LVDfsSTLmz1ITnIyfTCRN4s6Vx8UFB2wma4FD9l6wn1Zyx31\n",
              "aBQ5/8WKxLdvxLXTncZukGKrydcWqKERGexTjyNkqTmByBI6BABIbaw/IVW3K4DIcE7tRBX3g1de\n",
              "NkAMs2WLqA7Gld0vYDLfdCYBDOPXKaixTK922c33JPXw8e6SDKgqg4TyWVou7OBgzbfa7T3Cem0l\n",
              "zCs8WAAAAn1BmmVJ4Q8mUwU8Ef/+tSqAAbSYdFH2bsy61pcBzYeCrYCjwmAem0egG7iAJoDf6zqo\n",
              "uP/3XOb0LF4fN4SUfg9ghK4IWebNNLNe3C++OCt0EP0DgkkMOx93wlCvBuRUWU/Dn8GIa8CbQfSN\n",
              "2KLasr0OsUIVHa43OZFiH/7EQvPOKACrLrB1kEm17dT2Vkt18t/QOQCPS9xCq5wmpSuYFCExrdVk\n",
              "p+YA9Kb7V5WC7LI9e9u9Z7oshoyXvvuLWUvpQV3ByNYeaaEzWjZhej026cCutkaeQVlERYvNwMb9\n",
              "Kox5CIljoy61hIkNqdq6gfj2uEPuulBtZBkNjyOhxpoESG9MzjCT0jtYRQTMi+btOjYL7HnzhOu8\n",
              "09QCz2aytAllVAFLmD9bhdtkBbrEZEiCOqUmK2pa6+P/FtgHdGbNzWBoN5l+BBgkhcad9Nzw6TBQ\n",
              "Fx9LyXhyX7ETJl3KlTMKtZH/atOoRqlwlbYv7Za4hsnsCb2UR8vNxa1wUnqN8Pgxg9M2N+zr/SYc\n",
              "DF7vLkaqOIsClp0qZnsZvyZ7iebuawy7Yr/vtxer1QD4IkysjQmMTcgAFBmpjt6wOwCNql1S1g5M\n",
              "Gcbu7p1zy9n79kD7XDB5Nu8YwzMR4L4yr6haC3mScxzCQ4FWvyyc+SpSoPwwKNlZx6+wqZ6mqMJN\n",
              "Rj3me+5i3NOYH4W/tzt/15eS2WCpXdFmN2s9U6Hc5NmLXFgxovFM05lW1lFUA0SbM1IVKzwZcK7Y\n",
              "YNKNMMktqIq/evC2iZJvdD13lVH4rqLH7pCzVcpfQsz1W8CSkKSQLQshI94w18p6BijakuDisVhg\n",
              "0KR06jEv9dpMNTLI7/2+eJuBAAAB6gGehGpDfwAGmAFDWdiJF5Hy2oYmr4BEefcNDc9AmpBgAN7B\n",
              "l1kzwu6BYVR0wAJKA0+gqvLNmiNHmvjqy/HkJ21zlzVPp2NkFb7NIcnCy4y8YPVJs53NrMJfehr4\n",
              "nLLqvQZbhhQQVX1JO3g4SBwrssB9c+upFBXgaZG02HivrY6nXx2H1GgfVTiP8dfrGclEWaXA7OKF\n",
              "K9HncK514kVsTaheyFaaeD+AV9MqDdieH4WoSzdhOr3ciXY/OwmqfQUcROpXx2WxPBudaQ4yMrZD\n",
              "QKSeMr4RVNZr9ao1jX2kqanuWqGol9sK6s9AoKlrSzMO9kLk8dDF6IFdfzp2sr68HyplIfFubggv\n",
              "8zV4XGiQup6As5oQwsF9t1WQ2FMR28tSdlERg+8UwqZ9VFgM7BlzDwx5sa+gvgmzYEA8GUEXG5nw\n",
              "htBvLENDf5ISFruZyUThXUtzHIFsHxfRD0Dp+ZfBJEZXqD+pk9rPuzsBeoMyiQEi6H80LRBbnT1f\n",
              "+PJHyGxUxC9XkOkFb3IEE208D5MD+dPQ4Mb6j1/sK80RUgb4y6UlilzS7MZaBlC4uiNGw2l7gy3/\n",
              "mRZMCxxoX4li77jjhxDgs8bXPokdeoC2eEn4k+l8NjbR1cFzD8DP2ezbzHcEN0cbus08AN8QCgkA\n",
              "AANBQZqJSeEPJlMCCP/+tSqAAJw4KFwCIAkB+JX7JzB+i++3tPsxz9GMpXZ2XS0m5o4OL/Lbw2yu\n",
              "zfO2z68BTxTgk5xroEUQAdi+PNEdt2LYtCuVDM1AVLDZsGbJ9TQmgdrBDZzxjgctQ+r7iEU2whX/\n",
              "0QAW+X4clFIaPYrSxzYk0aN33xPg9jyeoR64SEV/qhWUuo8cPwDc/kVradg55386DfkmDFWHn+oh\n",
              "v+llIcr+Zyxk9TwcvDhFjmLIc/VYyM3CFGX7McJgUZiK5mDoDYM61wkj+rZMFHTcdOg+VHZa70Cj\n",
              "7Gl63Lk+qQNlaM4lIQXs1M7NKkEJO4gUvTuUu/fO/VCMmOd0u+1M0BhjSY6tChyRLJumZBNFx8Lw\n",
              "pF/mkUFY5A2dHSUgte22flDweB9DCZxWhQ7bBItHVM57kByPnMPc/DfGoqk3H4cjS4mfQ7Qnc3Ch\n",
              "WXUPyuLxg4KUF6xZMNCxlsKGn/OfIb41ezYzsWnr7ySLrKKF8lnPpdptnCYg6xgApC1Gw3U4kGKa\n",
              "zN+NyZYg7DCaDerlh5sQJLoquEJqzvEhUR0ZCxiMpTW19FEdQ2RaQbrNLubA3/RXFz/3mQUJtORV\n",
              "BiLit/SAuAVAFAO1BtWNU8rsua+MYXiQLpysbXm6/q6P5PT7/qOaImRfzJCWsUIe0hW+EmdPHVNC\n",
              "Gg5e709LSCghVuGfbXi2ZKa4s4HgyJvbFmmaG7P32/b73xdybCOrsjJxErf0EAlrRGYa1xciKNSd\n",
              "dMUY7aTvP3DghqKfuV5I2q8uDbQuH3ee6KP08f1tdXBH9nVNCq//6Zm23tNx0BXBh6bq2bqHmSP8\n",
              "xrIYBLxOzhilVGC6k0ZteXRRnf3mVmjpGNDNHHF9AvJhZXZT6k2LKpnhImIOgW6iq63D8SqeQP45\n",
              "vZSyySp87b7qmPWOX3/yNFY8evQrXJRt+zl/8HAtYZEvh39f6sBnhGPATlxWbvAEwVYP/y+/Iij3\n",
              "XSBJ/dR8JMo74Vu2eiVAyHkCpkYhPJ14Eds2LDh8+eo4Up19k4xNWoRJUF5kVW/VGKl3I6klWdY6\n",
              "E7hiLSMsT7oSDeRNibaISpS3j+yXi2iA73WduxsCzjDntqVQLaEAAAEwQZ6nRRE8O/8ABrtrwmMR\n",
              "IRSrSVPw2U9SSA+QATqJwMTtRfXHrWZIADQ1uKeGtjR2DOn0L8dC5br2zIEvfP7FTEJpxB8iSrHV\n",
              "nqPMkvUTXhtE42FUBxirSAPpb+TejrIufBWFJw+j6g8lVmqhbkDenX1fjcGD8qr6h5rS/3BHqEqM\n",
              "PIPB49Oq6kpbhqNbEdGN1jq75g6J1tU+VcS2BfKJ4yIzg+6JdQs0pW2yq2VXtELCgTu8gMuFK+om\n",
              "bDSuEPte0aaltYW8nArgyQUqcDqTlDlZFkC+oKinmmz68XyeR9lcxipcQnxTexOz/IjqxmZjsE0Z\n",
              "C0vyP3h4+cpFEOsSznGrw7vZgYPqga0L4e51dHzE6ZaGaRt/+LVlGccMtx0Y3eifDKMGdf5lJulN\n",
              "SqCigQAAAesBnsZ0Q38ACavsrKtr6D7ewryy+rKESZAt46X765yZEAlbR5ewnK7PYyDamfgR/6og\n",
              "fArutumAUhiRAK7u5an3CQ0+2JhMe7BMmvIOZGf3Wul5HnQY2lqVv5XRNqDBXAtPM3t2Ru/dK+hS\n",
              "UUESokVrL+UEt462t6Bs1aV/TNeCY5PrktWIOylF9pgtm9xHnBcNL+s5ODVLsXgANLl40uhK+sBT\n",
              "wwA3x9gONSL8m3a2DRaq+nxkZpYCK2Y/+tKt1pRqhR3EIdbgGWPfuMYYdLPLqCqNCYokYzQ/hhVY\n",
              "WN88mfRmZSbM51/kWOWCqC363MloPx0oRGHRbKom4VxwZTPxj1U6UP+bkWUyJQtPWlwbLE9rfi4K\n",
              "HfZRwjug+a/E1roknSDnFW+TOdgH0gzgpWbgm3udDh44b/401NbYr26U1j1IjgAVejILt3po+bdO\n",
              "RBpx4UQyEX4T/mWxE7NlKXYi4az4kn//TQIDTxoNNdctoA8DsGO9NJxcX3W6rwmHnfl6BbnTVR/I\n",
              "LbaEEZm42CGjkcWjQlDMW8sjjQqPXrGVaCZaqV9VU6yJVm1voir/kiQXRYSWRIoqb3rU2HBk92lr\n",
              "RonVYXfjt75ZvavlUccZDyznBeEVFkJfArUHzDrfhZn6AaSknUIFWHAQ8AAAAXABnshqQ38ACa17\n",
              "Fwdw9+YXnm7581kIAE7fCe3dJvOpj3tGcktItKvghuWTl312PwoTjGM+c8uY10tzAGlH0ZIjRtZi\n",
              "xnZ+ju2+lMIwdzkUqwNItY+OqHkqEapUdAEpoHQQtBl0WepQd+sAmrGa/cHDQlKebIwidR/aI4nv\n",
              "LJQf/+QmPNpENypOx0r/NIevHInNUgP6FMA0FLj52FpcpRXGY+xHrz+PmPxO6zpdBN1krqrfvO1z\n",
              "jQZRJWi3fiqQNdshPjBzN6smhIgfHA1jSGcNQ/CKxCVsjKG0EMkuR4lPFsrUWiZ+MxGQZb0Tjz+c\n",
              "dX83vBKatZRDEsV0qmg0CUhUJ4bsuf+20nUlhhalvAL1pCeSVQ5ikbaSku7xmm6AIQGSbc4jDmBY\n",
              "YTv7Ka0YrN6frRBVmBBPu/50tirL5yhYmIMX1TSsdXyHKzkIVP9Gy3Y6qxca/XkJG2RngRjlHaj3\n",
              "o5baw+e2eZF0X05Z4QB6QAAAAkVBms1JqEFomUwII//+tSqAAGy1mYG7NPWPQiSqizoEVUEohihF\n",
              "THR5vwfzedJ0uC4b0o3y8xecqFuPosRMRPvOppliJrsupkbBNrRKdBWhBX4Vkg5PK+4HfBw2lb0Q\n",
              "/hsgUYdiGARKVfPBMUmRMQRf0xX/2LMVdVAXwUVZe0V2eY3OkfS3QIAQBn2sIs6tQCsOZSqMsIVj\n",
              "4VtLcojfhaawf2GsVUQPL1U2MEA9vfK6aoGC7KlY+BdkAK/bYa7nnLu2hHB29EglGFeZEHbMu37d\n",
              "jyFw4E2jNtpnIRtXcE6yQp1l94HBMOU50rcecovEYpfXJdi9VauFzywk/o0nwjxQz8EtFZL6fCQt\n",
              "6sTaTK+QObj8/sYzPG3eRcyWl4qB6JN7UCR8MR0kuDLy6QV2c1tsgjrIuNDWABzolT7usMpOvyXC\n",
              "S2WWAPXMWyU42aKnJWBuvorHNLFaZ+hLSMPkVqDF2MZXqY9tBdvs8vNAja5A6B/7khpvsDj7gQFG\n",
              "Nk+GYNCa6P2c/4Oi1FMDD91mnSXrEGhgpxBnGjhUf6ewxjp7dvf0rJ7SuN/doQFBxwrWZq+bJdmk\n",
              "4oodAtWux8TMflQynVtuAdnto0AFxdkbQFZ0bvkQ48vnPf0mS18U3ls2LDKzpInZzWySlNBNbByu\n",
              "1gWhIObZo3xTF6J8Odj2zRyPC97/b0ZWSDzPnBE3cF/YvNlOf/s1C01xdS8eqLQ29DMw1FH8A89x\n",
              "JuDObfVKDs88t4zfaplzPHCDE/93YPpVrTls9Y0XEQAAAJNBnutFESw7/wAGzJAEa51Emp2sqTx+\n",
              "5mQARePJU8vu/VKEi78Ugr1Ye6y38SrSrgi9yQ1bYVEqVxQA6SE8osGbxhatzTAFUTkpPnIcBnyb\n",
              "CtSO5uoHGqB8iEvwNJpJAq6BoqlcrAaxM7Vj3xYhRi1+AvotCqaAjiyQCn4QUaj/dt7wL4DpS2Pe\n",
              "MhbDvgUQGqZYIWAAAAEFAZ8KdEN/AAmr7KFFn7vB9fWcgBM4s00vXGxf2DxX4yhDKyUgDWJDyX9h\n",
              "ygmbaAJ3IUULGDhccqvHM91F8hRfOUocOjyfBlRKKR1Nj+KeL/aa31Ra8w1IuweQEzs1g9ccUggY\n",
              "byMHdIi8Zdnuhj0VOavS694pjlOCJKUogng6YJZBYfJPwPnEKCEffq8E6yNw6Rt9jvwcwOKmVr3X\n",
              "cfssahFD3wdfP8wuIkYw1RkLMqNY6WRIsysBvu/kVQ46D4X/DAs/XEPSLXZsfk54HXJP3HkcThDh\n",
              "duCs62skIxVfeAk95uAK/OxndqhvBKgori8JkOf2rxUjhPMQCc1CSqVK92UywEXAAAAAsAGfDGpD\n",
              "fwAJrXsQ0YrAQh+AATCpnc2qO2ONXPOrSfXdNGEAy9zOeZx8BriCDnAUPWwMUQS1Hl6kkkClQSjj\n",
              "ZDl36cMpBlzi6VGk2T0IdSaukNJZrnd1qkTM2NkARTIllcqK0OcZ8e4PCGGmYw0C1HI3X8k2nTrA\n",
              "WVy88F0zM4c1OE3t8XkT9ld5fzA8fMLPRCx7rCFAgE877aLSH4Rg841cK+OO4z3YMLW9MZlMsBFx\n",
              "AAABmEGbEUmoQWyZTAgh//6qVQAA2VjQlcAIxKHGQ+f+EVUozTsneOnt3tKBCLdoOQz74ScrRraT\n",
              "viblzrBzB7CQ2jrhwwb5X2G/45KGTl+MrsT0cJeDmwxlw1tQAe/O/Idw2Md4TK0TiwBXWrZQM2lC\n",
              "DyNCGuU8BM1sLxJqEivfqT3zM+/ijAJs7tCMQfcWXEX0fGv1Uq8PQv4w9KdzzPZ1OEXJTeF50iK3\n",
              "nll1+geHxDbPBimDesDlSJagQPWpkjly4TMPChxRNJfkiplwOPy62pk0WwixN8naxCVEuA7GNbi9\n",
              "eyolY9MtJZYdlmlYKkivevu38yvPdLuvN393XxYPtZlBziQB68q5jGjLHT8FF3patEkSgtbO2XrH\n",
              "sqPbdtclfVtU/dPiy2BQD7H55wS5qy9HHxsp26IO2w1BSwbBhZkGK/kEiJqSRfGJV2z7bWNvYyaP\n",
              "eoJ0Q+WAvXhbBuzuz/MGRmPDheIqAas5qbrIH1yvOQ76xBbMtMpzZ8YGuOqq13myjnmlDy9LWytj\n",
              "/ap8b2was3aCCjbDmQAAAGpBny9FFSw7/wAGzJAFVzcKCsPQA57rA2QnEOTx9fU2pv+8fZFjt9Ed\n",
              "1VCIsIIJjWNhqQGVY/aUO0E36emIjJ19PtdAk57pafYFg9hwGa/6ura1DnCqNe5i6oX2hZ5E3bw1\n",
              "pzKSmWgzK4pBAAAAZAGfTnRDfwAJq+ynDDCbuihI7zT2ZGzA1EgBa1IuX4Op2OtsAkHBdANiQwY/\n",
              "arsnUlYLNJgmtcidtXjGSufXW2muyVP8jczhjRawce48zfqw5ouoo+ghbBeH6NhgrnRalUGl5pgA\n",
              "AABRAZ9QakN/AAmtexcD/mCrcANwuXZToNMQM3SfAfbyuES4NqzGWS9KSAtUWVGb1AhZGgxSx/W6\n",
              "3d7udAhwfDVQVxIbqUoHKqiIX0T/aplkt5huAAABb0GbU0moQWyZTBRMEP/+qlUAAZ6j/DABQsey\n",
              "7uboNq9+5jY+jb0MnyySPoaljY3zTBncsR9p+YntjMxrITq8W0FVEwkSaQEEaQBLNRQGWRhYlo2t\n",
              "2GPQyRMzzGGgRYAKupbE8x3U/eduNwkfpGj1pLAMdFHu3uUAiKdxN/WIU6XLxueGnbMRc5B1phIY\n",
              "tD222AzCYo3qvvNKtur+qeJ4IFh7e+N5hI8AYh1DowUprqvhARwxzyftPFKJKQg7En9XjxzXnam7\n",
              "96AkV4hodtQkzvCp52O2jOPIm7jFpULqaD6j6KUfpcleio34PgaiX6TkVgcrlWJ68Qi8EkNLCNSR\n",
              "mlodj+2N+2qlk7/BAo+l7xAfy5wX6AkvCCb5zj7XE/9Kek3nauUdAqauEOjaRjtrK+ZxP018PolA\n",
              "NPbwfbLlcmFOBm+o+6J+ZxumdnS5DMLgOUKi4mz+acxam047C2/ZEN2qgapfui68n1Ox0UrrsosA\n",
              "AABIAZ9yakN/AAmuRlW+zauwTr8D6ABc3vU5tS6du/H41woLLWcDUdAKf8deWcFdv5MGDKLDZFVw\n",
              "bMBtrpg/CcMBh0E1UOCAYfOPAAABVEGbdUnhClJlMFLBD/6qVQABnp+qAEyuxuF9QLhh0de7zhnT\n",
              "Ef7IdHbHHR84zIHOf15GDkv+3Dfzy18RzeERxlkVvSKSmLVvDFMj9+d2SOPbfND16fCV9kz2wOj5\n",
              "rvoX7YodDGyuvdDKjF5gbVMTXQpgNPKtb/hjocVRvmQBLac4ruCy8bb5Ur3RVMPUg588m8oKtlLZ\n",
              "0i7jS2Yf9psWtEq0RtBa1tJqOrp//vRxrSMFhls50cAn8E8uWko8nHjF4FI1Hx8VhyHrgz6fUxOB\n",
              "4WCygOWhRY3dRtb7fDk0Ii/Oki5qYlZpBjiWgr2xJZ2nEf+HOVAChJ0UwPlDBT4ntzTLi0A5pa4u\n",
              "Ot183oJ2QbkjEAwvR8/4lyM244NLWJUnn/B/0yc1bsDh1m4yD1ei5lFcDAwLvqXPGfiNIspmgaBx\n",
              "GvO7UbOSqaSUebgoag/yZt8Uc9wAAAA7AZ+UakN/AAJaDc5ftdAAuYt1crGwqwvE0dXVA24BQYwy\n",
              "pXfDNYcMz6q1M//QbTQ5kFKy569riHMiuc8AAAFbQZuXSeEOiZTBRMEf/rUqgACINuIBEkehGv7a\n",
              "qYL4MjW6q6WCCR3kKl8ATSAmhy+EOYW2/Wxfo+7HzWuADaowLa3kU1wF+IUqHdRBWDx0ja8V5wRL\n",
              "3/G9WQ5xmzwI603eM8Oe/Vxly3ongDedEM9vK7RIJIduNE/vJfGaQ88eXHxW/kydA43S0XqEY+94\n",
              "3YOjuW0Mo9Zek+IPissxLrspyXSvTH0bU2Kz4iPwjWTuce3guSSa07ULdnv0Fy+Z2pVpT7piiL/X\n",
              "Bg5RjUj8y4jcugj5zF2mflbS73JZYwZIUrhPvVX5M0We9sb5bwQN1UK65wrBUHxiKR3uAqd6J4DP\n",
              "B7eKrObe/ApJZ1MP+n5E+bEb12aoknABI+OnyrVrs/sObY1ChzIWNOnNE0m6/W7RO/NAjkdrUWin\n",
              "71Jr6k+U2H9R06TG4KebbW5tqjCLOqzMk17D9Sn92RPqBugAAAA4AZ+2akN/AAJaDaCW9fgAFzEa\n",
              "2wUwZlGFe3maHsyh3Cw9NTDhkHZT4OpdpYfVTEtc3Pv0otBWN6EAAAIpQZu7SeEPJlMCCH/+qlUA\n",
              "LH8UIwzl1qgW0XMif+/ig6sq8xud0xy/c8PlA9keJ3RXigA2N8NwOVVS7pgu0lppr35MyH+VnNRl\n",
              "rsETtisewqOk4Uxu+U9W0MwG082ZbyDwjXPKm1T6GnDPkmllqj8F1q30XU5JbsGsNpt/JMLYxI/5\n",
              "fVN8HCl/zymJKi9baocbLwbKLrLnAHrt0FfMk4rljO64qEY/ZJmCJC9qQtsFgsaGruSENedRaX5J\n",
              "QTa0sD3hvZ2NTZYURNkpT7Fr/xo2MA76BFxvyYowac9tQWfaeB7QTeI8JP7MKr+B7gYRyZboni6E\n",
              "/oDTTo+quZDW/B6ywMDv3in11uHKT/mQknQA0JZhzmxIwN5xFFcdKdduuKA7uRoA+Md5I+Osg4XH\n",
              "9nWGn3aB14G1T1XJrTjovtNzFMRDLwwp04IPLvZo/jyichrXdL/MJrlniKyXr94wyb79NYDy6dqS\n",
              "a+pJhP9jiW4SHoTwjdxHz2xZXJNHd3Rt563Qc+cPWN2ftU8nK/nAJbIKjx2VbuND9kao31zc+kcM\n",
              "QmFzbK4YW9j73hYqDvqn7kJeY0A0zK9whZR4QCf8vLXyGtCAgcNiyM6KGU+d+yKaoKFMgv2B41QQ\n",
              "avF/ZOyzHfRIG/IL91P8EUtYiyFqBirflAsMrqxVRUfa4ehQjEAbOV9LDbflwqFLHddt1z5E3hGR\n",
              "fin2t6sJwSB2l3ZpK/fNiUwd5BBqXUiggQAAAIBBn9lFETw7/wAGu2vB3PPjC5ARmroAVtbtzHKP\n",
              "vZUyjhnVolWig6flVgKgedrewmajZbQDjHcJzXIslayJcUwXT0bv8LCDX43/zljILNwFbpJV6Fo2\n",
              "t0gcq2fMmSMzapMWihA6I0OhPg12UwrT7SzLFNfNrPoQmBsYqpmRqukbMAAAAEIBn/h0Q38ACavs\n",
              "p4m4AFoh1Cf6ABcFZGonN8kM1DuQs40MP7B4OvOG9sGvch9XDmPZ2XqBG2OScDeoPrHUdljmj5sA\n",
              "AABQAZ/6akN/AAmtexbHm88htUgBWTy6xC/9WARam4aENRhoGJllE01ZyAgb8uvr76jGh5T1BMy0\n",
              "PTZUTs3u/5hnX1Xd/E3LYk9bojbxA9GYv8oAAAI0QZv/SahBaJlMCH///qmWAFS574Th2LLFniRd\n",
              "bn24d1o+vU9uVO37yM9/Oq9Xn06cNCvwwxGeNGMa//sHK5F4cOvqvZgCiApsWS+Jxl6jM3QKRhkY\n",
              "2qoT7iHwbMEATwsvoQcdMvsN2+KL2MGZ3Gg83I7QTRYVu4J8CBA1sIPH04H5I7Ack4ucFNbOYn3d\n",
              "R9mewryqTK5D0HYOGi7mSmsrJBOLBukYq/N5z0iINMfYlLu7lHV6e428c+eN7UMV3fteeq46qzd9\n",
              "1zUKWqTrVLoTWxPWhB/byCI+3x++TwDFrZQlRpk9DY+qc2J0SGOqaSlYjkPORMUloYeyBoBS64nh\n",
              "fi0XiEi+AdU6enKfyUxptRhXeu/QvNPYA21T1eNRWiUoBWHv5mUfugxmsoGN43aR37DilIy6OJA9\n",
              "+Vna5kRp14wQNhYl10PgoBZlLovk0KTBvcLJxpoQbSBOUsOPus5C8POdHICxhZFVn3qybsLo9B6Y\n",
              "FqHTCtYhASrjUCpIGX9lJU9Lln/DOhTrvy0mkQIu16YOb+mQLPZurBr0pniK++Pi93F/Tv8k0vUu\n",
              "/lPA+aZRwG9P9G62jmIpnfajq7+1GF3Qa6P2j9BWdKo0z7RRveqwbL+zti+9ldl5PB6YpUc2HjXE\n",
              "7LSmteUpJPTZyFUL7qwcPDmy5jEm5i+biljhoz8l/OOMTzkZsPfdOWkhnvO3/yy5sIeCglQ0H3/L\n",
              "oErsKMeeSDI/2aJUDaNM7DcS070reAr7AAAAfkGeHUURLDv/AAbMkAVWjqTZocLPQAkywtbKC2Cf\n",
              "ttjmuyKdRJDbKx83oYGhHYAW9/jqrH6bW8VStJbY9RFUduGFgylXT8mKrsoJWEc+5L41Ve+QQlYV\n",
              "zK7aUvTpw44gAlbMj/5lR6JI64tAL3/JcDr8CMW7W0XwT/lzu6mpIQAAAEUBnjx0Q38ACavspudy\n",
              "C6aD99CGpdfTEP5ATu7JWhTugMUgBaqHyVamIM3Cvw/Mh4NoO3UGL+H/bMxyE+MIbwBP5zn99tAA\n",
              "AABMAZ4+akN/AAmtexbHcGx2LHGaqaQAlb7x/B2jHapBGa3/hWHzHgo4uD8T0M1CBarn89yetG7Z\n",
              "6HHa22QZrTO3nHZ14kXZXfl4hCuAYAAAAUpBmiBJqEFsmUwIf//+qZYAVLnvhOMErvHVZH+7RM4k\n",
              "usDVIfMZbItUvsw8aoTHCud/gdkfdfgWwUzD5lrGvISN58ClD5Jgbz1CI5fNd1MjStcp3TQ4JAh+\n",
              "MybiNcBNhazXzH89bqTDnhJRhuIYUMJ5f7czfoT8nES+FDy1B8Q7Cyg/72qtbsqzwJofVzuECJ5u\n",
              "UEXQ8vaMR1DEUQY8gghfsRi3zUjWzMP3n85P++hc+UdLw2ookRci0MrbW//om5IGZDYMPkCor1ls\n",
              "mPQ0hsu3ZQFDTzwq6VJD8P6QN+eCgKQp+eoIfJwyxbMYU1e88hDpLVKU2EV4n8FLQpaA91U15W8i\n",
              "J8/txyHweh7h9Xr/sY1GXLMbZr9x5UsdhJhkvN26VrBY4a6Y+S5mJTiGAK+dHLkdNIdGaO1y/TUo\n",
              "immKkLVI4qgx2v90GoEAAAFAQZpBSeEKUmUwIf/+qZYABCDu+FFEN6aCo5ZAmEXg0+UzQDn2jAjA\n",
              "qJQvIsRrco+fUo3r6eSyMoR+UANe8PD/r2sXGyqdQvNxLO6wwy9k1A1TFDhB2Id2UPpOBU5i707t\n",
              "g2MoLWEb1dVZ2veVrcP31A7nZPVm2z7Y/e3K8gSfrToklXsAmqdEgHnml4eWHKxnC9MBeQiXw4wX\n",
              "LpUi5UOQ6NmVdn3kQ/dSvDihGm3nYzKo3iq/HhtV+EaJ3uwOVt3zzLGw50cVqcC430DZHJOkp0as\n",
              "6ttc8bjGT+KlVsOSwcOI/3Ie0wHDfKV8NrW0CXv32DHyKVfl/ZFPBbiUiYJ7ZZRz+zKEqOKle3Dl\n",
              "U0fvyvL1z9xjR5svopmiMMQYpQ8IvLPVWGflHChlTX0Tgw4vDoHrI2vNU8MZhGStLav+uB8AAAEm\n",
              "QZpiSeEOiZTAh//+qZYABCDu+CRLQTqlc4D4xN7vTFqefEeXGaAfPFQf6/y3aJWMhduzY3X+WhRX\n",
              "2gMMxyasA/RuozaqMxMz7G8WzzW7lagZjw9hJK7u6PLV5+ooOoPjXv6PlILvT3AgyRTyda4pnfqi\n",
              "2z1bF1C+BxgfIdc8FJHo44ZRJfyc/TOe/+oho8pU7GzgCKblNjrru0bUF8KpyRR8gDRHLU9uu0s0\n",
              "BeinNnaEO9BlEvk9Z+4MEyoduoX8V1sEFfUEBzWAmRx6/Df7KBtbinhGN9RBY07Y1dR2J2EWve9Q\n",
              "qV+gc63Q6ZCHuve1ZNomKfG9ABL9HW569QV1w8wvHkCQFJbbVi1V4d3F5osOcyceziO1WNZz2J9P\n",
              "diC+YkYE/uYjAAABRUGag0nhDyZTAgh//qpVAAG8lfOH3sYgRCyh9cvd+znXs8xhsGZu+5auuyJH\n",
              "5rEQNd4feU5da96KlD9Ian8z6fhHm1iGS56EnAcvSZ9Vjyin24SMwBQeWxtIzcqTmARpUurGsD2B\n",
              "40nufDS2mcId9y48m2SoQDwDhox4E8JsfyOUzcoEqwmjfV+cNtP8VfQh7Yra0C/ba94KCIjtJtdA\n",
              "gKYqgmf6TyAusQJfe786PcoUdUP73Lk1qh3inuRA0ZNi1AOSi4fbgqYu0GO3f+IpMbWiX49XwS+A\n",
              "Y8FOY8JyIJ1qhreIKrFne690V09sNTn/Jp80pqxt7VUZ9lPWt/4678+uywOsJpl8H5UH3Ny5hO2J\n",
              "ghm1mRs6TTFde3A7f2FaPxMU+fDtDpMfXCne7wldD47Vq3jFqMYl8QddXJ3LAS0AyKGYN6AAAAEY\n",
              "QZqkSeEPJlMCCH/+qlUAAbyfqgQfOveqsWfDJWqSPkaDNkySKm0FGkdFHaNxGeOJpSn2NjzdjNIt\n",
              "6w+QnK2jCoWSytCmaJA08doJa5T4jZeXtKYNpP9RF7uUR9800E/JawGIOcf3DOj5VcM5jiv7uwcS\n",
              "v02q+Luq4yB3/CKmXixyqV4apkRs+lGhyYjDCtA4jYl9x9xc+CxZSBqNfU72TdQHDieA7kihGQpc\n",
              "3eM0P/9OLexxXNAmrSOSqIGUjZwb7ILjewZMYVnRzfPx2UGOmuQHA2xh/ogtLZjKPJeV5b3B6eKk\n",
              "TTkB1R2b5VlPNslxKtXwWPa/1kObDQ8lk02mb/i5zN/0MSKieZPhT5RGdxXUi3G1sHdsgQAAAcJB\n",
              "msZJ4Q8mUwURPBD//qpVAAG+9HQtqr6ESy5FfYuXoQN/1txUbZuzFEsrkjBerpGOwsQdzLCxH+yI\n",
              "hEBokuPwHvBeBIDZqjGAvotwaXYAB/y0Crxe7FXlVzfsUiUiD5nUgAez8HCsRUJ56wdIUycVqhwI\n",
              "5qJOzydLP15rF1OJAP/T8boISy0sFp6a2KlxQx1g7ikcIY/xO/toMr+P1NdF6JMG3SWLz1Ji2rvb\n",
              "opVuuc4HQuFTLvQLHFznsdGpcfA0Wh8aQwaXOClfxHsJr10oHRs5ImPTKjtq5fy326iYsHYm5ENW\n",
              "oc2o3M7QrjZifpRXxSeNIrKRiopUpa5zN+V5cfYPDVP+a+l7z9BjHEao0LODrDBQ52LvCNaBtD9t\n",
              "d33rWFQF0BXjKRP3UjjvwD2QloqxfppwA7J38GDTR3a1bDTfM7LHRT4xi91524w6KW0+7/wK34ZQ\n",
              "Xj8y4vcqxdhpRlhrt7rDV/w1DAmE/ENhWZXGjGTi5e6JWgt8v5KH5UDTv1cjaaGpkR4tMVSGr7ta\n",
              "dXJx3GDdetLqbKjiPQI1qxe6nx7dmRctoV1yd88aETdvTMODgRQrDJo1P30MJyGCKdkAAAAwAZ7l\n",
              "akN/AAJTQ8/XljwhvTj5Cncy4RUzwFV2Rra3pDyp9b3RyKEIvkopiYe155C9AAABekGa6EnhDyZT\n",
              "BTwQ//6qVQABsm0vfjPmwBCOjjyq6Zv6Yvntkvg9hBrjoCMe7P1atm72EFRGAQxqWOlpA5T9bjw6\n",
              "LJkO81Xrpli+BB4cAmLWgM1zBrYlP2gA2H+vedJpFYlLws95B8/PHSJD01i6sPI/ictwkYBEMRG3\n",
              "AL0VK3Tsx17wqSlEVVJJgaaVH07jeyqLCFafIkUw47ja+p22bmYJTmX1xyjTNLVvQvSs9l5eOWxX\n",
              "C2XiFwSXd0BPsQ49q71tFKO9E5Gb5MCQGK7lNiXgu6hScR+65lRT0R5Lj2E6KIFOsIOfTUKuw8dP\n",
              "tSq00xolkXRLq4K/SleiQNxvH1os9VvQN6TgzaZafNYudsiqhjfjXDqPFqs9w0d2jScXPvM2+VLy\n",
              "qHioEJwwB55xRUFhIQkjIutEdItPhAJ/Fm9eEy2l570p++uAr3R2MgkhJTaVP6nUGj3nfGjhBX+B\n",
              "gEPuyT/Bzf2GvBG+9IQ8SDEpg/95Gk00Yp01RwAAAEIBnwdqQ38ABLcjH8eeaEPoASmtBKAvWO5m\n",
              "0AhVoYsA7RfxD6+/v8Y7aN5sB5urhF0Qi76tXadI0VTqlzvPkC/iEPAAAAGFQZsJSeEPJlMCCP/+\n",
              "tSqAANlDKgNx0AHLRpeK4qtM0CBXBSG1SANiX1bt69S8rXrzRbY6IYol/lKy9y2MsxkVPhcWT76i\n",
              "za+7eCNjDNAqPRbk7grCDMu6tjCzIrz8342BtLoR53msSxbzKJrEfrdNSsyh8IJ1IGCf+hIs7Vf7\n",
              "799qKlhK8brxRc4dkyi7eNfXNBVHJn0uH02N3/6DpLqYiTh7xnpqhH5oq5GgLEawhW5geLZREkeQ\n",
              "iAPAzcw3BYnlXEABfJzbzaQ/jouqdGkhR9SXLGnU1oLP91okgDtCmN77cHkFNvC6lmFTqd4Mp7AE\n",
              "bNIepxbolAmafnO0co3/mQu010a21DVRZS+aPupOHUrgyVqBwKuibJwkOJw5z1XOfkR79tFdpiv3\n",
              "NvzT9j72xffDUqIuEJBwl8ZSGRHov9hIahOfoLIPobp3N7vwyda9I9cw8B6zZ0CE6vBmCNXcbnn5\n",
              "TEXQoSrdMqBfjlyM8xFYWSJwfWx5mhbFfi8Md65k5+1+gIAAAAJ+QZstSeEPJlMCCP/+tSqACuE1\n",
              "eh4WautI3OSJZiLqAfv7UgtAHNbddgTZHkB1jDzD8Zz3bkAr6UVrlZHs0Eijzanbn1pMf4VoM1w8\n",
              "Ow+3zMHispsO7D51f7tSQ6guzF4Vkr20kWrogaY8lKPYP/uBfUKsuvoyUqN/lK8QiQmx97Z/I9La\n",
              "i6uJwY+xbSFsKpXM/9SlG++qfKQBoWOXh6j+gaI94THykoft+D8IAFTosZOO7nggJ/yrlLzRhcMH\n",
              "EFecnQxzbr0MNMg9h3OmNQtxuJhMp0ys4O5qvJ8QlgUB+KHoYhcP0uaXr90FK9dt0vOEvj/mpoe2\n",
              "y72+QtIuj/W+I5ZexixOPX13HKZ/TUEWTPD5fHpbNDIcSM/4jmpaQxrsQB9XPsAELqyyXWsmBFxC\n",
              "6qijxX9f7igb5IFXeNcGwUspXueJgABMCEwbvUpniB5/MgkTbPPKf7FkM5AEeaPypmIITYFmwbl6\n",
              "KkaG4UXQgrE2hcZE94567lCdb5foKlz2oh+aehJU3g0r6FHB8Y8uao2iMh2kKstjPVYEQZ2Eu34u\n",
              "bpy7Ex8xB+H2OhKpdbj5MvXxQ62ypwyi9+qfC8ELtYPAULAS/XyMCXKHhqiCSh0jrck208796bR2\n",
              "sQisUkPDhZbKsdxwHLscz1E9BCCUVR2m14ynzROg4tM9eSxhDbTbCIef8AxN6uk2o1Rf4bdzkiye\n",
              "JDijTwg06V0yqOuSixkEmdEknZIOG5CuVns0gGYC7ZdvPn3bqkjY51OZqsC6AMoqP3n6kbZuXEUs\n",
              "EEa0httdb+TYKRQPzWekmXxZ3THTcvpgil2SmF2cr17a0WUzGE8OxW5EOdku8pFI/0EAAACHQZ9L\n",
              "RRE8O/8ABrtrw45tWmgaEUIG3DCsp/FPQA3PZlUVr8Pd/x6/2R8dPBlXtL5OAJdLu5IBTksfA7Zm\n",
              "vaH6NSqFxJBSC0vuv65VTnHit1iUzfboGBEwSeDP/OocCvUgPN90L1yvRjgBZ8sg5IW1IE+LZad8\n",
              "oOjZt2ceq1wV8fyfYMHMtgyoAAAAQgGfanRDfwAJq+y554zFD391cyuDvMUmfz2Ns8AW7cGuFoqv\n",
              "Qt3lqA+CQLm3BQAXCh8v6ab0NN6oyhWuTKbVj6wDpgAAAE8Bn2xqQ38ACa17KZPlYOhRbqAFtCXb\n",
              "gfmqGEDdo6B+4/aDaqUkXt6/OJH/6ar2Gf65s/3y3KZaXterdH9/MJenLvLHEzSR4So0OwZkoAbN\n",
              "AAACeEGbcUmoQWiZTAgj//61KoAA2j691foALSEqXD7+CS/6bVpBsiOrl1p8AHYUIr40CJrWjCiR\n",
              "5N4d7bMWzAYzasLjgZ1hFm7D9UxFW4JkP70GrzTBa7CezrS5Me5P0fjVKPfwxvAsL20srnTY8paY\n",
              "uHHxpkt0NR39NVpfa7aGlcgS9nEplr63gOIHK9Eej23wsCKJYpklMqTo4j0L2RVcI21i0PdXE0GH\n",
              "A6ZKgRAz/VpBFZywczxqImS2n/CMtFIzBW4kcRiTG+lyNzEkpZ0FzMVEwT4iyf1SwNHjWaAjt+O/\n",
              "vNlwF3N9cfQYE+1kqx1zATkII0rZeEFJyTP8R0LCHHuYstgf4fYr9IjPwpWrA0jjIvDl4x9fX6Hc\n",
              "aC05w55AsGnOhj3qpa5Ugb8W1eMQOsSVP8nq/kOTzD3cWiWJdo+nhtE7+ckN+SrEc9MI8LY74z1g\n",
              "bSmOyHv3y+c9ZKIffDxqmSt4xizu6clP8lUfzUFHGVAvBytDKkck67C5d2jW2J7jGD4sqNfXiWaD\n",
              "i+zwckTtZ90n6k6xYA2Pn8HryGy7XejB4VN/pyka2cQyJogSx4/Lsx/QfTZjhiNjt7pVo957Gpsr\n",
              "5DR+rQNfQGrLfnmdhqk5BjJ+zYt17j2s2AoqSA77awyTI84tl5l9YXRhkpIILjJsWxNl3BpVOdtz\n",
              "qwibdZGW1mXKh5+T95WywaJwp9rGDNFaR4uOlJzFVIkAEgcVapEWUNbq2kzhuhNBhmqpFLjzGtGQ\n",
              "lB8yWp0QbdJBOI3YTiDBPCxR3yAuKAaNIUkWFHWJmhT8yPgwJg5XnMIgA+bP2aoZsVYfJhCG1Imk\n",
              "Lb2Rbli3Mmg5AAAAl0Gfj0URLDv/AAbMkAgvQX/y5Vg/AAONL4YBbxCjZfdPZ8cr8mvD5bpb/WxS\n",
              "ky6b0wDEShqbON1DW2vDdK7+pbcxhen6Ahdec4B+by/AM7i2o/070FhC+7M+htJo2xHCsCfIzbqu\n",
              "41XrxWLqcKLyr871EqBj8+wZJ+Kp5DXi7vvRaULm/wTHSqYaMgqJoKaEEIFA+AA6FbEAAABCAZ+u\n",
              "dEN/AAmr7LmanzeYho4eCFwF+K5EHr6r26TgHtogqNcIqE8lFEAJZK/pxjR6OFzlGJKBa2bnY9Nu\n",
              "9BEv4EHAAAAASgGfsGpDfwAJrXsp68mpFIAWZB1dgwWn6xrozSQvGzz447rOcEdD/q6o7I2+LrSR\n",
              "qpT/+GtBcznIq0Rf4gTr8eouetyApFDQ4Az4AAACNkGbtEmoQWyZTAgj//61KoAA2T7ieazVlmaA\n",
              "C0e83rATL6Wj9S1k/TIOHpQKButwvE6LDnCPJ5vGh7dTgvCJnQPpcSpVNNa/5JWyzsNhpubh1cSt\n",
              "UkS47Az7X6xLydANQ88+9IRb2wm2G4MhC5a6R3hbR6dk0y35JY+IcLJtJ3+xVdmS//niE3ffd4d+\n",
              "Wl3fPa2Mraf5Cf/JRua29EMvoXyjhxgAboa478zSXV3zEsnZfaYuPuelo04HBwFtGgxRVi+uSFs8\n",
              "6DcuY3aAewL1cgEaH8M8rHzaUc9Knqzvu9TGQVZ9gDiYefilvZfOtj+l4jwRjHoyE1EDq3TslBgm\n",
              "e4Wz3oO+nOLtM+qqIwW/pGuXSUUuZpMPlUQJwRG1KpId+QpbSDef19azYCTghOLHDNXr2kp1XGv+\n",
              "lQ/e8qMSk0Jk/4qDqgZUMsrdzHnDTaNlJ/Kqs95f5uB5BBsyvGB4vK2XEJhNa+gaFYtcFCDqKqrO\n",
              "6ED3hA6PszYBmlakn9P+QzRsDRA1l8aFZyFmkbMIxIYCwJiNj54MTAKAzJhKupK+TX/cmrJeEY/J\n",
              "BBUkCpkHc29PojztxxQ7MFPP8R+TqvpdA6wqVLr20rfoCpEOKleE6AeFpLtS/D+6brTqs9gGKMyh\n",
              "s22uZUgGVRFY2VCjzG3vG0P16Iem0esx4pwEDI0U/jwNI84X9GDU7MPTpcsWYr1VpdSA8qzjvc2u\n",
              "mcJZP7Ud5uIk1H9FZzs0CuFbV/OPi6MyujSBAAAAc0Gf0kUVLDf/AAmuRlZTGWCbT9AA3BpeRW1I\n",
              "1oKD6MsBqfixZNwBcHdzwU/NbqnaigFAKU7IzWEc6lxo5Z456lSu/KUNAU2vrWa8lvBEBnHC4+GD\n",
              "khoQHjLWZcnWoPcxB2212juuqgjQjiSjNe7MKObg0IAAAABGAZ/zakN/AAmteymT5WIylx9Q12Kn\n",
              "6kr0WWpc+9JLIYFdExXU5M4AE4bbVWBn0GfbSR5p3b9uZN3bFBQiK8MoxOzwbdiygAAAAotBm/hJ\n",
              "qEFsmUwIIf/+qlUAAbJrgbova2bssYADcXk2rv9sgW9eBfPpOWkHg3FY+7Zl+mvrtFHnxR/Wtyeb\n",
              "c31o9+iHvKmEBRR2DdAoYn+t+p9mukKdOnl++D5eE/ZHGw+xt8KkrTbbTR2upV/cqbONRX2Vul94\n",
              "kS8715nfLx/51CJGdlF3hhriZ4Bu0nkihPx9noTcw5UBQGxVtq/zMRV+j6znCaWD9ki2Pn/1O7B3\n",
              "Negv+yZuDpBAQ/sIwnY+z5EUsfJXx3VN7b22Lch1g4emo/O67MAmZ+a/9n4Lx5ZY9WVs6OaN7fVT\n",
              "G0Xgjlfps7rv7dvMkfad6TrcZN2nxzWEiVFxKc2pdS65vr1CYbOXX06pMvHWwVSgt0mYLtIaA3qv\n",
              "2ntiARiR1sD8pIlEU7Fq5iqJdf0m6QWMDCxqIVuDytihnPJzkBywFkV/0CAGn6vVXzk9WZ5U2gmZ\n",
              "mrHQbLQ1BnXoJddPZEMeOtJe7BUIUnfXaXPsO03Lk93B4jZqnu4kGwafXlRX3UNd0uRL7Rmq1/eq\n",
              "vNl+lLOMr7zCUCwNoKJSTduFOksrQPvQ9171HtC/Q5csq3xIN+3QLpLY9twXdKp12cw07igxcjlV\n",
              "WP0u15F99kWkEl3bDWlX6oj5ocArDqINyH15NOFrs3rO2hop8IjB1IDE5HsJO1oCuomY0aItd07V\n",
              "sD3PslQvwYSrTkXlRLm1hoeMs1sBsdCGisrGoYDnb2jpjk6mRBy5S+7tSnwNdd3OAvtFmwxAy7VA\n",
              "8pUrGMqCM86PEW5sLnZ700Gy7qG+X1qM7ZWylgBM2/kqKUAol2NeRQs9oRLJ8vWL9Qv3f33u59no\n",
              "ZGsY2lJ6pFs/kjyUIbycRuNoX/0AAAC7QZ4WRRUsO/8ABsyQCD0dRus+Ls0AG1XdmRVfVOcvXB33\n",
              "lVt9l3TxQHTwHVC6cr6NxcX91ugqmIhhGn1IsB4s9IGr8mkDPMXSxngUmpaWqRVFSmFFRa9q+qC/\n",
              "Kbf0Ybi7nzGr0Kxf25gY6/V4athBIfCd6b0gDl3nbmCghPx9QYQFJNrinwKjQ+BZwnHoBjMqyFCp\n",
              "8V7TzIq6ZOTcdl81p8x6lIXvIyQxqVgqMbu6wSWhqtS7jjglNo4BTQAAAD0BnjV0Q38ACavsucdo\n",
              "xtWxheIBfLo4H70bB1FVXxOf8dRM122AAE1iMnVO7BXT4h76vCXw+qUHCV8LgC4hAAAATAGeN2pD\n",
              "fwAJrXsqA4J8BVIAWbfU0JeBonr3BVNfZJ0WJ/poRMA5APDivhfog+CAOb+s/V3ZBowA2S/QHLKX\n",
              "ThGYXUAbNgK/wYJbJOEAAAH6QZo6SahBbJlMFEwQ//6qVQABszLlJXFgAhrVLA4yS3vvILmvMzcC\n",
              "dueYVUOFj+gr6pFhzS+4QvRLO0MNwFs58G7HlH9Ffqxehem5YOihsmytp4mW9eP7gkBKsTM4fzQP\n",
              "qGBe1+JA1eaNbutpbTLC7zPo4FEnNobtaZD9Jn/T20tq2nFQRSbp4h9y+smP63/Dzoo6Mit438bc\n",
              "I7/MIKVEgw2c2GFqHxsZKdC85SryaLRrcaSdPxNuUrY5ehzaFRrpWG3SOj84eudOXP4u9XkR4xCn\n",
              "lD78CKGRxQPVcBuaIVkITWSWHRp+P95fvWttjNn9zxtrO1MEv4L5bYBqtyJbq3kdd04oEI+6wbgz\n",
              "z7Lw4TrMAeZmMEFmQbjf0epZhTVjea55Ji8ERdWh393CEK7LwvuYMScXmRjhtlfSl4odIKtXXuJq\n",
              "NCTSPCaUGBAhmuWxwxU7YXg+4CVqyryWFr21fesrf2+xgOatSw3Ia02X/1ZNPGtIHN/Y+damFeLQ\n",
              "6WxX/5mGBOowvAmSMiDF41JhMUA6pc/WftPHy0Wm95YbRRMq+HBRdKqrz2oBltkEZBIReBdqjLgN\n",
              "3pv6lgZDFnIx32sZQZyX1ZkzHztg3MTnR6JWV2jUYe+C4nLAb/PR1FCbr4o5t8SKoRvUTJbcl/H8\n",
              "hqovMr7M9X4H/3AAAABFAZ5ZakN/AAmuRlY4BgLJ/RP+ywAlYuTrQBfxmmRdnpLEqcX6DiQkdIk0\n",
              "dzF+Uk+DQArhTaQTYUbPx6WZcCVy7mLseBSRAAACk0GaXUnhClJlMCCH//6qVQABsmsnbPwBc6NI\n",
              "AA0b2rW0qq03OY1pa8sOuePPsuOAciP3PFmRrhqCuQdXOSejy/3hLrtZBKKbrIkM20RwNK42kQn2\n",
              "cekerDtRunpbn68Cf/N3e0ULNbFkZgDZtpdcuI1TTF/tS9vbXO4VE9LYAiEMOHI9y8Fp/ycWMwwj\n",
              "Fd4NW/1ptg6CqGxxZwfoAdG8bZB9/byLMWAFVCe8z5r9Uh6JtFQCw2hOfZAWhjXo/ye/ef5FSLgF\n",
              "UBvntBWklKMJRYtTFImFuXbyjzKmd/PYDklJ2CHmpS9sBYiOu+MMURc2YPvIGXFMMhas0h0CBkkK\n",
              "4bXlPDFCyCGB8qmZxvHO3C//dbFwFkSjWCQZQy+optl+tnvVbHo9MVBnFhWq0Wz91K6xUnDvhui+\n",
              "5/E8oVWeD1QnRHwq+119+L8wKRrjObv6lUwIE3h+zPz7S/KhiCCG5Eh5K8n/vxSSfi30idXaG7wQ\n",
              "jP6lD5+y213PTr8peYcxEdMFNG502ml/D4tRpLgns2RGgrjNOeufyUJz+tAHRSiHqrlk+hzvzI6V\n",
              "ZVNpcryMeHrki2FiULzk3XGWRsMqMvaHpzyVgB03RvNtkZyvaZy7WrQuyUdueM4Hezkr6otX642E\n",
              "h8VNVkMOeGICnmkKKpKgjeV2YL5uEQNCQY6rgmjIL8j53fXZacEky4YOon3boRn3O9dj04u5reJY\n",
              "qlJt8fny0+1gjSOqo0zHrRcpaEB7TLI7yXx+1mOIwOeHUQvoBX4d4NmDSKNVptpC6Ic8wFOjl/Hg\n",
              "506IPgVDPbBHrT8VWmGNiVB2e2XLQlhxtIOUUCgV5RVoGyp3ik9+H0AtYTpKeSauDvEbKE8UEmiP\n",
              "kWqddMcoAAAAYUGee0U0TDf/AAmt3fCA317NvR2u0AC5vhKfNm6PID32RPfsS8cmnGIGG6i1O5nW\n",
              "mMkBklj0FduJfNuavfPO2LEVXgi+TuIhDzBA/NvdP+kCnMwXYiUZ6zythb/Mxwb5+k0AAAA6AZ6c\n",
              "akN/AAmteym2VAXSqS8HmA/UjNEzj2+jVjoDMpTza76G/ou0vw7nsAHufKLvIfzmudG0WawYsQAA\n",
              "AjlBmp9JqEFomUwU8P/+qZYABqTLSSQVQBFeOFvCe7xPaaYJ6+YsUM1ZEBPzPfEeFh4G/zery87p\n",
              "0QKqiJuEfPk77cR5smOa4iNydFjzvEVjqmrGuRgMe7TPcm0A+kPTNdFxo3Vj93zYvEYSCBhn7RmG\n",
              "O4WHVR/0WhlXX+NTCmH/04vE3rudLcnEFionEkD/DMUA6zMzZLvkGUeDU+94zWYjrKaZCpRNZpSD\n",
              "xb+DhC4e+0c4lusHx6kASgB5IXnjtp0TUNRKTP0oinSn9ykFaUX2wT+aujKcKBlps0GX7IUHPgsh\n",
              "VqgS0odqUWkt/8tWootQy/lvyDI0a20vqwW4NZhFseyVBgayU22g5GYYc7anCUtg7tVahdydFOga\n",
              "jB0lrZhbmGvhMNOegy4788foYiWprnAgqTchIsZF2UFMrMkiK0PH3OG1Xn5KmNQTBiwyzO/Pbzsj\n",
              "I5eNPAtcRtgjzljCqoLZMjtCDAr8kwZddnapIg0llsfF/9fUt8/T6dZGqiHesbjosgmMsuP47LdG\n",
              "sRpIhJa8LOx8mnQB6v/9YEJgsOnQSlb+ULTtQvcRZXkQfDSwYGBEcVjAgsuBCvsJqpPe/OXWQ/ZH\n",
              "24qky8r4Fwb1n52zf3mcLAsFskuaLqjklKNQqQi8c8g9aa/Bfxi7fQh92gvv3MQTAHto63Y+xk2q\n",
              "ADUOhVInr9WExKYJr5ZKMKaHHc8zny/dDcywFXb3NxAKlG8Uvk9wgzdW93xIp6dXt4+79OapHlwa\n",
              "hAAAADQBnr5qQ38ACa5GVlwegM5YARcclN5wA8kRD8usB1Gh0MhuoushzokDbLZKoKyQEC/2Uae4\n",
              "AAABg0GaoEnhClJlMCH//qmWAAakz+Vp7gBDFC2U1jywx+ya/X+lZawVuMXmNcAjyeXjtB+BT+gg\n",
              "TJfhl1pdgLOsTSWwXNlOjKdUVSyDO0ZSIDIE1CbTX11eQpOv1A0jM5UpT0QFe5Paq4vXBF8rpRrz\n",
              "Ag8mVSLItyqxRCDSPDxr4g8ewvMfSaY4jpZROkVzgZGGM3SBW1oejAEAiPByYODUptKJiP/0m1tH\n",
              "BeZ7G1TAFUleORf4XYB+V3biopOmu3kol5+n4Pdmx6WWxH+IKUh9VaZWCyi/eCpafP+2Lo2OyHrQ\n",
              "nPL8ohAFD7woTdpNaw9VuefKYbtjzuKAxqSCwPri7IdnBZcyK1Y6yK+kc3dpbJW7wGH7n2bkOmzp\n",
              "TSVOySyoMIF51bTMFMk1wyPmpS+ohiiMazfIDb8EGpfRYuU18BO3ApyYZvbiRxrnjb7gJPSALhJI\n",
              "b83M1ENs2OtxC91G/aqg3xPVzjZTjAgqR2VuJ16Mlz8O40H75bhyhKylUMYV/TPrCQAAAYxBmsFJ\n",
              "4Q6JlMCCH/6qVQABvR9Dk+usKA1lvIkAC18RrnxnyFJxi/x7mPjoKcKMvHLklF9H8dG7xJpZEMqC\n",
              "hdaTS2iyhGyKglmEpXqfIkluMjvaIkPR8ir/cE32tUdeSD+DilEz6gqa+lKAgRpzPUnCbY0l2YNl\n",
              "UYJyreaHy8WOLk8KspyU/ndPsso6bahm7mquHHJYlU93nTdpAzk4J40nObwPZBskCRWiFTbdOc+u\n",
              "GvI/w7fqxHkk9nEwKGjW54XPeV5xPPgqOkKrmGURxpBW7xBvp7Vn0fYoSrDxizE7XOqHPF3bN4/p\n",
              "TMZrTDmYTuHroj8qbDd1LWT46xQt3gLA0ylYn6ZNF7NBA/THvNNL3MEOo8FNkyGaQYvHlxjQ2gZ7\n",
              "5Wm97Z3fGl6F1kpjRYF3/gBLvc+JoGvLYfOo5rARiqvPINEL+4v3iRPOy24cEDw7W0DU7RFE494C\n",
              "O9rl0NluGl5i7KqqIgFiLop1K/r+BSIdIfLxdsQx4pZRXA5jz7qE1Qzv/lWkBR4Ae4AAAAJXQZrj\n",
              "SeEPJlMFETw///6plgANSZdrB8laDhQABF71Rm0cFrJmnYQ7ew6gqR4Q2xqwkjVqqkd5Ck9lMD6S\n",
              "eXpuljoW4E90ZxYETcEgDXmFXGsqQSJ4yqNpGviFXeJO7+rbpOPYM9unzJaI7SzUuElEba+0nXpq\n",
              "uF6Cs2Sagsnbl7NVvCTQY4ZbmaQIAiBxiEPaFquoycTRsNLNPH3/WjRv0dxB+OldF1aEipRZWFxV\n",
              "5MmlOQb+TWixIBhG7uq4myhajmS9AQlyJscNuorzwRn6Ev63eYkpUFHd1qJ2kqe+/MElto+lKwEq\n",
              "heXlDxAN7bryhvZWTTmoQ+JT0WTr22EYdNlpJud/bx3bwfRXXb68sObwaBJqXkrJW3iDN7H7JHri\n",
              "0WmV5Psarc97tbnj8UjyjeBfCWOZqJStJtRoqEEuzj0+ZzfhDkLYfmSd6q1pRVXzdu/IWk5wvqZ2\n",
              "jsZLqXbA/eqc1py3spJAusunXAI5VA9smyb4VZc5F+mB9uvOjjBBbLqTVtn6wsGUmzHSL4LSJplk\n",
              "bW0CqYmcFIamTAwbe6FsUop4oSK+YK+eSQ65KwJUe5GjY5qDbJz2xwT5ubGIZF+K9JZD5o3KF9q2\n",
              "5K9tANBGIS8iRwbHql7jzIhsFn2S9ZBHO7n5sdES3gDZbb5fVVDsKD1dUOyexr/V6/IK/ML08FkL\n",
              "w4nas41sy/W81Z90MpFsfvfX9XcPNIezF9isjIX46iEB8HWbnZp4GF0V7m8PlMJ6y/8n9zgFcGxS\n",
              "cYS5vSsOsIMTSihfaAJQPqhKGnSVp2CQ2UEAAAAvAZ8CakN/AAlteuX9b9+9qWzPQWCJsHjQvCDM\n",
              "gtv8ooACb9gqVmOpWlgw+boQcnAAAAF+QZsESeEPJlMCCH/+qlUAA2ZoFpgTOuKAANZUFtlarBaV\n",
              "5SCxAHRYT/ckhtbQvQF0ElIY8PB42Bzn4OYpwe3x8jZy9lvRN83AfMa71hYuS4eEbjsxKtlJmUJl\n",
              "uD2oW2fe4Wtz7/7CT2RXwTPhiqNp/0O/HdZaDT5XsaUKmmMAn3+4Oqcb1bPqmy0yX5l8fGSKXZwY\n",
              "zQDt8mmQW6SHZmyMIWsxmNf1kzEF98KPCHknd1mnFUubw2AZurJQI5UutpSyo7h9dNBH1NpIPExB\n",
              "Ov7OVbs50ypiwmJanRH7XSlGbs6hAKqi9A1OLHMOUCg+aDiBdA5o4P+QaWe42BKX//rnaVPf1lvf\n",
              "Q6DD//nVH7Wwkxk8RQ87I1e23WdFUMZuqUhh9FyZ1i65QGb2lO6wappdUnZpBcTCYwRX3yIZHKDs\n",
              "sMAvL9jRQq03q2q1Djzey3BmBTZz62r+xILgE17qGIhlQieHU85G17mLL2y+YGCpml7ZKJr5uDMj\n",
              "R8+mtuD0gQAAAYVBmyVJ4Q8mUwIIf/6qVQADZmgsGYAV2Sk/a3thYP+5rYxCm62zbouWzrQ4MyWD\n",
              "46nIep/fi8LrO0r1NJjqWNpgAdiueyodLmu6G14tvntwnqdzw1uenHtmTZd191b5cXTZwq2urt0v\n",
              "VUQrRYds7PSdfVpMDwydcIOWBo2Ur3+gykXlhMb+ExNKDqBPGphSVjM+3OhNSs61LD4sU1O8fG7Y\n",
              "ysrEIJq+YgBIl+qNk7HsWnO0GX06t6oWO6WoAPARfbhICOIP1CBC48eO6h7uOdKqiFR7Ux+Ta/l9\n",
              "wCgeNPSF5g9pxdmT32aASmAMvQCeZCsSWueZYNqP9WW70ZokrD+sTkdp1K7qS677JBDvuA0w3q+z\n",
              "vKAx4hy1KctsE4xIRxQXif/j1vKAL0KFDTKGhbt8JdkAG0gtGIMbsH90dwwTygKv3fy8ReGpna/f\n",
              "t0etrShLEejq79TU44Jj0A2vsKz+PzJA7g0v5JSocaoaF0cgteu6pIK6YCK0d86mPxMqCfQG0X5y\n",
              "gQAAAidBm0dJ4Q8mUwURPBD//qpVAANmZfD5sAEc8gkFm5fGbr+J+KJ5evbteLlEoBfzKnQDux5f\n",
              "jw47QrTW1FMpPgDOagNWG75RJxcy8sgda1eUJmV4IwK613GLFdOAoY2DbeUez7ryR1jK/ajUDoX8\n",
              "f+moK9Iuow5qljjwI4uiGVPsT0y9WGhLwCMmrEgzytrwvIGNMx9C83TEVmN93I6MI5tVpY98UWba\n",
              "fMeE/J6mPiAmf6kQfFrm3dTIEXLCKrNIhkOYsQpVq3S0bb2ii8j2uxAygxEMvcl+17RVOX4BBhqZ\n",
              "SH8XcP2vw4+EJD2Ev+kg78Y4D3DN7l5NcD3AsMrTiA2pfNvxISbrBnjP9GOOSA5KmvbnJKL77sko\n",
              "C5EveKWE9wtGHCmO2uvv8n6aqkYhwOVAdnJ5nU144I5tuYmvBGTSYfmDBwGEZljhZkW6D4WuHbEv\n",
              "1h8AW3+TPyt4vjCyuwuQKLMqkn5ShVla9u6YdbwGWYq+edUuTJD+rNWymXfLU5Z8TtWTYwZcVR9+\n",
              "hIYOG4mUcxoZW8tR9i0Xmnhl8THfnUaE2JVHUqFO8bG6jVYs3cqX55Z5qmhn4Y0KvgxI3Gu0OYKh\n",
              "yK4RnviUZn85goTFpeacF+TUXtki+Ee74zCUSSZI94i4sNT0Zc25Yh2/DoTsJ/TCO68NBo23ax2n\n",
              "OgxDq5jcF56V4RQFtb3iuXmq59bdLKDHMMhXGXbNZhWyYzhtvHFXsYQF4QAAABYBn2ZqQ38ABLAU\n",
              "/kYDoPoF6j1ka1j/AAACE0GbaUnhDyZTBTw///6plgANSZrvOYAjmom/pVobO/rmndDb/U252Xx/\n",
              "IvA5gZAbiWARm0cEjLwHEoa7IfihaHg/opDKqigNVdLytOwmM6i5NOcBe3TYafOCAu9f68Yod2wH\n",
              "EnjcufNI2RCHMsL7CP9dys+WokigNzJ04ew5oyjhKYc+T3TxqSviKARIAb6xR4i1XMDykEOzWdD9\n",
              "n2Jo/j1bejRykdChsg4zlGYeyxktN+RwpxxxU51CsvK9f/J6bzZncsJ01BnobdUP3GuR/a7O8Pmd\n",
              "y7ybNOoBXhf9czwigxkG30bPnCwb9oj/B1BwzLBmSpeeQRdjsj7rriOxdcrUwLbQXT1N72VVHv0g\n",
              "SUA+t9RkjfTExc5PfrXbJWx/i4wHKCumUkiaBrZ+RYjgRUo7YqjwgKJKc5n/ulsXO7D6BQfclfxi\n",
              "4Y4PkAPpEtG0pF3BdG4cUApixbZ9XF/pMQ63vDf/mkQzaDNTSjZsfJzw5Qwn+5274dBBT9/Q+tJH\n",
              "/r2W9TDtvwPqFr0Z/M11lWdNExt95YoSqASOzBiGSSOkBW24wssSMhp6CtNXoS6c5kAhfYLKA6vk\n",
              "FOG43WqExCW2Jfgjs6gD5geIUXiivjIZrAW+qjHxVLgtdkAWPXCoqJYIma0PuC6DHgVH4FLf/rDE\n",
              "wt0LTkS5PbhZNuSV9RNzyVjg4xZckQI+eRjh0zWWgzG14AAAABkBn4hqQ38ABK6IMhsxpYRqSsu3\n",
              "KAVuSkwYAAABaEGbiknhDyZTAgh//qpVAANk32Qq9AAOMbPUgtYG/KQRFXtUCzh9LQYgCzAuToQI\n",
              "M6QC/cLFLHcjQbifRMoE9pBNDK0fMvB3n/DXsNjDfT4V7KiDlCnt5eny/VIBJ+/RFfpSu85tj89s\n",
              "bQCXngUbbEgXJa2YMDX/p7uH0zej26iE0ZFrphqTK+qJew7B/CRZVXgI7v2rF2dcnIzQU9T+IxeK\n",
              "JBfBoPuf6AU8hnCgrbMWO4d0JjT1Tql7YCmzblOZPc34kmbDn69Ga8gCxeGAcItZMaAESfKRFxTQ\n",
              "XVEUaN4bPiPy/Srg2cytxyalVuT+rQ/9njwiT6IJgTeUv8LYHLxl4487mRjw/D2M6dozXUSalTKW\n",
              "Lj6vy6+2a4Td2HAHNmLhUpzglkTtdK+/3BZ0sHsHXByTHWOw841Ksi8lzJeD8K6d5FPAq9iTf0CN\n",
              "n8y7nwjGrfrlqPvdGaaEjMtsUY4alWm2T+je0QAAAZ9Bm6tJ4Q8mUwIIf/6qVQADZmgpXAB+ylV4\n",
              "ymMGWGquJoK0VtscP/YoT5QacmDiuH8IkcDv7IZ8XuL3QxHlyCs6rwT79PSW+NeJEmo8hhrN2me3\n",
              "wvsC1aDzve/n4JNRmxDDRJ8rtECBxvD8NNPaPygBs8x5tpPzzjsKDf6slFFW9RZwFLlMBUEgiAnM\n",
              "IjMgh0MvP53tQh5dejV3aUtAZW3RWMldnLva4npPC8EcRJAn0kukdRAxdsuMdKYbG2Jn2LToIvkO\n",
              "7enWu3A4mpSE9nI515gRn7nbsyw7cmKkwl1Y6p21aR3i8G++Xb0bxPVFlxpjm8Up/eikjF8mP+QD\n",
              "wAK5pkc+Wrcmfg+QkstKk7LCOEyHkqFwFbvcx9k5j6+2L52uVE2PkSOuS8Xx0qU6sQ5mrC/0QMzl\n",
              "Gdlqv/3Tl1fgZXtD8KbzBKiqE9KAI6CErYAsmrygny7Z0r8teaEYuoGZegC9g9bGTOUssR1vp63z\n",
              "pZ/nz7vteDeVVaDdH4nk0rGFm/D8NvE2gQHWXY1HEq6hBuKPRHyPkpIbc9awBfVeAAABrUGbzEnh\n",
              "DyZTAgh//qpVAANmV+aQBEUEF5KpLCgkGxm6hGLj22mCGw31l7M8FfTBTcwI86KmqdEQro4NBLKH\n",
              "Y7oKu9t2ulFrYnm9Sw2cBx1jeLbKCkT840a6CxUAKzvTd9VQ2K7K89vcdY3C0FM8kRVhDiqYsQ42\n",
              "BBvKYWfxpc/VkcVcrJVrXZB92/dQsQHLamUcWGekMSaPQO+JMnP/js+tbap5zv9ZGVPzCwECK5IE\n",
              "DPr38n+0Tuil/yteCn+nuQEPEVSGJvQVTwPszBejgNhNWoOByV78k9Lj5iKuWLGBzVeShvOD6oVF\n",
              "BIA9VsNodc7zirsP2yyKDw9OjaefSMjSELX1mdm1XGdYKORfug8J3KtPMQ4cAGpaBvZ/daikC5cl\n",
              "KgB9Bd5NCM680cqrMKL/kVFCMFc1vujm/fkog87Re89HQWTLu0UVYXMFNylMq5t5dpE4whBDe5gv\n",
              "olbFauMsLzGjN0RMBDj4MScSw0Ps2ZYYTuVZhCc90FAsV2ZC4QMOTfBDw/RKl3w6afvOB+hJZ/SR\n",
              "HxJZRETWnZX1wZlkJSrYvnWdHFV/rODjgAAAAmBBm+5J4Q8mUwURPBH//rUqgAGzvVhogBYT0Nfu\n",
              "eM6kjvMl9h8W9NPH519Nu8vmejGj6YDe6C5ovZE+mESl3S80SpYwkJuQ6pIDTCqP4mxUsO3InXLe\n",
              "NY4JaJBqEpQAI+u5EKPN0NAq2EO4lfsUJkEPz6a2VgJO65Q3Crt1liDrqNqbYayc3e/k1z4qozP/\n",
              "Hph3iFDBY762Am2iEjs7CXcOhVNKN3Kd8jg8TqT3lRqEXvUsilbBnBCsqaddeeJExJBtHtpaQg0/\n",
              "VQ4KPjG6SiorPUncZjtlob9LTFl1s9/ruY048jDlYBNnWV9pufTRqvOLY5q0ayE+CVncHMP5WPes\n",
              "9M7h3FTYqrnzpUw/7sclAreWNsYPvyxCzPHzEjb0I7d+tgESE6Z+flx8jwRSs+J1zPFPacdriOE6\n",
              "r8GFJQtEUo591hohlIJtytV53vWwS0sE2mlQGPd9/QevP5F1NFeDv/gt6Uo0mEAU8gVY6a7+dXFk\n",
              "6UNwrKKJG8Plfk2V6T/+CZ6BRsyKE9TYn+ndjTnUJ/cYC0/9eATFr52tmPYkAyaf23cddOVqu8HR\n",
              "9y+RbkKa0CTjWxOhFoAfufuUXwbv2pzwb3J+YQUo2GKykMVvbD30gZlEPQAcOT/ytv7rFhfqakJs\n",
              "kwQlAwO1LmzkCCxVNDjzDSd+XrlH35VP7YNSY1dKdD1KIBDJ9Al8k90v5P463XihhbIe1DbvZ476\n",
              "9ZgKp4op2uynF4YJAjGKJioQJyGBZHji1gCQ0XX9eFWnC66SytVaqq3zCX1itt04Gv1GDTKElvds\n",
              "ViQ34zdh5SM2gQAAABEBng1qQ38AAxoVVA3TdTNPSQAAAtdBmhFJ4Q8mUwIIf/6qVQADZNtd37nA\n",
              "ANl+fBQerPFI02CKv+j9w+OWZ7LzvM25s4GhpBOb0HwCpNV650Ra6cUb85rBlJX2T9bSLykQetBQ\n",
              "qlmTY8wZED3dU9/70heNZMumwod2TJekRADtyZ0935kT76god2Ej+k/PKjHIBwzNPnKRoyRptP93\n",
              "RgP/IUHhbeIYmVYBmo1obVOq9pv5bSeg+SQpVfYHEUEuebwH79T+psiRzmXqm6gy8BS4wekK6eyN\n",
              "KnewAe7HZHMYrK+VgxaVb/8EHPdPDqH8BRB/2byxydeE3QLJvJJJR+kn2VEhGMow/+o2cxAh2O/e\n",
              "5Pk9osVxMR1Pe8OJFaCyiK5Pc+yx1g9XP1sVLRMBfml1STj7FmcHgqxIWu+MWiMx9WnEttT/oC7B\n",
              "VQMOTmtmAWoU/3rdtx9ZAC4od5QREFBkDSt44s5E4/m0T9nrxQn6E3wh0KTemVg0Z1tRUaxLVOwA\n",
              "J7njLOO6n7b5iI69TYJ3ozeRGQkH8brWMvLc0e9jyHt8UhARBvw/vXHnmfHelRNuomtL5q9Krq5A\n",
              "W1ILRX/2xzH0Id9v4U88cBcmkhpeBNhKvbhr7PekOsTcPOsL0SA2lXAeJ2znUSMpVWerRJvn9eHy\n",
              "L968Bt1WrkJ73eIsYuD0tByDzUMZehclhHyAhC8KUmy2e4PBbzQTh5SFLVZ/LjfUdfdQLUaqwGJ/\n",
              "Ueyn7D1SdV0J/oaMb3v0YrxGiGwwrdAJmGbhYNnhFBgihQCoZXAFzpduk+AY5mpmrisVc5mJpiMo\n",
              "0anM+0OAgeB+JMJALTaXkYhURVf5CCq7FtSlyOg13eUfsOIXzvcFQkiZsU/2YwmuM4sh5zUx1VOn\n",
              "fgLRCC+qm+p101yGRUwr1f6bJpWxoe3M0JEIOkSjXf/iQXgHTDJcp0s2X1NaZ9qIRY7qfnDTvKeY\n",
              "oaQYfzIonaG5ms0gwysEDZG6VtuBAAAAGUGeL0URPDf/AAlOoHxXdozHHs0P8fey9NwAAAAOAZ5Q\n",
              "akN/AAS0sFEFH+AAAAJ0QZpUSahBaJlMCCH//qpVAANmZfAegBAurArdtnk8qtFSK0F/ENyziJSt\n",
              "26kZmp+Q4twOu/qsw2u/Rbke98WPHi89HfmZLcdCHnCYHnMjAIGQpYkWiqh07E/e3Rt9n63VqJ0q\n",
              "IWeF+qWBTSp+PwZ7wmOjMAtJ3sitrqISx/dFUtj7+4FE8crh/QVZ2HcCKmUg6KLVTLVdIrMB27wk\n",
              "TXWSMOYtpYVqp667Yvl4uhD7XEg7aKgsyNOQ6+M7ei8V2BST80/Usm3vFT9UdmlOdbFcoslu8VFm\n",
              "0iPac+SsrVHneORm3HWudPvskWrFGgAyGsVs4GWWwOEtooPoXPitCCXYfw/FWfWz/6NJTwkK0GM7\n",
              "xgr0YJ0o15+x7dz/gP91QpPifHf9WGLQHFDuoZ9pvn3CU65UXOJZBxSXEH9TIr8nHtSeB8iJczEp\n",
              "wfwGlWUGolPbtiyqQRXPg+NM06g6MruWKJt0xeFXfw82J98YZFDhLGEy5uczhr+CHC1eHZPYZdqT\n",
              "mfZVfy1YcsyyQkJmMhBEE9czEJYBmLyg8ICACRN4yF83r08q/fiBcMSalacg0sbPGunJkThtacY6\n",
              "pf4Z1K0nw6hKgablI5zzUjOsFK4aNYed4SLu9exs1CPFg+VM9JymzzhrICljLe8D36aCZ4nEKmTP\n",
              "QiT3qQa+Nh8K3DJtSMC0FKsryaQ2Ij0MXdt8r13bJCsl/0EZ6RinasLkDTup+QH9JzXxfu/GJvpI\n",
              "aAFmsdkOjo7vkAF96c7UXSWdyDks/FtuaR/L4+Fu24SY+gIFm0PrOJrQNI6rpNWDhF6eO4zgZJty\n",
              "u3/Kh32kxe4SrRdVqj2pgQAAAB1BnnJFESw3/wAJayjee7i9ENzIkQJ2gNP51RJgvAAAABEBnpNq\n",
              "Q38AAxn8aBtVUPhpqQAAAehBmpZJqEFsmUwUTBD//qpVAANk32X6YzAANm60x1fy5gOozuYefi9K\n",
              "/vp5gwCSz3Z1fKMA70wDE0YEI9JfEZTpv1FW4MasVcvvhFmzqW8axxUy9SIAD08u55wTOtccvDJD\n",
              "zRBP/W3t67GtT5Lw7Txu4cng6gEFUKYNDiBziX+E558EhY51u4B4ve/pkvfyWqZyRh/AURhnYSKK\n",
              "3uIPMXJe+ux8hplhdQvD46Iuhb/QqIkQWR/kTTNF02p/IIFHgwg3BGa+UVP7KTZHWu1D+TbF9TGq\n",
              "g/DI0vTB7crPe6qJNJBkYk7PsTXuCakZP77GWTHBDU/WV0cZ2qbl+ioKVziqizce9f63Ay7M3WjM\n",
              "JzBl06VQOEd1QqH7C9E94/CIwIO08RJ0WNEJnAY058mUnnFWboxVOSs64ETiJMoh6Qehk5RfvzVI\n",
              "MSrbPSVKHZ4Fi1+U6s663dx6lY/ry5f0NCNB1IRh76rwQ7AyCmZhc6AmHn8kbBsF/6+lgbMzFz+q\n",
              "mT2bngfIRYqcK07bZ8J0cZVMEy2MC8ZPILijycRN8tClW4pJ7sYdmzOUJd+Pr12xu0IF7O+Mnhag\n",
              "9sY3alSp9spyyAmG5veifiJydbuKkAzqeBMU//C5uexYva8X2hVFAEjAbaIXBNwB3QAAAA4BnrVq\n",
              "Q38ACZSAAFD5gAAAAbtBmrhJ4QpSZTBSwQ/+qlUAA2TZITHC18gAi6Vj4Deiu+HBo0r4rI4sWl+e\n",
              "YUGSiwjhzY4ef6/Z8qNGv++JDTKKYVtMDF4o0HYRhYKqQ/GLxuYhOVBUz//4AJ8HSEpxlgWCLkI0\n",
              "kdVcge5tPTXptkqSxKi1hVp3Ct3cWROaqIGRkG0wOashhFWFqphRs2xQc+AVlcpq2UT+8SWfVCBs\n",
              "L21vs8jKnb9qJi3O0WB7KKl4UJbMR3m/ts8dQVadS7LYFEMIzW+uMhftgkYV1ua/G923S1Tud8IY\n",
              "F2pceJTxmoZ1fkAfCfnG/uaMjP8Mo0TQCDslKIAcoNQ1/3ODkVIfFWK1Sd5l4PezfN10wwPdNkuR\n",
              "SE0qL9TIOomRzUlRQAEig08vKT5bpzRA6K+CiLGnZC6EIgQ54UCm51kqTIvtWLKwo2l3q8R+TxXK\n",
              "ghSfB4PGMVLLHQY3v3V5xg2FTocoyODW36CriVfufhAn0F3Jd99nN3KNsqkVGgFZ28ZfBPHK66uJ\n",
              "rGKNOD4AeA56hwSjc13xKm95ZlTulZbPn6SZ77PUJnJfZK/ahcabSO/N5FKQToqNejkZi1ACXZe9\n",
              "lQAAAA4BntdqQ38ACZSAAFD5gQAAAY1BmtpJ4Q6JlMFEwQ/+qlUAA2TZK3n2Q4AC1HclpDBd/XDu\n",
              "eCNbacg8XiykhEsdrn0fW3xWexRF2NJt2ZogbQ63dTFmHwqim5Zx+vQmlHazc/D+hUqD4t4ENi1A\n",
              "4c16xvgTefNCR8N6W3td0rLl5remKvl23hcVvGvQ2tZtw/tI6yozdTs26udvdxRN/S8yyD6g9LqC\n",
              "+tMwc9rQyl/ZgXnPySO0Ma5ibgnDZVZc687z5CPFzKskfVIXAqBQQkOtGuiQ0vPOeBy/mbjHB72q\n",
              "eBxwvlwc/DJRY6f5tLMTPahJxLMR4DczW1lwo54hNPigAApWWpxORyM+hl1ZVz3T28UkPupM9Aw8\n",
              "KFSSVyeUjKVKyM72I5aFohValL7+g9nj4DKn22mMEirkkxOL0fZlHdqWPJ6eskA16Nx+vvdAvOoY\n",
              "at+uFzrKcUh0o8jUFc73mG0aIHkNVQHJGD92BPdHb3TL/B1yOCTfrZbUD4hu3PSc2oXRsCIxRtAq\n",
              "i/DpeFCUs/NsyFmEkwBS1/eaB4EHAAAADAGe+WpDfwAAAwCtgQAAAiNBmv1J4Q8mUwIIf/6qVQAD\n",
              "ZNrMDivD1jAAcV8skAGbm8sPhQGW0frlDP1tunqp7B8D67oxqPVf3q6H249bZ/3Z7VDwJLcyOxpi\n",
              "iyIARkbDiOsf7pfIrcdqhSLkkEDaT8g8G5C2EliH0CQVKQIeiT9vIluIXGJSg09PiI4HKdOzeZH5\n",
              "s852vtdX0MUNiE7KpIQNmVQbrFqACPdm0nsD/RcKXNpmv3OOVZ/iMQma3k0uGqdBO8S025ctsRd6\n",
              "KbvyVoKIPAnMuc+OaGp+2CT1ch9jZVnizai/9yL6IrizNS+VTizr/kRO6DcpkE5uD3VHxMKpCImG\n",
              "SAjOiRPk6yP0MYwQDdEnMQcr5w0o2bgPNGUDaooqTOwDosvv4yxdH5XdRpeXl1wMrVikF4+yi814\n",
              "wgwVDKvuttaJ2n04f8ngSu/mzfwy727nVwXsMVR7bhw6PGncGuSSL+z7Mc3LOAzYXVMdCSWj9494\n",
              "sHjyszbGkamzghG4wqTbtWZt0DQ1iZfrl1o62iYuKDvfZvLj1dhgxOVLzCoh2nodxgi7r0nXciMB\n",
              "NPhrQhWHM8ZwwXMIwrdGkhuAnEmafVFa6IVFfGr350A5M9cYu9WGFxqY+EEqyAYs7LVEZ1IKKh6y\n",
              "seZ9cl1WLXiKQgDgwXHSCR2aEu291YKWV0Lnphr+tl9yRWM0Rzu8Lh3gZ2RrBuyvePTntJ8eCG59\n",
              "6ULIEX1kGsUzujKOIhN4GawcAAAAE0GfG0URPDf/AAMO7WVqXHo4ZmEAAAANAZ88akN/AAX4uxFG\n",
              "fQAAAVtBmyBJqEFomUwIf//+qZYADUO1eJJ+YANzrejaQ1nOBkToZKBCYhbsFqunC/oX4H6t4ocd\n",
              "veHfxzi/DSi/9XQvXK7GgYlYakP2gZCn94rzGLZ1cQU0cW5KP30/mOBE94358IqeNNF85d+17ZVX\n",
              "6EqNkMd74BYbHSKpiL2dmq0xCDDpmgrolS00gRjQcKAgfRQXrFrgm9s4kQtCcdMShvbJAxczee0q\n",
              "PNdBy85WlKMQKB23ngchICDWOS8vGwSRdKECE0FvCExOdOKGHASN9Yo9kmC+bvH12rIw3cKL0L0e\n",
              "uCVCyi3Xx4/UnfKcCt1alFjprGn0nncxFILrAqjluCb74lvwNH8jQhdrKCGR67NJAZfUIYfdqG1w\n",
              "Qc1t80XR33iJJR9iBbKGW016TsHotirzGXIkX4tt5LybMpmRpkk8g/36Iwg2OnSstvHrT4Q2/boH\n",
              "SdveQkfr91mygAAAAA9Bn15FESw3/wAF+U1lAjYAAAARAZ9/akN/AAX4u3qeFCGcZQUAAADcQZtj\n",
              "SahBbJlMCG///qeEABpTef0px3pRIAP4Je3Nl+fS5uXJ7j3c6cl+Z63b5KWsP2IizMJp14RQrgXF\n",
              "Ga2BXsAg6ZkuIQHDKAe98zVWTjPnrq/Np9++5J9jugEhnQzoykx2On/ne1pnJBKLvhxdl/S6BF0j\n",
              "wII3PPcEJMGPOz5jukrjDBOZOL9NHkqg1h/FMyzoLgXTvtwAfp20WwQvo4hAAmj/kbhv6uDK6qCo\n",
              "xSu6u9ltdVQIuKlOZE7DmCJv9QBFJH5lIXvdeLxR/SWC6x6Hc0deDOdavL503AAAABJBn4FFFSw3\n",
              "/wAGHMHIUxKcfMEAAAANAZ+iakN/AAX4uxFGfAAAB15tb292AAAAbG12aGQAAAAAAAAAAAAAAAAA\n",
              "AAPoAAAnEAABAAABAAAAAAAAAAAAAAAAAQAAAAAAAAAAAAAAAAAAAAEAAAAAAAAAAAAAAAAAAEAA\n",
              "AAAAAAAAAAAAAAAAAAAAAAAAAAAAAAAAAAAAAAACAAAGiHRyYWsAAABcdGtoZAAAAAMAAAAAAAAA\n",
              "AAAAAAEAAAAAAAAnEAAAAAAAAAAAAAAAAAAAAAAAAQAAAAAAAAAAAAAAAAAAAAEAAAAAAAAAAAAA\n",
              "AAAAAEAAAAABsAAAASAAAAAAACRlZHRzAAAAHGVsc3QAAAAAAAAAAQAAJxAAAAgAAAEAAAAABgBt\n",
              "ZGlhAAAAIG1kaGQAAAAAAAAAAAAAAAAAACgAAAGQAFXEAAAAAAAtaGRscgAAAAAAAAAAdmlkZQAA\n",
              "AAAAAAAAAAAAAFZpZGVvSGFuZGxlcgAAAAWrbWluZgAAABR2bWhkAAAAAQAAAAAAAAAAAAAAJGRp\n",
              "bmYAAAAcZHJlZgAAAAAAAAABAAAADHVybCAAAAABAAAFa3N0YmwAAACzc3RzZAAAAAAAAAABAAAA\n",
              "o2F2YzEAAAAAAAAAAQAAAAAAAAAAAAAAAAAAAAABsAEgAEgAAABIAAAAAAAAAAEAAAAAAAAAAAAA\n",
              "AAAAAAAAAAAAAAAAAAAAAAAAAAAAAAAY//8AAAAxYXZjQwFkABX/4QAYZ2QAFazZQbCWhAAAAwAE\n",
              "AAADAFA8WLZYAQAGaOvjyyLAAAAAHHV1aWRraEDyXyRPxbo5pRvPAyPzAAAAAAAAABhzdHRzAAAA\n",
              "AAAAAAEAAABkAAAEAAAAABRzdHNzAAAAAAAAAAEAAAABAAACsGN0dHMAAAAAAAAAVAAAAAIAAAgA\n",
              "AAAAAQAADAAAAAABAAAEAAAAAAEAAAwAAAAAAQAABAAAAAABAAAUAAAAAAEAAAgAAAAAAQAAAAAA\n",
              "AAABAAAEAAAAAAEAABQAAAAAAQAACAAAAAABAAAAAAAAAAEAAAQAAAAAAQAAFAAAAAABAAAIAAAA\n",
              "AAEAAAAAAAAAAQAABAAAAAABAAAMAAAAAAEAAAQAAAAAAQAADAAAAAABAAAEAAAAAAEAAAwAAAAA\n",
              "AQAABAAAAAABAAAUAAAAAAEAAAgAAAAAAQAAAAAAAAABAAAEAAAAAAEAABQAAAAAAQAACAAAAAAB\n",
              "AAAAAAAAAAEAAAQAAAAABQAACAAAAAABAAAMAAAAAAEAAAQAAAAAAQAADAAAAAABAAAEAAAAAAEA\n",
              "AAgAAAAAAQAAFAAAAAABAAAIAAAAAAEAAAAAAAAAAQAABAAAAAABAAAUAAAAAAEAAAgAAAAAAQAA\n",
              "AAAAAAABAAAEAAAAAAEAABAAAAAAAgAABAAAAAABAAAUAAAAAAEAAAgAAAAAAQAAAAAAAAABAAAE\n",
              "AAAAAAEAAAwAAAAAAQAABAAAAAABAAAQAAAAAAIAAAQAAAAAAQAADAAAAAABAAAEAAAAAAIAAAgA\n",
              "AAAAAQAADAAAAAABAAAEAAAAAAIAAAgAAAAAAQAADAAAAAABAAAEAAAAAAEAAAwAAAAAAQAABAAA\n",
              "AAADAAAIAAAAAAEAAAwAAAAAAQAABAAAAAABAAAQAAAAAAIAAAQAAAAAAQAAEAAAAAACAAAEAAAA\n",
              "AAEAAAwAAAAAAQAABAAAAAABAAAMAAAAAAEAAAQAAAAAAQAADAAAAAABAAAEAAAAAAEAABAAAAAA\n",
              "AgAABAAAAAABAAAQAAAAAAIAAAQAAAAAAQAAEAAAAAACAAAEAAAAABxzdHNjAAAAAAAAAAEAAAAB\n",
              "AAAAZAAAAAEAAAGkc3RzegAAAAAAAAAAAAAAZAAAIkQAAAMzAAACqQAAAgYAAAKBAAAB7gAAA0UA\n",
              "AAE0AAAB7wAAAXQAAAJJAAAAlwAAAQkAAAC0AAABnAAAAG4AAABoAAAAVQAAAXMAAABMAAABWAAA\n",
              "AD8AAAFfAAAAPAAAAi0AAACEAAAARgAAAFQAAAI4AAAAggAAAEkAAABQAAABTgAAAUQAAAEqAAAB\n",
              "SQAAARwAAAHGAAAANAAAAX4AAABGAAABiQAAAoIAAACLAAAARgAAAFMAAAJ8AAAAmwAAAEYAAABO\n",
              "AAACOgAAAHcAAABKAAACjwAAAL8AAABBAAAAUAAAAf4AAABJAAAClwAAAGUAAAA+AAACPQAAADgA\n",
              "AAGHAAABkAAAAlsAAAAzAAABggAAAYkAAAIrAAAAGgAAAhcAAAAdAAABbAAAAaMAAAGxAAACZAAA\n",
              "ABUAAALbAAAAHQAAABIAAAJ4AAAAIQAAABUAAAHsAAAAEgAAAb8AAAASAAABkQAAABAAAAInAAAA\n",
              "FwAAABEAAAFfAAAAEwAAABUAAADgAAAAFgAAABEAAAAUc3RjbwAAAAAAAAABAAAALAAAAGJ1ZHRh\n",
              "AAAAWm1ldGEAAAAAAAAAIWhkbHIAAAAAAAAAAG1kaXJhcHBsAAAAAAAAAAAAAAAALWlsc3QAAAAl\n",
              "qXRvbwAAAB1kYXRhAAAAAQAAAABMYXZmNTcuODMuMTAw\n",
              "\">\n",
              "  Your browser does not support the video tag.\n",
              "</video>"
            ],
            "text/plain": [
              "<IPython.core.display.HTML object>"
            ]
          },
          "metadata": {
            "tags": []
          },
          "execution_count": 247
        }
      ]
    },
    {
      "metadata": {
        "id": "6kQCdhUCaH7k",
        "colab_type": "text"
      },
      "cell_type": "markdown",
      "source": [
        "### Classification"
      ]
    },
    {
      "metadata": {
        "id": "GUXXpRu0i-GK",
        "colab_type": "text"
      },
      "cell_type": "markdown",
      "source": [
        "Get sample data for binary classification"
      ]
    },
    {
      "metadata": {
        "id": "anYrXIicaJ4g",
        "colab_type": "code",
        "outputId": "cf561b95-d9bd-4193-d60c-b0cf7807835b",
        "colab": {
          "base_uri": "https://localhost:8080/",
          "height": 222
        }
      },
      "cell_type": "code",
      "source": [
        "!wget https://raw.githubusercontent.com/udacity/deep-learning-v2-pytorch/master/intro-neural-networks/gradient-descent/data.csv"
      ],
      "execution_count": 248,
      "outputs": [
        {
          "output_type": "stream",
          "text": [
            "--2019-04-04 13:51:23--  https://raw.githubusercontent.com/udacity/deep-learning-v2-pytorch/master/intro-neural-networks/gradient-descent/data.csv\n",
            "Resolving raw.githubusercontent.com (raw.githubusercontent.com)... 151.101.0.133, 151.101.64.133, 151.101.128.133, ...\n",
            "Connecting to raw.githubusercontent.com (raw.githubusercontent.com)|151.101.0.133|:443... connected.\n",
            "HTTP request sent, awaiting response... 200 OK\n",
            "Length: 1778 (1.7K) [text/plain]\n",
            "Saving to: ‘data.csv.1’\n",
            "\n",
            "\rdata.csv.1            0%[                    ]       0  --.-KB/s               \rdata.csv.1          100%[===================>]   1.74K  --.-KB/s    in 0s      \n",
            "\n",
            "2019-04-04 13:51:23 (239 MB/s) - ‘data.csv.1’ saved [1778/1778]\n",
            "\n"
          ],
          "name": "stdout"
        }
      ]
    },
    {
      "metadata": {
        "id": "ynv6fmcSfxMq",
        "colab_type": "code",
        "outputId": "0649a654-27db-4a32-9afa-f746851c6262",
        "colab": {
          "base_uri": "https://localhost:8080/",
          "height": 34
        }
      },
      "cell_type": "code",
      "source": [
        "torch.manual_seed(1)"
      ],
      "execution_count": 249,
      "outputs": [
        {
          "output_type": "execute_result",
          "data": {
            "text/plain": [
              "<torch._C.Generator at 0x7f1ad2e3d330>"
            ]
          },
          "metadata": {
            "tags": []
          },
          "execution_count": 249
        }
      ]
    },
    {
      "metadata": {
        "id": "AtZ-8XyVdbX6",
        "colab_type": "text"
      },
      "cell_type": "markdown",
      "source": [
        "Custom function to plot data points for binary classification"
      ]
    },
    {
      "metadata": {
        "id": "5y8WoJXygxcU",
        "colab_type": "code",
        "colab": {}
      },
      "cell_type": "code",
      "source": [
        "def plot_points(X, y):\n",
        "    admitted = X[np.argwhere(y==1)]\n",
        "    rejected = X[np.argwhere(y==0)]\n",
        "    plt.scatter([s[0][0] for s in rejected], [s[0][1] for s in rejected], s = 25, color = 'blue', edgecolor = 'k')\n",
        "    plt.scatter([s[0][0] for s in admitted], [s[0][1] for s in admitted], s = 25, color = 'red', edgecolor = 'k')"
      ],
      "execution_count": 0,
      "outputs": []
    },
    {
      "metadata": {
        "id": "AWgy-WU0drxQ",
        "colab_type": "text"
      },
      "cell_type": "markdown",
      "source": [
        "Custom function to plot color-coded regions with the help of contourf.\n",
        "\n",
        "Reference : https://www.datahubbs.com/deep-learning-101-first-neural-network-with-pytorch/"
      ]
    },
    {
      "metadata": {
        "id": "c48wv4YzfYPi",
        "colab_type": "code",
        "colab": {}
      },
      "cell_type": "code",
      "source": [
        "def plot_results(model, X_test, Y_test, y_hat_test):\n",
        "    # Pass test data\n",
        "    #y_hat_test = self.predict(X_test)\n",
        "    y_hat_test_class = np.where(y_hat_test<0.5, 0, 1)\n",
        "    #print(\"Test Accuracy {:.2f}%\".format(self.calculate_accuracy(y_hat_test_class, Y_test) * 100))\n",
        "\n",
        "    # Plot the decision boundary\n",
        "    # Determine grid range in x and y directions\n",
        "    x_min, x_max = X[:, 0].min()-0.1, X[:, 0].max()+0.1\n",
        "    y_min, y_max = X[:, 1].min()-0.1, X[:, 1].max()+0.1\n",
        "\n",
        "    # Set grid spacing parameter\n",
        "    spacing = min(x_max - x_min, y_max - y_min) / 100\n",
        "\n",
        "    # Create grid\n",
        "    XX, YY = np.meshgrid(np.arange(x_min, x_max, spacing),\n",
        "                   np.arange(y_min, y_max, spacing))\n",
        "\n",
        "    # Concatenate data to match input\n",
        "    data = np.hstack((XX.ravel().reshape(-1,1), \n",
        "                      YY.ravel().reshape(-1,1)))\n",
        "\n",
        "    # Pass data to predict method\n",
        "    data_t = torch.FloatTensor(data)\n",
        "    db_prob = model(data_t)\n",
        "\n",
        "    clf = np.where(db_prob<0.5,0,1)\n",
        "\n",
        "    Z = clf.reshape(XX.shape)\n",
        "    \n",
        "    plt.contourf(XX, YY, Z, cmap=plt.cm.Accent, alpha=0.5)\n",
        "\n",
        "    #print(type(X_test),type(Y_test))\n",
        "    #print(X_test[:,0].numpy().shape,X_test[:,1].numpy().shape,Y_test.reshape(-1).shape)\n",
        "    plt.scatter(X_test[:,0], X_test[:,1], c=Y_test.reshape(-1), \n",
        "                cmap=plt.cm.Accent)\n",
        "    plt.show()"
      ],
      "execution_count": 0,
      "outputs": []
    },
    {
      "metadata": {
        "id": "Kn8PPFTOeO8p",
        "colab_type": "text"
      },
      "cell_type": "markdown",
      "source": [
        "Custom function to shuffle 2 arrays synchronously"
      ]
    },
    {
      "metadata": {
        "id": "OyHM0JYF49KO",
        "colab_type": "code",
        "colab": {}
      },
      "cell_type": "code",
      "source": [
        "def unison_shuffled_copies(a, b):\n",
        "    assert len(a) == len(b)\n",
        "    p = np.random.permutation(len(a))\n",
        "    return a[p], b[p]"
      ],
      "execution_count": 0,
      "outputs": []
    },
    {
      "metadata": {
        "id": "3iV9SlrQeYzN",
        "colab_type": "text"
      },
      "cell_type": "markdown",
      "source": [
        "Lets plot the data"
      ]
    },
    {
      "metadata": {
        "id": "B9A2fGmZf-B4",
        "colab_type": "code",
        "outputId": "c54aee38-d162-445c-e058-e50d079a0131",
        "colab": {
          "base_uri": "https://localhost:8080/",
          "height": 265
        }
      },
      "cell_type": "code",
      "source": [
        "data = pd.read_csv('data.csv', header=None)\n",
        "X = np.array(data[[0,1]])\n",
        "y = np.array(data[2])\n",
        "X,y = unison_shuffled_copies(X,y)\n",
        "#plt.figure(figsize=(12,8))\n",
        "#plt.scatter(X[:,0], X[:,1], c=y)\n",
        "#plt.title('Classification')\n",
        "#plt.show()\n",
        "plot_points(X,y)"
      ],
      "execution_count": 253,
      "outputs": [
        {
          "output_type": "display_data",
          "data": {
            "image/png": "[encoded data removed]",
            "text/plain": [
              "<Figure size 432x288 with 1 Axes>"
            ]
          },
          "metadata": {
            "tags": []
          }
        }
      ]
    },
    {
      "metadata": {
        "id": "paSDYLOdelw1",
        "colab_type": "text"
      },
      "cell_type": "markdown",
      "source": [
        "Create a Fully connected network model with 1 hidden layer"
      ]
    },
    {
      "metadata": {
        "id": "tWtcBqs8ihEl",
        "colab_type": "code",
        "colab": {}
      },
      "cell_type": "code",
      "source": [
        "class Model(nn.Module):\n",
        "  def __init__(self, n_hidden):\n",
        "    super(Model, self).__init__()\n",
        "    self.fc1 = nn.Linear(2, n_hidden) # 2 input feature, n hidden nodes\n",
        "    self.fc2 = nn.Linear(n_hidden, 1) # Single output node for binary classification\n",
        "  \n",
        "  def forward(self, x):\n",
        "    x = F.relu(self.fc1(x))\n",
        "    x = torch.sigmoid(self.fc2(x))\n",
        "    return x  "
      ],
      "execution_count": 0,
      "outputs": []
    },
    {
      "metadata": {
        "id": "6jlDF0koGfoQ",
        "colab_type": "text"
      },
      "cell_type": "markdown",
      "source": [
        "\n",
        "**Alternate way to build your model**\n",
        "```\n",
        "model = nn.Sequential(\n",
        "    nn.Linear(n_input_dim, n_hidden),\n",
        "    nn.ReLU(),\n",
        "    nn.Linear(n_hidden, n_output),\n",
        "    nn.Sigmoid())\n",
        "    \n",
        "print(model)\n",
        "```"
      ]
    },
    {
      "metadata": {
        "id": "Dw7mBc8flE7a",
        "colab_type": "code",
        "outputId": "37e0ac77-7cb5-4d3a-c02d-6744832ce457",
        "colab": {
          "base_uri": "https://localhost:8080/",
          "height": 84
        }
      },
      "cell_type": "code",
      "source": [
        "# Create model with n units in the hidden layer where n is a hyper-parameter\n",
        "model = Model(n_hidden = 10)\n",
        "model"
      ],
      "execution_count": 255,
      "outputs": [
        {
          "output_type": "execute_result",
          "data": {
            "text/plain": [
              "Model(\n",
              "  (fc1): Linear(in_features=2, out_features=10, bias=True)\n",
              "  (fc2): Linear(in_features=10, out_features=1, bias=True)\n",
              ")"
            ]
          },
          "metadata": {
            "tags": []
          },
          "execution_count": 255
        }
      ]
    },
    {
      "metadata": {
        "id": "pAjyy33RlO6L",
        "colab_type": "code",
        "colab": {}
      },
      "cell_type": "code",
      "source": [
        "# Binary cross entropy loss as its a binary classification problem\n",
        "criterion = nn.BCELoss()\n",
        "# Stochastic Gradient Descent for optimization\n",
        "learning_rate = 0.01 # hyper-parameter\n",
        "optimizer = optim.Adam(model.parameters(), lr=learning_rate)"
      ],
      "execution_count": 0,
      "outputs": []
    },
    {
      "metadata": {
        "id": "7ZKSHSiobXnv",
        "colab_type": "text"
      },
      "cell_type": "markdown",
      "source": [
        "Generate data to plot decision boundary for animation"
      ]
    },
    {
      "metadata": {
        "id": "T65y9xY3bVFz",
        "colab_type": "code",
        "colab": {}
      },
      "cell_type": "code",
      "source": [
        "# Determine grid range in x and y directions\n",
        "x_min, x_max = X[:, 0].min()-0.1, X[:, 0].max()+0.1\n",
        "y_min, y_max = X[:, 1].min()-0.1, X[:, 1].max()+0.1\n",
        "\n",
        "# Set grid spacing parameter\n",
        "spacing = min(x_max - x_min, y_max - y_min) / 100\n",
        "\n",
        "# Create grid\n",
        "XX, YY = np.meshgrid(np.arange(x_min, x_max, spacing),\n",
        "               np.arange(y_min, y_max, spacing))\n",
        "\n",
        "# Concatenate data to match input\n",
        "data = np.hstack((XX.ravel().reshape(-1,1), \n",
        "                  YY.ravel().reshape(-1,1)))\n",
        "\n",
        "# Pass data to predict method\n",
        "data_t = torch.FloatTensor(data)"
      ],
      "execution_count": 0,
      "outputs": []
    },
    {
      "metadata": {
        "id": "ZdiyudxHbfK1",
        "colab_type": "text"
      },
      "cell_type": "markdown",
      "source": [
        "Training"
      ]
    },
    {
      "metadata": {
        "id": "AE-jfHdMllNK",
        "colab_type": "code",
        "colab": {}
      },
      "cell_type": "code",
      "source": [
        "epochs = 100 # hyper-parameter\n",
        "X_tensor = torch.FloatTensor(X)\n",
        "y_tensor = torch.FloatTensor(y).view(y.shape[0],-1)\n",
        "loss_arr = []  # for plotting\n",
        "out_arr = [] # for animation\n",
        "Z_arr = [] # for animation\n",
        "animation_req = True\n",
        "\n",
        "for e in range(epochs):\n",
        "  out = model(X_tensor)\n",
        "  if animation_req:\n",
        "    out_arr.append(out)\n",
        "    db_prob = model(data_t)\n",
        "    clf = np.where(db_prob<0.5,0,1)\n",
        "    Z = clf.reshape(XX.shape)\n",
        "    Z_arr.append(Z)\n",
        "  loss = criterion(out, y_tensor)\n",
        "  loss_arr.append(loss.item())\n",
        "  optimizer.zero_grad()   # clear gradients for next train\n",
        "  loss.backward()         # backpropagation to compute gradients\n",
        "  optimizer.step()        # apply gradients and updates the weights"
      ],
      "execution_count": 0,
      "outputs": []
    },
    {
      "metadata": {
        "id": "NTHl_6qiix1x",
        "colab_type": "text"
      },
      "cell_type": "markdown",
      "source": [
        "Lets plot model loss and see how it behaves with epochs."
      ]
    },
    {
      "metadata": {
        "id": "5mYp-9AwhniH",
        "colab_type": "code",
        "colab": {
          "base_uri": "https://localhost:8080/",
          "height": 294
        },
        "outputId": "3df8b106-d479-410a-ad51-4929a4ab006a"
      },
      "cell_type": "code",
      "source": [
        "# Plot error curve\n",
        "plt.title('Training loss')\n",
        "plt.ylabel('Loss')\n",
        "plt.xlabel('Epochs')\n",
        "plt.plot(loss_arr)\n",
        "plt.show()"
      ],
      "execution_count": 259,
      "outputs": [
        {
          "output_type": "display_data",
          "data": {
            "image/png": "[encoded data removed]",
            "text/plain": [
              "<Figure size 432x288 with 1 Axes>"
            ]
          },
          "metadata": {
            "tags": []
          }
        }
      ]
    },
    {
      "metadata": {
        "id": "vDkGxD_Yd7wi",
        "colab_type": "text"
      },
      "cell_type": "markdown",
      "source": [
        "Plot the decision bounday"
      ]
    },
    {
      "metadata": {
        "id": "2IhFgjySd_Av",
        "colab_type": "code",
        "colab": {
          "base_uri": "https://localhost:8080/",
          "height": 265
        },
        "outputId": "b7f969e3-4579-4cf4-e57e-03c99d6c3800"
      },
      "cell_type": "code",
      "source": [
        "out = model(X_tensor)\n",
        "plot_results(model,X_tensor,y_tensor.numpy(), out)"
      ],
      "execution_count": 260,
      "outputs": [
        {
          "output_type": "display_data",
          "data": {
            "image/png": "[encoded data removed]",
            "text/plain": [
              "<Figure size 432x288 with 1 Axes>"
            ]
          },
          "metadata": {
            "tags": []
          }
        }
      ]
    },
    {
      "metadata": {
        "id": "wETGrzggeBeO",
        "colab_type": "text"
      },
      "cell_type": "markdown",
      "source": [
        "Animation "
      ]
    },
    {
      "metadata": {
        "id": "nT2Two58s6kI",
        "colab_type": "code",
        "colab": {}
      },
      "cell_type": "code",
      "source": [
        "from matplotlib import animation, rc\n",
        "from IPython.display import HTML"
      ],
      "execution_count": 0,
      "outputs": []
    },
    {
      "metadata": {
        "id": "0roUpXc-lQFB",
        "colab_type": "text"
      },
      "cell_type": "markdown",
      "source": [
        "**Accuracy**\n",
        "\n",
        "Accuracy is one of the metrics for evaluating classification models. It is defined as:\n",
        "\n",
        "\n",
        "$ Accuracy=\\frac{\\text{Number of correct predictions}}{\\text{Total number of predictions}} $\n"
      ]
    },
    {
      "metadata": {
        "id": "wEXes96YkM0Z",
        "colab_type": "code",
        "colab": {}
      },
      "cell_type": "code",
      "source": [
        "# Custom function to calculate accuracy\n",
        "def calculate_accuracy(y_hat, Y):\n",
        "  return np.sum(Y.reshape(-1,1)==y_hat) / len(Y)"
      ],
      "execution_count": 0,
      "outputs": []
    },
    {
      "metadata": {
        "id": "CsJOJeL6y1A8",
        "colab_type": "code",
        "colab": {}
      },
      "cell_type": "code",
      "source": [
        "fig,ax = plt.subplots()\n",
        "\n",
        "def animate(i):\n",
        "    ax.clear()\n",
        "    X_test = X_tensor\n",
        "    Y_test = y_tensor.numpy()\n",
        "    y_hat_test = out_arr[i]\n",
        "    y_hat_test_class = np.where(y_hat_test<0.5, 0, 1)\n",
        "\n",
        "    # Plot the decision boundary\n",
        "    ax.contourf(XX, YY, Z_arr[i], cmap=plt.cm.Accent, alpha=0.5)\n",
        "    ax.scatter(X_test[:,0], X_test[:,1], c=Y_test.reshape(-1), \n",
        "                cmap=plt.cm.Accent)\n",
        "    cont = ax.set_title('Epoch : %03d    Accuracy: %.2f'%(i,calculate_accuracy(y_hat_test_class, Y_test) * 100))\n",
        "    return cont\n",
        "plt.close() # Dont plot because we want the animation"
      ],
      "execution_count": 0,
      "outputs": []
    },
    {
      "metadata": {
        "id": "TzrIm8trZwtm",
        "colab_type": "code",
        "colab": {
          "base_uri": "https://localhost:8080/",
          "height": 309
        },
        "outputId": "a7f2abf8-b497-448e-b071-fa900c3e7ed1"
      },
      "cell_type": "code",
      "source": [
        "ani = animation.FuncAnimation(fig,animate,100,interval=200,blit=False)\n",
        "HTML(ani.to_html5_video())"
      ],
      "execution_count": 264,
      "outputs": [
        {
          "output_type": "execute_result",
          "data": {
            "text/html": [
              "<video width=\"432\" height=\"288\" controls autoplay loop>\n",
              "  <source type=\"video/mp4\" src=\"data:video/mp4;base64,AAAAHGZ0eXBNNFYgAAACAGlzb21pc28yYXZjMQAAAAhmcmVlAAEqLW1kYXQAAAKtBgX//6ncRem9\n",
              "5tlIt5Ys2CDZI+7veDI2NCAtIGNvcmUgMTUyIHIyODU0IGU5YTU5MDMgLSBILjI2NC9NUEVHLTQg\n",
              "QVZDIGNvZGVjIC0gQ29weWxlZnQgMjAwMy0yMDE3IC0gaHR0cDovL3d3dy52aWRlb2xhbi5vcmcv\n",
              "eDI2NC5odG1sIC0gb3B0aW9uczogY2FiYWM9MSByZWY9MyBkZWJsb2NrPTE6MDowIGFuYWx5c2U9\n",
              "MHgzOjB4MTEzIG1lPWhleCBzdWJtZT03IHBzeT0xIHBzeV9yZD0xLjAwOjAuMDAgbWl4ZWRfcmVm\n",
              "PTEgbWVfcmFuZ2U9MTYgY2hyb21hX21lPTEgdHJlbGxpcz0xIDh4OGRjdD0xIGNxbT0wIGRlYWR6\n",
              "b25lPTIxLDExIGZhc3RfcHNraXA9MSBjaHJvbWFfcXBfb2Zmc2V0PS0yIHRocmVhZHM9MyBsb29r\n",
              "YWhlYWRfdGhyZWFkcz0xIHNsaWNlZF90aHJlYWRzPTAgbnI9MCBkZWNpbWF0ZT0xIGludGVybGFj\n",
              "ZWQ9MCBibHVyYXlfY29tcGF0PTAgY29uc3RyYWluZWRfaW50cmE9MCBiZnJhbWVzPTMgYl9weXJh\n",
              "bWlkPTIgYl9hZGFwdD0xIGJfYmlhcz0wIGRpcmVjdD0xIHdlaWdodGI9MSBvcGVuX2dvcD0wIHdl\n",
              "aWdodHA9MiBrZXlpbnQ9MjUwIGtleWludF9taW49NSBzY2VuZWN1dD00MCBpbnRyYV9yZWZyZXNo\n",
              "PTAgcmNfbG9va2FoZWFkPTQwIHJjPWNyZiBtYnRyZWU9MSBjcmY9MjMuMCBxY29tcD0wLjYwIHFw\n",
              "bWluPTAgcXBtYXg9NjkgcXBzdGVwPTQgaXBfcmF0aW89MS40MCBhcT0xOjEuMDAAgAAAIrNliIQA\n",
              "E//+97GPgU3IAA2XOop6H+EVsfSQUXqx2aBk6gAAAwAAiYGOFkC14w/xHQA+ABtSeRXJQ8mpW9AO\n",
              "A1G65iiMulZmjfwbHLYURoT8tMJloZZt/Oprf+g4xG2SA78cphdlFhRBt5iMDKwWebXx3152y8Oj\n",
              "jUqgeRi8w+8ePwVu/TNiouUA7b6GRkmqp6s0b8fNMKtKeyYReB2UDHLPw6jpCXOeDGp/yovnWdvH\n",
              "GD63QCOO70ctEBlyODBJL+p+N1IKmgRX2A+2d7OwFacPXveHnj6sKAt2imAZMSv2Edje/uKl+IUC\n",
              "rRQ9FeopsOgKTPi1iMA4Y2dMYBs5itqO6iqU5wNwwgXf4FoV+8EG8vaMrJqBHXJbsAzp0U2CjFRG\n",
              "x0hdAnmZj0Y+RD/4MB8IESES3ei5fe5L0vM5pU8+mrEz9UyccG5ExD/+ZODAD9ypn5ySoM9mH+0s\n",
              "y6+Xa98n96mQ0BfKlZdPW/rQC0SNqOIHXJhYwlpq9gI3Zd0IjZfJIJx24dqXaGOHROiXt4VBDTPh\n",
              "jeutF5W2dVW5oRCDHgJgyuEQ2BRV6WqK8cn9wyJJxBLIBepsHqBYW8kvsr3Gpb3TIg502tp+a2TM\n",
              "zvbv473ThQ2bQBrrbUF6imiqOTf40XVdmv5l+TnEY5AmHdK5+uqJ0ZFg55kuqpLdQJVNUaqYM1K4\n",
              "InoRExQbyjBUx09WEec2IMfMOKhkRCvWc1IbvK+sYSibpWUBSKT3uuvGkJWmDuReEGjYnuM/lGb7\n",
              "VT5sNVw87oPxodNP+AuzfF7QllzT6cUdm1ifeQGOT4xbhae19W2PTfU3aZtEWWQ04h78zgf9wGNa\n",
              "EautIdKPVzAcyiXRG9zPj0aVFTC2FviTVZ+SNhJ3Vz8q/bg3P6Iq2N+hKl9K8FwO3zyMddx/NcwM\n",
              "xunD04qIhDZvIN+zWof8qXE7aBqzdw7yNzRDAQQ52Y17thnRRN3PGI1T8AIwRRhr1rceSD1HbGTl\n",
              "EKP+tpV+bZIgfSaFWY7SGYYfk7L2uHuHC/SdyUjj0E2kwE9zFfdTgdAHKXMRwR4q/VQ04mzFOkB8\n",
              "ffk3FkAl6UdMq/v5Xwe9+kt4VWbS4ZfDB+2JqqjqXbHf+TAwgDCuV26A1ELRoCe2aIhIEonnief1\n",
              "9Edsu8H7A5jQ5V99obgdZf9yDdTpYmKexrCSLdTkCr1ml1vb6fNbZxQLRa+cQ8DP4KfResdkdD7U\n",
              "pFd/2D/TNZjDpnmzKbGN+RrMZVorBy5+Hg8JEH5tNkd7ekr9ht1uo40urZedW2LkviEtEKxypiSh\n",
              "6FnPllhP7Ay1qxMjKOUSZs8RhP/yuvaF9lC4hYGdX9FWepibdryKruW06lByh/GEwrgRsOnW7z/g\n",
              "OqeyCfQDLvMuikoFPXwOxhKzOUpIMYPK3vFX9PsvkcS8xgCFz0u7/Sw8MAeDZ4aF/h+GvYRQvYzc\n",
              "zeCPDxKFTNm2J64bTkD97eH0xxGxw0np2u8gqkEpoHgjcgvfARQ9kfkVOZyTLKcYHXWBYHxAX292\n",
              "MiMSmsMvg4nmymUZqfmd72c9YcC2ZK+FPVJLwziRd4TPsq3jZIYg0RH94xD2LZyMbGv7RQrXy6Td\n",
              "O9je4eextYCRgWAxptcCiUnpXMTYHYYXIcUXVGDWpWEjs8bC4x0KHPcW91owAY3953cdoBsPSzoP\n",
              "zKV3sSyOkAMaJCOSAA9F2x3dQVKnuobRTnyn1n+SK7jIiWQdNAIAmNq+itXSvGhJI/RRf+/2vBLn\n",
              "w7/dRHJaxl/GDNZ1ZR0i65jyYPdHl5yFFo0ygLhNsy+elKWmE2TZCr4OjlDkS4RmjTVKgkh0QSyr\n",
              "A3dfjL0l93GHQooYpn2aXfFdta3BPM+Y+5G71uHUP9nZS305FC6o8DXBAA2u72Y0IeQaXH7WW/0U\n",
              "e9aoDCsFxv/vXt+lKR8NY8OM/6rvS99zpBTVd/kD92jBVr3enrr2tTrjJPX3AaMPTuohC8zHSQfc\n",
              "S0WxlQdZPg+Ab3W0oM+wkp2pkR2/WmsuehSbssw9GdRn7zCRjwD3iA1SXoJhVtMKcUy7aRYz1M0H\n",
              "eH96qPa3vhKkozEfl4+JDB6YDlb1NtM2BPF0egPuoBuk+5HPNCvaZHLy1i3GwhA7RoJdof96+Zs5\n",
              "D2YZYi7nwPqNXyeKkLAm1nYwBq415YWWyUC+iAEXm5Wltl7ou8EYMs4AqVEcgJ2IUIKXP9BJJoyA\n",
              "xSPQeIfiuO55VklRGtQOPZSRE1p+mx5iS05Bt4oR4LozCR/y9+jAr1TDOZC81s/QzdrdxquA7Ihw\n",
              "5dtXk0R+UWVomMBPc/MTD59gE/karH3kpAKcnevr2pCM9tK+vY/xSGUUwMjCJ/0WGg693ppaay5s\n",
              "QxjL0lU2YoTGx7hJ59iBa+e3TttL5jnFV0l6+ZI6cqfj6C/WXXFsLS67v+HOy3WfOyVbsu7fB7eH\n",
              "d9jSkFGZrYFN0ih7XQZ4ZAMFHoEVHtW/TcudMSF1xLt91JN12xYNpgG8uNT4P+Vm46dEiue4xvH+\n",
              "TIWGWLLx5UHuo5K/8R3N/5PsQzuQmNaLgND3s1BUkG8fITLlvobg0OAANdHj14dIBcFlRokh7PeA\n",
              "CMrFuE4G+8hF55fKNibNsoxQNkLvzOSGkuf7vdOxY11TpeNO7eoL+1p9LpdQH78YU2uvpape2Wef\n",
              "e1H6psUHeKhC8L4Ls8bU9VK9FxWxbiNAObTlDTAhtd2xhYEV2Z0LnBlHnEd9GB9qrnsykjHdzDjI\n",
              "jImbo8jnc6JXH+WdFn/G78auq/HCQv3g4pnl01ygiM4t9tjYlGEfTxro0Ez9T5DARIBOYe5+P+JJ\n",
              "FrpRLbKRh8cVngpNO0PxAqFzeWGK19ngjN+LH8qoky2GCuz9JyxCeFdKzJZcrdj7BzKyIWBMgps0\n",
              "St7abjnvNhCDhpmIx1ruViAfwnZUcyEKWXZDWkxa29V8tzIyJ9eHNuBvA81Abj7vVFfYd9ouGTJB\n",
              "x7UNJmrGY0PKF9fX6Kp/lL6F0srYcKF+nZLZPfLC7rbpZCzpUqmRxEZAwuuuFnb03CMJ3oZsyRzY\n",
              "djLG41lBBW0ZlDqcupRf3MD5XHNhdH1jz4VIHIboWPtNoB47n1igklVm8U/zcQMeoPtHCPOfiq4g\n",
              "/fOkBVoUq/Su4SC1tnuxyBsnTArVtH9wQ/ZGKXSs3Bbkyrqhnf3i+YFo8YC5+ks5I8fnkpBKE+tk\n",
              "ZE+UM5p0ia/+c7GRLMqR8qQtfBONA3/X/gZRWkraf60nsdiflnh73DltU/bRu6gEbBMSVqNfI8uh\n",
              "924E2LDfLkLkTDHNhuu04NpDaEln93kbyWg2IFsDFBL0Fsb4ic3QbWTCijZtI+qqXwdv7Yswhy8s\n",
              "JcyLteGnrLvqCVuSQkYkywux98cso0Alq1+CqnHqumOZkRIlXk2CQkW7sKHMou9SQmonrnDSKjc1\n",
              "h5FQLDOSp7/Y1AMJ/Ka817CiAI4VKHojF6nkxHiq6+8oNWFlPNVyRxiIWjCAgkUlQBGXMDRxcInj\n",
              "8M1AgZSDT2Awxu2Od5Zc3w5zSVd+j5G2DsuB6C7A4fiheDj+/fvHAWHRTevM0tXKUBsjcA1QgzIz\n",
              "Hhnbb3y1LcBpZiCahrliM6gbvWHqZVMGsOV1AtK7HeODGaM/N+F4IFxZ55SwfHbSNAzBCLOSsbbJ\n",
              "q5jPDmsz3wuk8sCU8IMFu6OVYCJBr83rKEynL3ggLjJU4Q37eZPkhZKrFfEiWroEJnSYHz49mwiK\n",
              "HU+eWfYul6e1z2N6BYXdqMRAvSb3mQmgfRxFkTbNsykeVmnOhczOmR54w8DUnDAFg/jeNrdxzMca\n",
              "+xJhRo2Xq//2CRgDQtIRioXIJQiD3QTDTM/h0DrpNzXKtpu3XU1++PNpC5dSdT9L1eZd6qCOOodP\n",
              "L3xZs33DobEjaUPgPSnO4gecFY4vutz7F/DYsB23VgJB3B4QZ1PrvViBq6C9cmqHj/1GTJGTLj/m\n",
              "uMenBonuCqIrvYUt5dGBIqdAoQNr9LpJogT/1xeE/VFSwG7J4dc3vqGj/AE0bRjjYzvxPrJiT1Tx\n",
              "6z3ixs+f7YIkOLFdyhMPi1jHDYcuJ1DBvOPqOuBlGxKI+04801IRMzsIzkBQKjX/5+NJFbKLAdp0\n",
              "SSeoLcig5tZh93K8njdGZu624XeeO6FEjmzFVa0Ysxr6FK+GgvH1PYKok3c3eRdpeb2bkY39CA4k\n",
              "VIJEy4FCpzAl4nhlw/4/x/FKCQOAfZrXAA76wax5mpslIxmjCB6+DzG+IUP9Asvf0E/Ch8rnYxGB\n",
              "PL8UfCbCTCAU9uiutyavucO/94+AFU/MPWH15yJTLJw00K1qJrpJdQFTWpT3/XudMNQ1jPQwZQ6F\n",
              "b4iScJESsZbfHseuws4PUa6//2F6oIfVSGjz4bnQ9xzhXD74z8xhCkgDjO4dsg6IgOZSTYkuqzCF\n",
              "LovoiZqE14FWmyVDfOc6/R9OOYYhuoJtBdZ1zZ4q2o4i8TQdtSJDctbXicZthmFEZom2o/De7+10\n",
              "X2w/1BOn7+AmPZi4VbpQh4CNol7tbi1YBb0NVrAKEGcepoGjHmIZIzKmFpB/aK2jii2MKseze8SD\n",
              "SAYUVOML2J5VWBSgT/I18eYfRpIKtBbTOIrO9kc0wXaAbFRxuQJh3HJsBBReamhPsO65aA6qEvDb\n",
              "wFSvZRwxy6UH12Nb2+FalEDFfPCn4usDnaQl4c1uiULtULTL12cDwk2EwuDQcb/t2d0cdbh9oK6O\n",
              "wMWR8Vrlj3Za82GGnI4cPolUljtgx/wSKClierXTAFfzNw8t/zc1fbfaJio0ZTc4MHhL1Rw8MSky\n",
              "GYvn8OKoKoaFlaVxqxGWdv+0+FVRjbOhhjWaiiwhfJGv55h6g71opjiTM9IDXivYbynpm9teZfkc\n",
              "pCbzjHwWm9lHMarw4A8Lvak50nKRRIJDB9+IoIuO0YN49ec/r0AcZwWWJdmnFvTEVEjZnEWvOZ24\n",
              "gNE2/P0VJreweuZMny9zMd09iunH1zWkJ1JedLPtZ0L+/Wd/4H5S8SSISLIQ6XIy20Jj/may0zNQ\n",
              "ILZNZbjfZY2eBOpD2uASJh1WDOuvKVA+Ft0VOaxvoXoSWgmI7kk6MnN7/0R3duzyNrA4uKZBUqgn\n",
              "qpHWq4sYttJrmQey13tJClFSJLf/3EOCKOUxg0P+MS/CvXNpId5feSEFiHcuMI87/xmFLrpmBuv1\n",
              "2xSpD0aFWqR/9AFpjhWHjlY8vKGtE1u4atNyn8qov1p/A9jl9LfVwbsKotrZ3dnXuGVVcvA3moHB\n",
              "QDW3rGq5xGEtFYwzQlDNTlVMWsMoEbcnOhl0Xycg19gzM2BqgkfPK0JGRdCQKQYPFQ3WMHjCwM5r\n",
              "d5kXPXUcPezvc2RoKKt7vt4v+W4+8Nh3oz2z+n1Ampg6QnKpoSeo5lzp23dNcjx7mxTOshJH6xgK\n",
              "Uqe9dv+RJv6IG9a0b5e9EboLSZzZqAKv39ebhCSVB3LpDQxCp6Uw2odwN4c3pl/SD3TTv8FMpNef\n",
              "yVoK2PoIFO/lefXqOQPmgzbSdDYg9P/98l6be5JU4jePEY+Tg75s/oxugwmOtWuqZGszmIugI2FY\n",
              "D3DfNeFTpCrYBk9nX8w9NgEJIxALIxiBdWojF+DOwKgoIRH7DEyNPXOLYJ+WkrQreo3gOLBkvYz2\n",
              "kEn8yXlQ3SAvIiJH4OClkL+KzU9ESxxirkidvcLqjkbPRinMtw2RskI/qeVkDAKRqYnbjYW7cUrB\n",
              "b5wtBPnDWu/904RoIJA8rGimAooRnUU7lPPA2+7PAPnyIphukQ/eCVueatiAUjRtKp0l+yfrm0lr\n",
              "+GvFcZkYx4YcPE8GNzXbcp/O+a91MnSjtrMeKxEt8G3+5h2LJ+LV+Yh3TPE9B7N0AY1vPwwf1FvY\n",
              "HUPX+qo6RysOEhDP8FhJ80xYEF271Rgg7ycbTfqD+Rvvc20ArIBGSkDsXBWG4g7PIVFX8ZimuRYn\n",
              "ZTEoATNR7y1DrlMyRU8HO8tCDVfSGWd4zCBoPt50wBjttSeyemUs7Wt6RF1nKo2Mn8vqEjXqrFmP\n",
              "p9hU1FaIupX+alQeCRGR4dkGOUMH7CaiH2hpSd7PPAr2CmOksOQTZeJCprxBXTn6rUtk/92HFbOj\n",
              "Rah8RFDhoIYGFWC3T6QtSnZ5VXsTvnCYKH6GQZuMtOylyLVULkCkeXDaFbeIN9U2DeXL5B3DNfkf\n",
              "iQ62jn5ahrqSBP+SfnGKhrenJYInc7soC9vz738ArHUkgrDwSV3BezuvlgQxLzTVe7ZhdThlLK6C\n",
              "IyRLX/mqxOo3wAqOiVsiyV0kcTOE4g8I36/ph1bBmRhOFMGV+9Q76cmp8hgj4Mv9or800e665fra\n",
              "6qXkEvf5zfuRSlb5jOlVJE+OrQFB/hkIAMejrKiDkzbd8BUtSpfaOSEqkQgSgGFwbfJ4wti0dQHm\n",
              "h/+BHYv3IMh9y7O5GBgBoVgXYLPVZPkTMh2NlKg0lSlLZu+WOBs2/brKLDXmnPQjUM7ExNSGv/hg\n",
              "g8KQZrAa3RZy+VyCXBkp9TUZkbt0mA8GfIv9kYBU30rrTN3jdEajU6WxuFagyypBh3eixyHX5jZU\n",
              "ndydlUi3FUXGgkib2ygiCxIMZukp3UaArC7V2RCkMs+UBItZja0pxgYAteOS3751f98uBpnVa6Fs\n",
              "pKMWzxwHq2qQP4vZi7IUcchupXQTrzh929a9wL32KiYcm/E7bHuCa7peJ9+qvV/tCPgGdOmTRlRR\n",
              "LAuu2Gy1I8BGiOQp9SBrJ8o7ezodVH1WjTNrJdiiz7rFHKg2CN65Qb7EAeTA8VoRlzvPjQ+8Zgln\n",
              "a/yZ1LUyaptXv02cm8rTVQIGkh0rBb+GoKrTzGaSlFBKWBe1sAv9i708HWvlr3jXD9YMzuRTc3vm\n",
              "d2Z7c0mlzTeeW6Bn/eLhre8BHeT1Y5rTvxnVIUlyqJQPlphQyiIDglHMpcfPS6A/Vs3RkpqS9yvk\n",
              "PtuG0MDiYpEQgivsxbMwP4QUjxziL7LAfk/PAFKu1WdEgdq4oGZJIPkMCs6A99aB0B5C5SAKgoiK\n",
              "Sty75dA6W8X87BphdPDj7zaQtnNTFvPQ5o0Y2eC76ACk0MxNQ3C9UzDrn30HqascQHgA9qKx/EmC\n",
              "N6Ejdn6JATIOaiEf5q7N2nxkwTM2NV57lER9aHRqCuwaTuEfDooVGXpcc3eMdRIsuuUnysAxa84u\n",
              "HMlZNy/uOseawL0thEzc4uX1Wpo9lkvNE+bE2lD54ihxxlfHHqyN5lXSlMMg65WUp1L+4lQ2VQLv\n",
              "8/smdEqXNwRck1AiHTtE/BLIp7t460W1Um/pnc65DaNcCr5lQWE+T1EUnjsZUaN5cWNIfecUg42O\n",
              "4SiFK9cnULuPmMcDOPnTAHDJ3Ilmbv+XEBuLJvJ/ypWUefnzC5N6qBXY0qZJgDGj8qTi7zhPLedv\n",
              "x+IkjcG5zaU4tBGAiEoG6FW2c7Te+BdJPEcAL4duF8Dlk3Rdih5W3qROgBQXlvhf9gfxnyX2yxJ4\n",
              "kNF8vHgu3Sxz9E0F4tw1qGKfT1zeH9Ov4zuyoNCT3BJ9ys66+DUWNk3mVl8m6xrdGkqbhzdC2Hzz\n",
              "wJPCr2Auel1ym8zmNCuG8RHNKGo56p4TL/oEbtT3Wj5QW20rzrIQ42unp1CAbePOWKya6LLxXlme\n",
              "64S4HgWTNoVrDyfU2nOKhLLu6/Zhikcsf0AaxQlDXtU7RDhfq1yHB3U9UYkEAUqcBjiRAZICXaWZ\n",
              "V/jenuZ89lupLkXnGzeC8+AAZqU+3zHjrH/Zs7ZS4ObGWaRXFBZ8tOW/idIZ06xTgs7n8sWJOBQ8\n",
              "C4qGmr8u5/As86wVr22bOmr6DHyx3Wt8eAr4cyc92oobrgF7m4XRlB2dCOtYp2/UikY15STlUzyt\n",
              "b4zqDn65LENXQqy7VeMjOda04GeEiocp5KoU/4014DvLcXynjseW4ePGsQouRjtkuXljznWmdg3p\n",
              "bsxaFxqXMmLDLRWy+oIGs/pk9iYHEKhdqr5NtLbxx1L16mJhzGcbvLu9sT4I6e8Z25JI+9QZvPFU\n",
              "YTb7cP74/T5xqg4tHiohidqYyRu46OQc3QX/JUjPcZa3y14S15Zqz1s8d9qdF9pWoCwRC/ssaoet\n",
              "0IU8k6MBdSmH4aMu0sDJj3I35lJrJaq68uY1z7KaWaIC5xci9Up3z9j8KuOJa2ws9xXI9K8J0VJk\n",
              "M26odtgZWnLebKfyPKv6w6Auv2CxersrygBIkPYU2f1bLSTQxXxeZ0rqQb+LAs0qeTcIkULf+HQ/\n",
              "XAivKvOqAo/P1phLOqAQQ2BsEUx623ilIBUNLPKIr/UHKHQd/TR5yAH1SCOoNrVuIXjbWXD1qDn3\n",
              "YGuLk5SHDhTfVthcxgo+4q2eCL7MARMWJqpJTI2SL0Z4pWQW00+qN7q6tQ2ZpUnL71NBjIWXKyem\n",
              "m4SZD5zgts8udJtBYHC0pr7bhLqNYn2g82eakplaEM8VTkmUAYQ0waxf/3KL8XrKYK3ZdQS50qwe\n",
              "qiMXRZZ/0rnYWtIA6RUF/oObbFiRQCGbCiX9J6mD12pnuSXxuWwX1F2HzVDn803dJfP8j58ozILb\n",
              "0mbwtgnWag5An81xkNf1kCVo9ecmKHJuSA9n095chbfH00oYksiekoAJQj3aYOHL/UkA6lC07OkT\n",
              "xGJ5GCw4qwNtiBY45NftV8wG0Dv9CPw97FqWwTxNb7O8IkEt8ZAfNIMt4abL0OHIyrkrq2dxFSz8\n",
              "bEo7mdILflC8BE0MUshj4spptlWSvyLojjYhkm0Ha5ZypkVoVVERwif8OzCI7ju2UcunacxvCQpq\n",
              "iy8VKSM+fPDCPCGq5s6kjx3aGjFw6c50XMTVuWxGD0Txpfu7u//Z9sfIcPMQFOaXeYsNboSPYlHN\n",
              "WXzmEMuXRoyXr9Jbr6NvtQSfgFrr5bWfTRayqfuo+npyNR8mT3cRASp0vRm0YPfKYhP6/voGRlMC\n",
              "yXMZi5iT2bbHCysxdfgde5vNh1GqPdR4scvmmqRBofqvPPHukuWnV7kvN2sOrSXUIF3rGlrb39/y\n",
              "UeKYVTjSnE9DAhiQ6cKs17iA46d9nXusO5O5XsOmOVpMqfiTNNf38RxRiK4oRllSXdsTrKqb5cS0\n",
              "ZzlBQ2KSonVsJluokhp+4GpaSamLa1FmCYnPZ27LPoHht1CKFPS4sHjVSbP9vMWIXU4BKZsZjSlg\n",
              "WUVLrLv+rWh7lXqu/JA7Swcx7M21j2GqLnDTtzdOqDc3MSdl5OMPjKUztgVk+spiWnLTLwVR09mA\n",
              "5WHdn+mjGzZ/6dskOmHLdPyqKwPVoDscrGoPkZNuNlvBZONZ6sPEcd0fIJnr4FJ6RNJScz/CVz4V\n",
              "iwoY3kjoaXQB5lESl7IYhAT6m8sXYTNZHDgFQ2Kxzd1Omh52Hejkw8JQuHX+PpNVWZFJDgYGUMXv\n",
              "gANSp73b/2h1K49WeRl4KRlvltgmEVDvNu8GavrQBPcizuPHWzkevz3AgawpJq//2fseWG3RUL/S\n",
              "dfs7MZIE7eMRDSGrRhyS3woHVzSMAlMV5MzMXLSJoplVjFppkbT02ttEOteqc3NkW8Zbr0ccw033\n",
              "torRXqpVAm/8NVhoseeyVkCk1/16lSw5UWwREIKRJ9YS8znYwYQgKx5+6BmLyeYkmG8YvF8QwAxz\n",
              "CQAAhYSXJv+SqsL8suHZGInYsqrafC/234mah09aj5K5uFMd5IlugBsZf+l4x1e8Qys4EEvcZAc1\n",
              "v0Ff6+dCEG02p02LNq0wZTZ0slsN4hAnz+7Zj0LQNUupTw1Z7V8cMRIr9OJC2HUJ8F2aR2kbTp1W\n",
              "ooYkutWkPTxmgHd9HCrIBczijFy3UQZ9K6NfDWsF8SPZRJz9AThE5AKDpuLYNEIoMNiHyV8mS1cs\n",
              "2sI8/UkZLAzeyWxHMj+CZX2Ydy/Eq+HsXKfjFIUjd/wiW1b3O9B4sI6/6EUX1QaflpTbwLFvev5R\n",
              "R8lBd6EvkX75abSy75mdXlFy5xxis/rkzJJYYs6p3bKgGUV0rX28gTbVCJoA4h8PX/wDRSPx8rRU\n",
              "hnDPD/vud01Wl9rvwcgxAJNdCb9C3kI105U/fWAzUbVv3+ezIoXnLFTT4Zfz4wq6RTOyLxqpn0GZ\n",
              "eGxdLvVv6UTnGDJ8+W0lBJOlSksidpR+dsm2lG2tAI5QjqcN47ba5zHkkVQ5WeiSsGP6Ko05tEV2\n",
              "kzC/RR1l2ADSyVFJzlkfMxnz3vscNfF9QiUEAPtRWLRc4gEjM/kmepMMW/KL9OT3p2T3gFzYZstK\n",
              "lEY8GVSTl3G4O1Mw9IIr506di6DugpHr2Ijb9DZLdE8j2XLDvHLjBYdntmW/eUHcH31SCOIWMqf+\n",
              "aNyZ+OftI+88FoOlj0zFpkWBAwNal4Ne7fDP/snXkbhv3Cr+c6ZlhMhksAQn1N1+FQSYU1//huyk\n",
              "iPD5gOtNTATfmfHAxKTfxqQAAAMBOjNJMLaPYjFXgmGYC/Ue7dNjR2KkO7Mv1PQyW5ani+nflvhF\n",
              "0QcVxnFgux2DW1jm0LwHz+0z06ZoOOiA94NSkwfgNCqSAgmLVeYpAAAICB+dRE8ZtogcAIBYVbDY\n",
              "HctFJXsNJtLsJE1Iy5hOkZjlhyPdBsIy1RY6SQke7O60BX8o3IK1hauvRCUf0C+cYOimsaavuiZ/\n",
              "0S1A2dZXiEi7iabrF9QXaK9DzZ6Nz/MGn5D0WRtnTi8uukrTY/8rR2e24yYvPry+Qs233xqFphK3\n",
              "hFbKmA2xCxhHgje/yrVxHQh/DgxjjYmCT/c32jZP/8m4VzkoMpQOi2htmYJwe9/qu+UBourDvKRE\n",
              "unsfkF4jIaaIqR13qyyJtH6Gw1v9fO6AVwmWFZP/Z8YUUJebN6FyEBxVfq6pIFNCgg75XY72myrF\n",
              "QEWXzAPKeRQSzTC71Rh9+BbktsNdtiNbTDFg3cEdeLgw/5A8ZZgumrZoQgIrZHPLCxUam7oc5lRW\n",
              "PekxnJZMQXZzBm6TIDf/uZlgnHj3BtG0UV2Zbd+UJiVsf5W8wbbJC+BzqKWTgMPmoVfspLgSVaS+\n",
              "qq0uwUHeRIii8bV20rDVmXKoKZthfagkwC3CM6uUEToMmS37Z3e8JOH06dWQrbPAOzOz/jeWlUg7\n",
              "atEbYdzhnkpQRJsnpjbaIXF7sDl9Nqp1egj2twY0/nw7szmFXB0PT0klY3M8Zeu/dBsuEqcAAku1\n",
              "47IFnyMJHLfbU3UFRQ5d3Cj45XYoFUHiSSr2fCXjkK0iu4QUvr3EfOY1035BVa8vOWrH/MoMbfa0\n",
              "0HNFZ7APh931pbLa8PzEaN/lu09x3tQ0ytUqywV7iPl4lAWPGQ8sdmDtel3SkmwfKvBxZKKQaW0J\n",
              "YZ2sk0toNcjlKe+7eWcEex+XAq3LWTIfj1s4aDRRY2jcjcqRRbNOGeOysqk8uECrplJb9BE8NUJi\n",
              "ZxfaDHVrYrVzuXx6GHZhzU/KjemThdSjGvlixmO0/ApSrkbxaj2X4YZjLNYxGJlQ1BvZ6j+QJYmV\n",
              "8cgmPkyQqlgQxEH2zUw/12X5FborK09pfdfpwk+Hu0y4k1ceKJNrIli3d3QFQT5LJ1Cru5nvpf56\n",
              "4sbmtbrEoewgDcBQJZ3Iaqs8gKBvZNVeZL3GqhdXGMCC88bTAcFCXYGU9KaPMa4cn6czHcSasyAq\n",
              "Zqc72GQ0o0oY9TeNw+HZcnixugsfNHwg/1JLyVwlA6pa9jynW7uqLCzemneQr+1jgjG6YYuLCDZn\n",
              "uXEa59eMFklWhWyS+Gm/Kz+Kx7f+wwU4Ces7vpplipSb99n9vSCVjeUeVkAyfwsRE1Fda+Zo2nz+\n",
              "sCo+8raDPLTJ+A/K2hBvMbZ+84zweYYDjswsjrEqPmE34ZZeKDrV6wGJ4bx3lkm3KWLFhcxT55Dr\n",
              "qVZijxZHmUE403Lc/VqBDhyPvfmxVYrU22P9i5kdi1t+uSjReyLTYAAADJkAAAHqQZojbEFP/taM\n",
              "sFfZqAAoO6TAFtO217jRbW01SSnX5BHsJEGet/gGxzFsXmcoBhQXc4jUbtUA+48M42Ys0NSL1GKK\n",
              "r261wbmtJeRxV6x2CLni2B0zoMtOLcmWuHAU0FuDkr85dGGA2NZIgxf/14ckx/JYo6SASqLvYTgv\n",
              "FHSlqieluhr1tR5Iof3HSatVuWBoSvdFmFFKM6NV3Syl6YFADetGtNYxbDZw3fFuOUopr+ig3w1Q\n",
              "s2dCGLI91kUnAHnTdn1zBAPKLUEPtwz2noTIYjeu3088e/mgmB3hwJUimgTjLZWR394mVnnf6791\n",
              "jRif3Bv+U+Es/rwkAWshG1/OPLBCLzLmqXNHoJgNFfVwDKvrYYElL8zm0m7B8CcePvviwtEY/QHD\n",
              "rG6X9VDD+/Rx5I7bJUl3vap95hHpDaoDlJxPkJOzBy9SZee13FDQOhq2emPtnMBV/dX/zDYicLwx\n",
              "3HYe3tZPyJmAGpaM6AFB5ixCQ1RnlMmGKDuw5HeL3YItS9+kknNts3m8cBfFAvUrCUpS5Wp2tXjH\n",
              "6akMTvw92oESCSi+G4Uttx2mTjLocNmMBY19QuuFrxS3nnRP59V75ngptbCCKg2RpWyeOAClxnUO\n",
              "SLX9mZgl1tyHPsAIgYjO7DmC6ht5vlBiQAAAAGNBnkF4gh8AVop2Y+QZnjaX4i96n28gAEQfPgTI\n",
              "diXVPDvo50A4ZKZprodlgb3tR7uiSpEzdERv2Mlg0ie3Hl7JZ0P1g2tQk4c/kCa49v5g1DTSfkCr\n",
              "LmYkxUAZdcDaBv88EZEAAABBAZ5iakP/AI9htdgA/OhB2d8P2qGf8tXNxJtoJ7J3+eC6/1AQlyRq\n",
              "QpwPwr6SgBaDSDVVQ9DN+AQo6BDEH+GP+HgAABuRQZpnSahBaJlMCCn//taMsC8NMi9kaZ4oAKlU\n",
              "xwViurVLcqlfyiznpuR3FkU3wlkytMVNlS/aIVyAH8xqmFF+hX7YJ9SZJ7kChx4A/EJTLgQlG4tq\n",
              "mv9zrWi9n7p12l6JlcznJ7X7FkFK4/YbUHORGHBslsZ0izFmAmUb1zbM5IhO/rBHfk2Y7d+HNGN8\n",
              "l0c6mTLNMd6nX3UA4f5oYczqpx2u8s8E8R3D98ERrbfcqAxevjy5tI9ousUcZxkH1aqxIDGrUB5p\n",
              "bpjFkhIMsiV0MVdDivynbHACKRySw4kJ+B+zILP4yHWibYEaVbfbLg/zSVZyREQ+wFUxEfBS23jZ\n",
              "eqbihE5l/c6GCRwBeHbpu8b4aZllWuaoBk5FVQzsIkJbjWfb4mxkgx712X04Zd+qusY92JYe/t7k\n",
              "IAoTTwmNGCri3KTzkVbdCSOIXQ/1SNRLz72+cod/NnF3gi/O9jZVx6mKXwW1Y8kLSfE6nD5+1RDN\n",
              "GUgzeVKGG4s3y7H4koH7tiXYywnLbGymfYRv1oV1JDopj0QbCoM4bC87vX4c3+Kwy7xSAGn7o4sN\n",
              "2Y/GmDxNxCmPpt05pMtBda/ePqAPBg0IAOAJ1R2hvQWKBV/IogCrMKyBWVdWHP08jP5VdagK6DaX\n",
              "NCr0wGIwFXMg/uNAqj8iQYp20AiEEzR+6WCDE20faLCQVAJEWk9eMV97Zu4LD29PAM1X+9+7kVnV\n",
              "PAjatLFRYWXkdPrtj0kTrLdLkXwz+pvy+8XTkteyHzQcmpAAjcyXCr7pvy7BeK3CGjclMk2Vk77c\n",
              "tF4RQbXo//H+5w8dhaWqdRbRV3se+dvQXciotwv/sysFcCxxa+AP0Zo3oQbLgbFpqShruFXtWIDd\n",
              "DXs2OHuuFjWwyFXeCmpJNoHpK5uUmJKN9FzbtC1eBF+0f/XUP2B6x46cAb6DmYDF5+Rh1tvn0aJA\n",
              "OmqmnWpcJWH1NKW6WSBrZFJs5zll8KYOx5HRbhn8ij1Ks79mQz5JLPec4HdHhMy50YRLudDe93HV\n",
              "XbAAqps1B5MBn+GODt05xdXbRzDs+bw88IZ+gsO8g8nCCor0dvj4znYlmLThCqh5LG+F0FM3juVi\n",
              "EWh2ZFKZpGj0Jx2u7pAb7h86kd1CxiBs3/VYSu/1kYG2oFhW5hsyDNKcqqAkAeH1Lpzwa6Q0dhjK\n",
              "ypAGBeCS4PDJOOIZ/5qjpA3heHpjGXIPexmIKpbUge1ijfBcqFhGAS87LucCK/vvdErjByUEoqpC\n",
              "cKDqB1fw2vZ5fi3Qp3PMCoqtDDT1WDnVEM6sIaDQ4w+eqeoP5ER13gMWHA7R85L8YNg0//sb+08o\n",
              "XVgKqzMVM0oKOYfHaLmOFe/zJRHNixttujLkylETIurRhjskwrCjav6ZCeSUzq1Tm9CCEe/S0SAt\n",
              "IoUT2R3wm3bBMRC4r6S1+4cF54xxnzn42crG79dA0uvVlblSfsabUvt1g+oiH7CiKBs2k74JhkVU\n",
              "56NfVzPcTqjnw+bIK4DYVGVXIzPRVGhHK2X0jUD3KqpLeV/GZX6sp+BCiszHBIC+e/7SaYr5NK9E\n",
              "KqRG/+rfnPZM7Vk6FcTyR4a07bkxWq7rCFcXVhtVn6qoG8515JrX/Hm5hEFEa0D6x8GPAMFYPNeD\n",
              "t6o3FUOfQcSWR/u2s5Z0PWcwFAbKgiwcAsJ4d5XuetAczgqDbth+DYGZK2sxqHAOoHLKt3DG7h22\n",
              "HlbzSantFgLgHCHjN8Ifg08pJoREOrrvklr/0efFpUCG5vfYUBY6L99le44OJ3crJMsSnq081Y4K\n",
              "f9AfM+EUpcRA6fIsxTZR5Vtg64CHpCTcM/kZ3AOELBh3KhLxx1mDwxWPw4P/57AKSe08ZGaUAJkV\n",
              "Lne+iiu3pmtoKz1QyVyuCPJVU9uIpH5/YSS9QV4lIhhbncqSpUD2Kk4h6gPpB5OtSNB1ZfHE4TqM\n",
              "VtH7XIcW1NQ/X9ypG+wSzoD0oAWjGkWw2/VjMpY8VSRyQIaIJNBS+Ga5T3u5Nh7Hur0hAf3zeRDz\n",
              "ReoM/ntWSWiVBpTTTyf9skk5nlPyAxLL7qLHoL4WRj3lN1HG5fkaic3x/Kzu+dY5NZefq4ZrlHBr\n",
              "qw3sunAiv5WnQy2bSqDu97nBdRbrH+LTKDmWxg6ApGu8toZHZj1Ttvv+bAZRq11knxD0IbqEqndG\n",
              "I8jx2RqS2h16ERXJE33tIErTEOXTuMXC/aL3j4Lx0mhtA/N+dYid+2nTZBhUkE1Mj8ALUdc5wkRX\n",
              "i7NMth9j90Xu3OQ8tpa1ZAOKMhKfgbp2wsccFfbbLf3xyYauoRV0TbmkeMFJVQd014FEoJtJQoJ3\n",
              "Cc9WaGlOc7l1RrUWhFXwlktI9Rapl9/0cXeiUr2jOWwGcugXdVhREELmhfTOv6y8sYqEA3zq5s4v\n",
              "utRmyuw5jk8IUgT8wv6XJ3XpBLKjaH7RBe8OxvWLG3L9wYS4vx52vy69YiaQPPOmlHkd50hp8zQh\n",
              "KDZzCvHWXZjZmOdXPBtwB4PGveYmp7XM5U6OWTDbTDoKIxagJx8EzhH+XwDaRGSnq8ex6hBBTME6\n",
              "xjWQ8CmtMlEi5us+Lncts+Mjv/c7BRfe/ldXlBrlnulzFv9SqaH2Wt2TmovD+dYHrjtXuUEMkKNB\n",
              "PZwW3vo5oau7A3n7eJnFGstX0gpx+Tr0ZhC1Q3FSieoOX8yICmvAxmUquWknmBEE0benAnriDUR5\n",
              "SWY4EVIJR3BXKoRAsBDcotMNTAdWAH/NEkNoB6kY20KBoAqfZ5Sn+ykXPHMJUwVwrOWolFviJIJy\n",
              "4oQ2yN3lEVxd+j5O385S5aOVRKPy3H2A8t6sPUfZ9W7GwYj2m8UFU8gs7Z5x+9uRIu8+Fj2eSvIB\n",
              "W/i5wKVkNLPSLmm4493nJyN+4CyaMQXjGpancLdI9uR8ym2km+8MW7WC4M+7DzHbuEPKj1tOlO/v\n",
              "gOMxNsI/kWuqm3esgq5bronjsOEa4AGMwldW5+p1M/JDECxWhii8OEsSh9QoRyon2bWRGo9T7LV6\n",
              "sgu+alX9EqZA13kKqs+UHzCPihKMrqDv7/snFNPukokboERQUo4aBzu9k8BrSmMkzO1DZVV7wgcr\n",
              "gs51QR6Zx5Ct9X+Cm3+nmUCalRgxW+4n1s2mJjrzjiYr0jfXpAzl1cdKGNjqmjfPOhQoAF8RktTF\n",
              "vSuB8anYiwrWfdekm8HX+0zJEP+4eS5seph19g5K81Q15wDquUj1DUYxCSnWOjN/+CyJ/SJW51bw\n",
              "HZ8aAUgPQDOGBhxTF6/NK1WQ370aiDkzv+YHgY4YBYaRz8Xbu81yYmhKiw8RKc25tAf6ErPh0nlA\n",
              "FMaeY502ZcGe5DYckdSEKB6INzoIX6YFCNWTGixeFPc0Da9ZuFILsjdXb9f9OLlIiqdDaXS5BCsK\n",
              "zT8HEoUC0X0G7Ddf9Il7k8y5DPcMPT7yod3mEALdtk9p/m04YMFatGB8Su6In18p0wllG3BoeNkr\n",
              "ZfTgzBqHIPK9yRWRrH0DLfcBcbKHUws72E7MAEsGMsgjc8KVxqJWvImUZe39zH3ukhziyq33q4Yd\n",
              "xbYZAg/JXKSdMOEf4i5iMeJ+KC4E1TT/sKuJsawh/GfdnhjO7/mcDWku3wW3SETHiQD18MANkl2n\n",
              "UV8+v22aAjKFFm/lHDMctqWFzfjRDOnpGXfw3fk7oocOeHDrGCkPiwYpbIHSZjJJY1NUsXBV3hS+\n",
              "mjj6PGmymuMngnEV/X3U/FoWLCLb7rsLCBJgeZK4Ksn/IYJ9JUFILgNK/bYZU6O27oyZgFXq22JA\n",
              "IkbJED0J0h1FYptfpaIZzHXj/38JF6PPyz306tsj+CLeKXIMFs3ycRdDT5PrS50R1h4m5zuGQDuA\n",
              "WVI5/9EKhaLI+N9cNNaenNyT4H/79Eq/6wq57aDo7pTZdfJpyHxrpTHHctQjE/bjlmywz+E8je7v\n",
              "jphYwYesIQMDKxrtjn9eOQqJvDMypM7D47UyQc88NcGqX/2GOLwtNfVz+kWoZMZ9EU80s3+GqWAF\n",
              "2hkqM3DXrl5/fJveRSCgvYZA5Z3wzzTrh7hyuuUf0FRmjt1RmFRp+tihOm4eAoSCN3wJNq+1twKV\n",
              "Zp/qWuSHIhfYRA23XR7O6bD72qLhmM9zLtmDPB0w/J5Q5bgCfAuBja+AnQ7ciJgYSpWn2aXvPXMF\n",
              "B2/KRB+BSesta50BLsjHo2oPJRqoLKkfMwFFDM6Ost1sh1mhoIEgg3Rel6j6X6Dg2imFhs3eIuUH\n",
              "gndT8b1gxWDQSwGUe5R9XAZ7aY3MfHoEylGWe1OzXqjGnmeO3Yn2tmrbMie7rbPuIV44x8VFv3z0\n",
              "MTgpWbe5x0acOJUW+8yLummD2c3pgMiQrHdsfYwVzEd0Dv9y4ZC4MqWhJTKkfZpQdEDVvVcc12/r\n",
              "2yRZNCsJrqbs9bpRl/AvCzkjKzXd1/FzUO5OdecUNk9I316/ec7umq2lH2mUeIF5L61dvyPgY3zK\n",
              "UuUbtGQuuAmP4C74A5ywoGL0iySFzcbTzm8jI5We6gkc+PsjxqbWbZzwKjdJDNMc6aItWrSM5poK\n",
              "+EDmkLKvkgpn9kuFM4zDmoqDL4qkfBDbCG8jj51d1Nzb/SkBN8IjGyKbQYSJ/uMoqtSxhsmCCHml\n",
              "isB3PIVc60PSbOwxnLkK/o/4NIo1DN6syOmcbqTowItee8U6pecCH55DlU1s4CxgVDPu1V4iR+Op\n",
              "gcz25pu3VWfHsjIxivRowihaSYu5WHQRMtgty0QI7vEnDkJhlhQ1uzFKB58nO283//Kn268Z1P1c\n",
              "2n3H52aUJLKhQFM7Qe4LrnG8yQPL9MreJ82tm7vxEsxR6TrsfUgZ75blarfsRz7ypWchMePowSZk\n",
              "nYGYHA88BzgWh2E4I4zcKQzyBwBpGz0qcs2rWBbpPWlzPLE1YoAF0ig28tT64mNFccUgYrURSNJw\n",
              "jhVd8HEVu8N/jeNKzbER3oLqTbtXzVWw2lzdHTO8I+I4mWX6UUf6Hfr3ouECn/QkUiOhZrORrPV9\n",
              "fB/0hEps+nHHlgNEMh9nRTCeR8qwBB2gTvbF29GZSHGBlvBbxYYz30HC5xtFkiknTzi7HJFR4vrj\n",
              "8SNOAsDhXE+IEjy1M13Wxl/BkN1yDMxe+xs9hBnqw/UIX4n/LZwXToyUUKYNmmQ8sKjUcgBGx21e\n",
              "BMp3+OIIbmHK5rDtquGET9YnKbVBs+2CN5ytCWKimvjzZ3wSJMJcOmP9TuKXywtF+ozBmfLOej5d\n",
              "y9ORj2w3x+2so5u3oax1yzoAnMZLXcypF5uHF6kZQWXLN4aHxmfEltdZbCQmiFpUMCJwoUeT5QSV\n",
              "bmmTM0jEajS/yaXiaZFBggNJBG/6otB8xfWTTVoJrWY2OtoiKKMupU8gdxyWlEr+uKEsy5IMlE+W\n",
              "edG/ukXR94rfVJEbvihVT9h+rm1AEw4TCsJYvmBzt1gnpa2oz7mxk4MsOkuNwohllyZ+hvJLsAAE\n",
              "jwkCUHx4UlpIIF9/9d6vfIQeQmfe83MsJ/c53jZ93Y5dONeDSasB8dwTFOw1C+Uzi+4Aue9Pkvwb\n",
              "JyfH8H2cLsEcE/etkYco3nGvLqN2EknF3YN7yspGg6XD1CWMXpkHxyjsI0Hy1fJHq/zwh+azyQAD\n",
              "eDzUFIgWKVQtHXtyDPW47oefONaMQZVPAQ+VdVNTbsTYAW+nnq1Z2WztYiBMxwvsoDWmLZKKEndZ\n",
              "+EjP9c/9tV3UFIR/+vdsXOcJ/+ktcTecW9SbUC4L8gCYa90yZUgi8ANt5xMtt3vkRSEaIfP9R+C5\n",
              "wA3c/o3hRM7jqw3xmb8igjsxne6gW4e2UVOvEkGCrMxZUAe2yOi4RsfkSdGQ3pe5l3BpfHpEc11p\n",
              "rTyD/peb35qdYw8wvL5pfxV89qSpLl/XoHWhQp054r7CbmlN2rfzr2mjxnuR2IjvCEVXjaa+Zvb2\n",
              "nBHg2/A698SzOCRkhUmQZqq0mtvtsUNQnDt0hj4hD+ltGVdRCkmladfjeYn3NBL60h1HgEVaWoOi\n",
              "zuiTESTwsXcOw36aCx45kAsAWDsiyuL7ryh+QdaDA7q48U/yca4Ob0/7qfHIrvcKn9vTRgrqCEh8\n",
              "f7iLs2z6HwAl2TImoFlyOW5mOxSIctv1Gil6nzXN5ujrRWN+CfLSkDRWRX+wcXy0lSBmillQ+cNn\n",
              "8GdFxU4mN6wJJnSHDXOD9i+rfOjGZB0osXZ1kedGYig8ou3Vxkfd5bZbvrpeZbsErhjHSZjTiqRN\n",
              "Z9njhqaP69wkRO++HYyj1AXHZIMKPOczR6ic0T7sBSpE7pN+yjYar7Pb45nJkcShmVSgj4tOsc6w\n",
              "iBMTh2vyWatBpAzjpwSIbTZzo2/UM5MX8njYmxI4efqNG0o5e3NGdc+tKbs1aNZgkPRr1K0/R7Fn\n",
              "Wl+yIdzuaEBAW+/ldElpX3rCSxgY7iXuvCJZL1V4a08b3jVbBEfWua1oShlqsOcz9gBQErmlqTdU\n",
              "AQkt40Y4p6tCjVfUA60jRFJo/ja3Ht0sAXbRKGT0w61hviXR//Rjj5ngjPZ0fS/MvTS5cpU/H1+l\n",
              "ABv+xAcBaLaOXDiBpBYXnYg6bS44+bKlDOYUlQrJhwnbmdn45KvPz5fyT1QhXjXc3pHhSqSh7PXN\n",
              "IHRpatmcplP4mz32vWAhRwHNEM1Qo+wST5QtX1QERJzCG+FIj8rmsNfQk97kGbnfrN9DyeJN45zc\n",
              "XaeM08HSNVEN81dWInTyAwYm6r/HF89pRlTfR4o+zKpNxhNRGmBK2Aux+Aa7RWDd7D52qrESVu3S\n",
              "imi1YHq0kGhyN6mrYuDVDn499gnURU4VFa/XYQ06G+bBTJIptwQkHkDGi7n4wZdXSvJDtSfv39Qy\n",
              "WY6Z7B+RfTyunyg4DZkoQab3cGGz8VfJfM+mfzIjSfCb/erxAITfCMdsfvTi0zb0mSbUkWMfIgqp\n",
              "U/c2OVdY6EkXH3ZFyR1Eg7rHG7muXE/eJ3CbR8KHSCjquLQ0PKPzAx3OI5mW4ysNtEdBuhr1j8Lu\n",
              "mn+eMqegCV/+jdY6v75AVRIhffACQd1Y6x9adoWPk1lDyTSGbB4glMgBCB3NMQTPVBb6QUVeIPir\n",
              "FHVJ+tKA2zmZ0pGUm4FTzNYUUvuqV0yjCxlIn2QxmyHAf7V0CcU3ilq3PgWSaZagaRya+ec/Zqx9\n",
              "Lq1A52Uabzye138hCkbyeJ/b+UuKQj2YIu1BxCpIsEaczba644ptEQbHBzZYAZHF9cUS8q8CJzAg\n",
              "kLA38+wyL/ninHe5wInVNjjbn0RN36bb+MYnhdaXXe+iAOWTRrXcc1UNyGu6fna2Imoiu+SsT2iI\n",
              "VXuJoBj+hsFN6KgCtvJoKOz9SZozGC4Fcck4gDJ0eOOpBe0RhPatTu8XK4g0uUw+Qwjp6DQPAw9B\n",
              "ICsHDNouzDnFt6Z7yTg6FB3Evre1FMDZPc+CtpGFHBYYFNQMvg/u3SMCQFkdwE8mYxcJe3Vl/yQc\n",
              "t4j6sUs9dtWLeg+S8FdRimMCiU1CiF5qDoeKec4ajOdDF+wMohTePj5nFR354rAbY3RD9jnJA6kg\n",
              "ahznEzXgzB1X0R39xtmQ7HOwhLqFepi4PKeoMqZQrreGuPnCbJYLR/bf0NlHZlz6OJ5A9cUyVl7S\n",
              "j644fO/Fxvzlkvef7oJG+l8XJKTu9nZTFBC1JChT+jOqFcZtWkaQNlvmXMx+r78HegIrpJg9HL8b\n",
              "iPc0WFUIZZOa1tMomNgSp0M/g7+lWOqneQDTe1WJktiXy3OLBJfRijnwOdOri9NdvR6Jb1+ovZ0T\n",
              "LqPJJp9BjTUEA56gsukUW35sxP4YNNNbjkN6XA44vPgbyddw2tWx3+ARqXZVpN4jImSu85IaFSVy\n",
              "44JE+RM5fZgZhFgoFdLemsN86ls8GPbVdAO/l+yL376Z72TpR3D1ZkvwONiSLVgTMcNVcDVIDTyv\n",
              "VhB/RrBdZmU1lDr2iQ5cHw4XZpTkOeiJLH++eR77oTHmTH1a3HVLvIX/CQQC7z+KtTXnaYxD3iXO\n",
              "+QL+/QwWsj4CLSQAraB+d2FdE8RtORttszUS6MjA45Or4SOz2M2qftBuX5XdCQ2u3D9NvsTA/x5l\n",
              "sy+MlopV28cvJ+kXvcUVtw6scWu3WdL6H4+4VZFeGLDoCXi+icEC7NqJyetfE30t6lQWZ6SwAxX+\n",
              "aRMGUnw/qEPwz3bFbNMcHwLjr6eE1LHFgPRC/dJSh/Nzptl33vElw9orqCgwtmYO0CG6I08Tbszl\n",
              "6chw0BpoqMBpV/kWn2VzOCLBsU2CfaNeuSWOXfFFh4sH8YPIPMF5tjYiMSEAywzFitVW2LDdbVgR\n",
              "ZI8awOdD8tE1duoq0CLZ/1xNGu+GDwbDzxoDA8c+4NgTZpLEX1j/mywAF/65zVqlobA0tPHC4My6\n",
              "ZJrYdTuLyD1Lg1iAg3EJfvXbfCHqECPmahfQkF+farp+UqpmK9hJt/3I38DdYqkWeztM06M8xgy6\n",
              "PoATsEyIiET/Xgteg/5LP5BaccAfgRJ7wAapAgTXbxI9bACq/oblvT3rPCQqOyD3Ujraafjlebyp\n",
              "w9wWUA/KS5uHzMSYl3NpidcqdR6E96ONFAHOx8qh4UNmlxz+W4STpwYUY6/g953+LKQ9uWjf9k/K\n",
              "kvg9JRQFwy2XQ6tWg+O69V2/K+tYnF4e0ysEQs90RHbGU4FS2b/SQtYTB2VUq7W9HYiiMLmurwDR\n",
              "/FN0Cl4k3hGjZGY3tI1ZP20haT17lGG5hj1HlEgdui5kRbZqnW2FHqvBy+ZEVqnI94ROe0d+O6gP\n",
              "Ho5fTXlVK14CvP6Y8tfg11LlznaGPVe00USWVxjFDlgFqAh3vYsMv4FBAX8rShflcfZdE4IcFK2r\n",
              "6299loaXVT31y8LaUbLZQpIJLNV1WA1FfCIO336GvyvoOTcx/xirwNXEBNhgAlQzXfjGoYzRmrdq\n",
              "063J4XYQSZtzwNjOclcE9rI96yYwsR0nI8nr44Pd2/cRNXWUY/9mdrDNcrxzVKPyfbF82Cpz2z0k\n",
              "9hoNKzf/+P+rSII0uFqGMtxw3C95cKX/O9nmO7z1aKo44HE44Ffnqk2YVo/X2xZNMKLuxB5+0xmo\n",
              "2KasdlBgIosrgwNTfaSLlwJF8cfCC6SqsadRXGjE/fDb9TJoVAPNRIOXNzEYWhLo6j26E9ayN+nA\n",
              "Pxi1Z5PqFNilsykZa23N1DbjGdz4WsGjvyqWpWV1p12rhKgXi/17zfKt3XZVIFsXsjyAnlUj1e5G\n",
              "Z8rTKIo2iU/1sxHyb4p3hA/fhz3qLF29Uv9YYFErp+5O5mAw4Pr/iCwRiT5W/Ix9tijAlsE5twTm\n",
              "e2kDLbfdV5fa55oEuB0itWS7T1XiufcxOxr8XlF9si+82k4SAPUJH/bUTLVzz/3oq02UlDRJEF2h\n",
              "ry2lD3a0JKYQypQZVvB/uIXd2wqqB2+VoSNq9Fw91vMciyriwwb/11/0ECCM65kM4qTouh/QLVt6\n",
              "eCXODeUSZdxxbC1XR4a4AagdkQAAB7JBnoVFESwQ/wBCXb4ms6YT1YABb15yOPFqeZfrBc0+ZmLa\n",
              "WGi8a5TFDa16a63qI6PYGecMogOKDqE9NEzRjJcsTT3bOGPB5RFzISWgU0o0e08dbtRNJ8uCfzZf\n",
              "kjqZnwOcxRnOcdaIrom1gvyn4FWYtVACd4qrw7b0SFRHX4gWjYmWthw/S7KuTlsfzSn2qcj9KH8/\n",
              "jWsGo+HXKmpuAMlMNJ2e3vshfd8nqNRbOjqimJKLGT51+zv4yP50CveE9a2qfUCfT/rPjnjoPXBQ\n",
              "QPpMIO3/eczKtz5ScIF/p9FtoyM+aTNXncUjNr73sRVIM0QBmOeMkqFLEEQXqA7aGWIxp1xWxzQt\n",
              "pMZnozCZQqL9XXGs8F3CBY9J7ndrybiTccOAA9tN+qeB4Q/75MuY0SB9WG+z4pliZKciM5PUesAc\n",
              "ZKiU/4+AV5anEQRsdoxYGwFpEGd/UsgZPg/3iOSjZmfV2X+AWUFG+vaTH0hDovyMPrUKhEGy0HJQ\n",
              "UR/mUA9X3y3Do2od9ljMzGvZ0n/7wGZA4680KRSEutuCho8RIQvGYuR7tuoTOuAsaLw6lxaYMg8T\n",
              "8UmYtk7Gr2K3VIqiIugX8t7XJ6TMUitIS8Y8pbcCgLJg2YajrPqj+fMU7GlQHq7ZONUHL5s+707O\n",
              "gM1/UyOa/r3MZjjJvGGs2Nl4B34RQYjA8/Irj5hd2S7jo7uvHgQSelkA3L/McVEN3p3MIvVZAYIq\n",
              "BKkxL8hfvAXY8SfmXb2rTYscl7nmR3QIMFbzudP7HJBSdoTxrbXWZka7v40NVlJdHIArmxfeXORj\n",
              "CnEM3fpJyRrEa4fkbmusG2z6kNjUgKhohyE1W0IeM2g37xNb6AYK8pmf7hbmQfIL6GkU2AfzeE3g\n",
              "0QWHsqrJaULBfyiXIapKFMzt9B3UR/trbYsy+CJuOIEz0u/rJNrD/cToatIH3KdXTrVbpiPnqMBr\n",
              "DzKvNrNHxV71JIy45/851F6ab+hcJkBQK36HGZcBJXVj8Q2dMABqO5vF5v8UaBydrs70/dh+QTYB\n",
              "rpebcRd/QO6LWM+gkym6rUlvNAUYyJQZdpEfKBxGjQ0YHo63ycUv5DaJIOKVxf2VPp+DbaKITWUU\n",
              "tN6BoG5u0L2Kehh0p4cArecYQLugilIq77N2rhEk1r9bbA3lsOJwc6n5kP2fMy+LU/mP4/ATxXNe\n",
              "WAG3aCY2Ct7CXqw4ZKUIR8qg+epWOL0rxBO7cK3VLRBffS8DIc476mQRBA7AFDYjr1/MXLK7JM6e\n",
              "tMJfbvr+EmxBba36mIPqXGJ/qmnJx7g1l9wnGgO1WQNirEPsN+uDLO4E8E9iZKvCW23xV4Bp+yb/\n",
              "7qXSoBIQLLxMcCTYIxEFR5iH0ahXh1NJdGmQYVm527xd/miJu/sV/AAU/GxL6dNl+1oQ0ryErPEy\n",
              "vr0OclQOS2BRtNrUklkhSJBDQ/0/PRHMw5Kn6vm6yMyyq64UvAEUImXzF8/xpmM3bswK4cN9KHmx\n",
              "YwjU26H1NS2++U1ZY84YJq2pzBcpT7dkO3pcvNMHYMhlKAAGJGI6EAevGA9+pBKDTl08Ins641et\n",
              "KbX/Ww91DDpFjuAEOJm4hLQpvO8GwAWaeZIoc2H5R6aq8hidPio4I/DOP9fJ6nOWcBFh2qT6ocjb\n",
              "uwYt7SAsZu70L/XstvZD3BZjQCX5wTB39RwOdNwymB2EhC8f1/RpOdTpTeY4TGqnXUCQDHXlwa7h\n",
              "P2BWcsBK+00N6lmXMxzosww3SctBJFpb/4WiY4Ka7nuPhHPkAWTj0riFbQnevjJRA64+pjiNJwtr\n",
              "DHLFrcHnVt2Af/H6OyU498aLX035Z3/1w21cIgQIIn8/n8HvAGzpiGzY4RG64kSbT3Xev7hO4DTx\n",
              "hvblqXi8cPkbrJxnL4OX629QMlGeFeISkgM9lJuc5joM8swrDADL42Zzboe9U3c3bv6hgzwYvj28\n",
              "7uHGpk0xgK22U3vcKnPzyqUE+9U57zVPuTI5E6Xa+6zAhubg0LqqAYoGZmWOr9NYmFeO9uE7QHQm\n",
              "uhrsSpIHwi5nGnpd+2DwNWbmWBca8cFqRuDlhbAo/d186RoGIr1pmJsIIrns3fcdrnhfPrgg9mtr\n",
              "Y6V20PwIgQkAl7JEiXEwgI52xVBGOG5KHb7Nofh7EPO/WrMSBWGhlt/E6y7lQHrb7x9Cgqi7vrLz\n",
              "xGoekozeoGHkzKj4iZKSn7bRtIgcEcKTGqPmXCyxDXq6q6fP+YkjkE16dbO8JRy26hbk0lKwWdGY\n",
              "DJDhJUgNjCFUH5j/pkBvKxNSXRkvBNhJRK9IZ1D5QufAO7OEDlrVady2PYESTXXKqYByAhoeoQ8Z\n",
              "9qu72/aVM79rsBkXj3V9agGXapzxYnZASWa0Yce3u9WL4TrEWkHkbtAz2SIo4v9JbQ56trioOxgS\n",
              "n5hahFV9zRVHzLZuYFYe8mao5cbVIxSv/XuvRZd6GMyWLE8wNzY2krcL1l1wD0DZRRFjN4CqClBQ\n",
              "CMKaO6aktHzsLEp34ZQJim3+66FzzxXqQZJFJLAkVnkDxT9Cp3/+3tWJDzzYOPZkPmNjr1/FJH+8\n",
              "i4W61GgcgGb0hjAgGkFaUYGBgIIv63rbrTHqqeSilMMYGGVleIuxkRckvPcgezBNwji9VXA8IQAA\n",
              "BOMBnqR0Q/8AkVHgAmr5BgGD1ZsUJa2F8d5LXn01vRO2guNc58WpTlXEpZf/PRKVOF4gQzbilyta\n",
              "xeePSKd3n6N3UweFHWpV26zRIFuJjpgPgYNMafHxpU8Cytb28em356jA9dq/WQhE2CGfUNeu5NYJ\n",
              "RweAbjB78IaCJKlWc0MgGXez7DEKbAOWiBYkG966KE+mXa79DTIvh7ua2hBA3FlPjDbw2eUU1fA1\n",
              "3ttmFRS/qXRu6CibltW3au2l9uT1O20Bgp/MyUsLFKY3FB5zD/AHrwVyLZHQmFO9G1BKduuJlIAo\n",
              "DYztJqLK7UnFA6RDh8DBa9f2PDgiYrT/tSXucju0omIcG1xU5A8k4sT62EkSplX0+du6XPOLyCNF\n",
              "pBFk8BBPO0uNJhDe/gNKnBYX4K9O2bCr+tw4O3maFWkvg2iQUzrxC63ODyIU5U40CO1CyreoWm5a\n",
              "3QuHr0/8oQ5UlM7/m+JW8rsQIgBimMmItH7zGRO9myqXZ17UL+kRxCfbgaPlWslR+sxcDf9/dUow\n",
              "77MqUkYSy3gngEPyk3f+qzY+C9CyWTQdWI0pFYC+o7JXINSPMtt8Jj4kVEv0HUOnuaSWn7K8Z81W\n",
              "sw90gb14qSo+PPDPss+iAJKPypbUB4q5rLdb1XkTLuwWTA6rDqMYX7upUvXXXORFEkECxXeGrXQU\n",
              "+LYR28tioN9+YWlSjZQ/86ZxMRF6wfvicEE+bgJr0oN8BmmpeVhtTu5cfpGH9Y/qDocWGd3XWxyw\n",
              "Ca/XHB79rWO35uxXAvNmhpKZTBbK+v4cAjgHBk3QrhbcH8Yym8INuuN+DfxeDL+YNO2ygqGjCr/j\n",
              "h0v7CxpY41JvyGBhnigQdb4rJXzvRsqUkU6+AmfRdovxbMlNAHxlvSC8eLkpOGPngycalZjBnMuQ\n",
              "NOfXoELxBeCSyj4fxCfn1diKp/3EBn+0B5nigF7ogC6YkKlHbJAOKTA4ka7zmZR0UJX89tdr0QGL\n",
              "mmUk9/mP7eYy0UWNaaoBf0GpjmQVKmQT9fMkI1RH8dES7FDboH/PyAmjgkFFhFdimDSSsSOQ4Du+\n",
              "0ZxBT2+7q2Aqi1fM+rPrX3CxJt2PEIQ8mGKCJm1zAuDZqxVhetd3gEq4bghEsEvA14sRYi6cyiLh\n",
              "PU/8WSCbLkT9KQM2Fk/SVy89YO7U4Ju+ktIu1ArGwRK1ydg+R2muNlkdCf+hxX/mez/ge8WjFijJ\n",
              "Pn9mySlCI/wzyrvm43klDSr5j8KjkU/IOwedZTSMVQIdVlmupjyqVlGf1KfSe1qPYkuti/M28TH0\n",
              "nFqG5gCEs99zmYk1ek81xY1Hiy+iQJfg8f8MrgntqaGK03EWbJUoB4RyP199+0f2VtkELhd8i6MV\n",
              "1rwczs/PNm7KPRoeul5NGTMjCOAuG71lhwuLhBBzWBWnRxnCddHpZzbKIkpBKIMcL4NO7vqqJLWI\n",
              "9S9Xas+mzt3AqHQHgnJbxSLfPnS1f5ekfCm9J1MTZrJfzhzGOHZUVLOflcFGpNIMgibL2QNbQ6Sa\n",
              "6XK9QreYi9uLHJQ1z+gId9o7OHojlFY8D0MgqUpkNKI0gmVr8sRR+Uueao9wC8vaJOtgELhZVrvJ\n",
              "789afwATik9ufT2VlbaHR3i+5dF4LQGavYzBMPrVVLvhWc2iQe95bOjJcgwqkqzM7jHTyGF3AoEA\n",
              "AAPJAZ6makP/AIwRIsgv60AH9IhK766pFBzF+1PH3vksrwJEr196efJ7IQQjb7m44kQQYcOZaY6s\n",
              "F3k6Q8mU5ftDfXaYTqNeJKLGGkKA1GknnTwE6HmUmk9u+qZY1j211/mK5sNe7slFPDXDH+lc1952\n",
              "88hd7OK9ysNg7uJw0NrGlykU4jkI/tTwbq5Vuvqcb2wrhJ7I1mgWQFm2SRpbTKGq+zKMSGVCFHgP\n",
              "8yigDIDJvyWxnVn6KgQH+wSYjTp3uG8ogLmu3po6VhLZqoMmMYybLErQtnoRSqsknKIRY6TSMQYs\n",
              "yo+fr1Z0rzrhVLGP072cy4drqIh9/E5tzBvZPeu1V6CFK70mNH7wpkeUCt+Vvhj1jttHEtqjSvpA\n",
              "684wy+NSZfbKDU+ma5jWJiA2+G30qr599LZxJeq6QXueH8yxEn5ITlTPGqw38dj3pIYKS24PlY4l\n",
              "03+beUsQbqWur0xBe3g9HB+y9zRzIqTBByA40YWsGTr0v4QTLASzS6rRXcjLHV89KC0pSqOVncup\n",
              "XZt7rBKQ0CbU4PJajALta2a3pmyygdqmdwONt1PI9Os7+/Vp3BVh4fX+lW5hSPaZOemyKmH0TBt9\n",
              "RYYDI8aX754bd5OzaXpWBMNsIDR1m+BIK8ThxbrerplE7sJIebAeNJCBpdnPL26v+5OX2Dpjer90\n",
              "KlZre5B8dh9l4Iz1u29rjdAi/Pu0zehm6zrI2kuPpy3HkiJZ98aT0Wa36RDyv23ttHN6BMqZt/m5\n",
              "bOVK+nUzryDbYSy3/nqV3MKwIJU2T7nn0dTgiHWS/cUG4bgnEtMXBxufy3+LKPpe73iNeYCaQRYI\n",
              "nKNtxxsDBPKio/uLns9pBPf1DTK+gWV+e9WOrl85fRKZdENRpKve5yWeaXZCqN6JHj0C7CNr9jbC\n",
              "k6kU6WYgk8gllx3ZcBkdhxNbZJZpx75vkBVkHSqFbXGhQzBggbegNMbqqb/+PWDbcP1Pds91Gmsf\n",
              "X1nh52K6Zh7IGx/CCXrz04LTzEsaU7guMHQwsJvN39n5d/mfslH7ERuQFijX3XNVe41O2veHjJhA\n",
              "kgF1ZhInBUWWMbRlJIQ+0d62Dozl+5sEHa3i8xCs/NBA+rpLRNx1xzm7vrBbhy5UtHNGdBlYHiJ9\n",
              "hDgeg7EKhpt2luCHQjeE5/7SRFtOGlfFH4bBKkrxr7BWkTPMuoYs0erNyR9mPukTWUsdNcHeFAA/\n",
              "CU7qCRiF61bu9sx5wyU9pZqSYgyCxV7UvPzqiOmPXCx46RjudFzk01VWJB2fwfGGZ0tg443c7+fV\n",
              "pCChAAAMu0Gaq0moQWyZTAgp//7WjLA27oiADmb8GlSDXfG8cIJPBW5QqC+YIeOfOfWhTL7snhFT\n",
              "bV/0kllRVbcnv/jthrZnRTc/2BfyBg9yqPoFwz+dkh0lfb91E+D2lI/e0QsqGD/INdIIUgEkEEgG\n",
              "NownvyKNKDvZwNNwFc8GGCxA33DovcWfSYWManenRvd49ZSg8kne7s09DLaZx6yxkP5R9HAAH6q9\n",
              "3+PFNQ/9MRUbQF7SPqVI2Xpjb0RINbGfK+Kj403G2UdYbV75wLgX/TXAODL2B8GfPHlq1c7v0yDh\n",
              "CqYnvSD9sLd7KneHON0PDkreDNBluHkE/NZaL76bpIk24JHNIizzUyORr2mcQXYk3yOw82kwi6As\n",
              "k9+kPrtCE2Dwz3sVVzC/FN3iPDvPLcyw5B46mnAd4kXLScrF2MN1N4UNHyaabrpyLgjovBYCAB7s\n",
              "NdJD+n3BLdtW3WCOMT8KANOkzKbrr1NyP8IndzxcSUwiA9ldIP8CqcB/qRua+3L0JwY1jCIPgOW+\n",
              "sCabmedEcoHdDFVVjcuVSf2vZ4jFVojbLq7ISgtZaaqBDS633H0JmcvtwGQ6BUMPuycu413hU0pz\n",
              "qzWjR0W6BSrBIa0bRD0pyw5rs32IdDBiDyn4hOqA9RiWOyj/4QCykqyPRl0EUEKCdAt3R0DMgnHI\n",
              "4wCeCxJH4YAy1qDO7q0S/OdDFC8JsJn9Gj/GOUDnEBiEi3ul5bqE3Qd3cpzWfe35zEUk30DWmpQH\n",
              "/lR9Tw/r1clfKXUWu7Z1NE6AmWo7ixOV6RRiqPeBe8o6PvBLOJ+/PzPuLL4KKev+ct/eDIAhZJLu\n",
              "yPtdCU2Nq/MHxuBcse4v/tbEvpwFMEms4VZp+hKxEPRoLsCKur521CIEQFbc7+uHVYj4E+j3qjRU\n",
              "Ogqy3Wy/uqJdIHP8yIMxrkufY5XtQQ+Wnii/dXCAPvS1VUWaACOYu79BhIzKjcSkXn3XM70sKE8g\n",
              "FFzptbFwUHHXjy1C52p657SG3srtOw2dJdeDQx+CoPCF6b2RR3lCrBXWoGzBNjB46Ppq5hiL+tXV\n",
              "kVZNWguO6C1wpqYQ2McSu3v5kFJqcUJgJgCTbQ00gywVfW8rw3tL8RxWmdpSItSkcXOh2V5OIbrI\n",
              "z8C4hWf0OOR0a/NrBewY8R2ta3FxbWQeqhubhUL+dPYqcw/sq0iBysB/U/pblYiz1aI2chhJfDq9\n",
              "1dKhtUB8Yh6k2kGKS9fRTcEub836KK76hb20LvsyFDrDIfOc8X71gbVI9vS2ApVwMc525nSqb5Bo\n",
              "SKUB/0H1mk8S0pYOd9kAGE6o7qcyFBcFbWpm+/Mv9fEF0uAF+/PY9UoquxatXJx/J1lSrdYPHxgK\n",
              "2OtT2jPOpukUOxDOqUjEEuFu55n0wwQWd60AnEZSAY2i7d+NB5FS4Zigra6HAJRG+e2nba0w0gTb\n",
              "K2xDMiPIyEOBxeSNBjKIcmWO90He9DB+YXKilOgC8WF8VDG42tWqRKgd+s5sByI5bix1hZdMIEFx\n",
              "QOknGVVDSgSh293LWFzfhGl2w5M0oAtiwRGI6MC1g6/RvNWveFLYbBOhjBoF/+/dz1yt4LHZFcvz\n",
              "5yrM6im24vFxYtVWrxSIu78i2acbIi+0eCJ5u0HFSxORV6rR9t0FXvj88QEhd4mlbOz+QE3AGxb1\n",
              "RPnyIzZvWEFuvdmBRkI3p3MxmPq2ECN87BvivDHJZVuz6mUcGwro74JIK+TCZlNi05IgoMlzzXjC\n",
              "JAI/4cr+O6sKgs3e4f+kJi2UPAXd78lQIFKWhj1QfW2gAjnEpUrOotjve9opqR0L1kukvrQxVWyW\n",
              "hP7TywtpUi/ILlNW+rVkomKKPeMkqJBBmFk98rFSFL7CBPE8LiQRb7+SHz9lNAL00p2IPKjEDqix\n",
              "1/pWIJ3B9NKxStAFmWvMehZOfMULQYL4W4r8/ipxEIXQrT2sXuta9nrJ/zjzUtKMmyCgruslNRX3\n",
              "yiHQOKhFnqDTlABTP37fr0gEoAfotHYczjcoO6Laqg9Cb6/y+b79lY4SsMykwhBefg3wbHQh0yRR\n",
              "zHc9cIw1Nh+FvhUyrK/8AX9I82DAbNHUs5fH/DPcOFuW8EtA9YNt4LBj4f7dMuSYWitX5sqzzTX6\n",
              "15jgEQd0gIfFpsoSgBaNQCcCWdsTLy2kX7DOwc5wZHVJ2iRVRNZRTnwTf5QKj745TtmmE0VyFdxF\n",
              "5w23npljBBeRqS33kBlBfawfQGkgt5gvljnYGHSzCxRRDq4CpR8bym0zNgJ/dnn6UR/34ZcDOdjN\n",
              "kO22/KXRTL7jQA0xPo4sUztYyEEXrW8swbqnbWwfx1RB2T1Z7Bam8WBuy5ILjvVqCMzcmbYVlNZr\n",
              "i4me+WaKo1uFGJs5Lo6MktpKe340+fhmEVsrhDExH86c1ftLOeItNYJbWYvnjsYM8+P8oJBEIvXf\n",
              "aG94FjDFs9mnDkwNRBv57X9ZnDmcSL9LNb4Lcrq2JAxsrOMm6+1tSdZ7QnAmh0XiiPQKxHJmHZUL\n",
              "eXBM6QS54t+gmGYyAPsO1yzYKzOGRVYnLTorF7F1pjnSc7CTyLjYgmsE33//cUiD1M/bS+gmuRx/\n",
              "EW/W0tGd95ZBU2dNmgt8bqRSalLxLdIQ94cqmyZT3kgKpFVPH33bOYp2vZPaHNnzVvmpt7FAU52x\n",
              "w708hOjnM3xTA7sNLI1cKqdzBpCNDUlEiiM8VWtkKaSg6GnLpEtjvXnuLChi9sHJ/1Vddt4toDWp\n",
              "LBYXT1cFuFdWLcgQFw5CUwiVSlRiFukmrU6c5KHrT/BGzg+PzT3KhQf6lrtSU9zbAwgfKBCc5je9\n",
              "0zFY9Vp4H1UlJF75rzbAG2SIFrqBWqzcUZ1TX7uy/79/o4j133opJ0XfNHg/f4Myxc/699M2wD+J\n",
              "j1myin9rzAjeV3/zgE6QpslyHPa7v7VVcV6rf65CnaAs2zkzsjicgpkbt98jeBuV7OvphyOcajhh\n",
              "a+7j/8vFYu28tG7eotme9KL0t9o9BkNg7gb+RwXXFtsTVfFfl8iP7fZSHSenlEIadyRLm0lbsMmu\n",
              "sQXEAx3i+84KAEdMDQTb+ubO4R7vdI+W0Ue2NSUYCsnj6ZmdnzAbWDMU9EhKPWk5BTIduYWgf+7V\n",
              "zLjlLQUlgmGvozRZjmHYaOFPjKN8HFfEMhW1Xre1Sx7tB87vZ4bbS6HKfCr3FCxWW6QQ/7rHGK8U\n",
              "bMPWLrzigLdEMied8h8ewmHUBJ/usIZjd5KLjoOx03PGu1DXGaFM4UUFbS8yKB1zCtlQ0NhQT9bu\n",
              "E7KS57RQK+uMXxDrn39nrsn318rIKnqvI2TKdAnDDomDR3o+bjh5S8B6EFsOAVuBqBkyM3FbP4nE\n",
              "eL7ZL2/R9W/7oyUU3E4EP+OaOZ5E1zIIByxsX1d73pi1ps6jHX11FWk73BnsAgmX22GH8yr5QSEl\n",
              "YX83P1OGhH6mMG+gNihl+6aUX7mdKseludlT9CCaZUu9hsk75ZeULGfkzHyv/T2tA8uTNxe45UNw\n",
              "TZ38yopAXir+jqOetUdRfLJb0z2/e1B4iOvtKRWXOQVLu1qkIxff4owCmothZDVPfPN2ZFXs2b5D\n",
              "9v4uVIEOojk1KAEs6R+u4jBdXxJTp088tvp9FxjLHQXdWL2QZQ+Xu4Eax/XkSsKQfWT7AcScBAxw\n",
              "DlMqQgH+ITp7kgFyZ1MpCtW/oddAdlLCGm2SnrvRBxiSK8aRtwVKu61TbprW72+OPdrRnEZ5IqKJ\n",
              "Hc9qYEf8vQ2r0O1s46VJarXLD++3nq61xATdU04DE6KkT4uzOiYbkzRZY9D9bku1KipGPyem3r8Z\n",
              "2/7Bwu3WjvIctZV3dRvIJOGmCd5/4CmJG+6UtvVif3nO0LhgShl/6A/vM5lehmQA1oEGIj3B+cFo\n",
              "+IpTvObC7QY37vO8CfYtk+LUMzKDO+u5gcyBU3OmtX+JXGvU8gG0pyGg74yL0J02HZdb65CsFxtn\n",
              "L3ashyPpmoLAMYVfJJv+fyIACEMKM/x2OyjrK1JHShFxI9wqRwkkPSUXDNrISl4R1Vx1JpbrJujQ\n",
              "nDXsZfSLe3A3s80PHzdwe3TWa1Vz0e6vi4Dl8jUEDXYM7jCFdxp416t7JX1+g2ni9GnG1H22ReP0\n",
              "reiw4HbzPYwfWwrAeqs/NA2htFcIB5uZpYHx4dtbPcOcjchOsC6igi00m+oPIxlNVx2UA3LGspn3\n",
              "HhALRLQ28hdcjELDFkyvvyZ6HIh74crljUWcTq9BIikyiPmMuHBpvBDnpwtTVFyD6IjyKECfaCbL\n",
              "HxQFnNjQlCQGLW+cSQzmjon6AD0j2TecF20hNENGVY10//GioEdcBf8mUj9X86YcaL6PlvyBnRTR\n",
              "Hk8Z9XMCXE1D9yMmn9A4xIAAAAQkQZ7JRRUsEP8ASEvSdp7gAJavNqWeq/Z9ZlCm2dURvoFrsBCe\n",
              "ylUYiq+cFRseGXcWtRMGTgZkOIXRCIW0T/jR7Z9SOQ1rg81DORGwopwEk3e95DATzL4dpnHZDELy\n",
              "oVqxgsTVSkPpVeNU/dMffiRTXrFshMSn4cx1oddnDRF47vqUfXImtLZtdpp2f8n+cJS5Mymu/hXh\n",
              "Rr3nG4pM4lAAMAPsogmmiJGgDUoxe+mY3XP8grRkGZdoT6RPal6jmiygo8jjW90RfMk80UTmkK/4\n",
              "A7B6nlVOwBKtSEDHj8e/Gcsyw8sIqAiIVo7XdhBNYjm3uFlZKWQyB4mZl00eFxPs2CWNZDdiY31s\n",
              "jTx+AhHxGe4UDt9TvTacKgyIe6MAG2lkxdq3jaHNTjz3fhP/KyYfIYLsJY7mmJ9op46p++IQ7Yde\n",
              "XHcMrC9d4NKSMeZLBR//FexuCSnD1NGbxiRDTlkuaIqYMR/rwPpw5/U6pKxEt+wP7UvAF6J5grEc\n",
              "tFG1cJTywb4QvSVbsWnXaK9qtuet4YutC4/kdi+7WFa7mK2jXJC1HlydDWY4gOI/tAGfK9tTK7Pq\n",
              "nR975ILegJFwvZ4aUXWpnS4h1i+FYjHgrKjtgQl+zfHvkAb6BdwPF6aUInrDm9e9AC/EAfM+RbBA\n",
              "nFLNkIkUpuDrOb+hp/wXt2ri15GV0dbMd9J+A+50P0hOCCYccY0HJLmjn+gxNpxN0y2ql2K44GOY\n",
              "t+/pzZescqIQUVGg2guG1kERcwZjpkGU1LMVoXCYTlB/xQndjy2l5/BCTfP6189WOwzpPZkYV0zK\n",
              "vrItDicboWEZHbbj1NnEE/61FRLeE6duH9bd8GziC/XJj3TN0RwdvrmlEX1JbWIpSQfKBugXDnZp\n",
              "yK3/zcnJorIH1UvWtE1VlIElZDEndcoyknfuWcXecibOb9v0THL8ghNFzJgUbsyzUm2KZbm+zxm/\n",
              "oFUUKGpOiSxVOQoZB3Vyd8pwYMKNafqImVf5BsIWeeW28RQD/y8j5zifEJNXFP4H/LtXCKxvK8th\n",
              "FkH+7xZYSSviExV1OLZpJtgI+VeSyaDe/mKnqAAC5oqnEWfnn+lPPpZyi2Fwi40zeqe6j/A1Y2Tl\n",
              "2u9vXvIWKmYPMrQe/rGohuVHRxeT0QXpl8gx7fNNpJG+11PjVF9Axf8Nk61p4kFrSZi6z+4H8oX+\n",
              "FJrHJGYuwREeX4pkjcwcP4mh5joeNGbY8zWD0nomYpP5nmi2C5H3wkgxSqUhBplDgBHhLFDeuP0X\n",
              "gmxBesHE3EPEFFKUN9Qs9/ZiYMOdatTnM8U9QT+YSlW6xIEduXC8PBPrOePNjuZXWp1bcqu1ZaqA\n",
              "L8WfjtUO4pVkAavk68t1suXwYsPPvJJSrmwRKkYSatP1CJRHmoP7AopdUja4QmsGDU8gcWHvpgAA\n",
              "A94Bnuh0Q/8AvX0q8mgAH8qsAaBU/47g3LvFvX2QRz6A6wZdxET+z4uY4vKEPA51xNGZ95k5865p\n",
              "BUrBnYBE0vtDzDxBtKGhUe8DOuFnVxu3m27YDU7YQVOQdtBswSkQP1kv2MsGCYKQevGBkx1dqgco\n",
              "v/1UFvhZUjVLuk8hYuo5F3TQTQwWlaIchYe5QtPCMAkZhqY4EmavD0St8LWKOBfJYGEW/gY7JnEv\n",
              "FVoF5xJc3TzHGP/HdPHemT54pg8vHxvEkl1ZyDNU39dEfLuyF4awDYnAHW/g7smbYPpb5qasotDG\n",
              "PVKSdIpjXGHLNZCHS1btilvLost/HomYM33r7IRYfHeWgGwYUsimMf79wigSTu8YjaPUiINqBUBy\n",
              "CHArF1bfyxKTngiylwM18WghxmqK8Gn68a2DKVkY29pCCgAmtI1IJZJ86eWFqqmmxXwQVQT+frAQ\n",
              "57x8aVuvx6gOgewzgnhHeN0Gd3PzU7uT4hE4D8TIFMB3V35/Za9E74l2m+Zx/LMU0qiV3W4n/VuB\n",
              "yduvPISVlmiQVtRl2SbzF2NTTFPcEg5tw1QoSv7OahVh4mzYURr+pCCt2YXqNEBTzOFdmhzNZ2us\n",
              "gf3Mhz4lzEGDLvneRNn5HC8lfXTT5xUMv0QBZyGMjl8GE8bA1j7HbbJGuKqQwmuV5yXWzTNz/YCe\n",
              "Uw6GxPdaOkWeLaYH3f8YkxqF5P63NJxw1eAvZtZF+jA9ZolCTrHhy1NGzwan/bWofvsmGAZPnqWZ\n",
              "yTf7xk8dtNhFXOAOZbCBLKb6+HtNaLFBYPanCA+/od5wDrt706kUKSKTa6uYUPrS1LPGkIqd8oV8\n",
              "80LTMQBi410NKyq6G5O5iLCPaqwHpvMQQtjmzcIx9M+V+DhIAjeINbsOHqpcdX9j4wOYZuh+CBdH\n",
              "OQIfY7rCt0bZDeuUmhwYuxgbvsT2cCiWzCk6GONSK/QfFJec3ZL5hgg90eQhJ0j3KaFxLTbxHyxI\n",
              "RsT0pSEdWORTgAsNdq3SoIV0WVdTs9HYkzXL3eqdIzWPpKthMZk2RFqChscVG1pxbJzAnenHC3hf\n",
              "EEPJwVWc+JJ9Y5xabsdXFtJYR2brmQMnWgz+EeHbcVSvws6R1IB+89k4oFkSmXovj37eTjHyZmTT\n",
              "WJitEG4vHjR+lgaZ9youvjmoOjEiJuUMlFXhZxrXfW46AHhlMmsiYM6oa2i/6Uq5bEc+ce4dkD/T\n",
              "mH6o/9639A9gsjotpWIgmY//5mM8cVDzr2jqMxNXguq9WXjRA6oI6qhkG1HOn91xTJ9r1K/9Mowo\n",
              "Y7HmJPkwIL1McRfomC38GgQY0f1mBy0AAALVAZ7qakP/AL1CmrHWGtAB/SHybpiegZ/BqI2V846e\n",
              "aCiLWqGgBKO84dDluM65bkMaB38FeVGrLxSatceD2lApTg6mnEexdKsievcpl7BoMuo6n2isZJ31\n",
              "dMXDh/LDLX3FjWur3ogX4pdVuDAowyjhRchE5G4f9P2lMq6pZPPIApT7pNq+wB4E1d5tVWvbBOZR\n",
              "IF8Pv4lu/XMvkvFek5SpMaBZg3IqhghE4phbEzdkveK+0zp2IvHDFGq7RhXyrxiiSaxtT4WTa0L9\n",
              "4WQFFeHsgU8UvHy8vC1EpvVBvajGeMfsg0i6TAI4Fp5v/BYyicMrBBMN3go8gG8xWQJVB+nfDgLN\n",
              "/fE9yqnv800r8NJx6bcod1zZl0S/kNh19FxFcuuS54i1M0tjIUaO3cgCKJPmBQqMe21TUem05yAu\n",
              "c2limkqNTS/gAtOHooZEOPMQ9gQTcG5osRUa9kyM5ApsMpZzJv+birqZIoF5UOF/g/8ol0UmO/sl\n",
              "46y8A9j8jg/KNNvmwRmdICWsc04KWTJjorTsWaekJSzSbx2X9qPUqqPmYJ9qdLWm68inZFnYepC/\n",
              "k+1rTWptJcrYA1Jb9ghh3QjGXFBGuNKSxbVkHXj1Lgh4dqZ10I2X43QcbipjVGbynlSMboX1yR2n\n",
              "ksVpvLYeBaWafLS1upnzpY2p3luuNXLMW+IT1UgTE9GOSGKRuMBlkjinjt03uHMrzixMSEUWlQL4\n",
              "bVGFsWLhNgcAcTG369SCqpmhmlMw+nIv5YtO7/0rQurnxjnD7CaEwoNGKnIGy317hsQHIw+LJcy+\n",
              "o6fZzYsCx2//RQ4QrTV13cVRrS/tWVI0bJW5tY3vou+j/TMgSli4thtAlkhWOICfQAQrfx3MDeNO\n",
              "97x+NI9Yeq1Eec//mTjYNxQG9OQBY2HJFajuCdgke4Y33Y/eZBTmkPc//pDS8CrPR++zZtywINTA\n",
              "qhgkNI6WTeJCOW0AAASHQZrvSahBbJlMCCn//taMsDAlxKIAG1b7cAwdRNGj36obtV+M+p5gE/XN\n",
              "a8J6Xa43vYWIbzV85hElKQT1Loge3pbmRPVcmf8s6uHuIRzmX3fT0Kuo/qJ3Hfr8BuJbvpyKkOVg\n",
              "0WNILtC21sjPUA39OGm+DsrYbV2n2pffftJNlkNCNZvllz2YJ2cHgnRbY9ogtkh4eYwm7oKi5xl+\n",
              "CcO232jAaNNvpXmLmroMAV+EbRBRupQtGok4P3pAWcPZOgM8LCHJuqsG+V82jXjmlGcuv9rTWSvC\n",
              "UhSEy9SQxy60ea281rek/Nqk2blgryAmQBEecSo7f7VT8MOIk5/nQPdzmE2YOKih0xkQwYBCYVIN\n",
              "MDt/fk3L9FV5QRXbK5veqrFkxpbwj5cueHKcAxTfuz7qJG4TQ4H8V8x79oHapWUoXm2KB5zXoenl\n",
              "GcXvMo0xTbzjZ6f+QwUdXDIkRkVKqaVZ2swaYejNr62kFJjR34LEMaeHO0itD9WEjgptKtt426zu\n",
              "yUWg+ILCLEJttn7u7oZqh9X9wahS584E0fCR3GTQwfPjBzLFAOU1NfpWb1WsOEkJEYn2lUpL5nB1\n",
              "grDDuVNEad9NwD74mzFBoyr9tHCFBZMYz20x38sDUj1vpAmxQ1BsNWRsRJlKuv3E7lzjcYDsLIa1\n",
              "ok4YoQQ1ZVb0/FNdV6sLFkcfNpYmT9RjIIilVz70548rYvhX9HFNdc5xgIXi+1qQZNHv8EU8NAUp\n",
              "mGCOATC3LisTDubMCRNLrTWRU/H4IiYkqQlafeWzZibaMdpXMmUEEZ/pfyqtQ+si1O6RhUpSmGWI\n",
              "45h3C9MU2qqZJvXzDuELz+j8DaMmQ2DMtIUZlwwzC1nym8N+rrMlMdY3BgyPgURbf1vOIsxgei6T\n",
              "cFU1eJFZq0BlUcGQY2oM+gz6NSaLyIuYNCdaKsblRKDL2Fj2mHTutkCOT8rRtzwe+W33+6YedKWD\n",
              "kU5M04k6i8na0VViHNmTkI442sOVPzwehLwQDoaY18wCIThuUQOxKJEJ8ynggGkbR+KVwYVfpv5g\n",
              "PcNNsQMvPBixmpKvlPHp8D147iW7xPadk6jUxtjtnxEtP0VA3/AAhP/9IJ9bVnPv5GhQmRd//2AX\n",
              "NInoM1lw9yLxLu5GdKRDNmnVIt/9vzf29mlBqRqUEJhfvEo4rPSVcx/HLrFSVAw6eXTDEQXlpBVE\n",
              "f6xgXmIeGweawI0pgM8h3HBgbCWJj0CpieZ+8RnvfIXvz2Uocnv5d4AUuQD6qR12MNKEG6nPe2hd\n",
              "xzfgqMtGN2hMZs01Mv0osOXmTiiodGHi8Fzl6W8KlYP6EiR7ZqbvNE6xA9QtR9OwBIk38n+VqpaF\n",
              "Rd34bhKWRMOBefUXXidho6TANt4YqtDYNR0s+IZlIkJN8rJVVCdkaRt88JbY9DTGE3TGdT7wllCd\n",
              "aDPJ1sAx/TLPQ4AKYDEPhXF1f2LL8RUJtJ1ylN6rsUDElcGujC4pB/eKfDWQLvhFJLJx8M3o6aEF\n",
              "MOUqmYXVsRXzkqbYRa0lTISM/T1vMQ9mSH4CDt71mE/+QAAAAxlBnw1FFSwQ/wBFJhABdV5hdi7T\n",
              "TCiDd22wD4y5WZIYNyFzVd61K5dK/0tWQX52ehJW1DW8D9efYBoXXcUnjXBqriiF+ZhYApQmh0wi\n",
              "GtSCYcRYbqFBfeeb1Ode0wR7GtLV2EWEFfah/eKI4Lc/Eh+sL29NbCpM3e8XR0j16iXg4JjeAxBt\n",
              "QkLryspYqxXAlNZcZSSQGDGMe1/x7CbLC5QZIdsaQGWnzqHV73U7se/oLxz8GMJxYZZMy+kLBSoP\n",
              "QmTIemrzXiwUeuYAcd5D+fR5af4p+VrjPdgp+bLXT7GCmbCtqfy+tUUW3PlikvclvGqcTRYyYcx1\n",
              "F9T9oTi1aGlOWTFNzp3GrsSmZhbtt/kn1wJlg5KJjUQXe/FyysH2YPW/xeQq26bC0k6LqKOrVW14\n",
              "8sMKswgLkxYYysG3bzjHt6SMZduMjNEyCZBue7XOgoAZdKdIorGancId9lNsIYg4CZ2zRvzrDuoY\n",
              "xisuEBBD9FT10hx8iy/DJcUw/0hk5yf9/kdVbqyM0ssofDh95eyXYz/EXUFP8kYDPD0BdOe2HGKt\n",
              "dTtY+sNvO/kq4Aji3FUVSGgZrqGdlHQvFdk5ZtadDm0S6UmGrnKrTqIRk36ZC3hwJ2/RG7tJ5anR\n",
              "gX98e2g4WbBE+0iDnT6y5JrJLzj04CzYDWx2kUXJumQuEnmXFYOgTWewdnpJ0BRCgxtQKxNX005s\n",
              "Nzags35LYSRZsd1o+FWFxKcU9vuCTLvwJ7FYWbmv3e/DtFrulX0ON92Lj5lItPmnBbV+jCc/aOdN\n",
              "LWWumxiflUs+mg/AbaaQNSiQgGWlIQ1v0qPebCikRF1VQtCewQfw0VXhCxWkXkvteSi6eyoJqhv7\n",
              "2/7v05zrePJJqqSwlrV0lhMLbwzSEp0lUJjTMUns94znzW1ltWr1ohudeGvu4wWB3pinpMu6jJO0\n",
              "Sv6s+wVA3NY/CfghfwNfA3PDxh2/SfrxLyXfUG30zSlzCPK1clDrIfXe+lmdNGVb0tSaIjB6TwH7\n",
              "oUvQigx9xepxaVPtuFgOlaDJ2+kfBeRmqDW7EOrrngR7AAABbAGfLHRD/wCMJyZJl9gA/OhH2S/O\n",
              "chFXhwa3D13UnzWsy7Mk47XW4T0RsjlKfMzDYjSZglb63HlCm+XYwmCYG10mScRB3O10WgG1vlHN\n",
              "HUPopjJCk18M/c2RcopksrZM8YMk+w6C+v7AB8wuW04ntH3r+mm+L0j7YXBaN3pRsvraS1o8RqTf\n",
              "G5xZqcMdrKuZrIWXPfxBMaX4yefWxIR6DmuW3QJm5tjSU7XhcAJoSNhHvJ4cLdMQV1pqH484ga7f\n",
              "0xlJLZzq69wjPg7kLsgF9r2K1hfAPKeyDziVfU6+SBwkuZx6aM5/RP7B8JBg5q7qnQkGmBH8ol99\n",
              "9VG877fInou/srZZGqxfIf5NLGmDu+vnWU/xnTDvoLJNexYRoYdapZZFY4PQS9rYyH2ZBNfG7prt\n",
              "102HvIdlXSb1/+yFYGYJPWOD3v2++oZYpvXUlsXjiVGoF32jFxzeC74kIy+jT4AYNKJqjbzyVpxy\n",
              "w4EAAAH5AZ8uakP/AI+F0fABNXqjGLtif5ymQ8fuHJi0kapHBA/mbU6JQrWs38v7Mc+ZF529TnAs\n",
              "8ALA96A418UPIoDzt8lhZ6UkAzZlZbJL67t+9wRD1H05A8s/Pg9WDcMmNO2GozyUBAxIyyy7rwS0\n",
              "IPetGPrladsLIN9juUJyE5dDUi7f2m9tVMEL+n83nOQvCofnKvm1Haej34+T08WKlroqpwHxGIWf\n",
              "yorJx1DqXlnC2BAzzR1OnnzbI9+usyYUtUA49kYFfeUz+vSxyOCaxdMJeVNhN6a8CiUw0stvu7R1\n",
              "B28+v5CxasFWIYusuTJDp2r81f/LVN6t1vAIdBQgXTa5CgjpPKbZY6K3Ug3OnZ7SvkDYggozWyIg\n",
              "qdOoamkzUb7CrjQ7y4S2B9maV588spaihmYa3jltyEwJxXwYOUisaxLoCe6WwbiGIt80+btP/NhK\n",
              "sK7QnID0dKBvOV/Q1CAKDGHxVHWZrBkn1qP/zM0wKxNrJi1TyYod7T8SkX6nlTK+uxoHB/Kh+fTy\n",
              "bo66iGpmZRkYpemdTnsRZTYRdQyTtEZ2GxY40BKZynvSULGw5Inb48nCu/Tdvvg6WR2m571fRXPt\n",
              "waZYr4zli6B7LqWxT3GhM/Mp+B47CV/1FdJg+nnLEZy8SD5e7NY+zRHSVgyEYXcdYgCl7915iwAA\n",
              "B7dBmzNJqEFsmUwIKf/+1oywLwUc86ZAAvtTHBFQn357pN6LfRrJqS6k45rYH/K5vWzohkLxVIyp\n",
              "F7E5iG30v8YNoavjQuKqgc6X7T9WSM6AMGKmoA0sPliE6+2hI3S5IyBBuMJgqmTf4fOK5Dk2c0sw\n",
              "5vgorAYMJq7Upc2PJ2pYobigoFKY9DiyA7FX8KFl0pB+3fmK47F/phM4UhO87EGNSB6KODjLPZpG\n",
              "lE7hsVqig7XSmFHFrQy5hK3HbtD/Icx34gPe8k77eodwBCItThmEEbZ4PrWuuR1BVhwfcybOhKYl\n",
              "z8Tk7z/8OkgT+UksgQRqPNlgi9d1LyfEfx52pW8+B+JRvL/5ZyU9DQnjtVN3nehPXs1rWOiqHbzH\n",
              "awbwxKTi9Cbzlwi0KgNNxtOY4V9ntv++yLEc9OI6KWTTTylyDmxziGG80UFvMQnS6Y56P3Ye/Dnc\n",
              "hQ2/uXOJKXaTrsL1wsVxqWhmDBjSTWbzaq+Fpn4L1KOwYfQ5rUyUOn/RZAjQG9t2tsHth5juRVTx\n",
              "EX864O3lGQhkIRqrLTOEc4f4uftf47WvALG82OmcJwGRO205haMz4Oa2WCyyqL+r74nJSygS2Ovl\n",
              "AJfeOcFYAAfiBnmuAHWvQTPJVSh6NZvRZUmvcUlLy9DoFY0CKas6mi6QyuD8NiCCe5sAS1v4ErB1\n",
              "1X3WrEV62ycrpkkHj+44NU2+IqmBG7eMYlW03A/h0EmoYcSNA/WKLSa0UmWXdUP78E5mBmGavoMe\n",
              "XQTcyFLwx5tUbFKZUzm90yFxYjxfkJZb7MVBdxz3A0qHwkHxE8hAQKwroVpPR2YjFm/MLh/eSId3\n",
              "IfnlmXF47WlAm0Xyx9ebut6+ncjgex7mkgKbg8a9LswAVQRVbz9kSoT5VIQxXVlaLvBD076kNwv8\n",
              "Hxr518H/pd5OBWaX4ryRtt0od9Ubv0F5VtKdnuyFVi4pJJ5tLmHvKboKvmT8c6kGDn7V024QJXpm\n",
              "SMzlPXh0IFR6o0ZN8/tDuJaImO1pvLMssB8z82820Kop63qtV4CFuLCL/u5ioKRegoz8/inzQky1\n",
              "zl/BH56SO847LzfTPaxLCBeeMiJlGdI1xdXg8Xvw8JwMyoWfydsmiJJ2v0pmEiDX6YfHjPkM9I2P\n",
              "C3/IMnG9ezlgq0TBfazStDnE+KeO+6QtDWe55O6PHKFclbiyqk0rNrVZq/BBhTQ/q01eojLWPe+G\n",
              "wYumgEJShVPS1Uco1iJj2OZL2xStUDaDvX1Bgs6u6TsmB0rkgB86gyasCx/84MCB1aiPrp9lOOF2\n",
              "cOoZLFaB2qkvlSpqQ4Nic0iWMXwULdJL30TTJauM49E3uvhdyxSeWGlBd9sKksTFXhtGOJoANlSI\n",
              "TXqOgAzcpyY5uK2iV50ivIkAKZ22OVYFOwAndJEkSwDY6qw15xjAm/fyJgsVdiUUtcylBr3S7hvc\n",
              "uKSfWab7Jv8CObJ+jbWkouozUKEXY+93wEnrDQB/Uc97D1z+GtJCJMQdhB2Y9XUFwpSxGfpa028l\n",
              "DpESn1rrMR3txZE6T+gPEK8bgA3n3XS5lVsVEd4Vx+5btjnkQLOKQq2klw1Rem2pM2IhIoI5B2Xi\n",
              "vCDLs1LFeMUzMA6LNQb3QE6PYU+7Dc8nJdPVW3SsaScJN/MlwArRoehg69DawahvAzFPKBkluq4l\n",
              "2GWI4/jL5n7/aHS5fa9Zj6Ut8JNMQFxXvSSQnbqXosGS7SAsm1P0YrX52LdJ1rhbrbWj7HXv8Kg6\n",
              "vdHFjsRsLxjiB1P7phdNf+3I6gZrmrD6V/srV6OOoyhBwp9HHPIJ6pQHA+k+9c7FPm9IzA3oUFO5\n",
              "wR25Nc9TD5qkDN1RD5mGIG9raZY9gUKdMgbrrNM3ysOLIqMX1UAgXWoX5mjrtIhJyDJvBW34QCJS\n",
              "0VdRncnedusoy575guZh8gRu3pacBjMhxOgtJn0163n02/UPYtcT65qvf1HheUma4Sj0TuQEK6tt\n",
              "2Vs1VaR8XDm58APTzU4WoNaQx2jhMtFE63GBh9enCDBgtRxaoW7YTcyBVnZdhnM0hvxDwqryWHeC\n",
              "nuNufu9UsA0L69fCpge9SQ9Wt84xqblzcO2k648m2YzQEwDreyUacXsB/f8/ar73eo0SkGCgbsgJ\n",
              "DgcvVtN1eiz47A0DZQ08FHEKSNel0rem9YwcVRri49dzXfTqpL4MQe8c61wCG43CrxtbDAn8ZY/8\n",
              "s9hvCfqTKiMxN7W9e/ESDinYh+yyz5vDS1swmPCABQAja4CH/wiZ2RdKDEjUgWJmy8WVJdO44321\n",
              "UZi7ujCW/54aWHO/FJBKMEnXHFD/vqykyee2Z8JSb/0BO55G7brGjsKXrlvSomKpugX73AHTpb25\n",
              "9oenEaeI00i8L5zwPUBO7fusItMoilkOSt6lqzgf7uvNqCTS6BhKYHN8oYvfTdm2HmzBMEclSo6s\n",
              "1dWAZYYe5oPB9tSEwE4crhds+skZj3rtfRq13BNVZ3ENnUfPFmblkP4wLO0iMujgD12ulcZWwp/M\n",
              "VhkJp4Lt/JttdUPdB57ICH8lhOu4dl+kTDY/wn+3qHQVD5xPK4LkquvsJKkQa76BrowVzt+UnCrC\n",
              "pGgB3+t8wAAejUtyWJTyn2pGz8s9t3qrA0Rspg6czL8p+Km/kU0KAAAC50GfUUUVLBD/AEJWvNMD\n",
              "Y3BIAAhT566TK0hP5wC9+fH2A0c4QrXEa6yIF7IJk8nSUSyqFDVBt7rOAVsSnkSQgP0Ao3DAqKc7\n",
              "pmUQU1p/D9T4C40dae1dYPyQhDL4xzKLOnryw6MPlbH7Bx9jj1f7XfCCiUGvn9XHSP+W2qWji4ZI\n",
              "0D4yvyuTeIgGpk81N7mqUUd6cpG4tc4tIWWV6IEBoueGBgr7nf8FIPQ+dIf1QlTKQz2aJnIACGJd\n",
              "Apte691LBvj0y3d0Jnrto1rsZPbH5wK10robeCgW0os7H65UKgMmAuJndwKdhKFNIJf3H4RHygFf\n",
              "jPkLD2x9xYPLPmgOMqieqpRWHubpn6Y8qdsOpbZVPVodgQ7jd3cqWnmwf9VXZPeYJhgkJGgGn2fq\n",
              "b7e+h2LBXyrrn05b9QDhmNKKU55xWL9o4HMDvmw5jk5jt7VK0/BT2KYuXZpR1xU3MuRO5F4ytoY0\n",
              "d2KtoxttXw3zaMYMH+P69dcbi9NQpirhgDaXof24i9vmYAsjzbWaEgcLSmN1dx9Z/x47AtOc1PqK\n",
              "/vtMqC32MhwZaynIWvq5g5TzkOQJkh+7V5trffswmst9TVNIXx83ue3zpzDseoWRHgij0r/Z5+xl\n",
              "9LqFggguT24ufrSeTrHt4BNx9OpwSUS9cIcSYV9f3DVZQDbF6fCTXYTtaK5DGvq21E75D993HI8x\n",
              "DL8vm0HMei0YfHj5IptoY8bWHHpB98NyVRuq37BrrX1BoO0Znv8CYMY6fT4kcvfdn4SbMqT5fbNh\n",
              "lbkpHql6i+ST/shiCv/543wKOzAMKyKy6Xp2/M0KijqT38OkYpty+MKJ0o8t/bJlRp+dCrUrfVeZ\n",
              "AVlh2LBKCGgdb2JpVmJyBmsevSC7h6y/LGQUdtM7W/5IWsvUls/7wobMIY7aihLcFtGZ/5vXI8WC\n",
              "tyem2kxrmIGqWCAaruRHp4RkjC8u3Exx3HjypWf9MQFq3QMuksXeY9Pw4yggAAAChwGfcHRD/wDJ\n",
              "ibsAG9C1oAP6QZrxRreFBDGg3ND4Ydt5g0zSdaN18LUA7woPKT1CrE88sR7VFQCSRCmZZrrFJUZW\n",
              "kXLCuzgsVVO4ZNKcjqH0VHtvFCogDBqNUW7S5NQ5LnkpLEUSl+8wmm5xrmxOFwvjqpVmUzw94eaR\n",
              "wvU3S+1vlw07CBhr03uNd83gWuE2xeWoLUaTQY5eLhZnHS2EP3IeW6neV/3i3yMpWpGwno+42vNX\n",
              "fr95LM3aDT3NZd7nRm0E3zq4WghjKhEr9mcwapC9xe295UBM6VH/UvvcnwdsUhIKaeIZrxvjSxww\n",
              "MKqXi0kLWTgtlqUW5OK82VjByvvztSTjsBHKF+EFlgPrk6tjaADJe29DVZaatA44ZBhGWHv6a/BQ\n",
              "yAPaPhXJEEZy0qZoTMLPWsE054/oGlLGERZ5GrZd6xOIH4u5PbRf9lwSiXPf+kh6lHuBEXkkg5fX\n",
              "dauVv1Gsc9uD/M9m3VoKFXQf2m7G563vaSoXelCg5mVeeJaW016pxguW3yOKE4ias9DxMkuX3VFb\n",
              "ZDgFB2OfdlVacRFKZIFD+y2IQSGfR/Hx4ukqUwp5kcu8YlBVfYwvgJ8Lg+LOwcK4/78hXpVnx6Th\n",
              "DVgbPbFrvPNsMxlKoOlP6Sskn46Uz3c22esb32myylgPFYab0oNvgNdH2X96+LxZMxz+NhxkfCAK\n",
              "MBwQrRknTQ0CqWj6cTuUiZRokXidGG1kGdo32qhO0GzgHXrsrkoKGRkOCGKY6tyKvSUgzETL7jdt\n",
              "M5UT/Ht1TKvJuOeBMF3Yt50nhARXNJtItUGMXIGYlGYOq/WN2qD8YL8uhKUXoB9S7wVZNgnu9d3m\n",
              "q10gxr9QD4n+VQxZAAACNQGfcmpD/wDJQi37b3GoYbAB/Lsssbftuw5W30wFO1N1zmUZf7TDlL+k\n",
              "8U1C0ND+94huE/dE8tXJYpNvt+T8fRkVxR7e3ERxvbYSmpoLt7fu10IOz3DCOeExZHk6RfdXC2pu\n",
              "G+2ulrbcvF2oFDW7lRJQplR9vIOLQlDavK9s7I+TNs3erQfRP+B17du3K2DMQhYczPiuUIv1S+3b\n",
              "npj93xPHL83zOMn7nkbk/FfGbfVWO3wkgMe7GbmtHO405YOfMSyQsW1NnYFx8MArmRwVap7A2JJ8\n",
              "qg4Hl8Ev+ATESbctKlsGJt/6A+EmlTSwvxwTBUqk4u3FLUCucwslyuSPq017Hd/0qZrJ5i4Mgb08\n",
              "tgvW5BaxQvPuicznBu5vEBv4q5QakXwZahW1oJEhnzbUBY/9ARE6WtEe7/4ceAjt3h6v4Kfiwl7v\n",
              "bvRln7GnJ4Pamt2GbJJV8zL6n/+xRAsOIoxxWRdUkvEwHJvuqrClDiRZ8PGK9sNWqtOfBkLuAS1x\n",
              "Jb0gqQGUbrMbfZ6xz8qPN7H4+4DXMwWwOhzGGe4y/wcocaFUH8ZLgxznyOP1FG3C0L2ND5nKs0FT\n",
              "b5GskhtJxX2VA2F0WU13058dceqTz1Jcvekx7j9iBIeG5f12SIKxFpCVghQ3yYskQW3PUcM00fX0\n",
              "DDUk2DcxiVEncDl518B2KbfHD585az+4lkodup5Gc0GBgQgHe0q1IcJMj/DMzTm58EtPbeUm8NW6\n",
              "uHzAZVBcN3HHoaAAAAfpQZt3SahBbJlMCCn//taMsDbuiIAOZvwaVESciw6hQI4qgEIDkm3Qtylk\n",
              "X9tljyt6j2H9DfEPuyMGTw4b7uzO1ySck4I2wWmEmBDcta+X3AyKZLVjq8teCE7Y63nZis315y6Y\n",
              "y1AnPLtdBh+C2eW7kI/Km+mkiAANYDXnbYnkFHEvMlttQUiZB2z4gymwVaU/25hTv3W1lq2ngGdj\n",
              "xV3bVEBJKoBuGTv8CPFm26jpUiPiMp5duIOlJRyV7nt9INf2m05rTVRAonndxWnmoQZJxY3xFknI\n",
              "FxxTt4HbB0yKnfq/PUJB4gI/7IHEyRIVWxA1ez9cJWB+gn5tkvf9qDhiiXUbJQZG5QSwekDgy7xn\n",
              "wjgmVyLMPNREVjYWGU6SOfExa68zpPAnxayByyh0SRxaj5aaPve6ORTyLY/HljIdl8UEFtwoVAHn\n",
              "W2xA7FHfPYL3E410dmOPFzguaTltAaljetx6HsJlTljgldzJ5hKX9ZBhRa/YbiHdFREdIECNHmkL\n",
              "/1O8FTyibttryMQT4TRRiZWSc0BL233O+fg4jlVHg18sCoS54WrqXPAkhprCzTm/a3IdWisaxNgl\n",
              "GI+e3gstFykuXEyZMHyYl8I1zCRn7l7/DMEQxUA0QaIV4cKV4whTD4Z9MyJjm0V0J6K1t9je6gaX\n",
              "u0gloOXkb4w8s/vs3ZT3zM/xRlUW/PZ5VXmApnS+OOKdRQTV+vrLZXFgMRPRyzehdoxcxOIUQV/a\n",
              "4MSJvRbjb1LHUNrTL8AhZ9cu6xl+lkUibfQZluE5vfzvBL2/jjeOYnZm0Okp/46NE4mBKDWm2D6t\n",
              "uC+tQTMPJX8d3U6HqtQwWdLDCMBjo3DW2/QA8XWLbFzMe/LrslqDUPZFFvkrs3GMAY9jLXWfFA3V\n",
              "RXUk1lQ7KdpUks1XOs3hwis61ozgeR+Q6RxS/ExRcgJHh/UkTH0S4n9O6W/aoNZqOm0Qe2o0OkuR\n",
              "eDWwnqRZXPCg037fVl6wPD/haVcvv8jE4gD5INBGIwfyHwfv4Fax7PHEBEWtOA3U1aSBQwzoqLQE\n",
              "IU0sg94oHIzIJ5EUzlA4IsILraJr+S1+voi8sOmf3m3almSJmZ+yhXHWkgME1edIRgO/Rm4I28KF\n",
              "nZ+Anc6wIVa33/ID33ijV6rMkQmr0ftKGECli47BBQx82KvZoL/g6IDOFRHDyUo8pJQUW6CStLN1\n",
              "76/GN375Xf+/tF2Mn5C5HDAWzvTaACW0WNT8khSRT6q2HwjJXz6ygtDtt9jKYQmrbJHJh5x9yNzm\n",
              "EtaQ0YysWTuM6kGzWFr2G1a35uS6zPz7cFP6cSDLWN4+amjM5MXlrD983oydFMV7Oz/xyLyvkNUn\n",
              "lvVHQQUeK0jqmRedWhCY0MLmj5rYHv/Qw+IY8YKuw2V/CNMqq6lWdAAreN+g5X6urPyFGpL7kyK8\n",
              "Xvfp8QF/B69AnieeO71xcHdP8eKPWMXCiUcYolIM87C0LaI4RjqFGIVd3/GKhfIg8j8tTyNWVUip\n",
              "JkNHP7hd6HWY7JpkzrLJLwdm4BUagaaOPDfhCu0lCmsPg22YnNdGQNGdfZ7uQMxDQcs5qr4Hrk9l\n",
              "6iBOkQvwhsadeC2CfpPQij/2PTMtqfQLgrcIC6l9H10V4+ctFBksnGYaYH/eemx4ijRO5rLtgpL3\n",
              "2p40mnQz+HvV3mCmZGIMsWSfIuSuGRbGtc2VdNjPxmB8+3h5SfT+64EyQmnKuk2fQ6G3Khnd3miG\n",
              "awW0qRmiy+lV2iEgSeIgp3mHU3+P4vkh/lPef7328BNivYXZWQICCjUSaJF4//akaKQA+/ISgqHC\n",
              "U1/5FWGvUiJLST7ZIHim1bAAZ/2iZymoEWjKanpCV/IfNLuJLrFzOshT+OH7WLk7BQuMqKXFYXkY\n",
              "0rjmg689gClvmJNn8CyOTG9crhxCo+h1anNFcNFkkNNVCXUTkjPhGELFhTvh6KbvRodKmTibB4Gs\n",
              "IZXVf5Sy3Z+HhSeau+qREWhLbGXDqVY/HfCHK5SxTkneQCe0EDkgMfEiwBEs8ziECdTrTzs58Zz9\n",
              "7UKdX9Lbql8Lodf2a3o/+gKA/BVBl+MojcLNOuS9jOPjar14y+W3h+nvseaBs7gnQawdePDjvumP\n",
              "42/hR/XzLHxATggUCAtpJ8dz229cuJYtSBvqa+YlPXfuRrmG1h5btgMK+OqWcKetVw+tZVEqtcqy\n",
              "rJOYuh2IDdD8hueSejUJJygbI6G4qX5uIgNGfhbtpu6GTyTOD7I9OspXl8Pq+eQ3Ie9T8xDkY+n+\n",
              "Hjbe1fg/245H2TnDwj7/gfC7UlMRYXfWSPWKn3fJ7yHakWhbIzXDuiZMRgxUWzaMbk+N0qxopj1T\n",
              "j2qXTMgVWPJYQlYrL3/3wpDrzcm4Lq+LCOJgZ8JoS1KmvrkZbwSpoTlaoEJQnUStn247C1nQ+YEn\n",
              "f5hktmoGgO5fqjNFycTBWwc/4S2EmXKlUREgEUx6lTNFWOYm6zvPt1aqp9I7uLez73fgOtoSOsss\n",
              "Z+Wq+Z0eCS7oTw5AgMRzQqXGFXGL6qvc1XY9jl6AEzXWL2lhd82H6YgOeETWUKp4PPuJmhX9LGv5\n",
              "XLKcU2Cy/5G+gx+tR9d6wbn6ko3W+yFTjyhH3pGsZMnIV0RDAjtkJUK81DiMKF1wAOJyXQgjnRzm\n",
              "c0SogkBaFU0aZDXy3FiKggTWxujKEWZhEZxbQ/y/3qKdN5v1iwlqZN21NOYKAAADTUGflUUVLBD/\n",
              "AEg8qWetnrghLXQAD+kXQ6QjtlkssyJsueUXx2Gv4tOva3CvooG/LCjjV8OMy4Fq8Y+eDj9WWhCC\n",
              "xvgQD3BSvh/bqArjAx7f1ZMnLF4TNoWYogCv4FjxtRnIiiyD1D1oScm7Xrx/yfgIhcXF7LD4dKHN\n",
              "MntDy2+ThPqUAW6K17haeawdpg2bZUN4tL+Pn63j20P+4a1edsLfE8ZkRhW3d0dhyN2Ab91VTOB+\n",
              "hS1dCtGSF9pACQVYQo2n01j6L8NA/F2Bg6Ez//ADuPj8GFr1chGJahf6BCV3gCg5i1uobByZq/XH\n",
              "Dzzf6Dj3HRYIsKTGPPOYvDzqmfERC5uvtF7mCPfhCDqbBqrQrTaOIhU00Fq4/jhHcPPqzOBktiDu\n",
              "B4r3SMvTHbq2jeL3xTKkPptjxMjVZNcZkLxm4HnwWV+jOhUoj8f0O7q4DX8iacnLOtEhCtmJXi/a\n",
              "EI0tbyu9hjo9sV+8xNL8hp+iWPTzUQgDg07NTnUM51l4q3+VhT59p0AdFiO3l3uqltip1ecJCvhY\n",
              "8VrPClZSa3RglBbFExUcMi94StZ1MlqU+ShiD0K8GizinG0fxKbTfcpI8ULCFj1EdKjv3xWc1k8h\n",
              "7nIV5vMzKiumA929JcSY4MTam2eK6sMwpomZl1QDoMYYtW+dN2+K6+PdZsAyHns/F3L3+Bhj4v33\n",
              "OEw4ISM42l+Fzy4m0znyUrsGbnRlj3PrjTUHL6Nlxk5oFgoQJu5+9szxBXty4NDqu0pl6yM53nSw\n",
              "5AzRcivipP7g6PVBM5naQvI4mrCG3rznmJoiYBF6eC1MFzEVtuVn3Ds/p9lvdM8UZsmou6rW/c+N\n",
              "LBh4+6+alEDC+AIvp1iMY4E4RA0DBvefIIrOD3PPUX5UmwbmTRNZp6+THcH/Lcio32GL47oZRcD/\n",
              "HDcsoLjtHSp9Ao6M/i+edp33RivKNN+MXXlq51l43liPpn6lV8PxvzPcm53TCgjq9UXIoEyTxJQH\n",
              "0oyFrq7wALNf2WJ/9aEhBvgi/dBsozMp2SewQxKdCzdtQq1CAUK2DXI2s6RJN6mn+48bpsSYslJs\n",
              "UiSVjAr9uMhqZi8toFVZWtBuPlin77qx+HXn1jNmZMVNK+mH3jghAAAC3gGftHRD/wC9fTJhIFBk\n",
              "aAD+jzFoSb9dOWUNiV8J2JJgUQlbQ/pNs6Ufp6bCZvOIQDU0z6W9MYD3KOzelMvl6oAxm1m1vwS7\n",
              "Rb+j+Co8RVK2leTMQeM4ImA/27u3g/AvY3ICH9GV8wRJ32oXHR0hIbModGWv948X47S3UoARPBGw\n",
              "CnoUrZNoq9pEC1Y4QTUsjv/bJJvIRblwYRTSQxx0ul/OZW1yztv4/Yxvv5aZZN6//JB15VKunMi0\n",
              "ZY/kKrBxWT2Y6JhzDB/Qb/kHZQ50J0dhtfZHKyUb8/wjFEo+HkVVwkSLvbL9dnc/1Cj4QMhKeTNr\n",
              "S4YYAMEAZMtoWcag3DMoCM9hDNSEtZy0l/1T7bUzIT/kC2xaD4Dzr+kJmwz7kKomHFN63k4bnQq4\n",
              "13bg0/+1HAtiQ5MYgHRa+Nsw/H+/r7sGdwB8V7ek2JIFAsqz7R6261KYk5ycQQlw8PDZI/UV9TXT\n",
              "W46R/KW7QC21yy55+kw025aduah49VezrrtwaB8vjjkuSwz+Y6qinGdGuyormB+fVyLlNMMy4Gba\n",
              "E+PL9m6zHsHmRPpSHGXogtQlYT3AoB3esabJrOJM9dS+f1EfDaRIycAP7ZkdJjpI1HaQ0GExcZEc\n",
              "PTXOB9qTDzDxUOO0VvwktAT4xhNn3SYjq2tfwuK2wi7FcsKZkap/UdsqwJJlv1m+nypTBaXPgVtk\n",
              "uQ7q/9QV6cp3LRCO3tU0eg896YFThTjcbVIJRn5A+HCveC5TRKSNINOoPDmsVWlaLegTd1R36DM2\n",
              "yutNXKBQbTZ7nzIc8hv3jCN/u5srYCGWIdmpRemalMKsjeyPlt5kTZ2npI34c1MNrE58VqD1JziP\n",
              "f1kKGKEF2cw0nd8YQP9MhG7jsuf6gD+VFVTXV4Bsf/GQ5yLpTEhzBczPXl5EOLFHX6YHIOH3Xwuq\n",
              "RbYu4fwxjJIHooyRsnR4b3pDvUA+WaX17DCcacG3cjaVck1cAAACiAGftmpD/wC9QpHew5ABOShH\n",
              "3Qbb7d5KYY9sbPsH0+Os0IJR5EFWHiiE/7OD1nGfVfKAbbf+vgGZco1TchQydJUctSOU2sIWm7jU\n",
              "hHxXH1Da1DuKMuORMNnX+44y/Bbi8tusnE4NKv/PvGUActHqbAmBUlJLskvZ90LmFLMHHHc1fXRz\n",
              "2Whmi3WiZscKk3vT53Mu0TcRFRc038mW8Jd2Tr1URJTzoX31U+Cgv9h5d4Kr9f7yYb3jHfmKD8TI\n",
              "EN/ZDDHRijaw678MfeXA9z4kVKw2E4c2Dcn3ISwHQj/HSDzcOi8PoZNdkVFxkuzEtjixa8akqqDv\n",
              "MKXyIhUvoxzPzrc7vb+U8DY1TS9O9WJc2BnzpA25f35CwJzWVv3Klyxvnw4P4HkZr/3BLnJFhI+L\n",
              "wh8KDNt0b4N9SiKXEHvx5GfPQbYWqEJgqEEOTnjfikQDS1bDNUOaUlV1ZGiExmWbS9Pr4FGGHBj6\n",
              "22f497nM+ky2Te0hiHAfbyqLvWh14bzUpd2Swnwq/5o7xVFiqVIyF+LqUU3I39tHbBINqLCjpfjt\n",
              "QcJ87YyJlfRQraEo//gEa676OPTdtj0Gy67ovAYsT+G0zyYhkt1L0YygGx8hpK1wZLi3M8UOKIp/\n",
              "MtMC7OSU8PeVPr/S62zRX1zzdcGFJCxohPVz3/1Vix+LUpI/0YxKOFnL96IR3MW8qFCk//plsh6s\n",
              "xZBo+d8CXNnOaU7Q8TgP8JlJidPakrwfEr/tJhkW5CHKj4kM8XLUoKOpfwkgWiVQglxJPxbe2xy4\n",
              "L/GGt5ddcLCLDEENKIixjYKGM/AoBnvbRbk/NNlkx0zgk/Tkw+paf/7szaBCjfx3GZhf9GNp/6+V\n",
              "1zAdMQAACAxBm7tJqEFsmUwIKf/+1oywMCSseUkAA5zfg0mTY1SUd6JsV4uQPWNkmzfdcgFRDpYY\n",
              "1pJ4xjKpJyYHdh2jxbaxoi4Hk+Aj369GadLvoFDzgODXSXY34PD7pKPE/JdvZM9MC27QIqsFDyAr\n",
              "wEeP7oP/GtzOhSVCnbFaXe25YVRCt9Dic5kjjqZb0mqmzFUNt88aWACgjmfv3grL3FZPjF7oybZs\n",
              "LOHYIJ8joXn0HDhfyNhL806XpUQbSksPJL/OnYRDLEzvWr18UjTyIs4OO1kb4xnhMX9NZPGtkgdW\n",
              "cUZ4d+0H9HNUa9Gr5XGLQ9Ojyfy9mgi3pR6Qjqv8BtveuKi/3EIllsXVPrwgilZmkBBvJRAx/qDO\n",
              "Gge6fcvQOd+Mbuvo6QHld8H8mutPxG0/74NEOVzg7Aqv/5ak7CAFijHX6ZOhM801rtUy6l3SHMZP\n",
              "a1VtFRatVKDcdE+7HUUnlm1iW6DdtFKhE96luIColNwNA+a7CPtajgCnHVWptLzODRtIWwdzN1CD\n",
              "Chran6NGeUo8rPLDo6aLltnlvZn1VFWV/ibR7Aw+UHn7wzE6BotakTmltPvt+6V3wdDeCD6cCM4q\n",
              "J2lBJ3aKck2Qwnr4Ao7xzTg+Pd77oWBu/PYoNBV2Fd5Yg1Ppg+Cykp8ubWh1KvNGKPnGUE4TttIX\n",
              "G1J+SQvZhztY5JW85hVggAG8EdaE5QkDxPDkIqSjcMYTK25/J7/fGsffNReT1EMfK8KC11m7wIxI\n",
              "X2FJxHdClLFBg/SlKxJmBjeierk53k6Y81mEK5pWZnz4yF4S44ETVHOTq+ph9hOafGZp/f5E4nct\n",
              "VFPHYKJ/9aPbCIPEZaySIy+y7k+q1Dr1WmWEkvMSi9USiV4OG+QjLhsmbzdcKMhAYQiYAuGbBviE\n",
              "bHwUuZmaP0ADr0aJbKozQISK0mQ2TVIvxUbjPvekCJHn63KFsPUMBkQ249OOZerzDMuRv5Eg45Dc\n",
              "xQSvuvcoo5ZhrnYXsEq2kamITkJKTWZFxmXCL7wUaVcbQyM4vpiNzARI95U7xWO35aJCOus4gsIc\n",
              "IgXsdoDTkVFW0/cmnj9T/VmF/x/PUzDQMeGnM0XemJQ43qybXUvobUn/egw/pPPRsgq7iy/xUCS1\n",
              "SwnXkHKPo/FkVEoCzclXFy5Mt/N7kQiEyYqkrre4auM266Pl4741V6WArdxUaQb0kNpNr5Qocjlb\n",
              "/8wngCUxbBgCoIyeFnI/WHEjTABG82yywi4KIGrP4T2ktoj92vnVjgz6dDwDq4Dr/YAvjW5rZpHh\n",
              "FVDhcj/IBDgn0a8NBYHdIx2dBI0EzTAlQUBG9OoeOP6SqjV7VBjm1LMXE1WDIIwt0k+lV/rMxgoy\n",
              "a0kq+gKzuzR7CM/VgQUmPK4uok44Ql2x+wfO98MebaM8LCwKH+85+2bPjL0o12E4sKiO71/9bLcO\n",
              "OS643DKna77GFgVfM3ytH8jKOlUoPxf0TkQ3sasc6NE/pZLcYbltmNkPUKvVOYHHukH36KdkWTLI\n",
              "3XCYP9Er6BxNpzvj1c37obuZPp+nKrEeUECZ7jSoC1Vq7JWYLRoH0/5/aonTqVsjdvK6jb2ClZj8\n",
              "8C8pf1WBYzTnOQCRPh+I218qR9DWc9tSWUm1kxGTptjDgJgSVVVtjk8+34TUJQC753e0AgqAeuBS\n",
              "4+zljy9oiI/l5u0l84t01hC++lPAcxpLAnV0ThT95Q3+0X4Pl35Bh3w6sstZdW7H8uO6CRDnFBVV\n",
              "NL8MBovtECZJYA5xQzappfheyzUA8nRhymtSoE0KU8ucW8gUyP9SWdkFkVsHfnhbSeTib1XI6qaJ\n",
              "beNFoNF4nOSZ92IwipZdtxza5EdWTx7Ef7mLVzPvpiq3ZDSqMDzXqWHXRX7XM0GQ/5rRPtkSRp5J\n",
              "rI+39w2V/LiG0w4Aab4cQn8gZz7VauImorVaR7EzhmUXXep1aGbsV91TdTG4233Am3kk+Q2zBmg0\n",
              "bmYGafF99h+YANYLl7v/D3slXmLkOjsti7IMSOE3JOryOPaB6TKvPnS2hhN+WHMb/LZO9mDept7q\n",
              "p+MfDV85p5yMsx0loYfHwdBBnC3rFiZ93enfDbevpTNqN+lmVjtZFeEI4av6doCgDpHmn6kTnEQq\n",
              "+LosHjgUPu0lMt3xAfcZact9f0rk9pFQThZ6tz3cTlW6/JldFZbGKCk7qlWHZWNl5NDVIjrG4vHJ\n",
              "vLpvVdh7ZF7hJhudFfcKlMsz29lWtP1mwGmsVchbsNdFNGQZrBVjAL5p8yJEZt/hVA++UbjInucH\n",
              "AKBfcwt+q5G/FGmF/eic53MTFOEyXnqX4VS9Hea8Epu9t2lOX/LAG0skBXyIBf6KJyKUfp/e5fQu\n",
              "GhXSDV6Y1qW/NkBqmD487okgTvXvRWJ0gsJNMvqhTn1gqG15Rl0FP1PxxaBFCJ3s60aG5yKnkVzb\n",
              "Ai2Pozc/wJ36BRII7qBuas99dcu8MDfIOxrbTFKfVPMiUTAmg3oiAn+pTKUVPlbMT0n3XRmNFQ4O\n",
              "UWRiiC21SCGVQBo6s5RHuoacjeYoTiVNrMdtavCkqWzDrcIPantB0uDyqXfKPHAuL0YqsNZaQm52\n",
              "S9Q132evRbdfqKing+Mc6hhqIRhiES7tGxdHFg1sr8L3TgOmOC6Utnf6zSKFkuyaolKchK0cTcRn\n",
              "DlzQ+OL23oEQtws7lBUKIaclkN8wplHqwaxr/C8TN7sudXu2AZ7sR5zNFhSgqbOOjMC3cayWWqw2\n",
              "XJV6kfmbr7N0iYaKr3qqiQAAAxxBn9lFFSwQ/wBCXb4ms6YT1YABb15X/uLjErUsJaJwdi2lhpli\n",
              "7XFsESCD8qydbrDh8M0ak7izSlOMmaMZLxCqvRHMV/9W7NPzXj5Dp7/mGD8CRgpfNigEUyGkKHg8\n",
              "oYvkqdl1r0DqR0VA6QbHMWo2cINhJfoPxuliN0Z5e8vve1Lc4mKVuWwHzYTuW8sDn8N90jkYw6Gb\n",
              "InzImNrPY+RAlPNstjVk6DtFZVTb1CJiW2Tl/t43cRO0+suKbxxXc2PFFyoJCs37jO+8492zMLsM\n",
              "CU/Qw/xhdiBj1RtTIV3EQjtkcap33AIgbi5RO7XmGbsFYboxFursnSk3dKjLrwTs/NsGSrJdJmkX\n",
              "/gI/LTpQjLOx1vXyZ73hadWltJM4SASn7pxAmERvVmi4iwtvVQu/9gOi1tEoeM0a1m65Rb11D9LV\n",
              "C549CN5/E7rmctLtgBWyoMCsyR9ExiH0kw/4DH+erIXEPiwUJ7hrvzwbk92ofqo71t+QR9VszCTu\n",
              "hrpsdglgG4fNqIlv8nEw6s6LMykG71Ty23gLQSvJWPgXSAQqCXFbthzWmdq5dzw9UtHvHB4Y8P/f\n",
              "2W+AVA3Zdnmwtp2tTsfXfG3peylb/mEPzQcuHtM8AULAMkAVqa3x+9knTf/WE2Yzcuxlo85tfqKZ\n",
              "+RfRED+qdVqjWFXAyH4LPYGY9POj0rCuG3S3PwhZkYrY5kwmzl5wpVQ2ekgtzDypl91DtmCLU1Sr\n",
              "mueVADUMXZRnTDjQaUzVwmbfe+Eo3v+Fug1Jp9UbG4bzwKAh7xmUNGtfrSuvhK7IqwbeJLEyovbD\n",
              "nb7Tip3g+dh/kB4ak46eR0bTEzFCiCU4tx7iMuCYRqmzwuC4nLv5QbssC3mHhuU7kHVlHCYZZbAU\n",
              "nqhr/CqiBrTet25fgC6DXnwIe7xUjmFg2KDvZzPMpsT2KHajTq01VbNFXjqX6liIlrP9sOfvCtFZ\n",
              "IwsTXvulg/O0ZFWB1X+Yn3aebnbgCSnVOfY3isabXrAEDbkjFFMAX8sP9Ajg0xmVdbk4KZvkn4IR\n",
              "8wQv/wjUScylVUc+szY0ZPEmAAACggGf+HRD/wj8tTSAp0XWACath3X2HYctn7OrG7RgZI4KxokH\n",
              "+LlOW0iNPnihyc9PqpnXDsV3tXAlwD6PS+EsmzBhuyTJ9tQXtLh47NSwptUWligwnUrVb+Dgnswv\n",
              "Zr+70nXr0RWooa0872EsrF4yihOcdXmMDfqbvhAKNh2roh+rhU7eyPVWg9I9V2DOaYq4O3EVNxeH\n",
              "KImfZ4oZ0dsUi67q6jAYq7eSwsLT5DJ6AnbFn9LQbuPQR5pEVEUW8eCOA36tqc57Ms47vODnBsDs\n",
              "SlGMoe9HtLu8MpjwJDJnxS6M4xHcdNhirf40WpcRFTC5qShVHlpqgCtt3Bsjc1awpwYOk/bVpgxz\n",
              "ZatdoD61jZ7KdWotKN6m8oFn/8YMwYM0VNE/6cC7pX/Rp++BAFFeMTV+uriOJxOpqxsd2Z2D4FRN\n",
              "toB3fqEFCOJpfYBkMKiHajmWQu0PvmmlPd2Y7k2fFAcD30LCXcnjJzsaBEUPYjSaMgdk4Q3gK0XP\n",
              "26wLtEkien13+LbbvX5W5jL1RUjS9yaE0hw7rX433MiybmpsuGUIPQA46oCZUHZ7lbMhKKyQbgCV\n",
              "DtnuamHDysllhqHHanXVerzDO1uJV/JsPl2NLt/SxuqpQNtcGN8tjxMdI44k6xgyyB2Ec1HJxxFc\n",
              "jjJYscKPdWlNin6foPVQ8AwJisTNjrTjC4jiezYiQqrZJ8tHFWfYj++7sxfIowwe46WoD4ja66ZD\n",
              "pnnnDR/TECTZzckbKIDrav8Y80WeUBpfQbGl6WIxd/LJdONIkr4jVV69bqAiO8hRUl09sBeg0WLT\n",
              "tWy9+puFIxJNse+a2it+9hrDgFpe6yTnH+rKRo9g8JSMW4v3gQAAAmoBn/pqQ/8I9ITaIOdeql2w\n",
              "/QATt8iV311SKDmL9qe8i1zBIEqazkkqG8Ks7s4fGIRZnsSp4cArhjBL4SH7xVwM/TuYolrNv/Fq\n",
              "UgYlxLcV5D+VrIvtdA8PtYCGquqAqZBtQANrLFCQTt8aedAmCPPKCgL4X8yltBhPgoz1v+JDJCkS\n",
              "8MOt0Rv/BkNEed1H/YGRUsU58ayJd70b+gKVu8dMKnNZFMqRTBPkS6gu48CESmLn9jpya/HF4sR6\n",
              "JST719H8CnJTZUpzAMErYqc03WjT6Bl119TZkz1mFZW+ZdVDbvK+Qvs+rC5aDxb4JBLe7CgEmhBs\n",
              "3U/1U8jlViFUiLoNC4owhq+FmwXssvVhbnbPSkWqZbcjm0HdRl5WOzxkQo9CPZuDtVM2uwH2734Q\n",
              "5t+9AxU+/6PT91Gu1uY7VpL4jGL6FI70ewguHJDFfoculjvuhiaqtSiGMQYNwkGRKTSwfd5afa6a\n",
              "9Kex1B63brr0T5vPd3drXbDYQ9VbWMal6x7zmM4PxqiJds1WHrWh3dzsUWSllFWfcolJ+MwF1O5E\n",
              "r+3DHRaHyar6p6GjMa2VjQ8TJjM5X2nqi8Lzf4mIt5H5POjJjk71zT0X9XcbSIV1gQxi1I91nsuC\n",
              "wT9lTeF75xs7PeNJgh8I6uu+7Iq3NLY1jVU9hlsINttJ/PmP+Auj2EuFIkyRP/d8VTQ0J8+sLMFF\n",
              "iujc2x3V+6qfXyMB9Uox2Nj5/K2SB8d69aFlVTbeRhzwygGadVyrX2rRazB/qPij9Lg8+5QQ/boJ\n",
              "m1Xt3taZT3rRqZkuy2CNvidhyHG0MjdPoWdu2RHCMc4AAAa8QZv/SahBbJlMCCn//taMsDbuiIAK\n",
              "2qWFPyWOMqTZ9Ogq2co+LiWKmDJVLBr0NGAHTMMoJ2xdyD+RJgD3If7ivKcTf3cTen/+kWFcASvo\n",
              "34hl7nMQWvdsIXqH3nkMZyTsxzUdldUMp6n+JQnKHeF0YuITgeg4uHk5kcgOC1N/f7CzqpArdcVh\n",
              "MIJNfOzaAIJs4HQ1uS1gsXCZtNCqdQIEUGzO4+sWKW2Bn1J0p1Vdv5sswPsXCD2Un3uoJGB9GcjD\n",
              "9uGya7grXyyIzZpwvbzvxiyI5oWRU/mlps5dFJJFUoYkZ8le2xlPW7OmkXhdRmNoE9/Scg/azE6Y\n",
              "hRjt8g/zXKVRkH52rXXIWudYs9uUAFo1auMIk4+a90tIps/3GHm7HwoIvvReWc1QfkF3uf29j5+L\n",
              "YXUTVEW52MnqqibdClvE4fOTdia9eAJG6HBNBGbHxOcLMb3FgD3G9Dk0pHxOlWzTDSHcLatpzovv\n",
              "morzEgmw6f9enc+DzlUrqrucjWG1g/SMY/eoGVwBwiuYwgp/rIdD+X7NxtqBWfvDVDz9B5Uemk0O\n",
              "Den7qaoXQKM17Jq+KgSkQsa+wDOj/Be+VkItkfzS6M6/rc9rrkSsd5N2c7UBBmMa/tOsD729Ljes\n",
              "ZQq4goavOhsRlBWypdrjgXCWDz7y6HA6Nak0Y+lWOB/h5b5CGHHx3doqTAkExMoFmHvlU+kkYod+\n",
              "3J6MozzOefrbmQF+1B0fmIcqwDtS/6Q4wzppDknJKXDgvSrmvmCTMrMeLHKM05UT8lBu10/MxwiI\n",
              "+zxTqk7seU9cHGzR7wUlhWEoSvZEaynemz6v7/CGcNG/15lz632s1PQMUImu18/Li1epzqUu/Ec/\n",
              "w2lA2XwGZxeP0KfySgIBuvd+ekaQNwh+I7KLhID9ywl9okb5WJUQfEEH198Ia8jKeYdsHiTB+qBL\n",
              "Z9HtYDcBg0u4ueC3nHQ3OhDjCNEUYY9UUbyPJwesP7DZ4uNMbzzguRBvvSTe47JCvZklRGH3bLsW\n",
              "d7ICrWw2AYEjXTPlZ5me4pVHS3ufV05hT1AU+t21fTwMWSwZQgpbgPvMJrzU0J6kGCDYZ6yupSQs\n",
              "nWNihVcommE8fL1CnuiZrShIJ2NTSjnUOEYtmuIZUlXR48e/eJOXeuWMSE5ugqz+vYtQrFBmB7Dq\n",
              "zEAu2X6PfhdC2nXjaVi1lQeQyGP4fJ8GkeWQM852PepwvjWSzLGTFIgOrbUGGb+BHldlIZK60fA0\n",
              "atxAY5TpnbBuNDE7UJ2ILo0s/MO8ojibjBsjX5z0XM23ZQsC36w5kj2hcJnIzVE1RWinnH8QyoWN\n",
              "/+pR+zZz0bYqqoESkIAx2AE+50oZDuWO+KhU9ADcCr7e7XHDYC7SBdfX24nEaSxGZEXVyppofjyP\n",
              "VIRnl+KvgA6+zgbmKO72EMy2djxcpWABEbdyUkNw5suH2Fp2P2NpFn+LbcfpL5fc2evMYNKOKyFi\n",
              "HinUwSVmwGEBZPhgZnpevYSAFp7Aein4Xn+fqABmVObADXQpFlzzV3GHAKCz/yjQrrqHfWvHQ9wR\n",
              "10rLlmNZswY61wAd9oX2KZE+j9pn8hFgnmppPeWreCtbU2mCNB99g/3jEWdupVXDIeojXIJFfJ0P\n",
              "bHslWMWUvv71Nk6halLv9RKyB+20re7mREA9UbnZ1uZTd+N+YhzmulQtpi1hvQbr17AcpLoCp0fL\n",
              "AU/i4TRQEQoiVDqHLsGGkgnF9NGMPlegvxt+S9MJKqG3ECxnVo+0GuBh6zdOUaYDWlk1s4LvhzVR\n",
              "JB5wt5qkhVVRpGJy1tmKAnppEjqIC9tGeFXtok0MMu9mXUsV+iren/7OYxR8VJh8J7LnLF3uUIEK\n",
              "Y99mPvGOwatMBu8fAYmwmOe/DZc+uQT6N3uWC8g1ZYuvRUNxiXDuBAESqLZSGid8vNW6EnPC776M\n",
              "i1SHi5FJU0eQcgRUcpb3ROoEq6xRS73CQ5WghocfcHb+zubbyEoFFzPoLIW/ZEg1bLd8+r0CtU3I\n",
              "AAZEyzDTxAFBefSm0NlqWgHLiDDTGQ9EAF5SMEF0CRCz/cE7VeH5JrDZRqz6JJR3cb17ymUSa7is\n",
              "PDbDIsWod1htfb8JuZkruEkqI3KduNMza7UMzMeOgUnxkCNXf6WK2tIhdC4qao3J3VijFRHBlPby\n",
              "VbPkNIul1Dq9Iw/gi3e8M0tqAPK5QyPJAJjwhhoSwMWrHqAvDNMcB9qn6PHl0qzJa26wzUNs+NdP\n",
              "1bm6rVMvhDcdSp1QeNzOu2Qi7cm4sBE7zvs36IqL+0W3/6oBvQ+vCy4cDn7Z4cRR0R8AAALoQZ4d\n",
              "RRUsEP8ASEuywgHswUQABdV5vMPr9kcH0k3ScKHFq0dxNZfSUJeT1se3bFpudMGQcrn2p7p8NvNu\n",
              "1ycmCcTMLwhfmG4nFEEuWA91p1sL99H1JfY8GilhzyTp8C6sBjL8x+/9Q+Bkhoq27OG/oPCJs0jr\n",
              "WcHycYnwlQvLHnnoPhS6ltXcqtOEc1XPACw4LCdlW0yxvQ/QjDpJ1maQC8fp19gBUdnxd5K1aKja\n",
              "7UlKw60WIgRzkE3ga49yH9N+PBiU9h8BcK63vzM0TPA7B1jKrLD/T3UakAjYMCFge52fOW2ioecj\n",
              "pPyC3wcK9bSD7Gxb1CIbb8FGgf9GzY6iJWzHJx5N68mE1jXYvRZsVg5t+d24QLKNpluECAEOII5M\n",
              "TjwoSNS0R4kkesPFrdJEt238HHemYXiSh8DaURnIpTCJs986rWx+A5R+erEzfLSFUp5hbwHgSrFr\n",
              "aCpTY2wEsiX/XoR1mNbMU+SVekEoZ8Zdgi4oyVj4pktXFOrVqzsykgYboBHXfUcuA3IohQoyXY9F\n",
              "kTXhAhTGw0wqLvR1Pucqc1YVaKMD4xv2kGjsMmGY/HI9VFK95eXBUngogHpDIhJhlttlyswP95s5\n",
              "T9aqCnKgtahLEEjBuu2lmR9jQ4Z/kCfg5hPhXsjR0Kt3UFft4I4xW1FatA+41x0FHrKHIjifGVNG\n",
              "FUmr9f+5eiOPpV8+B54x3ID4J3f8+9Js0iICWHdcPaYtj8Dm42Wh0GgsJc6goKwvlMZuGoBwliYH\n",
              "8uZq/l6lKzrjBo6ydth+oWLLfykOso6ABTvFnLvLWNl5kxTTIMKjQnOlbuMpAKh8Ysmi5/g3X2sO\n",
              "wQ15gfjgyKtxf/Ipa/h9puF8nL6OSKJKqY3JpInJWTu+JHR1Y/tInGiAMv3Lu3G7cqhLLlMTV8In\n",
              "X5Rgko45AQb+8H8BSPIGhwoQQwRkr6oFX9X7y/rqI/UiwilNkBxWpEjV/aSZVT+7w+J3jtDo22L5\n",
              "AAAB+gGePHRD/wC9fSryaAAfyqwBoFT/mHNuXeLunUEEeekSQ5iqSZ7K9mnHF5NgK2gm+8gf1Cwv\n",
              "thzBYqhbU0v3c1VBRMI0m8Ev4saecaDBVQ62yMiV7t1YuYbOK6wUjJljpptnjOPfyp+Qldvqcs5e\n",
              "VI9T1cIxjN2m/QC9yV7FCngCAKC4yPXCn0gpUzQlm61k4jJuyvk1MSP5nStfTmJEuRY9cB1Qx4YY\n",
              "zpic2Y+q1xiwPfkGojmfdxNEvPTVMUfMfvUng/TGO3OhJ0oPfgPppdSGyu3ApAtKHxIF78nxvWwV\n",
              "Y+3QjxwveqTKwQfBieccsd1RMOvaDa4Dp8nX7fPidOEqrXjbEHtps9M0u+CczAq5kIoInNWF2mfO\n",
              "6iGxsuRXd7FAbz4fqLdyZMOKOrC/TDDpzITQk/ExZ6PvoMOU8BkYBsxYv0G3zlldNwDyGwoxZRM4\n",
              "hrYOsqSa21xEnXPhDBX3CqQlho8kM+QHC6oledLhz60zjweURmDuQVBnnpBHP8LvbfCG9Kk4lbcp\n",
              "PvluJFheqTmI6HXikLhE3dSMmScf4CEIc2eFoE5GXA11uUhtwqZ18U7jdkcrcQu850CDhQGZya1l\n",
              "6ObCCDJTzVnyLs0OorSeDVc1/AxASKv0vX0vPaAKsNBMJrCmxs+82mAVjXOLPOl5OXpea9uAAAAB\n",
              "wgGePmpD/wC9QpqxoPf7HooAP6HPEZUwGinNlWU1OTAkVxCa+B5b1xBo7k5me6IEtuQfF7eEu6kc\n",
              "sFi9SGgt5WKDAIIYz8gp7rMHPLZ6MnoJyb3Ky/o6DJvS276Old6JrkHXcgMSlW+Pmtpkgw/h+VyI\n",
              "4bfGi8fCl1NS4P/dkiO656xsufrLZtIi/Iak1RNtrCK0l3AldOK52OvQxTorpi5LvLrtzZafCRqy\n",
              "an3xXTTsT/xI8iOrNzPZHqA1+Dyn4BOpS+Eg7frXnJJJPf26NRBW5englgISibWRZ8KAX1OKLb+W\n",
              "GbYJaxlNZwNx801zxSi04YMrfydN9KUkags3ciiEc/fi0iXfWi4hA/aGi+5BY7H968Kr4mt4cYPg\n",
              "SXxsSbq3CEsh1Nq01LbHIX4ItxqPa4S1w5pvj/u63z19wf4AJak9GEgiEu2ICGi3wov0bRkrlQh4\n",
              "fWoEaj9GbUVwc45Vl/kcxsKOOy9rQGh/M1pYftE+cfRZ+2LXXj2gv0kPM9RdYxIeNZNNPM5Vr/G9\n",
              "m9tEMPJuipxZspES6yaf75ahQQ+DlTx21WzLL99EUtLwQ9FDPfyUrMw10+PLeZgqnHFz+AAABhFB\n",
              "miNJqEFsmUwIKf/+1oywMCXEogAbVvtwDB1RPHvo0s0LhLRJbe4QZU73F8R6SaZz/ALNHWroE3HS\n",
              "NS7lCgBHCUSv9FlPa7F7tX7vibYGhapKQKmyCEgkiUfrfg+qXjZTzVeLJFuQOrNaHdUV2SxgYg3Z\n",
              "uPom07cXEgj4zaH5iKsm32zRysbSFz4a7qMa9SdX7GXvqt9MF8DGH6xaF3tX/rXP+Y8bZxF5iySZ\n",
              "Pfw8LFK3aUDflhB5tro8UpUVGyzcJCsoVJCkOA40dxwyRS20N0xT5RDBbRxwECCf3PijsuTWSzR1\n",
              "7JTgoMr/VF2eiUHroyAXyfLSEc1ES2E5OyUXZUT508Fwzt4fhly7CjUiC8IFhGnQIM2gy4wBkj29\n",
              "9QN+WnApvRfg+7+aBw1xOtrqYfN7lN3UtdmbB7mKqhGjJUfcvQVvVFWYo90d53qqNoLLldC30DQ2\n",
              "dc1MqRp3Tcz8501gJ9J5tKqZn5i1Z98wEvuBcctGMC074oJvyUs7m8QiqwqxYLdIizIXM40AIpvu\n",
              "z74e5yAABCHyIilStDEwx/gKdIXUeR5uqQKiFuNrUXvvg6jCxRBgLhqUhWJ9c1AWPd6dHXEiBVM3\n",
              "nykFPQhHiS2/CXAoYPD6Ruxr+75pQdjgcXvih5wDFDFZWyla8QG8q5ikLGFEaaaPvAcidNC/mNUp\n",
              "JRgqwHBrtl/A1c63LuGfZ1mdasFFlyoQ0UXQKvaL/kZPztGoy0fs21cN3/33f83O346X5eknDIln\n",
              "zuEeA4Vi84Ba5bqnC/ivt0WsaeeSnmyAch8/t2J88KLnq9mWa/AcCF4TEx4Xsd+QZicuSZCBOWVi\n",
              "EAe/x/zMrq3bBJvs7Bncbl4H21bBLfqXygRi8Ov+w2XhtdGcKyaI6clvQJQ5bkRO7qa/RHJJAD0G\n",
              "jWcItGTDKPY//CafkbCF/BzL+rtmn/JwC5yDsadEAsyxBDJgWVvzeGzvks1QI1h3DMYhaUzIMsGI\n",
              "4Kc63cKGPHI7TagNMCPk0/d5rJfoNvs2J6Z4p0/IF8GQM0lZQfDy/1p5XLVHGH+kwgeqzqwUCKV+\n",
              "nDgnw/xFQZB7K3LI50l0h+B44rQi8Dl18SPaHk0r+U8IgOsAtu942ikBpCeiUtDMXPKjDkQ3R7hk\n",
              "UM1QAM6IIUJQd1GAiJ9q/+vsT4JtG37+kH552kpooAQ6V3/DhTS6MDy9jXtYCssskwNPiOkiLXIs\n",
              "PKdau6eVSomgtuUyOHyHHaw2Ldf+k+hpG9q8C2E+hkWbHo+tc1gSpXLVVbrcx8LDmCFbdEdDdBhb\n",
              "lR6HVffx82nmKdjuhe+9N+ZjJ3CvIj6qO2VOxuIo3ZlmcOK/xV3qX7IC5QjpPqXY/888MYNTo6qx\n",
              "fFQZqPDNqE9d7WgYBcgiaJYOEfPP0PvogorQGdWGMSar7MRon7zHLyTZbQ9hkXddFUI+IrJSkOEs\n",
              "JfzacHfd025eMN28B6csdeCqPORKQq7fwhy5/A+FH9bUkCdhsFnPp1hY6Dk+PUMu6is1AQMzqzSr\n",
              "Ss4fm9D+1+3I+8woAV4w29zkf6A/S9V+OZh/8wArFBAjFreMAgfuCAuD+jgXdoPWHMWbIty2yDh1\n",
              "oT8sbt3fB8vf29hM1J7p7xkhrPyTw0c59IMaZX7YrPq1iKCcZ5YAFR9yLpuDeDKEPeuHExS++tgl\n",
              "cBjllWAQ+brl7n0RZ7GqLih7TYSlQKdNabaH+Nr7NovOtgJdAdh6fy4yvhMbMOYfvxMnlnR9Z6tP\n",
              "F3TR8ZyWYXFBq23Dcpmw3THwLthK/YvyudxVw6PvtkTUM0I+VtOTWTkAcbBdJYwOc5/JKSDH/Oig\n",
              "8/3OiVst9aRnNVNBarP944m4dlbWuE/isyBFJWosamcPiPLfGXY0tH3ZCa3QYhBWisYOJCZC4x7V\n",
              "gB4AV8k0ilZ5uPF9rUushj51Sf2FKs1m8+GtM+Uc9vDN555LNERVNIsKYRFvnGdTpBm0RmP9QB08\n",
              "J1KDyemBycKNiCBo943ZxAX2BB75af9d+vm8bcxLO4fUngX0SkvrmXtgrZDqUlskv7ktD3SissXE\n",
              "+pi3tkYeHRWUZg4NwQAAAl1BnkFFFSwQ/wBCal+vKdmAAW9eDtobxQLmTBHcw98ZU5T3mH16KV3U\n",
              "ux/CjzLmsb/qXn5FtYS7E8SbIC3ScMQIpdDhEDYX5dhoWTRldJbMU+z0oBscHjvyhQuY8DghA2jm\n",
              "aRmQfztBZnuuZyuzzZSjmWsWPjU9s88Dv7/6r/Hcpl8oq5wkH3aaUlf3mupQMCZe/T79SPYiMynb\n",
              "jI3vA2884jzjOOu3Hs0tisuRics8X0iawXE0lrjbBVr25CjoFpx6eoDljtrZNYOYnll+e6Xy6ZLS\n",
              "RhiVKTZGChf3C1W/zM0xCJ1cwi6T/ZpuRT8EElSHKsWGvOJ2tcXE6lKizbec+P5Tck6AWYBsdi/1\n",
              "9k1oOqZTczDya9qrK8sQ6QKTDNwGJZrzp9S/IDTi7yQpzicAjIKA9QZMhtT9Y39UwD9k2Sh5UY5/\n",
              "W8OJDhL2cQAQBxE2iZEJtq6H8rwss1jNATuTG1rN/FajT+9FLNEoxYTiY3k+5aAhzwJDbOgmLZQl\n",
              "l40WbIZYf1+M0Lf+Z1TntobKR6FnxIimjcgiBb0Lud7X0XfDKE8fdtGA2gAdLIqasuZyVAJwWt7p\n",
              "JqPNkbR4rHrcuJOiIr9g4B7FobNlket6vO8fJpTu0et55+P7gx+96lioMEyI/aTF7Ai67TxSEeX6\n",
              "3zhFQW+GL2BYFWmQxdHwbk4NYXxIYbNrXtyGnkfcNWpTDpxqL/cixlQhodQc8zRmRi7jjGOac7K/\n",
              "vosKCwu0SW+2D3TcDareGITlRRHRWJsFH0G2oyRU3TBNyb+/NdQuW6yEq3JNIq8Whj6bpwAAAd0B\n",
              "nmB0Q/8AvX0qW23IAJyUIOzvh+1Qz/loC41YqHB/y0I8cZApsLefz/Wo3lG73koz72SWv05xjs95\n",
              "gl0Q347+505RbBj5hxut2qWDDsMvEzOMkJ8Cx+Q3+CdjURnN6AHjRK12hgUq9cjiuvz15XZzc/9G\n",
              "DW/X+VzuQUFd6VgmEcwI+rrPy+BVZbbLVhWCdUAOn4uTkSIaH+joBj4fM61wQLWTdGqk1jXKVOax\n",
              "ll/7mLkjNCLTEX2Q/gD1b+lvonfkPgNFa4Y1fCeD+I3lJLzNDnW1+HOYyFWwDIbiPfsQNw0sckMJ\n",
              "Uq2OgXv9UNlEJbMuMQduXDSQibP3tmFCZa75+DoyinZiKo6apctxLOlWvN/i2SwCUiXY9XjNE+9F\n",
              "CtuBj5MPDU7DhUi8ZL/PeELhdFiJJEwcvchT36VvQNscYH8ZOKDjwdHfO8LwGOD2iAX/OZSNQtmK\n",
              "1L3jkvQkF6iLgVwvdrWduHyCvQ66Bjuyrw4+VW3/wSq4vn+IJrh/qeolNuq2XWb3eY3wai7e+YZ5\n",
              "+8wgcIDVYTJpd5/aisrYI1lDiEPH0R0kdasLkfVfFg7WxnXBwtwM+ipSMEqgPSIIW42PawLV1RaM\n",
              "ONCi33tI9CXpG7YYuhan+csYpIEAAAJcAZ5iakP/AL1ClBqwAmr5Bf//4qqz5U7C+O8lr+7K3onb\n",
              "QYjNrLGzexgME9T/56JbJvcd9F3iykCewjNRgle5jdgjKYOn1LlMLAirdm7mmvroiPghBU4r+gkA\n",
              "u5WsP2SpmdVcRnwGgVluo0D5KALiSh4TwPc3wTSHc9jfLoLax7CvzHTi7UDVO0h2pbdWJxaW/1Nw\n",
              "OpbB8/gNfhDC9N2T/22Ll0CDWmbvKyeC8BQhhvHFLoquQJsPH8hqC5KFIEHziMWXpFkBzAE3iubv\n",
              "oNd8AGjToYAYU442LfeZ+JGNHhnsPoiGsoz0k4uapPkHUsL1idf+lbyKxmpAUGNA2wzR/7aJpq3P\n",
              "KKeD7wREeKr583RMJd4axiXc6DhyOkUn6MQjRpbAWfuiZrMTCjGcakpbkRnNMJ+y9mOf0nbpOCMQ\n",
              "1A791T9hpMcLFEmdIkB0JgaO0pThw6x1OjpaBY7u6eC1YwH7la0Z7jT1nKD0v3WsoApdnv9btCI4\n",
              "Q0EzJN234AOBzEir63EnGFHkHsFeV5XmxwJvGARuJWmBU1zescPbLKDsmohBrXRlrxZkdSMq03de\n",
              "7j3+QrLAOwU8vC1pBYHUpapEOIcePSkNnHlsXcTvNn4V6luYBTf9AKvEi949YL/zOY5GiRcbtEff\n",
              "0g1wE2qYHh6SMrMmeUYNuh76UwW9bJ96fa2o+4p8+BdrGNMrci90AvB2mg+Wwee2cELy9OAMgdCp\n",
              "xq5PqsObnKBousm5o5AjOifxoF2zlxSrcdWatFSKJ9X7eewsFTK3neTz0tVStwQ42x92Qs6DzDUY\n",
              "gAAABt9BmmdJqEFsmUwIKf/+1oywMCZyaAC+1Me7si9cHNSh89cqWxdC+QlpoayqvfPMnIRf2TfB\n",
              "QmmWA4M1+2c+eviezHufueqtu3FozAkJxGC1PNCPIm05DKi1tsWPx/sdJPDURZ9Ssq1LIySMvGv+\n",
              "zeCJFQYP+RukgqJqiZwjNVSLx14RaPfuj3nU8QS7uHjfdzf9J/jFgNOK576LZ4KpMwdwFJxkroeg\n",
              "661p388QRjC+TfPPtttaepCyNw1GxkegG4sYbeyBucaSDZRVIeIF+9y32lS8JW1W/OTf8JuyooRk\n",
              "qD6V8zTJtTWVppidWqUnRCAaFZB3NJVnJDYqNSON2QoSAW91dONGUnC0lQ2nn31tqQdp4cZtiM3x\n",
              "uHFQQE4oGsxuM+kyirC6jTh5Lsz1nOyJ3b4JvwpnAx+pG3ra+w9NrYa8z6FwlEBwvTFtXFC67QLr\n",
              "jACbQ3GErKrlrP8Lu4S6m4Ybn8Q7LnOMOQnXMmfHfI+j2jHpqPNln6v0IabYQRyr8KZhoddwzaPM\n",
              "NLxV10BlHgKWx9nmZQHmFSqPZM+jU4zhAZMEkgNJOg/szhwhm4IKCTLEis82OnbRBYg6hL/JzFfL\n",
              "z0uVG1DkqhHKz6M52FDyjVGESiHjrMEbveszzL35XL/tHg+jxwvjwRffGWYTPvD0EH3iPFpxQ2Y9\n",
              "r731xTlp8enxsP+/5hDkNXQf+lteHJnIXbbIbiRtAm3+Pa3NcbnW3uvwXi+mMmb5e9OIQx+5wsOw\n",
              "e7f13W3kuzYXHilUZFpmmTx+YxsC6VUMTwKsNRFkWTg4j7MpWCPwRHZoFlb9Vn1/vPptnTAAxUQW\n",
              "b5X1DSBUSiGwL/aANgiu8ZfbNUntDAQiznt9gZaiyzXWegdtnM9gYsbcnZrw9LaTpuUNpu/fqeky\n",
              "E+FVmlf2pH0iBs+CDTNXhaoLN+ZrE3h8wwPZZ0v1HZ5j6KX0HZcvTyllorEbxJMmXxEoqkotaIuo\n",
              "Bd316Ym+zOU/ATxxYnpmPKq4rQOzw4yZuSz2Q6jefLfSQ3q0UOE62UQc/UoH3HxQcjb7qrGXU+qj\n",
              "L0AF4qP1JFLrv5Y8inn6BmgoDxopr9Lke6YErYH9UWpAybUmX/WtoCSPQp9Dgg4sus7duEOMPq4C\n",
              "K1D+pYxpYeh0MR4RHRM4FYpV9K1fsMTcoAba9ChHRWEgSxfxPBxEmt8lZBTJfFvbRhyFydC1yvPj\n",
              "YuMq0MzuHOm7F0c2bHUco+QFOC+cDhwwZAp5+GNz1hNi682++00Qj15GMm3Y27qFPUNnGlFfz4bj\n",
              "7G6wUBAkPNzoQ213ngR+Ahx+tP7VobBBspPcLcGzs6ro8bPvjzPHcr5TZlwNVchIXfLR31CtxgJB\n",
              "cGYY4Wth8sdm+MHOdPh2vcNY06SDJGZABbLjrjQ1fu03v4vOvW28NuS9Kx/qwvxijuX3jL4Ewb9f\n",
              "/sAzk5SYP+MQgmI80bhfGehfDRnsmxWze1B7RPgwSuMi6lcBYB557FY0+C/5Egml6IsPLngK4o61\n",
              "wk4/rxP55k36IkuCGWn4fh17FeGy1DKmJPXIrZ+n5PwKJEUQFeJsu6rmiuR84rkmzsGVA8nnOoLs\n",
              "s7gwEAUPsk+GJ5BGcimRLFG4qh3fVHTy1yuvhvkMP2dbnVsxRNASfZ1LDllCl9T1k4mBioB+HuZk\n",
              "qm0jTs3ifNwXJqho0+1MJRi3ANAkL51XPZqRBZ7REeZZ4UXhpHcSajw4SHelTZgw8/vnBpGpBh8R\n",
              "vdwuSMPCk0aSohf4QTSYw2cz2GjoDX7uEjkwBA+ssSEGY5fNyzY/bxJBM0Bu6T4mSYMasldjJy3b\n",
              "AKSi98tq0hcOEfGLrZIt16N0wsH/kmwptFVpRwEE14lWTaNSto8/hncjnID80gbaNCjPgm330YkK\n",
              "ATJqVTGqYq0Xr6B3DJnWc5Jc6KUNsUjAJInisHsIqstcPuLZZkpxPr/LjHIMA+JJHb2l+o7AmXBb\n",
              "ThAQi0SYJ8R8qQakRWu+02ywlkTOocL6wXuPRyB1PmKSxCHcd1y3bXACxh+tI5Xh41TMvoJwoHro\n",
              "2HPbtaFpYclLIqU9PTwDQFnCruCK9yaQrLcS8Q3WMPzvLKqOgQ7xJesMjtBn0r5AfsdX9G8Q+rLn\n",
              "rU3xJfKgZCsXNfy1a7rmf9x2BS1pWLVneNOILeZMxYmrFUjV1rE3UowdF3xAppVonKfC3X682v+S\n",
              "Rc4bFbX/UMWpM4KwLZOUg3IDiheJTAnd411ro6KylIKB3icjsKuZOwU21CKJo/P121ESkCTkBKd3\n",
              "tUrX+oyK39mqIXRXGHsznkivO4wwMYcLW/I0XoJP8xO5NTYHkQM2kVRpOTYDNPbg/zqQ1r1NAAAB\n",
              "6UGehUUVLBD/AEJWvNMDc2uAABEHz10mVpCf2FF7epD+/Z7v5Foo+lOpiTaxqA0OKGRBvBcHykMB\n",
              "P8LeF9tc/LbrT0OJnNfmYGYlI0p2gEXehooV+VtM2ifzAroW//K1wacm5+IDFtUMYFar8wpJbigG\n",
              "VWA3xB+ZFCH+/TTgeX+zuugmyHcTCkR38GrsMSaBfV1LQ/2dPRZRq96UwFOzMoLuZQwT9Fk/JE8p\n",
              "HQJih0mgl+vfNFV0hvV0NbW9WcsXcqQCHrnVLb/B2g0+FJ9gUI2+zKXflp1PG5Lu1wnSD85Q4U47\n",
              "+z6ewc9S5ktueNQw0pdthHYcINzY9lIL2DKi0dhcvrhd+KzM9sIDqHhyD13U3yicXnyAxGMmbsdU\n",
              "qrQMddqz2O3pI5+5VWebLnIoBWin9O3WvzE18ftUPuaTeFtSXpx7n4itocluJm+odQxeBHxeSQBE\n",
              "X8OyL7WXTCL+W6LMn4m0gsx4djHnYgxF+xyeXTyO4PH5FN3Gfklrn5TWtWBjDmlBVTC2M/fZLHGr\n",
              "EBYLQsEH/IxxLLRLZeIoez0YJQcviOdGu19rjbhVtj9Aid3PgPgbKOAcnL/O7fU+tuQXx+qkHR1A\n",
              "BxB5L1fn9FI+F8K7vQYRqxEXyRbj9AwPjXtPAmJ2cUKfUQAAAa4BnqR0Q/8AvX0mSnU5CzrQAf0g\n",
              "zXfXU8f3UIPr33AAj1Fbd9sZnyoFjxFHjSen5SHnmd0Mb5gV4O1l5Pgs2U6BUYC5FhvdM85XIjj8\n",
              "2SuUesJ8tpTQwmRYb4FZkPpHmQ+sH9xNpzL+6roPLfqEuAbdetWXUP8Cqk4NMS+Lxbi7QfONUcUo\n",
              "j/h4arw3DZXtq5uYpnaOKjn7+in9xxj8FAQxFT+JmKAiSmKw+z20LuexD8EOEl5Nqas6PhRi6suQ\n",
              "/obi2D7sycJL3jvYcNkd1FnTucNMzgLcdA7OxS1uZePZ9wYoZf6dGreDq/uGneXCf7dwUCKtGmR2\n",
              "JR5zeVZN9vAki0ah/XYa0rXyxeTF2kPuTdr2UcIKz2Hyr4CbUWxw0Egs9ZUUcEUN6sjMkrC3nTxu\n",
              "6oaa4DJgGVu74rFrzCSuQMirhDuxXIzeHAYXxpB66cz9ER8d+IEB/3Smwe9l2UTCwXhN4dutLy9h\n",
              "RFEiYkcznB3JSw7Lb69ziIbJsEPIMEZ16CFRhyJvjvzPlanMkwtMGCvl+GpmhLvF30hgyLb7SqJR\n",
              "hMo1bIKs1c04iZOpAAABUQGepmpD/wC9QpHuWUAA/lVQTQMS/mITQb5p+iGCTsxMZpUPjlMQejwq\n",
              "OJuH1bQlf1hem77VmllvFbtp8SlO71IgB9jieZ5kmriJIAVNLpln5ui2z+0SEjV9ilPbTNr1AoR8\n",
              "BRKncVhtf7i29vEx5JAgM2SaAvdHez9B2XINCPht7iqHThk7vJ4SEMnXB7jxe/kBXWJYV5eqT5KY\n",
              "jM770hGF+Hu+y7BRvOpsb3npXnxzanJZmTGlg9TyXhBxn19ohjm/IutRnocvs0/i1Ai49CN+xDVn\n",
              "gr1FSpOo+UxROkoQPsV8p6ICYfk63HIT4aJNDnFzDwIAVMRfg3uLhROrwLbdpY+5jIyNU/C4Y3JI\n",
              "2/b5TIfo/cnrG9665C8AGeG2i7B/vq89RbR9HrMdBgyhmg9Nqa2mpKHQGLVLpEqIfpFDZ7yX7vN4\n",
              "Ys3Vvac7Jtl7utkAAAWPQZqrSahBbJlMCCn//taMsDbuiIAK4pkTg+/X77tGh2g1XR21uwIBqX8C\n",
              "wOO4Tcn8A6ILlhtc7wsrx7TdC/d8wkV0SB0N/9DgsKq+jNfzTTJJId8qC5ZeTECkH3ICAx/N2GSj\n",
              "Np1bES6K8m/PJW9i8N46vf6oZGSmveJTekoGQH8fgI8LbtIa6UEbt3yM0/FpPA39CB/k+HXhsf7A\n",
              "uCEejgpp0RJWkBPsB++wAWpgGw+H7RotTshJYBrcVGfWemdl1Qi5lqaGz8fpe6BG2Jai9uYNupgF\n",
              "CjtqSw9NaRUXVkNbAvLDu8HUFQr1IGYzJRaRZqhC5lAXWxvO8PtTqdt2IKYgk++tPzhK4JeFM5Ag\n",
              "825zVXaNjK3RqOlPc6O3z7HbOIwQOJcfk/ZU1yWpm26/GDLkJlxKqU0mwT6crwvUL5Q8jIj1Yrti\n",
              "459/qt8pqW7llXG1EnbU3AmhowORhBm9PjjmCVq1VpeSF6Lx+Pvd9+eDAhWnKVI1Wn1v4YUlqyrd\n",
              "0+eVNnrzLGll4Z7by0FTm0oiUPmczSs3/EgEen4O7Tj5F7UL2DuqxnqnurMT5+9WCo7+tEm3e/Ul\n",
              "925Unmvf2trjygOcm3M+MyeSXBTcVU2K0JowJgbVjQHDsuFNhTtInkauO4lLB8zHICTSkzlblUbh\n",
              "8UkVyyxAM+aCOgieuXHCQsjTI41NYI1d9BpW5Fc6OVI8slsO6KQ5NK9AaQq5TJHBKtG6GK4a8HXo\n",
              "B1cnN5PZG0kaeRSWmndB/2i2fl7D4URGk7nm0/x8eVkho9vWwNLRJv/9Pa23JhSxQrelKrZt9+17\n",
              "Rw4yDNbbO0074aoBnLz7+GCz22kk5vOaPHgDKD0o+MarYp3s4/CwLCL1Qfxd3chrfuSuTT/UmJmM\n",
              "H6WQ65flG0SNOHV5NEtDz5gERIUfqiYCsORhVFrQ05PyzNfH1dcx8qgStKnjvwr3KtBLowMAlFzj\n",
              "r1CTASDYw4RFMkAq1l5mjRhrnXBtAOBHKDgwgbakbpPFQ344zd8Kzw9ALPaFJfBgdUhxuS5c0Vrt\n",
              "eecnmJ10pRZahLDRDvYI1570W3fLnwokEHZd3N2M84u7t8ekF0ODbqBFK1zLElulC1vaLlzu+iA/\n",
              "bKaa9qb84S0k83Nz5DF5wxLpvVpvsCFUCd/K1CNzqxM28xS/I2bmOxJCtt/lE21V8lOhj6533uG1\n",
              "SK6xKFWu7/lTbNH0n51jE1hICODVMeQklCWVYUf3XIqlYy2kZV5xvVGAHdi7GXbiftUK1AKwf0yk\n",
              "OnKCqVT/XdPy6bYxziTO1SWXTtsSzdJ8wQJI7oH34s5JdlvEB8yD9FjHm+O6hwbgDmUIRN5fQnn5\n",
              "+nN9Ur/j4R6OjqwuMjXRy0ZQxfUoKOGJhdHkSrpagkxmJVgs5H4c9Y1OssYjhzHtVxrQ5aCsrOkR\n",
              "DNkMmDieNd91mviQ2GljUqTl413XNVfyNEwd4clg4F/lBD+PD7G3sYM6PuoaoNamF2nncPuJeRrZ\n",
              "Q7Bcv8+mPyTDiexTyA6NKSLX8/5YUwEV6pcNFim12TTMWP//ShexwXadxM+62D2PtNium62PHwEB\n",
              "EVLllgdsFesI8ee8CwFX5e36BVufN3vldcn3Dtlz2oUlK52reSczA+AeZsLRdG60gReAEsfbcXLX\n",
              "voy4p5TJ8tcmCsYMAx/sM1ZDlFKqBlpeY6zOcvRcqnA0K6yl5JAm486cKT+3fBLQ7BhPjSMVyFXT\n",
              "VNmASxgMCMqG6v6KamTchMrt+gO69FIsBMBXrX6jMEU1GXrLqY93CMeRWchg8MunrTYMv/Cj1tcp\n",
              "lo4gQI8iWumxukE2Nel5WuYyo91ggmUC3dfNGIcnXYgKqbfPKsxtzSaREwfDlj7/e9ld1uDvgos8\n",
              "H1IbCJlKQqt0T641wAAAAZBBnslFFSwQ/wBIPKlnrZbtoVG0AA/pF0OlcxktG1405w8nKFaCY1qf\n",
              "hFpIbktrAmBiWb0TymIlTnXBWun/DYv8Pj/5uYr+LD1nVqGY+fVfu/RZZ9v/tgPiyRdKvqzwm57K\n",
              "w6aPoM8HHF+gvVL/Daf2velfhm0I0ryPjbhoWWfuxjnob8dqMb6ofd/d55ah5H31b5xtXVBDkUzK\n",
              "YvtHwL+Qii1++I46RU3ph1fOuz+bQATAb5Qa6635gTRX6krGVTFUhZV/f9YQLBMnZ97N/LVmDxhl\n",
              "q4SoQoapaYx9MdCYzIX3UEJne1gYBvgRyPae0n44l5QXRDY3w3TLq6OXBDsuo/WvPfEfNyvwaK8P\n",
              "IFagkfOEKlJ5C4at3eYNpbXUojcAGID32QsljZeMnTlRiPubnILgKtQaGLq7JLfftljIiEOAoaad\n",
              "NvAix27gs+5q7+xt+Z9cOcDP0aaJY0P++uvHEcG3oZolqndsmPQAYqpcr4+zkp6xXKJz4dABVNPC\n",
              "80iSssEukTge5WqUvKzWUufcAAABAQGe6HRD/wC9fTJhIHtQUAE1eq4xJBYf2OAqvW2Tr7E/b/Bi\n",
              "nEtjOz20b9xLwa9nOR2XURVxCQ4erX5+UXHrWvrygZmRdl737LSSfONWydmNXZ/wCoTWd4hjY4Fb\n",
              "fpoXIfUtfTJn1h9/yljQ38tARyPoK17EAV/x2xCs3dDWfmS+7hAyx380RXJh4yxEsq1ii+67na/d\n",
              "ufPe7StuLFV3aJLRd6BQF3XI83kOUU6VZXWxKnFGxptw67NrNrwuLu76PF7HHaJaTAsDPOhIHbSU\n",
              "CBm41XvVSVLXzD9Ndne+u6xW54Hh30shFJ8nkoQcXQv+saKONCk8Z/5L3gVu7SDNV/3hAAAAqAGe\n",
              "6mpD/wC9QpHew5ABOKZWQD5JSsSuniCiSMK/REGKg9I1SCrt/9/4mIwZns2S/eHdhd4kdnfm+h3U\n",
              "zGAM3SvU3XWiGsOFlnfKqz6YZ3Vs2bQXryZSSsV+oX1bzZ1jtMtuk0uOU5yhXq8Rl9iFRh6/z3Jb\n",
              "tA599Wf+ncYfOq9I/E+H6S97XqHq91BdSbF3/wjQH5jAd0go8SDIvgcfhf8xKIJrJOF+9gAABU9B\n",
              "mu9JqEFsmUwIKf/+1oywLwr4wAXHYsjigAvs5KavjQPIgQqWV1I5ThHqgrwHiSIVz2DSuBYE+0XS\n",
              "TBJnbjrt3yuxw/lh/hzxl+G3pZ9Em0nrIXWnNhxeMj8ZwVBbO9KogApasLvvVpo7ViUnxuFCJx9A\n",
              "V9sRFYlP2oUDxdzBTbQEjckThRSfEmMPAeyIN2+xWbU0C5iUOPh3q17aZRLydazFMFcS/nIAl4Uw\n",
              "B1SRM8FrBKgVSNVCFyEBdcl2Fo7XzPxWWC+GvDolIfcSGJ63rKv3/UmI5uzZNTrWrS6+z4+qNrjM\n",
              "c4194TiYFiTCqv+Zqg4pEdgsA2NdFYkx7/r48TEoIELiqfBbubmQXnsO6xdzefWeLUcwF4tMydug\n",
              "N4DmY4GbNslsCOAq3LfqsEW9vmyI7CFhgcFn2zbwVbl17RZrqnXZEOwwFlaBRSjAZbxXECJp4u9V\n",
              "Ho6dIcdnF4WvjQhISTYkFKNXXNfN/nbygP5Kn5R+4mQ+8GixI2/880YX64W97vwCI6calH4IHqNZ\n",
              "SZq9gUkydw8yyU5VLQqklF84tfRkhSxWY/s3dXwXEXNlf9yLAGGVYD1Z/RFQENhNzjNMSinJsPWy\n",
              "DMWx89RqM7v8391+ysVvJLBylXg+iKAFIDy3jE4v8WPGU3jGueSaTrGL+JGz6WTfxLw5I+qt7rP+\n",
              "5JeEHoNjCcX65VTGv4Cm3J0LlhI06nQ+waYCHkno3vY0hnrOffkMhhU/YJNN8wUK0DYzaFl421TS\n",
              "iiXgXJT1eXrUlCewToaMNhX4FAF0OhpnPntgAGP2Jv1+lSRQtyV+HEiDEhDs5vGExyetGxPBFU7Z\n",
              "CxXoaH1jszabVY8Ah6GKPo21amobkBq67WoCUXYiUseYDOQN7/E5c1YBCrtSdgrRL1G9jNMUSemd\n",
              "jj1NPPxDmShuSTPIXnaie54sUccri5lPh6tUsooBuknR+QOgZfsHPg+bDQRX3TmRHYm1lP41frMp\n",
              "dqLWQog4DjsDHOsl+g9uYS6hoThpn7gUTvP81TDNDxGicxe3szVXD4GIb42hFQEKVFHE88jdHRB5\n",
              "oFLNwZamfwXo4CRPXAdEv/iczfwF8urw8wZMtyIAHuIth+8pVP/JtyHAeY8WsoyKRqDcfupxmWEw\n",
              "6GmTlVSn7jH3VboA0rWchFsBucOTMZXwH+NqmjXAnpLDg0ER5wo/z+vPB1Ic6xnvCx5MSKf8PZ0I\n",
              "V1k6rVtiClFANQ19zr32vmSt/yswTcpcLl+y9+iVDY9Ujm/yw+3PdHFipxo4Rl5myHfv5uggOdHX\n",
              "2htY3VnXGKfmkt1YK1X25+gnf/BBM5mIrW2A1oRS4El/yvQyir2KFGquIjzMIdPAUNjbwIIGV62C\n",
              "WC6f/wjNrn8dp47Ch+Z5XE6AGzU4bNaSyIDTBeu3NfzjM8rtbhOcAPbGa/pKdyJhdUSY8EPPstBi\n",
              "4z4xoJUH1YE/YVWzCeVJmt19K5vn+/MeTa425WFFhfqMeuB6MOKcTEkVtwHR22Rm72Kpc1tFEXe/\n",
              "tT0H+XfsW5gZW0vnvMwxYkgCwRs4UngauK1TiAQ/vy2s/F7QkB50leoYqnMkXDPawTMm7XXe8ET+\n",
              "dUYEpsnTn03a7RIZoFY5L8rCZ4g1Vz0p94DkkfVzo+NtqnqQodvIG4Z4UCaDyTrKbaRH0K3jHn0H\n",
              "k036Kw/KrrN1GeE+0mEZ9eU+nkX3zxIzPmaFMA5ylN2FFguzUyxYVGA5aPUbYHRmYCLHh3pEirbe\n",
              "NA8Z7gkAsy+zDTE7Vsbkw5CkFhMKPqIV5lNrwq7mZ1IerqKEJhSvPEXhJWfpKUgAAAGeQZ8NRRUs\n",
              "EP8AQ5yAoABNXz4GBRHQE1Bw0VMEhw31VVAwfx9lXH3/yP+7llOVI816+3t+slnrNSFdIiL7agd8\n",
              "aRJk2d1STI1rqde6z+SRHRQPVmNgoZXx4+K8bm/wj/3QUCrbuzy5PMEuBGE5v4El13PBm6zIAhSe\n",
              "LfO4bSoKpC2hk3bXIErHjYJb7PHrfcdPMYtFYVrA5mChd40TTU6spfuc4vQB5MManeAFp0544Yi+\n",
              "GByDpGZrAuux5S8+qNLQk9uK2CYsZ66ub91EBwU9ugOFoXIWgOq/L6lN/LB5wS7iO/KZcHRRF/YV\n",
              "N5itYlt56qRpVHbsOGmtS5NwI77l/rasjCBGNXN58AlVOGaEnn6m7x2ig0YkkuDmLlaBU1/aI+Jl\n",
              "WiWr69znztT9m+keQiByNBJsXaqkB689ytmSJUHDhzdp4YuiuPkwo5MchySC6Or24muPGAHBD5Kc\n",
              "HB+OxUoYjmk2RIDzpRPmmFkv9l0gKvS9PMrYX0RvEt1KeTOUAZDPemYkGpec9m8beFNjWR7K0oCX\n",
              "M9FULRDr8QPhAAAA+AGfLHRD/wC9fSp+aNgA/pD2y4P+6Wvsr6BJYusvMO8/8j6AOrk8HCwiuo6M\n",
              "8cxkyIFlhz+gWcv7dp/1xkM+mdeQZwuwFAIYN6IgPtKMz+rEAdahLgERgLjzJG8S99gXjr1ofP4r\n",
              "4O6qWDq4TEv/Ne3op7ZNrxTYeRr9F7mevultExtcf0o3x/TPM5C2ObYUmC9NtVHCzWZNJqKEgD9n\n",
              "RxRIrLgV0k9clSuIRTJOZp4WRdFb46gyqfGgQib3cTqO84Jy0Q3JwKrEczUfvhWixSWleuVcGGbP\n",
              "taZBzmzASyRR1RG5AsYe+wBnaHCR2meFQAQ0hVMZlea5AAAAswGfLmpD/wC9Qo5x814vQATt8iV3\n",
              "2GpAs6YE3/RRS6try8JARG3PXxNt+CAyQfi2hTUfh13yIC/jvZZ6EHE1U5SctT++64uhbDxPAgrr\n",
              "4uj0A22GYfo/mx9yNNBM/pfQUedNI840SLvZp1VRCZu0PAzqq1mAi5L6VWPlBV5f4h/cbW8MdKCe\n",
              "pbv7TQkR/ERyQnCKDiAkk6NYk1+wb7GGF/Wh0CBkt5Kwpj3PBTOBBX9wpfqBAAAFIEGbM0moQWyZ\n",
              "TAgp//7WjLA27oiACuJ/qoAvNYWPmxVV/juIde9CwTgjynnw3KrF7+hFHR9fuYJbFXXZ1kdlfXN2\n",
              "z+cMK4RPfSMgPeViwr2CzWE16vEqYicT/az9bHMDB9t9Ygntld9qeO6n0efpF1akcNmyXPfP+wWd\n",
              "m2QAuGAGQePneq7ux+YipCUBP5BihMpT68p/nezCk2MSVH01XusTBotHF6qCAdiWTPsFT756cBkn\n",
              "PFz+PMgUPSP5mATSs5uyGv85B33HFrHSf5uTeY2BAZNJGwP1Wg1a8eqv6dpqWgB7pzw5J4d0Gh0c\n",
              "H88sO/rKO0ijkUO8B97wH982EIsfmKR0GlYv4xu1ZmrqD7bsfDq4PX7PNaE3NDXt3ngTwNZDoem5\n",
              "Flkf11Il/Ox+Ylc4E1d1I9XYpJX1xwI1+X36F0mhhhqgnx8fM4E62BGJdyWEq0yBITcqedhYlkpL\n",
              "LcKncCyVeJY00uduFirWNaHgI8tFyPgqfrfWcw5anbVL5nwUGQsBKUPkmMS3hww8+qfkOi1ci9II\n",
              "8a+8AgrMXYTbrES+qMDxOL8Rk6GVB0cQpV3tVekWfI8G2lm4WYC4k+b+kNY/d6Ghw2AGB7JFb5Nk\n",
              "C58GQ0YPt39BO61UOZaxBuj776pgjBRQ6KGYEiMtrFu8kjKtVqc2DVJX6Lxst4Ii6cSM170JUzmf\n",
              "P/aCDo7Pct0aHQpyPoNDZNZdiwfMQv3+5W4gEmEAWIBnv6g/8fpXlleL5TXIXbD37LNmaDohMvDB\n",
              "R9roEix1c3xjbBaB86gft/sjqCtPUrgkzRytAhLztssysw3j2+Q/ur0wrtSqHIlAy/viZnrQmcBy\n",
              "nq9b9/Q6nd50HhsPQQP/q3HBlP8Uh4DL201BPbSLwD9HfIj5YZfuTUtXoC3Zw3FkJWasvN2x9+wa\n",
              "ZjECwHrtPaJTG2IDKwHwIr6WmOWZbJs5lH7iOj3Q3UP72fPPzdZ9a4LD1+hF4RytKeDpIZRixsne\n",
              "8QZhxtnRpEd3jTglJ3iLMr9k9cokRtYD92d1dgcgTKO0UcMqNL/Gwmnc2w2OZtqlHzmdxG8w7bTq\n",
              "h/STyxjfXopm44ml+0FoT4GmHoYW8R113TRdARMSTNG5ae2ofBGKJkhoX3k753KsEwbMkVyko1nx\n",
              "DADrH9oLo+siCn1DUqOAktU1rbcac1zA8jFeDBKMQ69QEAmcJmLThaDfRGMOoHn/SU6q5ppcYqfp\n",
              "JTRDLzLxOMnqkFqGY/PPzZ5DDpNYrc0Eguc6lbFKADwe9IyevpYhB8QvG6nj29BRd1ZPn3eCySbf\n",
              "/84xOnRehms7pPFfMt31Kp4X82vu7YxpN8mytnG7hVxaGdcAsFjThrR4Rd3+ojBZRCq3OpAGO9OY\n",
              "xHJEpoyLWmjTL5eOcJUMxf0FqZF12q4ULyBwsA1RjoiaoAzLuoPSE0DB4c5v1MJLTH+f6Rv+NAVh\n",
              "tQb8gqgBzNed5lbLNetYClXYN7ALAYUTfXNG0sM2CttSG5O4HU7JoaELMIP7PZiwfN9/OyCxNo53\n",
              "vgebeYGgmT1kSlVUmB4KG0ZeR/yK/kkA+Xs8labtvtrb0fEuCbSvJ0diMhGdNrD/aGzwiEgvuv3+\n",
              "pCm3cpkQgOxATO0HUCumzOdpZggOY9I0UxE4zqY2+orNUjxgGXQrSrvKyB9D07C0g7nciVitgZYJ\n",
              "Ds5aYFb52+kow3l9Plboi9lRCNvnLmNYaH6GrDFnLMxP/4WmbeQxYM6/g+H+NL22icsAAAHIQZ9R\n",
              "RRUsEP8ASEuywgHswUQABdV5tSz+aTkwB8hISmesU6kGqgy2hvKBbIphWCh4nKcd0837RWwb9CMW\n",
              "h5Q/CuNDqQCD/D3qc40RZqLyQOkliYIZryWoMHXVt7vzu6I0ni9O67IiEnASXFXnvT2m0sg/8y1E\n",
              "GIj+1LKjPP/JZswkVsce/2o9c6NT8ZM6Wj3UgxegCUNsocjH58Og7RLU1iwnq2J+xmnJxzAxpDYH\n",
              "lr0iXhg7RBoO2sKzanEeAtAxVzdv/Bmw65WGjQCjN26DcaOrd+U63sIKieyHY4bLe97ruVn62wyW\n",
              "9rHRLepT8Y4yyii99iGWUoLc9tNFCxGF4AUB5qPca9SHo5y16ofdOPcgZWXb1cbN3m6yrv0QubAd\n",
              "NO5HxXnP7G2cFb7nJVS4qiMaU1a8xLeQ4fhQ8D2kEJfMKtgA5Y4OOst7049KMN83FWNTvnQHX14i\n",
              "LF8EtwG1UumWABEezsONR/rZoBwxt2fmAZcuz5XeujvMxr5poM2rOrZc1M3IVGB/yYih0PhMYjlp\n",
              "J1sswj/uP4RxDP4x0QLNY6YwG33SE4c+FtF962171+GJpb3G9dv1bXgWzP8MvZ4UscjvpoLAAAAA\n",
              "xQGfcHRD/wQAdHyBsGAB/KqgmgYbc3p7wlciD0II69dkULC1XE0EJAGnHTRsz16Sw0UHTIEpny9a\n",
              "UOMYdlDJzY7634mdwL7dZAL39+B/+HJA03GEoVFmhq7f/MVzmEyyxtRSEar7SQ2sAcckDj2Bdp6D\n",
              "sH6HtANLzKtDrME/P96vx4ult2qJxoa6rhJyyy+EpvMapNgnzTSUN2dsDZa4mcKHvWW8R0iDREd0\n",
              "SxGixDlNMqoL7dnmiZ7KoBQ+pi22Ao6PGR/hAAAAtAGfcmpD/wP9DJPglojSAD+kPk3UYIABfR6E\n",
              "UTUkH7ovBAdG0bPToCr6/x3amhzKg0yLeVfPpEREjI526NjZmDK8eirhg4i7IF/DIykAxtnIz+Lw\n",
              "o+6bsjdXx5kiyj9k7SsfmbpJQMMC/BZ1qrzcRP58wu/e71UP8ZVEkpDN1sQhRKxyp82PDEnLs2MR\n",
              "2hBQLrNVU+sLLBplqAt87BhqMEI6bP1+saSs2icpdnxE4MUrvAu0kAAAA/FBm3dJqEFsmUwIKf/+\n",
              "1oywMCXEogAbVvtuxe2IzmdCZZ/rxpolxtBb1ddr3ImZpTok/4eZzuTqzzgUOKuKiudqDmfgb7/5\n",
              "7XwsSRsa1DpQOf3fRhj48vhHrj+40ewtk2muhvw2lmfAWs9eQ+QdQorXxafHqbnkF17Jf0pCCz9x\n",
              "kjTJe/jDvyKsWMhlfkb28Xd9NWuc7X3T3S/iSP8KdA9/pkG5mGPqkYYVCWbCoDhReCwGlnF87KVx\n",
              "ULRtgIWvsK0QP8lWktB44W6h092gYbGrLEjk4Q/EUFr+2BZ+PJcrS3ZvS03NOZfov1HHOGC5cTgj\n",
              "gbS7H5YhGJj77wRmZoPetRW1k+NGjlw0EqJQOn2AAG5ALkyIzC13Fe3zpQ+l/SYeiCUr5QU42lbK\n",
              "typ5qk4vBAPDbPJZW4JmCJpGNEdUvXrKjb7ReYfvT6PuGQbm6zy1BVOZUCiq9Bjnehvum86o7QRk\n",
              "hYF+NQhOawtYCy3AQVWeHNiMTx97dtYaFY5Beplqf6rbawfiXJzTuhCamgVK8MN4asT/gFH68Jpz\n",
              "W+9qWmSuYYqvfVXE5RMVIl0/88bPogy5VfufLlDq1I7Jp+REquFDum3DiEZkrXnAUI3L9pvO8pp4\n",
              "5PplCEUhDrgbD4QyLYKHbF+J7lZdNarLj6RXNPjTVgG2uwwPuHowvib1M34UYnwPHe4gYbVCjP5g\n",
              "4sUWl4BlbGKY3oIUfkyO0mt+RPYSOyNzuTp4274vy60sHS1cpBWQj37DGBqjjDnN+IjXzWVQZlnK\n",
              "f/286mRpcehofAhtfecoV/plXejmUjgxTMbTBY6hffsOGQa0czaLL/yRJR5/1wqCsTxcJq2uyhdJ\n",
              "TWc4KfW7+8bsps9KPNXiZQzH+hyJXAf2x1++FcOnjPCpZPnunlaIV+K7Gc/BZ6CFKMdKt7x6gcTQ\n",
              "tXmYUQkoExfijQVaI0hL4igOgAZqQUaT7GCy1jt/a/kI0wOVIQri6GO8CPNtdK2TCrkYI5fblSb3\n",
              "gPlyHDBrOx4VFaOW7rXW6a1J0G4VulxmAPbf+4vYKy0PR8hLn/qSVzG2mMYQtYC+yJFtGuvrnoIw\n",
              "Nrdu6vdGlww0MSoGw3+9FfqYPDfW+3NKgYCRxI9XAJ/0sbDy0UrQLc/pjIuxlTdX2i4QyLMXqWeP\n",
              "Qx6uF1rSXTqATTDOYrxOfXqsqifIIAAB0f+uI/ea9oaK0k985AVXh4mEN9f2OFTw/5MNaqwGvOs5\n",
              "rYyr+mBLQkPVdrp4BJoEmkN5CsdfbJR64aW33+97hIvTicdmteVRd2wjbC53Y2FYkudKoUT3cZRI\n",
              "B4hrmOXTk5m/rPixmOIK5zSHeuMjnpeJAJxwAAABmUGflUUVLBD/AEJqX68p2YABb14O2hvFAucx\n",
              "bWRDtCmAGMf9eywQXJwZ1V/hBUkL4q9cqe1Vj3dEM5OSGhDPoH82S80X2x5k4yriM3lvKMrckLT/\n",
              "kRKbAeZJR2B0S1TMDYF2HSDep6r45iA7Dep9DhoBzh+bWeTztVbBod5i0MQ3s/pZqmYvdBpFDiqM\n",
              "FSQbT1/l+T82j+ZuuWacFS0+Zsxvjz8MuRImCN3yfLAt/1b9e/vW4Ud6bgAEIKU1O3scu9ekGXgb\n",
              "M3Lx7LxXnEFPEGw2n3dxiob8QxjqZUv8X5q4DBqhLCqpi7SnhXOxMDWqvE6skHTwtLsqXi4//1t4\n",
              "lA2ps2hPfyWDTLK3RPuTgeteR6Ml9cpUyP2VNhvu7pjKfOHG0vyku9klLqMU+DavMx/9mwHXmVbm\n",
              "ew4Cev0rJYl+IdhIsMeojB5o1xZDDWc/kB7yZTEqGHZUlGgLhujrSvcXTB5aL9eHFO28KmUqIagk\n",
              "H5kURhCMnWf+1YEi2SyXWAz07VlTuk4uIdH9yt2h+qxIaPs1bVM37YEAAADGAZ+0dEP/BAB0gYmq\n",
              "i5B3AB+dCPsl+c5CKvA/VkSbXFzunD9YFTd37rCZgp+emSFAveXii9Gxlu8C6Fq4BYYqFWeeilW5\n",
              "adWrgI07dkSbkJGKV9RpAgGtgkizKB9SqZs9lK793JusIfDaUC/zn/CCEn7E9YCKFO+M9uRyOis0\n",
              "kxMxSfUer7vpmXPEZgASTVpcgq9rcD9KHjenswgnXgze7xy9jB3Kp1gcBOCHw2bTbTtWN/u0eF8T\n",
              "nNUyzXKJHD5tehGnjpjAAAABPwGftmpD/wP9DJni1gJIAJ2+QYBg9WbFCW6PDDChr0ogvxFzNgO1\n",
              "rLGnkD5Gb1P/nolKnDEDncp1lIE9cvD66+y6fQtI+gMjS1BA8sWZy/tYmgdhZKiKZdjxqsakUplj\n",
              "ijurEcUlsa0Ok6xTz16Y17bfKmoFIjMrDjzjO//iieNlLrKp2ecGl/Hvk9Nn5f/ZSvTjvD6A/qkQ\n",
              "Eyp3AthAKHoPNd9lkJdnw0DmtOYDbqxxt/ZC3Xcnof5HqrzGJ72EhnasD2pQPqRVEIOchhwG3uUo\n",
              "1rIeGlt5xVV6xTW3xrpsOnjptO8yZctWFWHnMG4ONcS81Uc2I5XGAt9NYc3Ah18i3ERQL5mVngWM\n",
              "f2+nXrokFPmOxynwnTBnDPrLtkILSttSK5t0Ue9cFcXm2lOW5hh8Y3QIiT70i5bwVYUOF+EAAASW\n",
              "QZu7SahBbJlMCCn//taMsC8NxHWuaADat8B3ZF64OXP9BUP4C7n5Wt6tsbhESA+wUEYXpabAjZEf\n",
              "i8eAS6Xs+XiAJtnMRFlcv7LvloNQzOszOr4vV40g8kN0uD+tUfxPoBmCGcQ30PXC5J8zlxJqL384\n",
              "ujH/Ywp2OfUlaa08cMM+zTVpKQTZMFj4a+WmgfL4dgAQFLIzSCMt+e4/U2a1aCL5OH6U7RCPlqVA\n",
              "5oy85M1+UH5zrj3dJ2PBKYt+sicvekF70CayJ26z6YCQCTjX4XuY9H4zciv96BfCaVJemWwLLcjH\n",
              "sgAkd1IVpnpy8OtnPxbo4dMqzzjBtLlMoJ3RsWB85fva3s5gx3mcRAmpA/XK5raO+uD2ZpFftlil\n",
              "729vS+FKVdpBH4Hdcqntl+Nytgj29IQMU9VgaspoSRgVHMt7T3Kori5NXPRGzpnAuad456vvoZLn\n",
              "qcUjIOi2SVKAh8tLoMGKgp2s3VBDgfu7dE4mfFsPJXHB/T5TZPE0KFaEoINZUPkyKyNcBAfsXFYW\n",
              "3vQZ8cFGwf7hcs/RX/v+o+FT8QsBe6hXNLJKxcqnrUn2DKa+fPtz+Z5ug2Vz3WVCNoe4nqTGKS0T\n",
              "uIRzq0c9bUQlocjKVwwQZlMJPLf076HybIZY0jpCvEhSO1vK2Z1zGWx7Rsrb3drxiLcG2VhTvHrq\n",
              "qCLOwfRxAVcSwOTzrer312x3cCNxbKZnmwnoOndfdNAm3o11cw5WpwBYOFu+nSuxlgMylalPZj55\n",
              "r/2aZ+qxSo/GQbFyCA9ukkUAN58lKJO60Im398zx0IMnL0VOtm9DfELmZGzLfVMC9W9fQ55ZEuns\n",
              "wjmQafywNoptCbByOgikv2M38QKh7ABv7Hmy8drN9fn0rxL1pboIg8dnWPkkVwEm3WDRqG8j5Sk0\n",
              "tZUmN+7B2bg37EVj3v41iDIIeebdkZ78R4uKRn3j7uE4hBA/z4rifcQb6bGNdiTFY4SLv0yjU/Kz\n",
              "ocBH3SIUB9PjwA5AzmqGCxx8dF4iY2pyDz2Y78dmyWODpbB2CxuoVq+geUCUlb1MDFjBeW77RuG1\n",
              "EYUmFdqFlAmVdru41a5XaKB5p1yMGNgX3em30sH7BHuDfbXeSHpYGJSoHN27Ulq92ciovgOfO5y6\n",
              "1DkwvSO9Fi01sSjEt2z21wblTzAvDWiiVJmvl8nqiYBr/xkEGOqJO3iWWzBXcAHjZBHVUtnz8jzX\n",
              "1g77j8d2vEue+ty7u2l8hsOTTXIcWtvANEoqNbEMNqACsmEdHNksrIMatlA5IxcdDA8gy51h4oFP\n",
              "V3S/D/aI2YonOUnzbvkqOwox708igAAD42+goazZ2OrolMKwvBAOk55J59lVcIkfxeWQubZwARvG\n",
              "9k/BKduT8dvluwd3hNkIGqXylgYNgmsDelfKLl9BjD3X4Em69jqjLyRmUiFgp6sPBe93PB9r2f3T\n",
              "x4SZm0Qd9+oDDVdFlFqb8VsD56A13zD4EBahKazGkgVG73CGG5SIP4fkxPTnw3AjLmLZL9WlvahM\n",
              "ZQGtdNPKuBzrmvmtdRRJxlKDsxQwGGft0oSrK0fNfA1/wQAAAOBBn9lFFSwQ/wBCVrzTA3NjAAIU\n",
              "+eukytIUczk3uLL+/aJx/MbdLHfKLWtXavtiE30Q9JvGVJxugdUvM0NffaaM3AYYzKyxIeCzUBj3\n",
              "hKMmm3Pt07bBy+CFSHsrEXQQiSEG2/VrKBfBoIwT6dpOt8hXk+m7socoqFAvzUTACP++8cUZ/8Gz\n",
              "qkV+XouovqZJEOvD94E6j++kXFVqRm8rwlU+fYyRiLQ8oIpGr3vfS8IrdNiD1mL0b/bM35Hx38+i\n",
              "21OPI9CBGs2RZW+n35p2QLLw+BEexO7fiXwuXwqdwvZokAAAAG0Bn/h0Q/8EAHR8LTGBBFqtAB/S\n",
              "H/lbH3L9S1EAPLpC26rBt9eqKzFhUFGJUwhuQPjBlFia2+aZFzDfkehwB/vyUm0WIXUQcB7pS90m\n",
              "MfHpL0Q38oGhKNKpIt5WZvaMWeLrPIfhgPo7lWJpyMuBAAAAoQGf+mpD/wP9DJL6Dk+AD+VWANAr\n",
              "eN8JuXelBeTvBzY5St64SOUGwOGXRXIEQiSf/wLB77sgTE5BbPGBEuN5Hb78Hc5CXmtZGIuXFoVf\n",
              "j52io5L3SsDqQ/jhgDG0212fVWYIPG9Ts4LkPXRf1etcDYLI/5ocbc1qtjLWyjL/YCtg/10fw3/r\n",
              "JtkIffOjq+7l6XXXYAvVloDlyoRU6SPN4BqwAAADvkGb/0moQWyZTAgp//7WjLA27oiACJt9QoXx\n",
              "3rU5TRQDsH5OmLAiE/6OrrV/AHRAGw7cqOZb5hYMAHgevkKneeWRLBhIR8fylVVk6xrLTj4LSjSP\n",
              "d6rbzdsMt3nP/tWlKBU7MmJNPiz3uPqiIlH3WJ7Qtu38B6bIGNaHeTKFppxbafWxZXoCMjjMSR48\n",
              "KiarIh70mFiqN2NBcwpcTPkZqdU4tXxGsML4bdwsNAGBSf9TmW+kFK9Ca7lOwwH1OMOlpi3gnkRb\n",
              "t/MaxNmnDDJf7YUqwUDic/hf6yLJa1sKEvios1g6iPaG06drkZwb6eyUoYj27OVsFGB4UIh8cRgD\n",
              "6Cyl6Et0FSOO6jEzGkSuwd3Y/COURQQ0iGgDI1yyukM4n4afO3ia02tQef0hOHeGv5eeznoHAlsU\n",
              "m99yuvGNVNplSamBMf2fxWt4MQD7NBrztGncTGx6M9v0FpCO13I4JoKUB5apKv/6KOKSTZ9NFP7V\n",
              "vBVHvlqRzR6M9CrIoy9oFjwnbM65052Hhvh+ImKxQMUXT7lAkiH03Ec5AfaP+S5m24Ytynx+iRVo\n",
              "//BLp5hcO6VmtEzJMrTvVMdPnSTUHVpaHuV9XYSiULjYjCKgZV1rYNWmsWRuIu34GBEAMHo/E6U5\n",
              "MGeZWomhJaKGXf/EtddXsGi22IeOKfyQyCDJOofsuUnZbjEhxVLrwFR8mMz71NXJgFfWSquok9gL\n",
              "V87o/7D9o5JSRTL+FR0a5GDbAS/XohfEzDOLvIuj3jXUed3fV3U7MLy/tCZjuvXt+v8gFJbuAUCp\n",
              "57zS8u4GCZpwkHYyQs33lO7kPo9ouCx7h1cWjnVEmLxG7lIGw+soQIca+o4JAPb4DbGYuYhXd2UD\n",
              "s2DWzI6NGlVq9dKJqFNHoOknTK06zOI7HGCjTj34clhywq+0lhOkCo3y+Izm2z8N3jwUivvDaIlN\n",
              "IMemd/y04eBvMDgAlsk34cq1SfRRd6CaMIZBotqC1YbZrQebzB7JvtyAdTW3cBUEvN/AdAvCBmx7\n",
              "Q8hFoIz9ChHSlJZId2oVbcbH46WhDeTYec09XNC6tK14r8wjVUOfoOiipqdks1ckyDt3w1CcpnwG\n",
              "nFTopUYqeN9/R7gHWFxWerr/LfFZUoEFdBJ2nDFIqkL2xpxHghZxpsSNqmIh9gz4bLs4gGHh+2ht\n",
              "7kT9e1ZWbeQ+MPIBdehJ20Tv5VULC/UTz7N3EREV14vAo7QqP4HdlEFgmFqV6mGeKgaX2I8OEV/W\n",
              "ezB50r4i59ntX1RFipCrNeTbYGEAAADdQZ4dRRUsEP8ASDypaDZoGCdJ4ABtV5odHzsMYlZR6JPQ\n",
              "DYsEfduNBYjIVPurUWLkUdL933v0ghqJ2eM3F31ij5CcqCEqg3kTH907G/6YAtMtq9k7N6xFmuov\n",
              "3wXY3QDivvleY71RFz/RTsX6Xnh4Xre9vUVAzU3deBdS8cZoEJKp1LBu1tOXDrbBpijkAyrTo4oj\n",
              "Dyg8wn9Ie2nkC1znAE+gJt5/B1APnise7UzZUf17nJK8AgJfGs/yTMBubTQP5z2EmY3XcjP5C9KP\n",
              "zhTlwV1B2AuDqqDwT8brn+EAAACDAZ48dEP/BAB0gtFVfIFfEj+GqyACdZIo5dyszaEITQlkC4An\n",
              "CeKLy+/N/Ab+lLYlBUcANXO7Mh68i1F8ZfdqN9R2VfkbvK1H//g5uDH9+LDbKnN5nfbtmoybpsqc\n",
              "A28mY+PkEhgKFSjYPJS+586jz1Mj8izouns3cqOXOu+sqqWRrLEAAACvAZ4+akP/A/0Mm8ToExMo\n",
              "FigA/OhH2S/OchFXgfqyJNrjB7dLf/58tCwzHju7DPlAiLeUVWRqTlWt7H8EHFz6/1f7DPSNpaem\n",
              "p/4OaNXyq5fNWAzIIaBcg5eIegmhCgsZJLE5cgqaMT1blY6/a8DGLk52hMesGtQe5qirlBnok8BH\n",
              "9RZ8XX/qa+qL2MqKfFMZYE03qh0LNkTxHPGAW3bASLf2meIrE1OntRCiIgL+SwAAA9hBmiNJqEFs\n",
              "mUwIKf/+1oywLw0yL2XJygAqVTHBWKvdo3koMoZ8ug+VI+V2e1Mn9uhy55vxJoX0ej4+eJThRfbm\n",
              "rWzFaT/SQahyhpbajJi8/cKJa9Kl2/v8UHzoActI6B3E6/7hR4IN82QNBq5APS3RtHfR1AXG29m+\n",
              "QUHxNQFrFQdyF2+3LarYaEKgtYNW2I5N6xZaw3+6qhkRYJLq3JX0LUv9MYq4MgkELI50yVm7O+Mn\n",
              "4xfjuNEaUHcPBM7WeNfHQjbGl9wGERwrNbwrWV68wJVYdiUbt5ywsYkE3uFJ84jY3UL7Iwmu/MsK\n",
              "xy/GLgF+raMewTT61pAgrnASJA2hK1xxN9VPtNqIj4Dge4R3M/LVas3HRFov8kWbhJtblF/XG3Nn\n",
              "Xz+8Oe9r6k6oPVqFxSlC0LgHnxy1wv9iTyGpkvu+soBS6P9ASqP6sxlpZBUTqh1rT2E2Mxs+6TU+\n",
              "bmIW/f8IqPEl6dYzNwEBJKaFxMHqCl3uI17Ru9gZvZcr9AO0e6khyNhD/1m1tG3DtdLiH7gZCI8c\n",
              "FTvc754S+ZnFOOmVk/MH/JgtD5sX07JIJJOdUwUOIEmZFJvQzOf48wmK5iWRTw8YcJZ27ZiPSkmE\n",
              "2+LHITSRlnn2yTdt63nEP6ewKraL4z1a2oiYVbRqVZ+AO5y33K86GBZ0xVokLlh8Z1x8+FBdG4TW\n",
              "M4OZOUReaomSeCoOCJDapGLHcdNWTij/JFc2wDNFS92r/gsGSGhXryubg4rRw9LOXsQAp7ILyh/l\n",
              "mkqaDiTTle8bOOh0oT/aaYTcxbbZxrSo2I7qfQNi2yjXRljLknEK8DkK6NIR0Or3tEC/+dsrPQBZ\n",
              "0f3qLqbBJw1U6/Ic93RX5qyPsNBlyLw1OCdGiUOPz1h9Gyzjvuc62+jpBNU/m4Ru0CxZbH4RCfzF\n",
              "dE2BxtoOEo2W1crVhHlcUGy8/zFkB3CrIirmqmesBxT3Cyr35ljywcpXs4fOury8ppJHIijj6U5Q\n",
              "kyWpg+aBWkC6qbGbkq10/kCiy2GECknuB4H7yWu/M0dsxsD7khizBkQ+a+jpEJbq48DZ34VmkjXO\n",
              "gW2Pb2ld1WnxITVNzPljxgnNlap/ij1E6JMwRljpWZfpqATEPvrhPqSIieRUOc6+dRec2rJVbp6/\n",
              "+6LrsWFl699ExjAsHWd9lIjFKqDyvy7gbHvh7UftIoM6aeEDz//d8EgODahRtCiOSWSqId4j8b5e\n",
              "y/PI9dojgHWzBWUg+ubqeo7pCBKnoKc4tjp/EICS9Zvm9iK25Y9SAUz39xGhkrxmBTmFJzSa62oB\n",
              "/ISZhA61dlEAAADjQZ5BRRUsEP8AQl2/DOvCT4mYQAXVecjoTRMjJurMZKVsO4vpYCGd0qsGvehy\n",
              "byEUnPZcitWU0K4fvj6SP9M4ZalwHVDWnbAEOlSeZKZlY9ULQFayaXsgtz3mq5MtEpOGJm8y87yO\n",
              "6m3LZ/uY4GBBIRaZNhfDJwV+LKtDN71UNo24lS3eBsPXuoBijlvTEIMRmoWiB952QAA5FWUnjf71\n",
              "efNgvQA3ratSfx5GZBJnrEUTH+NP8z2XCp7a+LeXXb9OOa1GZRtBubn/OMf4AF/tiWVl03CfFUhR\n",
              "rk5eVLUKtGiYr5gAAACmAZ5gdEP/ANaZuonQATt8gwDB6s2JtVUeGGFDXn02gp4KOae2ssahFZts\n",
              "SlozG7UYX9x3j/MZy13/y5Z14YQziRdcpg6NJY1OXLzAC1nr0XHrPBiQ74LVsfOJGyPpsCmSxqrV\n",
              "Bgj3Yie8Yo7v/BquAc73+bs2eZSYalh6HQdOevdHFT4l7hqrGqA5E+BgqJGx/P/pd/ASzg0MVbdw\n",
              "8sIDfA/DbDIkBQAAAJwBnmJqQ/8A1lIoF+teL0AE7fIld9hmIc0PmQa5jF6MQ/3oy9x9ogn0bn1A\n",
              "GsPAr2+vJgP4cgs4Csqvy/jG1MUyfrzeRWRIU1ZyOKjCvh2mhtIHgXaNeHLLNyLi6J4bKq3zzcC9\n",
              "pdlwzaW5ACcLGB12JrAKOQGOg1wO7wI6Kiy/pU9yJ4V4HLOxN2mUNYXbSF6Bay4ubwHmPIjCb4gA\n",
              "AARtQZpnSahBbJlMCCf//rUqgLza/AA5m87E5KB9R+sLRYznVE5d/tC3KuJwz4QKQsvnvcKEkuHp\n",
              "JTC2Q3smqgFdr+hvvvvsWaQyArFLuP875gstks/bW9+RKxdG2baJ8+HngFEz5L2RUMyePwJPOfVi\n",
              "eJVFNzbaixx9RqBzHR20sv9lgV9yGMOzFsxxDLoRSPNhlYdHfmGWUGjfsai4rlUCyLcBa+UJDWHh\n",
              "e34A2C3qwo0SXquTY/Nmz34Dg76B6sgDTVqRPZ1F69f5Vw+Jg+nHhEepn4m1zo/+REDqvMOkXmNV\n",
              "uvvYtqZMlAcKGFYPgli6uhGgwAujvWeO/5Zep9NKCHZlV6CyIPe7dI125CeLHlY/16rP3PnO/en2\n",
              "vr7wqzrPEgKZW99qVa0QyOvOs3p45i1WMU73an+oyOor8+CTJLU8e6qYHw21rUDaVJAusWP8HP6I\n",
              "v+41Gv+1MULiYwt5I2Ht68GWelL4ushdW74MgYdIlIXtGq9iLLpLB/kUWmhvXJnznvWkYbz9fLTL\n",
              "E3L3lgAjcBcUJXBbVYej4bdlq7BBQHEJ6Y8dStXxgOIFgz5dJkoxz60RenQvh/EkLejTIdF2wPLE\n",
              "S0D9k3JV6sQ9XBKcaoe7BKgDuGT41l/9IPwVSaiEJTBa1rSdKcyMSi/FpYzC/SEQtVPKDolbqh7t\n",
              "woNvoMogHqj0XuQXKnLu4e/PNQ3FS3oezTjHen75lwVYu22rMwz7D5mNttoo/wrSFmk+Fn1V575Z\n",
              "8qaWjOc1Gy6Ku0EJLxpPAXaKY29ZNNHJddu2gkf7VvHB1ldfk3ukJfM4hBt5al7Uff+LbjcSjth2\n",
              "T1vNnNUOEZ9YdEYD8kiPFK1O1IJyvoEDtsz/SVvDhEY8cE8v/psX4/4iOtNIY8LKpV2Pi3Zg+q6t\n",
              "Rp7curgLRpAvmH1CppF/onDP9tBuz3CR6dvAAW3hejC4qAUxcJ9xBwphW2QfF+v7nmJD0zlzoxdu\n",
              "0pyHf6Ih1qqsGADLkzoYsZ0fNYhEz2rIOFhFo/Tn/Mxs7oCFcaRMFGEKDc8zHJYRY0XGkus3Rhrk\n",
              "NPx6RldlgjE1rjdDAmbpUHV9IleNvIbZbg9Ji/gTeIOXbx8/yqBztaRBWfQTSJLuu7NkQOmf5OW/\n",
              "K8Tn/mB29YK946W8HhoaVLaVN439eyerQSLxITfUWsHLV1pYPOjk8QXGc/KmWdSFnuviyAbiDdq5\n",
              "h10G/dRMp1v1/zMkps7bGBcQlM566ZD5/eVjdtMf8V73TP2Scj5UhfZCnWc5odRFOuGnYuROGmyS\n",
              "7t4Gnzk0AN8tKRaPIumb1c/uZaqC8ceVqxh0pEIhWyDPsyYcP+qUicedfDjgc3ehIImxxBAupwrj\n",
              "YT7rgqYZ4ctTvDhS6wR3po0OE8t3+HVru2CmAWvOX7DYu/OGnTqHhWApSLQ3xgXr1gjfbBSNVBQt\n",
              "/SLyvZ/24z8tRPXdltrPS7nyW0G31x0jVbJ7pkUcxVbjOiEfdiOGoBm0QgpnKeJ7T0sN5/EAAAEY\n",
              "QZ6FRRUsEP8ASEuywgHoL7gAJavNqWeq4pVqRLzQGA3fY/infi22GBkTgfMYyk+wl+6jzCc+twcy\n",
              "HEyK0ArqzypfQlrFPkCFKI7nPqbPO59L3PLsK/VvLAI3gxvEX4MAKrTodsWFtsmSDg3XNynx/4qI\n",
              "pRBS26FlF0dpu/+DSUNhbfKOuM/NDUk2bqn4ywaA1C3YscyHX0DK2ppo0+iVq5f30WQYpapDl652\n",
              "EISR1XxKQhElHq80kMTivCF0g+1M8tpc6+SHkZqCgtzWBHWWNPnlHAalZYsoLI/fXkZ1aqizKu6f\n",
              "qv63UiD+peIShp/VOc+G7O/sUZHq0JUk3c0RKSjzHRtpPlcHRo5v7JHLEt8Gk/+GagBycQAAAL8B\n",
              "nqR0Q/8A1pm5nzQAD+VWANArf47g3L5qHe1qI58OJC6wBW8PvauJnF5EN7dMZsbrQSlgT+PQlN/o\n",
              "3fTKX1CObcUDBAlrTvhyjvXdNeiP7X5afjvlJNSkQxqoyGXHxvV1qVxLag7gMFkgf8Gt8/auvUWx\n",
              "L0AifJre+mrxqgZ2V5HT1/1dV00THv6s0k5WWWYxZPnfs/c6hF4I1fnJAJkYJEt6KW8yVotKSqEd\n",
              "gci2ngq9d53ZQ7cugxi895RdwQAAAIgBnqZqQ/8A1lIzUbROUAH9IhJ6pwzgDN7m+9s/4wSkHyHn\n",
              "YaGu30JLctf5sIpcjBJUffV4ElKNF7KK7xPdqT5W6yeLQ1Xs11nqk8uBlDbDJIVprgX8olbVunyb\n",
              "jV/E3GC+D6FXBW6YIEl+xevuZm0qBWBA2xNmlUtCbTBooj1+9bVY17+PwBnxAAADC0Gaq0moQWyZ\n",
              "TAgn//61KoC8243ABXEgrnKwddTDrKA2d9a9W9bz+xj11v8FaeGzRWf8110y7G0ruRpLRz+MiLIT\n",
              "TZ+cQThTvOwcBGr/Bj8jXurtStUBsl9SEzS0z92pVnnw8ZzU8tM5l/JthkZBaHambV+KZgMbl91x\n",
              "0B7zwpFdCjBzogHWiGGuJpbOcHA9mVkpLjfBAAld3p94/9SI1OKueJRsaTxlDSrf26ok2W0KRRws\n",
              "uzJRWq5wxrGOVyRJe/9L1140fIs6Nu2PaA38uh2RSJq/Yt1rMbIt1iZ5/8iPuW7KAaYFHL5OcWU5\n",
              "gwllamMu7Sxrm8bnHQnwqU7Uc1hRh99NC79oYiv69Kp8/2hOJMy7yLnyRdpY25LnJquHICx1Wsb8\n",
              "BdHSlms7svm7Wi+wsJY2ytsbvMnqjUz9/H1vM0fXn971BBPhn45X9edN0+Ixi9w+ztJxnAsMHdCk\n",
              "Sn28DoUQXTG8kxj0E+ENwENpdiDj7Nw2qRXvhQanVlvJQHD13BxFppmHpVF8pq16J6v1SwLefA9W\n",
              "aRQFt4CpVssIBw7CafWLJB/aldFSOgzQRDFlh7Mx0gbHWA9JUS7dszUlplhB7AC4Q/aaJ1NmuTKh\n",
              "/lbKV5IO9R2LjaH/HkUZsg7d1uGFK60n79OejjqLXI4q+QvBqk/nKZ7kj6HLweekJ505TXWYAzRw\n",
              "MfuG2oNew2QdYpdfV/Zzb+IzFkdXW3g7Ldmu1HYlE0q6tgopbJdsjGqVRHzregrDw6oKsQhvJwnc\n",
              "TJRhDBGy12uxS/o/AXGAZsKn/wJIBTxjIoDsvUN6X6bkrpW2oyG57qqtknrHq47Js/vuEBOgvCRw\n",
              "lmdfB4IqgkL9bWUZo8HcqSAyO8UWIeKb+d/jTR9E+lagIVNagtXuxpgCiJOSPMZuQVdRETRRs/++\n",
              "qrDSGmrYqz2Z/EBFUyQh+m0L4aybyPT6q1qTjz7JCR6iWOOjHuEiDIZvLqMmqXcqYvi6GUJS+wjJ\n",
              "QBQL15ZAxp1De7FE9yuUIBDHaK2gdP5OzzNDlBPwAAAA9EGeyUUVLBD/AEg86qIAAuq80NqBhhqA\n",
              "9RR7q6JqM0IJHP3rz8RNYJ2gg/LYqvwEaP5r8yj5Zl3m9PfzIsaiGDvIB/imfFI2o06LYyCpNOt/\n",
              "/bS4vjpaE0RZZDmNzXbSIDb26+qMtf23TzsCexdLS9Wh70aXB5twYtzA2rlmv1XCKldcyw6ghzMS\n",
              "Crox0Cwh4j7tRp7Vc6JG6OPAjZvC2G+fK7QvxwJNoRZx5Hdbmh+ZR5+Er6vNcBKttKl3pkIfdsHv\n",
              "SGy+OWH+k26wOSRLMcXUVMaOjGQungGAwJWSoS9mNiVO+px0boJ8255CmkgcOAcDPIsAAACBAZ7o\n",
              "dEP/BAB0fSQB4iovs1QAfj1HwmiNGm39GKsdfjDeJqCddElCoak7VYkqD1OS9FRVpC5gOw9BZGa/\n",
              "8HTKLq0QlFHdQSokBuLe9MQ3OJIfbcwD+TySLNiB4F5LgbHEmWQONCc6p6ChJzXw6IAuE2tu1jM/\n",
              "8GGznFSWE895wuxhAAABXwGe6mpD/wP9DJKioOL7lAqT+AD+kNcO3bC1CBn4hUUdlQKVQEVQIyEo\n",
              "vQtgs8S7sUTaeRAeFUC8Hw0f3BXRCaQbIhx9WavHU3EPDhbuk74JejEAA/0xkxt30w/KSElpqjwP\n",
              "53+pCBPJQHTEQxJeluJAyI4/823R+98PMyJGCaX5Rw+LhtY2PY6j1PUA/fO4d24rIZoi9X4N56Et\n",
              "CHoqU2Kui3cA+SOlTn+USEznvJl8GHmYejsTlk/DgpDau7qYx7e4QAL8OoYDIa2637PUyDHZHOvc\n",
              "m7nANFhV8ivh2wpTObR55RQ8rmeaNquknRypGi5IfsKi+6Abm+h5MgHoioxlYhG2qGnvnGfiAXes\n",
              "fL2bUEdqFChJwWK3l8Ccs01DIvJicQuxL/OBWvUlgq00bdKfTnIBqJR/9W6qs/BIiiAxqHReOmMT\n",
              "zltaALPV7ATD04pLhvsg4EKm1kpZBQ2vTAAAA+hBmu9JqEFsmUwIJ//+tSqAptGGgAdpu+gy9dcI\n",
              "GftHhNJ3hg8LqVBzemqO9L635WXUy6JiM0O9mhc1ioCx8sQAe1sUAqs3yFuaMNhyDPlYCaOLWzgm\n",
              "0BoeGGzK/4RgTmfdkJBeH5ywmDVjVL7bvSzCt4eNOoLnO0sbktc/lx45IjB82ATA0TlizgalHjnU\n",
              "VuE15l6nxMFILhTuSMNaYaKNK119tUQunaGhYL8sKtGyFbr+Zr0oD8AoBkElQxp61qZ8OaLze1+3\n",
              "PwF8ioKUKJyS71Bqf0WZUnFo2RvW5wVB3hQcDIVLW9+8QpZi1K5fJ8qm7RLLgC26JAG6NdwjCw3j\n",
              "tR+rDVcTwVigHjG1gB7o0J046TQXE+MdaS5mHb+e8MvXXfe2VBdrPdLEsSap1N+nRhBeZ7X/AkBj\n",
              "KPWXv2i9bGbCS5VKstYZxKBlknpGryTd1SZxvX5aswwUcexaX91LW1dOqE5xs5xVLbprOOmLs1aX\n",
              "T92Nd2a3r4MaEL09380mRKZS1ti78LTR/PfZOVIOvvpfsrVHKt999wq8LYp8DoA8zIdaLvzs/XvJ\n",
              "mqhvSjGzmd7KX7p73k29opT3ZDcQwNTwWqwHvO++KpLc2EwcD87DTaRFIklg4ERvMdaUztVpxOjf\n",
              "MMcxE4ss/Daxg9NbOYtd3ll5P/JzDDtPyrUQ5KiX+hFNlpbni2wZNUCJ5s6V5FHgNpd/iGJLORJW\n",
              "IQvFbIQ0i0sCaLuT5duYITnXQxskaUTeUhfbHPth+muJINIcEw+5YM77m+cmhGPLX+U9Pa82z51q\n",
              "SxK7TTnMoJLjZUxWoMngPTq6Dk2+QiJuVwr7Snh5iN5MWolDbXllpdLW1DXy6jel6oKcZptaN+2D\n",
              "F3l3iJdA8WPPDTLKu/0I1LjZQprQggsM4+4hmyCGpml9tNf59uHkIwlLm5HuhyW1Nhtm3MhAm0hL\n",
              "A1O4yNc9LqOjA1vOCVbY9G3fjZYrJoCtdXSayFincXk5noVU0D5RrGLs5uqG+Qs6T4Xg04rwJR/Z\n",
              "UEl34wM9S6LnHkF2IIzbXGOLY2lttpDjlKTfS3eyV1vrBDmy71NHpdGUHRO+xt0hvpUOAHLr0P4Q\n",
              "AZ786FXCOhDgV/Tsn98Fzc9F50xRQHJmCwf6sOwrVvac0aPBvPNLBavmV8pV6naIAcnoIgjGUAH2\n",
              "/0Z4IumS1M9rjOnjj9K7dWnhxIdK69qiXfi4pcmZ8VMlxCqQX4TAzm4Ey44pDlPEDWxnZXZktbTY\n",
              "0O7kZLwu7EpWlfPXJ3OKqdRzSY74gWmeCmiKC2IDnYtO4qfngMbb+0FSGevuo1W/eQvNpLHjlwFL\n",
              "8KY0AAABCEGfDUUVLBD/AEJWvNMDY3BIAAhTfzCoilyMFtGKnZn/LYxwpO4N9djGFnC8eiGJBAbE\n",
              "JRvV8lPH98ZHuZ0UlorP5+8dC69IQDNknKclly/0wc/3vT2JTaGs40hjhn1M2M9lYdqNLZVqB8nH\n",
              "aUHmQZSoN9VUC7jfoNWt0vuLWabxKAodL95BU3Y6z/MzExm/lyiJdWSk2TJH8i9lnKSEQlK0ltjn\n",
              "8v+qs2A7PZH7sejrYn0ME8fVRReZzcJ/W430nMSYnJu2b+yPcrUnW16OGi0k31xAMWo1/hcqhPnV\n",
              "Xg/YLDJT4Cbm1GlvnAaNlrnE66YE415WaKnbNgMrtw2tpDB1jFCnvhAQUwAAAJABnyx0Q/8EAHR8\n",
              "JDtvzfoAJ2+RK766W6DwXyd2Loo3v0tfrdFa/r4iik6gI9nP10TkSweoWVMUWh8jrfl1pBOGD/8e\n",
              "HaP4L9yMb1eOjmfwG6VUkxuLKrD6JzFbz4IW2uPsFJ/CUP96qKrpu0gnJsd6nplJ+RIWFAaQy/89\n",
              "L+KHZuQhXEUxGgqK0AVQZeFy77kAAACtAZ8uakP/A/0MkvoOT4AP5dXJAyBu+O0+ujkaGFXyygJJ\n",
              "OHTWza05RSpr7RNyDZXBv2JHcQnvyoo4KdBUk3yidWaeMXQicGmV/vm4HZH9oEPQU225+/PhxScz\n",
              "dZDqAKQUZsmEwLFqZz+5/VlCRzhSFOcUZfT7oO4D83c0wn9733a5cHgQpVMmxh80g0TuLOk3jZjB\n",
              "Jw0vItXAXy17N/SfMpYhb9YXlLFwBGo3qnEAAAGxQZswSahBbJlMCCn//taMsDbuiIAK4pkP9bf3\n",
              "Xxhm55m7u0EITYIoIo1r2erDNs4J/ZOujrUdlTceg/rpXRdm2JXuTzhF58h8LIIyqU6CWha+TVAh\n",
              "UeERVFV2xphoQaP5l7ZUjUMJAecRfCNKrlGOoKNgYzgMuta6POj3JmXsKOXClSQp7tTZ6jDr/z4i\n",
              "dCRjxPAo6HH0CELPYKO5sEW0keuAdfegiS1/W9rM3HIE2KEtDbJs/p4/WEf6kqwxvd5YkrhTULdw\n",
              "UbGrKKz2rEBhqmYpnhZrs4xXm+K85Al9qxF4Z/t74sIAkeS9GxZ57zYzrUIY/rR7Dx0l7+aTmK13\n",
              "ghwiG3Jzfg2Vhqw9raeuaNVJLpNmg67/SSDAz5nuBtXEQXVNOd9rmHMy/0sAKsV7Ep9bexmJ8yIz\n",
              "NdzqnT3vv2WX7hxdJRHcO+T2ZwZlnvvd3D3wuu1Rl73E8bdmBcHBVj0RCbW+NhiS+LCtZv1hB+/T\n",
              "zuPvwF3K0qBWrPUTP1dMraAAQQlv37llYnrfO7m4BU7NmSoCdJoesvJqirZBHpbNWcJ3jhl8VfLM\n",
              "YfCqhq3JswAAAzlBm1RJ4QpSZTAgn//+tSqAplSjWgAiFSyUxpt/hb2tXRuDSQTbln4WGEDNc6iM\n",
              "YBgHuvk4zmI6Bd3S5yvHly8JS4xn2vqk9WL9Z9VaUDra9pAtRZOdCzpZw/T80+vIDuCLbwLF0N/O\n",
              "N3gSATUqbvXqGO/BeOZ7BRMM7iyFaCKVPultvdN+zYbMD693fsk1EJzHAkajbkqSuoruPV5Wb9pc\n",
              "sa4CeRknVpsi42uEi0iqNYgYzmZZEkSqmmlYUCfHJlv80ISO1b1ojsAaJx8MVWaygEPs+DR0v6gQ\n",
              "TAdUZEWMb6MuuEz4NZVT1EjJEch9s6SeYbqKNDriMU1tZUYBWwmazobJEIfsEU2RYSlth/8MQXK0\n",
              "yU5BKN88mPfUMt7zV41hjVpW+k6kTDwlSv/VAAak5zVp5ThWLrwvbIG24NL2HH3mBwBbvYscvwEB\n",
              "VlN96HKIpEzXrYfgu2JItLVQRP12aZ63rtpkYBoUHuKNeChM8oaEbqaoXRLBB7Yj6SF48pRf9cNg\n",
              "2VRKmPHYIPDbqph1N3FcVAQndQl/j5Cuex9hpJCMk0uMZYbCuIlUa5h6KiO3k28fpWtjTJMgIchg\n",
              "XEk7BCW/VprTKiCEUeh8OEhUs3QivAy+nuEtzZZvsSsXa8jky8PMy9B0aMYZl0TauwoTkK5zZAyd\n",
              "q/rUFVNdGJcxX4g0G50LSOFaywUwjgmoEjCBUqhZ56iiwngWesRUeGRLghNyLR8/DB7gQ8rtUndu\n",
              "2v1AtA15RKNcNtPsPQOgDENbQRbYh9T7cQk0j8gObNho8N2TICrIU21PycTPcvSUZTGbc08meZY+\n",
              "IlC7Lq+7OAw38o5s8iH6Hii+j2+L+MuMl+SZKLT3h4b2dl3vLIQijDgpY6PsSEAF0rLCbd9pGQpm\n",
              "j9oxd0g4WFzS5/kq8C1BCigUUgwl7cU9iBwEiFPv+Hrwgd/WfF0nyWfHBfIV2l1VSk1oY/SCqYrp\n",
              "E9jnI7xWV3j5YA4OPX/rAAy5lB3txbVEwDBA6zwn2G+H32Xjm7StriIiKAeOMRpCS+mN1s+pQLvI\n",
              "zHZ/p3u/j7Chmipjya0Y1wJZQLdPVO/jr1ghynzQ9+c7AJ/N0P8AAADVQZ9yRTRMEP8AQm7KNIfM\n",
              "QAC6rhU/15NCG3tiDHTxU+1XJ6ZsbZV6rje1oaY5/kCWNtbIAWuOqjhp4J+hOyKpjUO++rqBWB2Z\n",
              "plm17DHNJ80Kw8QXkZv2NT3eI1aH1xj0RzDI0r5PvlhyJ9fyqKQDjdLhWooe5Nu4xJRrAdn/uJG4\n",
              "PwgeMZcivdHl8A9l0Gf1nH//zigCzeajl699TN6OvvszlKPNugDfPVaqMj8edEhB9iC7GUnqTzDN\n",
              "5WsHXiNHlJTPc0dbYcRYQUoXWReERqqHhSfTAAAAxwGfkXRD/wQAdILRUgRrnYe/YgA/l4k9mnV6\n",
              "o9SkcIQiUZsNDagvCDSagplsnHaNOsOMZL/501txSPtSmO33rohsT/qqd6AGPow2Mro19GrKM3aY\n",
              "NCvMFRJ1IflUqaQxecFDX8wAFZvktt4lPlIleX4TK69DTeIg8GDNknVqkdiDoG8mCBTWp0+2dUQD\n",
              "6HJc35BwZ5wlRleRitGldkGLYsoQkQDrTpN4dE7ye+rmHe+U6D26feij/WIfOlvZL1FSbur9wnJz\n",
              "gecAAACYAZ+TakP/A/0Mm8ToDavaEbIAJyAbuay86HFwI1Wk2K7azQm0q8fwxyfB2rrLZYd4fwTW\n",
              "ULmvzrvvcdSJmmib2xOfrcFtEUYqzLhN/6xhx9t0Pcwdkbj1jGvhuaD06b3e+ZW1kq3FwhWJQbFa\n",
              "SrOHCiYThpqVxjmkPYmhb3F34wF7HTNYOWqenovAXsU7lTqXqpOpNenHzmAAAAK9QZuYSahBaJlM\n",
              "CCf//rUqgKc5UeABNajVpQkw4pqJX86pkft5crk5O2Y2vPc9llo219KXkD5Ie0h6AfcyvB+FbM6P\n",
              "Qbbw74C2V1qciUX9gxcwugdwnmuVLu3O2QDnEwcjhdMC/YITHG5s7wdZwHeJyKFkxA7gLUeAKDDy\n",
              "A4i/hVxXnp5lANDcaueNfQM4OIi+rMZmgxQSv6UF/eWJE7vOM2EaDVuac8keDThD2pqXEnSfqMCq\n",
              "A9EqzPGI9S1KJt+DeLb5uzfYxQc8oAZqPWCIvkarqKDBN/S17p0zKUKL3SEL9UOcxmSGi9r1RzFv\n",
              "0rjv4laRqNcJ7VkaSZ2qnXOU5NWAAEuccyUYBivOYd+JhtU5xRmMD4bsDjEwHo8jSy1g3FCP9RXv\n",
              "dbI85Ia+xjX4EdBSeKVPzAfIE6ef2+IteNziWmKKIElXyht8G/IfOq1VIDxrYrF0EquZNvbDt1gv\n",
              "CpGE/SEdihvC8qkzRCdtbKPHJjz7Q2h/reHk0ckcUJArkZyB5yCC4nxpALdvcXemgdemrC+PiH6J\n",
              "Gv3WnyPloOcvqPnuXGuIbJ8s4Zsang3Rr3xA/+URYz1YmIAIIWVxOPjy0yXx2X7MXDPR/m9Ck7VI\n",
              "eijYkMDEJanTXxx+B+P/JOEBwf3PIAFY8VidJv/e4ddUs/YARVTjwqNfiaNzn8IiFq+TQOiPtGi4\n",
              "k7u62gcRhRW7fgNjqb3QDPybLUwdiB0xyf93nNvn2FkuJGUMsDkDO8TAMs7Cyw61JwFIvIk1R/on\n",
              "fSeFoO3tgJIMzzgNEy2uulPnRWDuwrbWpYQ0pVHOIXhBZEn9uT+DkPGtun17a1g9Vqn9C3FryzaW\n",
              "tLvg1jl+85Fbmy95KdHfddHa/zXciEFcXyhgE6Zs6xBu77U0jZh59jj1DIVuX37Y9HNdDUcSt2SL\n",
              "8Q+vg2bq+OEAAAE1QZ+2RREsEP8ARFYGUAAt68wyKn43foQmqg2zzAJYePKhTlBVshKebuVSrriN\n",
              "DxbT88WLsrq0xirDPsbRkJyUOZhRMSDq28hsuNjv/v5LYTr1LWd4GzzHbMhKvL11QpilYFZbodWW\n",
              "GDJ/aGhyMdTP06vj/2LYWzuShEDvastGyGRDE52PE+IqiP11KukqqcpXAUAvRUuhvbCdQ48yKIeS\n",
              "IkS7A8csXVDpl/lk1Kw23t/z1Yfk0GqHo1dKcOIycwud7dDPLY4+t2Thwh+g30UVrD9P5/Cflxjq\n",
              "HLfo9ZWJEd1BD3hhspFkQYCGj8vGsPV0CREp+e9PvpkuowbXJYOeALiSZPJojWR2OFfk4Bbq6nT1\n",
              "GqkmrygO15Kl5+SFB5WR/QZdFuPkTP6uUsooYaUN1InqmC+AAAAAhAGf1XRD/wCP3+q0AH9IhK77\n",
              "qMLP83n5vjcqWS3OELBxE9J3K+yGaHY0BeKuYEnHtA1vlHCnQ/QlE/C31MnTnzZNqB5ISZCmvtR6\n",
              "3crQbxVB91EI6KEckMOr1eLPAHfv48vvPFBwL7xXyIU4wrwtMbk6BPGH/zF9suWQ7kFywMQPSPVi\n",
              "TQAAAJcBn9dqQ/8AjCJ38Xiww0utAB/QZmPAIYkTeN8hepQrjyBqxXxl1x72y8yKlqEp4joG7zA3\n",
              "rqSMc3SUovFbbhPLuLWrbOOa0F/TlHjgDSSHt/AX7Waa5b0j1mJum6EBGWqb6ilNXmVy2TRFSlmH\n",
              "iRm0XrTkilK8CKcifbtprB6BAOSyEfJ3opVAo9/e6I3vIYOFR4Z7Hv6BAAACS0Gb3EmoQWyZTAgn\n",
              "//61KoC82vwAG7COYfTUVurcLGueLfGw82WO7Hxl4QfcynQ9mtsublKOfxm+jsSw+aUWOHe+Q7fU\n",
              "K6aQbLfjcoouvbHJ9x+3Hj9CbhCbK7LB+1mb8k030HNomXjSEzZrRqB4YLkS+BeVOJg5i+sPPE/Z\n",
              "7weO6F2qtfB1iCpghx32fJr2HO3N8U+8a+fjFNy3Y+rxD4Hq1geuTU2n/yKjRbFUu0p4aMMT1/ON\n",
              "VDQgFGmXyl12b/ZTMEu21gmlJT9VKR9SmuukCL4fpPJ+4Keq8UKl0e7y9tZPtmevqjQp4PX7XM/5\n",
              "9ZciIAjgRwa5W7UvakCmIdmVMnInmMwMDhL9b1orjqy1Tr783UvvIDcC60O20aUawdDJNX7qD2UV\n",
              "e8Nqg9G4xm3cdixyA+amdX/PG0DgSjqnsDXw2iEdX5wmE3hf1yJubAJRkPPACyLI0GMGXBmuKfMS\n",
              "r0eyCH4gPXvZSYxLYJAhGlB/cvJOG+tIPBch9tkyb3w69l6TCUnEdozqqFymz6TYYAibLviC+ft8\n",
              "ss1CQZWY6GeSmfc5QEyCBzDWueYVliG/BqUL6R0JBihyWDbWh13SnLmp3/mfhoZ0CZQc3r+9Ebmk\n",
              "EXDKO66MtPrU+hoqR4xmfZL605G+1wZrgk/UqQRxE0jjJr9Addn4QVmou+56Ej0LtefhSDrHWdzH\n",
              "1bfhiQvAVe6QDhw/o7kNiFQ6+kxm536tB7WbRGICbgpJJJKzTOOQlBcz64fMVH659Azy15VEpT9g\n",
              "QS9VFPSAAAAA5EGf+kUVLBD/AEg8q03rPsaWcACHWtlHJ4wOfHN8xCWm6YmUJwNmqCxe5FhlXyOk\n",
              "K3TcWvvOZIC71YnzeS/rYCrNQaYJQnEQF1iIblYbObq2KumKMJRvWhk2aaScU4ituytXnvtryvQ8\n",
              "mPZ3Ki+eu5TBpBOnJ/+HAkMgLe23FKEe/zoAiL8VeNRmF0OpC/CJT8+9qaOK0cffs/qaFyPcIaUZ\n",
              "XDfdL4szFDLaPK+sUQtUU7EjS6ZtqDTLFFa6w6smm7J9nAauB8coIJcE9fQ4HDaGtUf66sqNk4on\n",
              "+ZO6Jm+NkeMOBQAAAIMBnhl0Q/8AlwxV+W/ClYATN0sQb3az0ilrqSZL1vFm28oV78/1vjI97fF3\n",
              "VUu0hlbY2dQuwoT9vr6f+/q9o3SeOXh72CPXLXp0YrMmSg7s2Usnqr13vOuTe8rJLic2xhJop6eX\n",
              "JEwmhfveS2IUxnq6VyJdMetfaGW/r/9yB6zg2AG+4AAAAHEBnhtqQ/8AjCcof6BQwwATt8g6M3Rl\n",
              "4grWeyxladv8sFQN1HYgMQYlSgLDH+8qsVNjWach9W+0bUNnXHHk3IoUNAVvRl0528rubPFL+0K3\n",
              "SvDbKDV1wKiBm1SOaxWFW71+uh2YhediVCUyRCne4vCFzwAAAZtBmgBJqEFsmUwIJf/+tSqAo8cc\n",
              "ABCqk5IKTkMieiSfM6eikydPEApioe2aI2Sjom+EqzNNo4Jr5vIdCy74et9mXbGdhFjMGuPhJcPg\n",
              "gu8t0NgOlLsZAZH9A7gymRVeZcRmW7al+VhKqw5a56GIN3MYoCQF6CZxnrzEOxMlFuIcJV3TyVkq\n",
              "G9ytiV757ra1L0sLRFXqjXWV5E8+oRMMANt4MySbFBUZGzGRvt+vN5W1pm2CvmDLpVN3wso0naxR\n",
              "l1CIvDelcNAzG6nvKM85QD92tC//Rq/6cHeJVJ2578wht3XKq187FDLAu8yU4HXsFpAsfVAx6sAC\n",
              "s5ApjtahdyeOV+I8OUUYGeywJkBMlyQm8Bu242nVbo9ZwFP18ttjARUTSJvmC759lWjCty2nTJ+W\n",
              "0Ptw6Tt3Lb8HNfjtUSaQvQvM9vq2wqgINGJYcbFKDA+04FTqqgS4TifgQpxS0za3TnBSXKS+2vVh\n",
              "n+e8h4U8pKB2TWu32QV+GjIdtZ9qkvDpJVXS48SoeGPUHg/ObpRA2yOJPXWnmSO0WpEAAACuQZ4+\n",
              "RRUsEP8ARSYQARB85g+px37tA9Ckd8eouD1r/fU29Xna1fhQyVKB4o96oRoE4p+n3rt7CdnflLC3\n",
              "oSnDGMvrI7oR3LKCYA5fyQ2uZgmVXf7ziME1rqUf29jAWv4ye99GmzHXiOJnP2NblLQVUasp5o76\n",
              "vhl4a9s6ggLzlhn8wwphGBRT1CcAmwyTfyQeFiLe/j9cE9ClqYUDC6XjlNIu2HYu6upBpgYIT+Lu\n",
              "AAAARwGeXXRD/wCPjnV2AD86EHR29UnnAsL69SA2Q16iQUkaf6itK+XZQaFafuBI6Fru8juiS191\n",
              "GpeJrOZON8F+tWZdUJ29tP9gAAAAcQGeX2pD/wCOBq7rQAf0GpXfdU4c4F0unljG8f5Hs0U10lUH\n",
              "MbQirnPsf2T+pxuyWIHDN9bLRZ6QonJwv/BzdJzwOLXXH6+RGc1OkO5Ci27WofLndaKbajjhQrXy\n",
              "A/b2Y4UZMA1O1ejGimfBS7ZmHG9BAAABLEGaQ0moQWyZTAh///6plgSGwzDABO3yDrRqgGjRkSYS\n",
              "1lRXW/LR2r3etrguWZZ41nNbbYu0aRad8mKdUdI1pjKKAeu6iQ2fH8XNV1AtFpgCjvJnyll3Uae4\n",
              "oPto7YSdOfhRWkXM/CyBpzBLBkiuK9R4GNks8Xbg+K7XNL/KZ2Lq0GZLUalo9HHyaAgfd2F4vpyB\n",
              "wMRzzLg4jKZ170Z8/XzhMd/EHns6OA0vA03bkcBLCliBYswprd1gd4p+w+I+i+uTcEAi0/59bG82\n",
              "i6VN8g0IFjeTG6/eytH/IRkcsjl73d7PkGtxFIUumaIR5pC93qsVfNg/83qhN58Pz4TflD0rgQjp\n",
              "4k+W3rrIMtmT3e2Rwr/GbHkt0mthpacB+50HfOUlS4o1siiprS47gAAAAM5BnmFFFSwQ/wBCVyyN\n",
              "eBQQARBv5hTLYoJgcG7Eurqb7so0cUK4osQv+z7AJXAC1p0Hyft752PiD4JAs90yJaWn1yYEqX5K\n",
              "MMW64igZEhHU1hg0wGCXKFXs9k9NCEgKJ3zJHBGNpz0zGrPvtKkFvDKg5IzBaKuDekOcHTwXeieA\n",
              "JQlqvjoEWkyUPgV/7hFsnu9vklBiQUkWdfT5tfKnLBZKSSxe60v6/Kbnpl/cgZYHo7LtcR8ag4ZV\n",
              "9hzMzSfuJCDYvFncACuP+9ScU2sicQAAAIYBnoJqQ/8Aj3DAGACdmnr6gVP+YhLL+j0UBlXldOri\n",
              "PPHe7TABolyZiwCBqD+E1h+nJrArcdHiDjeUAvhFJJNdnZDdsNnch/LTy2BQQ5ERxcJ5SYwBotdn\n",
              "llJuTMnwSbWURujCCHuE1Ar+ic6wMh8w58OXJzSOwjZ//mTc3kDnU2pxIp9joAAAB85tb292AAAA\n",
              "bG12aGQAAAAAAAAAAAAAAAAAAAPoAABOIAABAAABAAAAAAAAAAAAAAAAAQAAAAAAAAAAAAAAAAAA\n",
              "AAEAAAAAAAAAAAAAAAAAAEAAAAAAAAAAAAAAAAAAAAAAAAAAAAAAAAAAAAAAAAACAAAG+HRyYWsA\n",
              "AABcdGtoZAAAAAMAAAAAAAAAAAAAAAEAAAAAAABOIAAAAAAAAAAAAAAAAAAAAAAAAQAAAAAAAAAA\n",
              "AAAAAAAAAAEAAAAAAAAAAAAAAAAAAEAAAAABsAAAASAAAAAAACRlZHRzAAAAHGVsc3QAAAAAAAAA\n",
              "AQAATiAAABAAAAEAAAAABnBtZGlhAAAAIG1kaGQAAAAAAAAAAAAAAAAAACgAAAMgAFXEAAAAAAAt\n",
              "aGRscgAAAAAAAAAAdmlkZQAAAAAAAAAAAAAAAFZpZGVvSGFuZGxlcgAAAAYbbWluZgAAABR2bWhk\n",
              "AAAAAQAAAAAAAAAAAAAAJGRpbmYAAAAcZHJlZgAAAAAAAAABAAAADHVybCAAAAABAAAF23N0YmwA\n",
              "AACzc3RzZAAAAAAAAAABAAAAo2F2YzEAAAAAAAAAAQAAAAAAAAAAAAAAAAAAAAABsAEgAEgAAABI\n",
              "AAAAAAAAAAEAAAAAAAAAAAAAAAAAAAAAAAAAAAAAAAAAAAAAAAAAAAAY//8AAAAxYXZjQwFkABX/\n",
              "4QAYZ2QAFazZQbCWhAAAAwAEAAADACg8WLZYAQAGaOvjyyLAAAAAHHV1aWRraEDyXyRPxbo5pRvP\n",
              "AyPzAAAAAAAAABhzdHRzAAAAAAAAAAEAAABkAAAIAAAAABRzdHNzAAAAAAAAAAEAAAABAAADIGN0\n",
              "dHMAAAAAAAAAYgAAAAEAABAAAAAAAQAAIAAAAAACAAAIAAAAAAEAACgAAAAAAQAAEAAAAAABAAAA\n",
              "AAAAAAEAAAgAAAAAAQAAKAAAAAABAAAQAAAAAAEAAAAAAAAAAQAACAAAAAABAAAoAAAAAAEAABAA\n",
              "AAAAAQAAAAAAAAABAAAIAAAAAAEAACgAAAAAAQAAEAAAAAABAAAAAAAAAAEAAAgAAAAAAQAAKAAA\n",
              "AAABAAAQAAAAAAEAAAAAAAAAAQAACAAAAAABAAAoAAAAAAEAABAAAAAAAQAAAAAAAAABAAAIAAAA\n",
              "AAEAACgAAAAAAQAAEAAAAAABAAAAAAAAAAEAAAgAAAAAAQAAKAAAAAABAAAQAAAAAAEAAAAAAAAA\n",
              "AQAACAAAAAABAAAoAAAAAAEAABAAAAAAAQAAAAAAAAABAAAIAAAAAAEAACgAAAAAAQAAEAAAAAAB\n",
              "AAAAAAAAAAEAAAgAAAAAAQAAKAAAAAABAAAQAAAAAAEAAAAAAAAAAQAACAAAAAABAAAoAAAAAAEA\n",
              "ABAAAAAAAQAAAAAAAAABAAAIAAAAAAEAACgAAAAAAQAAEAAAAAABAAAAAAAAAAEAAAgAAAAAAQAA\n",
              "KAAAAAABAAAQAAAAAAEAAAAAAAAAAQAACAAAAAABAAAoAAAAAAEAABAAAAAAAQAAAAAAAAABAAAI\n",
              "AAAAAAEAACgAAAAAAQAAEAAAAAABAAAAAAAAAAEAAAgAAAAAAQAAKAAAAAABAAAQAAAAAAEAAAAA\n",
              "AAAAAQAACAAAAAABAAAoAAAAAAEAABAAAAAAAQAAAAAAAAABAAAIAAAAAAEAACgAAAAAAQAAEAAA\n",
              "AAABAAAAAAAAAAEAAAgAAAAAAQAAEAAAAAABAAAoAAAAAAEAABAAAAAAAQAAAAAAAAABAAAIAAAA\n",
              "AAEAACgAAAAAAQAAEAAAAAABAAAAAAAAAAEAAAgAAAAAAQAAKAAAAAABAAAQAAAAAAEAAAAAAAAA\n",
              "AQAACAAAAAABAAAoAAAAAAEAABAAAAAAAQAAAAAAAAABAAAIAAAAAAEAACAAAAAAAgAACAAAAAAc\n",
              "c3RzYwAAAAAAAAABAAAAAQAAAGQAAAABAAABpHN0c3oAAAAAAAAAAAAAAGQAACVoAAAB7gAAAGcA\n",
              "AABFAAAblQAAB7YAAATnAAADzQAADL8AAAQoAAAD4gAAAtkAAASLAAADHQAAAXAAAAH9AAAHuwAA\n",
              "AusAAAKLAAACOQAAB+0AAANRAAAC4gAAAowAAAgQAAADIAAAAoYAAAJuAAAGwAAAAuwAAAH+AAAB\n",
              "xgAABhUAAAJhAAAB4QAAAmAAAAbjAAAB7QAAAbIAAAFVAAAFkwAAAZQAAAEFAAAArAAABVMAAAGi\n",
              "AAAA/AAAALcAAAUkAAABzAAAAMkAAAC4AAAD9QAAAZ0AAADKAAABQwAABJoAAADkAAAAcQAAAKUA\n",
              "AAPCAAAA4QAAAIcAAACzAAAD3AAAAOcAAACqAAAAoAAABHEAAAEcAAAAwwAAAIwAAAMPAAAA+AAA\n",
              "AIUAAAFjAAAD7AAAAQwAAACUAAAAsQAAAbUAAAM9AAAA2QAAAMsAAACcAAACwQAAATkAAACIAAAA\n",
              "mwAAAk8AAADoAAAAhwAAAHUAAAGfAAAAsgAAAEsAAAB1AAABMAAAANIAAACKAAAAFHN0Y28AAAAA\n",
              "AAAAAQAAACwAAABidWR0YQAAAFptZXRhAAAAAAAAACFoZGxyAAAAAAAAAABtZGlyYXBwbAAAAAAA\n",
              "AAAAAAAAAC1pbHN0AAAAJal0b28AAAAdZGF0YQAAAAEAAAAATGF2ZjU3LjgzLjEwMA==\n",
              "\">\n",
              "  Your browser does not support the video tag.\n",
              "</video>"
            ],
            "text/plain": [
              "<IPython.core.display.HTML object>"
            ]
          },
          "metadata": {
            "tags": []
          },
          "execution_count": 264
        }
      ]
    },
    {
      "metadata": {
        "id": "W4syx7Cxa-99",
        "colab_type": "code",
        "colab": {}
      },
      "cell_type": "code",
      "source": [
        ""
      ],
      "execution_count": 0,
      "outputs": []
    }
  ]
}